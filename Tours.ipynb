{
 "cells": [
  {
   "cell_type": "markdown",
   "metadata": {
    "button": false,
    "new_sheet": false,
    "run_control": {
     "read_only": false
    },
    "slideshow": {
     "slide_type": "slide"
    }
   },
   "source": [
    "# Tours through the Book\n"
   ]
  },
  {
   "cell_type": "markdown",
   "metadata": {
    "button": false,
    "new_sheet": false,
    "run_control": {
     "read_only": false
    },
    "slideshow": {
     "slide_type": "slide"
    }
   },
   "source": [
    "While the chapters of this book can be read one after the other, there are many possible paths through the book.  In this graph, an arrow $A \\rightarrow B$ means that chapter $A$ is a prerequisite for chapter $B$.  You can pick arbitrary paths in this graph to get to the topics that interest you most:"
   ]
  },
  {
   "cell_type": "code",
   "execution_count": 1,
   "metadata": {
    "slideshow": {
     "slide_type": "fragment"
    }
   },
   "outputs": [],
   "source": [
    "# ignore\n",
    "from IPython.display import SVG"
   ]
  },
  {
   "cell_type": "code",
   "execution_count": 2,
   "metadata": {
    "slideshow": {
     "slide_type": "fragment"
    }
   },
   "outputs": [
    {
     "data": {
      "image/svg+xml": [
       "<svg height=\"332pt\" viewBox=\"0.00 0.00 812.50 332.00\" width=\"813pt\" xmlns=\"http://www.w3.org/2000/svg\" xmlns:xlink=\"http://www.w3.org/1999/xlink\">\n",
       "<g class=\"graph\" id=\"graph0\" transform=\"scale(1 1) rotate(0) translate(4 328)\">\n",
       "<title>%3</title>\n",
       "<polygon fill=\"#ffffff\" points=\"-4,4 -4,-328 808.5,-328 808.5,4 -4,4\" stroke=\"transparent\"/>\n",
       "<!-- Tracking -->\n",
       "<g class=\"node\" id=\"node1\">\n",
       "<title>Tracking</title>\n",
       "<g id=\"a_node1\"><a xlink:href=\"Tracking.ipynb\" xlink:title=\"Tracking\">\n",
       "<polygon fill=\"#ffffff\" points=\"732,-36 629,-36 629,0 738,0 738,-30 732,-36\" stroke=\"#000000\"/>\n",
       "<polyline fill=\"none\" points=\"732,-36 732,-30 \" stroke=\"#000000\"/>\n",
       "<polyline fill=\"none\" points=\"738,-30 732,-30 \" stroke=\"#000000\"/>\n",
       "<text fill=\"#6a0dad\" font-family=\"Raleway, Helvetica, Arial, sans-serif\" font-size=\"14.00\" text-anchor=\"middle\" x=\"683.5\" y=\"-14.3\">Tracking Bugs</text>\n",
       "</a>\n",
       "</g>\n",
       "</g>\n",
       "<!-- ChangeDebugger -->\n",
       "<g class=\"node\" id=\"node2\">\n",
       "<title>ChangeDebugger</title>\n",
       "<g id=\"a_node2\"><a xlink:href=\"ChangeDebugger.ipynb\" xlink:title=\"ChangeDebugger\">\n",
       "<polygon fill=\"#ffffff\" points=\"798.5,-108 562.5,-108 562.5,-72 804.5,-72 804.5,-102 798.5,-108\" stroke=\"#000000\"/>\n",
       "<polyline fill=\"none\" points=\"798.5,-108 798.5,-102 \" stroke=\"#000000\"/>\n",
       "<polyline fill=\"none\" points=\"804.5,-102 798.5,-102 \" stroke=\"#000000\"/>\n",
       "<text fill=\"#6a0dad\" font-family=\"Raleway, Helvetica, Arial, sans-serif\" font-size=\"14.00\" text-anchor=\"middle\" x=\"683.5\" y=\"-86.3\">Isolating Failure-Inducing Changes</text>\n",
       "</a>\n",
       "</g>\n",
       "</g>\n",
       "<!-- ChangeDebugger&#45;&gt;Tracking -->\n",
       "<g class=\"edge\" id=\"edge1\">\n",
       "<title>ChangeDebugger-&gt;Tracking</title>\n",
       "<path d=\"M683.5,-71.8314C683.5,-64.131 683.5,-54.9743 683.5,-46.4166\" fill=\"none\" stroke=\"#000000\"/>\n",
       "<polygon fill=\"#000000\" points=\"687.0001,-46.4132 683.5,-36.4133 680.0001,-46.4133 687.0001,-46.4132\" stroke=\"#000000\"/>\n",
       "</g>\n",
       "<!-- Tracer -->\n",
       "<g class=\"node\" id=\"node3\">\n",
       "<title>Tracer</title>\n",
       "<g id=\"a_node3\"><a xlink:href=\"Tracer.ipynb\" xlink:title=\"Tracer\">\n",
       "<polygon fill=\"#ffffff\" points=\"414.5,-252 280.5,-252 280.5,-216 420.5,-216 420.5,-246 414.5,-252\" stroke=\"#000000\"/>\n",
       "<polyline fill=\"none\" points=\"414.5,-252 414.5,-246 \" stroke=\"#000000\"/>\n",
       "<polyline fill=\"none\" points=\"420.5,-246 414.5,-246 \" stroke=\"#000000\"/>\n",
       "<text fill=\"#6a0dad\" font-family=\"Raleway, Helvetica, Arial, sans-serif\" font-size=\"14.00\" text-anchor=\"middle\" x=\"350.5\" y=\"-230.3\">Tracing Executions</text>\n",
       "</a>\n",
       "</g>\n",
       "</g>\n",
       "<!-- Debugger -->\n",
       "<g class=\"node\" id=\"node4\">\n",
       "<title>Debugger</title>\n",
       "<g id=\"a_node4\"><a xlink:href=\"Debugger.ipynb\" xlink:title=\"Debugger\">\n",
       "<polygon fill=\"#ffffff\" points=\"155,-180 0,-180 0,-144 161,-144 161,-174 155,-180\" stroke=\"#000000\"/>\n",
       "<polyline fill=\"none\" points=\"155,-180 155,-174 \" stroke=\"#000000\"/>\n",
       "<polyline fill=\"none\" points=\"161,-174 155,-174 \" stroke=\"#000000\"/>\n",
       "<text fill=\"#6a0dad\" font-family=\"Raleway, Helvetica, Arial, sans-serif\" font-size=\"14.00\" text-anchor=\"middle\" x=\"80.5\" y=\"-158.3\">How Debuggers Work</text>\n",
       "</a>\n",
       "</g>\n",
       "</g>\n",
       "<!-- Tracer&#45;&gt;Debugger -->\n",
       "<g class=\"edge\" id=\"edge2\">\n",
       "<title>Tracer-&gt;Debugger</title>\n",
       "<path d=\"M282.7161,-215.9243C244.8426,-205.8247 197.4933,-193.1982 158.1352,-182.7027\" fill=\"none\" stroke=\"#000000\"/>\n",
       "<polygon fill=\"#000000\" points=\"158.876,-179.278 148.3118,-180.0831 157.0723,-186.0417 158.876,-179.278\" stroke=\"#000000\"/>\n",
       "</g>\n",
       "<!-- Assertions -->\n",
       "<g class=\"node\" id=\"node5\">\n",
       "<title>Assertions</title>\n",
       "<g id=\"a_node5\"><a xlink:href=\"Assertions.ipynb\" xlink:title=\"Assertions\">\n",
       "<polygon fill=\"#ffffff\" points=\"337.5,-180 179.5,-180 179.5,-144 343.5,-144 343.5,-174 337.5,-180\" stroke=\"#000000\"/>\n",
       "<polyline fill=\"none\" points=\"337.5,-180 337.5,-174 \" stroke=\"#000000\"/>\n",
       "<polyline fill=\"none\" points=\"343.5,-174 337.5,-174 \" stroke=\"#000000\"/>\n",
       "<text fill=\"#6a0dad\" font-family=\"Raleway, Helvetica, Arial, sans-serif\" font-size=\"14.00\" text-anchor=\"middle\" x=\"261.5\" y=\"-158.3\">Asserting Expectations</text>\n",
       "</a>\n",
       "</g>\n",
       "</g>\n",
       "<!-- Tracer&#45;&gt;Assertions -->\n",
       "<g class=\"edge\" id=\"edge3\">\n",
       "<title>Tracer-&gt;Assertions</title>\n",
       "<path d=\"M328.0415,-215.8314C317.0795,-206.9632 303.7301,-196.1637 291.8735,-186.5718\" fill=\"none\" stroke=\"#000000\"/>\n",
       "<polygon fill=\"#000000\" points=\"293.9271,-183.7313 283.9513,-180.1628 289.5245,-189.1734 293.9271,-183.7313\" stroke=\"#000000\"/>\n",
       "</g>\n",
       "<!-- StatisticalDebugger -->\n",
       "<g class=\"node\" id=\"node6\">\n",
       "<title>StatisticalDebugger</title>\n",
       "<g id=\"a_node6\"><a xlink:href=\"StatisticalDebugger.ipynb\" xlink:title=\"StatisticalDebugger\">\n",
       "<polygon fill=\"#ffffff\" points=\"511,-180 362,-180 362,-144 517,-144 517,-174 511,-180\" stroke=\"#000000\"/>\n",
       "<polyline fill=\"none\" points=\"511,-180 511,-174 \" stroke=\"#000000\"/>\n",
       "<polyline fill=\"none\" points=\"517,-174 511,-174 \" stroke=\"#000000\"/>\n",
       "<text fill=\"#6a0dad\" font-family=\"Raleway, Helvetica, Arial, sans-serif\" font-size=\"14.00\" text-anchor=\"middle\" x=\"439.5\" y=\"-158.3\">Statistical Debugging</text>\n",
       "</a>\n",
       "</g>\n",
       "</g>\n",
       "<!-- Tracer&#45;&gt;StatisticalDebugger -->\n",
       "<g class=\"edge\" id=\"edge4\">\n",
       "<title>Tracer-&gt;StatisticalDebugger</title>\n",
       "<path d=\"M372.9585,-215.8314C383.9205,-206.9632 397.2699,-196.1637 409.1265,-186.5718\" fill=\"none\" stroke=\"#000000\"/>\n",
       "<polygon fill=\"#000000\" points=\"411.4755,-189.1734 417.0487,-180.1628 407.0729,-183.7313 411.4755,-189.1734\" stroke=\"#000000\"/>\n",
       "</g>\n",
       "<!-- DeltaDebugger -->\n",
       "<g class=\"node\" id=\"node7\">\n",
       "<title>DeltaDebugger</title>\n",
       "<g id=\"a_node7\"><a xlink:href=\"DeltaDebugger.ipynb\" xlink:title=\"DeltaDebugger\">\n",
       "<polygon fill=\"#ffffff\" points=\"761.5,-180 535.5,-180 535.5,-144 767.5,-144 767.5,-174 761.5,-180\" stroke=\"#000000\"/>\n",
       "<polyline fill=\"none\" points=\"761.5,-180 761.5,-174 \" stroke=\"#000000\"/>\n",
       "<polyline fill=\"none\" points=\"767.5,-174 761.5,-174 \" stroke=\"#000000\"/>\n",
       "<text fill=\"#6a0dad\" font-family=\"Raleway, Helvetica, Arial, sans-serif\" font-size=\"14.00\" text-anchor=\"middle\" x=\"651.5\" y=\"-158.3\">Reducing Failure-Inducing Inputs</text>\n",
       "</a>\n",
       "</g>\n",
       "</g>\n",
       "<!-- Tracer&#45;&gt;DeltaDebugger -->\n",
       "<g class=\"edge\" id=\"edge5\">\n",
       "<title>Tracer-&gt;DeltaDebugger</title>\n",
       "<path d=\"M420.6912,-217.2101C464.1458,-206.8156 520.2327,-193.3995 566.2361,-182.3953\" fill=\"none\" stroke=\"#000000\"/>\n",
       "<polygon fill=\"#000000\" points=\"567.2794,-185.7446 576.1908,-180.0142 565.6509,-178.9367 567.2794,-185.7446\" stroke=\"#000000\"/>\n",
       "</g>\n",
       "<!-- Repairer -->\n",
       "<g class=\"node\" id=\"node10\">\n",
       "<title>Repairer</title>\n",
       "<g id=\"a_node10\"><a xlink:href=\"Repairer.ipynb\" xlink:title=\"Repairer\">\n",
       "<polygon fill=\"#ffffff\" points=\"538.5,-108 334.5,-108 334.5,-72 544.5,-72 544.5,-102 538.5,-108\" stroke=\"#000000\"/>\n",
       "<polyline fill=\"none\" points=\"538.5,-108 538.5,-102 \" stroke=\"#000000\"/>\n",
       "<polyline fill=\"none\" points=\"544.5,-102 538.5,-102 \" stroke=\"#000000\"/>\n",
       "<text fill=\"#6a0dad\" font-family=\"Raleway, Helvetica, Arial, sans-serif\" font-size=\"14.00\" text-anchor=\"middle\" x=\"439.5\" y=\"-86.3\">Repairing Code Automatically</text>\n",
       "</a>\n",
       "</g>\n",
       "</g>\n",
       "<!-- StatisticalDebugger&#45;&gt;Repairer -->\n",
       "<g class=\"edge\" id=\"edge8\">\n",
       "<title>StatisticalDebugger-&gt;Repairer</title>\n",
       "<path d=\"M439.5,-143.8314C439.5,-136.131 439.5,-126.9743 439.5,-118.4166\" fill=\"none\" stroke=\"#000000\"/>\n",
       "<polygon fill=\"#000000\" points=\"443.0001,-118.4132 439.5,-108.4133 436.0001,-118.4133 443.0001,-118.4132\" stroke=\"#000000\"/>\n",
       "</g>\n",
       "<!-- DeltaDebugger&#45;&gt;ChangeDebugger -->\n",
       "<g class=\"edge\" id=\"edge9\">\n",
       "<title>DeltaDebugger-&gt;ChangeDebugger</title>\n",
       "<path d=\"M659.575,-143.8314C663.1102,-135.8771 667.336,-126.369 671.2456,-117.5723\" fill=\"none\" stroke=\"#000000\"/>\n",
       "<polygon fill=\"#000000\" points=\"674.4532,-118.9729 675.3163,-108.4133 668.0565,-116.1299 674.4532,-118.9729\" stroke=\"#000000\"/>\n",
       "</g>\n",
       "<!-- DeltaDebugger&#45;&gt;Repairer -->\n",
       "<g class=\"edge\" id=\"edge10\">\n",
       "<title>DeltaDebugger-&gt;Repairer</title>\n",
       "<path d=\"M598.2771,-143.9243C569.1694,-134.0387 532.9334,-121.7321 502.4306,-111.3726\" fill=\"none\" stroke=\"#000000\"/>\n",
       "<polygon fill=\"#000000\" points=\"503.3392,-107.9849 492.7448,-108.0831 501.0881,-114.6131 503.3392,-107.9849\" stroke=\"#000000\"/>\n",
       "</g>\n",
       "<!-- Intro_Debugging -->\n",
       "<g class=\"node\" id=\"node8\">\n",
       "<title>Intro_Debugging</title>\n",
       "<g id=\"a_node8\"><a xlink:href=\"Intro_Debugging.ipynb\" xlink:title=\"Intro_Debugging\">\n",
       "<polygon fill=\"#ffffff\" points=\"524.5,-324 342.5,-324 342.5,-288 530.5,-288 530.5,-318 524.5,-324\" stroke=\"#000000\"/>\n",
       "<polyline fill=\"none\" points=\"524.5,-324 524.5,-318 \" stroke=\"#000000\"/>\n",
       "<polyline fill=\"none\" points=\"530.5,-318 524.5,-318 \" stroke=\"#000000\"/>\n",
       "<text fill=\"#6a0dad\" font-family=\"Raleway, Helvetica, Arial, sans-serif\" font-size=\"14.00\" text-anchor=\"middle\" x=\"436.5\" y=\"-302.3\">Introduction to Debugging</text>\n",
       "</a>\n",
       "</g>\n",
       "</g>\n",
       "<!-- Intro_Debugging&#45;&gt;Tracer -->\n",
       "<g class=\"edge\" id=\"edge6\">\n",
       "<title>Intro_Debugging-&gt;Tracer</title>\n",
       "<path d=\"M414.7986,-287.8314C404.3079,-279.0485 391.5545,-268.3712 380.1806,-258.8489\" fill=\"none\" stroke=\"#000000\"/>\n",
       "<polygon fill=\"#000000\" points=\"382.1089,-255.8986 372.1945,-252.1628 377.6153,-261.2659 382.1089,-255.8986\" stroke=\"#000000\"/>\n",
       "</g>\n",
       "<!-- Slicer -->\n",
       "<g class=\"node\" id=\"node9\">\n",
       "<title>Slicer</title>\n",
       "<g id=\"a_node9\"><a xlink:href=\"Slicer.ipynb\" xlink:title=\"Slicer\">\n",
       "<polygon fill=\"#ffffff\" points=\"602,-252 439,-252 439,-216 608,-216 608,-246 602,-252\" stroke=\"#000000\"/>\n",
       "<polyline fill=\"none\" points=\"602,-252 602,-246 \" stroke=\"#000000\"/>\n",
       "<polyline fill=\"none\" points=\"608,-246 602,-246 \" stroke=\"#000000\"/>\n",
       "<text fill=\"#6a0dad\" font-family=\"Raleway, Helvetica, Arial, sans-serif\" font-size=\"14.00\" text-anchor=\"middle\" x=\"523.5\" y=\"-230.3\">Tracking Failure Origins</text>\n",
       "</a>\n",
       "</g>\n",
       "</g>\n",
       "<!-- Intro_Debugging&#45;&gt;Slicer -->\n",
       "<g class=\"edge\" id=\"edge7\">\n",
       "<title>Intro_Debugging-&gt;Slicer</title>\n",
       "<path d=\"M458.4538,-287.8314C469.1695,-278.9632 482.2189,-268.1637 493.809,-258.5718\" fill=\"none\" stroke=\"#000000\"/>\n",
       "<polygon fill=\"#000000\" points=\"496.0808,-261.2349 501.5533,-252.1628 491.6178,-255.8422 496.0808,-261.2349\" stroke=\"#000000\"/>\n",
       "</g>\n",
       "</g>\n",
       "</svg>"
      ],
      "text/plain": [
       "<IPython.core.display.SVG object>"
      ]
     },
     "execution_count": 2,
     "metadata": {},
     "output_type": "execute_result"
    }
   ],
   "source": [
    "# ignore\n",
    "SVG(filename='PICS/Sitemap.svg')"
   ]
  },
  {
   "cell_type": "markdown",
   "metadata": {
    "button": false,
    "new_sheet": false,
    "run_control": {
     "read_only": false
    },
    "slideshow": {
     "slide_type": "slide"
    }
   },
   "source": [
    "But since even this map can be overwhelming, here are a few _tours_ to get you started.  Each of these tours allows you to focus on a particular view, depending on whether you are a programmer, student, or researcher."
   ]
  },
  {
   "cell_type": "markdown",
   "metadata": {
    "slideshow": {
     "slide_type": "slide"
    }
   },
   "source": [
    "## The Pragmatic Programmer Tour\n",
    "\n",
    "You have a program to debug.  You want to set up techniques that help you for debugging.  You want to get to the point.\n",
    "\n",
    "1. __Start with [Introduction to Debugging](Intro_Debugging.ipynb) to get the basic concepts.__  (You would know most of these anyway, but it can't hurt to get quick reminders).\n",
    "\n",
    "2. __Experiment with [interactive debuggers](Debugger.ipynb)__ to observe executions interactively.\n",
    "\n",
    "3. __Use [assertions](Assertions.ipynb)__ to have the computer systematically run checks during execution.\n",
    "\n",
    "4. __Explore [delta debugging](DeltaDebugger.ipynb) for your program__ and see how it simplifies failure-inducing inputs [and changes](ChangeDebugger.ipynb).\n",
    "\n",
    "5. __Visualize [dependencies](Slicer.ipynb) in your program__ and track the flow of data and control in the execution.\n",
    "\n",
    "6. __Check out [statistical debugging](StatisticalDebugger)__ for a simple way to determine code locations associated with failures.\n",
    "\n",
    "7. __See [automatic repairs](Repairer.ipynb) in action__.\n",
    "\n",
    "In each of these chapters, start with the \"Synopsis\" parts; these will give you quick introductions on how to use things, as well as point you to relevant usage examples.  With this, enough said.  Get back to work and enjoy!"
   ]
  },
  {
   "cell_type": "markdown",
   "metadata": {
    "button": false,
    "new_sheet": true,
    "run_control": {
     "read_only": false
    },
    "slideshow": {
     "slide_type": "slide"
    }
   },
   "source": [
    "## Lessons Learned\n",
    "\n",
    "* You can go through the book from beginning to end...\n",
    "* ...but it may be preferable to follow a specific tour, based on your needs and resources.\n",
    "* Now [go and explore automated debugging](index.ipynb)!"
   ]
  }
 ],
 "metadata": {
  "ipub": {
   "bibliography": "fuzzingbook.bib",
   "toc": true
  },
  "kernelspec": {
   "display_name": "Python 3",
   "language": "python",
   "name": "python3"
  },
  "language_info": {
   "codemirror_mode": {
    "name": "ipython",
    "version": 3
   },
   "file_extension": ".py",
   "mimetype": "text/x-python",
   "name": "python",
   "nbconvert_exporter": "python",
   "pygments_lexer": "ipython3",
   "version": "3.6.10"
  },
  "toc": {
   "base_numbering": 1,
   "nav_menu": {},
   "number_sections": true,
   "sideBar": true,
   "skip_h1_title": true,
   "title_cell": "",
   "title_sidebar": "Contents",
   "toc_cell": false,
   "toc_position": {},
   "toc_section_display": true,
   "toc_window_display": true
  },
  "toc-autonumbering": false
 },
 "nbformat": 4,
 "nbformat_minor": 4
}

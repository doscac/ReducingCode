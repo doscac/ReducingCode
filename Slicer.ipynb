{
 "cells": [
  {
   "cell_type": "markdown",
   "metadata": {
    "button": false,
    "new_sheet": false,
    "run_control": {
     "read_only": false
    },
    "slideshow": {
     "slide_type": "slide"
    }
   },
   "source": [
    "# Tracking Failure Origins\n",
    "\n",
    "The question of \"Where does this value come from?\" is fundamental for debugging. Which earlier variables could possibly have influenced the current erroneous state? And how did their values come to be?\n",
    "\n",
    "When programmers read code during debugging, they scan it for potential _origins_ of given values. This can be a tedious experience, notably, if the origins spread across multiple separate locations, possibly even in different modules. In this chapter, we thus investigate means to _determine such origins_ automatically – by collecting data and control dependencies during program execution."
   ]
  },
  {
   "cell_type": "code",
   "execution_count": 1,
   "metadata": {
    "slideshow": {
     "slide_type": "skip"
    }
   },
   "outputs": [
    {
     "data": {
      "text/html": [
       "\n",
       "        <iframe\n",
       "            width=\"640\"\n",
       "            height=\"360\"\n",
       "            src=\"https://www.youtube-nocookie.com/embed/sjf3cOR0lcI\"\n",
       "            frameborder=\"0\"\n",
       "            allowfullscreen\n",
       "        ></iframe>\n",
       "        "
      ],
      "text/plain": [
       "<IPython.lib.display.IFrame at 0x7fe3e11082b0>"
      ]
     },
     "execution_count": 1,
     "metadata": {},
     "output_type": "execute_result"
    }
   ],
   "source": [
    "from bookutils import YouTubeVideo\n",
    "YouTubeVideo(\"sjf3cOR0lcI\")"
   ]
  },
  {
   "cell_type": "markdown",
   "metadata": {
    "button": false,
    "new_sheet": false,
    "run_control": {
     "read_only": false
    },
    "slideshow": {
     "slide_type": "subslide"
    }
   },
   "source": [
    "**Prerequisites**\n",
    "\n",
    "* You should have read the [Introduction to Debugging](Intro_Debugging).\n",
    "* To understand how to compute dependencies automatically (the second half of this chapter), you will need\n",
    "    * advanced knowledge of Python semantics\n",
    "    * knowledge on how to instrument and transform code\n",
    "    * knowledge on how an interpreter works"
   ]
  },
  {
   "cell_type": "code",
   "execution_count": 2,
   "metadata": {
    "button": false,
    "new_sheet": false,
    "run_control": {
     "read_only": false
    },
    "slideshow": {
     "slide_type": "skip"
    }
   },
   "outputs": [],
   "source": [
    "import bookutils"
   ]
  },
  {
   "cell_type": "code",
   "execution_count": 3,
   "metadata": {
    "slideshow": {
     "slide_type": "skip"
    }
   },
   "outputs": [],
   "source": [
    "from bookutils import quiz, next_inputs, print_content"
   ]
  },
  {
   "cell_type": "markdown",
   "metadata": {
    "slideshow": {
     "slide_type": "skip"
    }
   },
   "source": [
    "## Synopsis\n",
    "<!-- Automatically generated. Do not edit. -->\n",
    "\n",
    "To [use the code provided in this chapter](Importing.ipynb), write\n",
    "\n",
    "```python\n",
    ">>> from debuggingbook.Slicer import <identifier>\n",
    "```\n",
    "\n",
    "and then make use of the following features.\n",
    "\n",
    "\n",
    "This chapter provides a `Slicer` class to automatically determine and visualize dynamic dependencies. When we say that a variable $x$ depends on a variable $y$ (written $x \\leftarrow y$), we distinguish two kinds of dependencies:\n",
    "\n",
    "* **data dependencies**: $x$ obtains its value from a computation involving the value of $y$.\n",
    "* **control dependencies**: $x$ obtains its value because of a computation involving the value of $y$.\n",
    "\n",
    "Such dependencies are crucial for debugging, as they allow to determine the origins of individual values (and notably incorrect values).\n",
    "\n",
    "To determine dynamic dependencies in a function `func` and its callees `func1`, `func2`, etc., use\n",
    "\n",
    "```python\n",
    "with Slicer(func, func1, func2) as slicer:\n",
    "    <Some code involving func()>\n",
    "```\n",
    "\n",
    "and then `slicer.graph()` or `slicer.code()` to examine dependencies.\n",
    "\n",
    "Here is an example. The `demo()` function computes some number from `x`:\n",
    "\n",
    "```python\n",
    ">>> def demo(x):\n",
    ">>>     z = x\n",
    ">>>     while x <= z <= 64:\n",
    ">>>         z *= 2\n",
    ">>>     return z\n",
    "```\n",
    "By using `with Slicer(demo)`, we first instrument `demo()` and then execute it:\n",
    "\n",
    "```python\n",
    ">>> with Slicer(demo) as slicer:\n",
    ">>>     demo(10)\n",
    "```\n",
    "After execution is complete, you can output `slicer` to visualize the dependencies as graph. Data dependencies are shown as black solid edges; control dependencies are shown as grey dashed edges. We see how the parameter `x` flows into `z`, which is returned after some computation that is control dependent on a `<test>` involving `z`.\n",
    "\n",
    "```python\n",
    ">>> slicer\n",
    "```\n",
    "\n",
    "![](PICS/Slicer-synopsis-1.svg)\n",
    "\n",
    "An alternate representation is `slicer.code()`, annotating the instrumented source code with (backward) dependencies. Data dependencies are shown with `<=`, control dependencies with `<-`; locations (lines) are shown in parentheses.\n",
    "\n",
    "```python\n",
    ">>> slicer.code()\n",
    "\n",
    "*    1 def demo(x):\n",
    "*    2     z = x  # <= x (1)\n",
    "*    3     while x <= z <= 64:  # <= x (1), z (4), z (2)\n",
    "*    4         z *= 2  # <= z (4), z (2); <- <test> (3)\n",
    "*    5     return z  # <= z (4)\n",
    "```\n",
    "Dependencies can also be retrieved programmatically. The `dependencies()` method returns a `Dependencies` object encapsulating the dependency graph.\n",
    "\n",
    "The method `all_vars()` returns all variables in the dependency graph. Each variable is encoded as a pair (_name_, _location_) where _location_ is a pair (_codename_, _lineno_).\n",
    "\n",
    "```python\n",
    ">>> slicer.dependencies().all_vars()\n",
    "\n",
    "{('<demo() return value>', (<function __main__.demo(x)>, 5)),\n",
    " ('<test>', (<function __main__.demo(x)>, 3)),\n",
    " ('x', (<function __main__.demo(x)>, 1)),\n",
    " ('z', (<function __main__.demo(x)>, 2)),\n",
    " ('z', (<function __main__.demo(x)>, 4))}\n",
    "```\n",
    "`code()` and `graph()` methods can also be applied on dependencies. The method `backward_slice(var)` returns a backward slice for the given variable. To retrieve where `z` in Line 2 came from, use:\n",
    "\n",
    "```python\n",
    ">>> _, start_demo = inspect.getsourcelines(demo)\n",
    ">>> start_demo\n",
    "\n",
    "1\n",
    "\n",
    ">>> slicer.dependencies().backward_slice(('z', (demo, start_demo + 1))).graph()\n",
    "```\n",
    "\n",
    "![](PICS/Slicer-synopsis-2.svg)\n",
    "\n",
    "Here are the classes defined in this chapter. A `Slicer` instruments a program, using a `DependencyTracker` at run time to collect `Dependencies`.\n",
    "\n",
    "\n",
    "![](PICS/Slicer-synopsis-3.svg)\n",
    "\n"
   ]
  },
  {
   "cell_type": "markdown",
   "metadata": {
    "button": false,
    "new_sheet": true,
    "run_control": {
     "read_only": false
    },
    "slideshow": {
     "slide_type": "slide"
    }
   },
   "source": [
    "## Dependencies\n",
    "\n",
    "In the [Introduction to debugging](Intro_Debugging.ipynb), we have seen how faults in a program state propagate to eventually become visible as failures. This induces a debugging strategy called _tracking origins_:"
   ]
  },
  {
   "cell_type": "markdown",
   "metadata": {
    "button": false,
    "new_sheet": true,
    "run_control": {
     "read_only": false
    },
    "slideshow": {
     "slide_type": "subslide"
    }
   },
   "source": [
    "1. We start with a single faulty state _f_ – the failure\n",
    "2. We determine f's _origins_ – the parts of earlier states that could have caused the faulty state _f_\n",
    "3. For each of these origins _e_, we determine whether they are faulty or not\n",
    "4. For each of the faulty origins, we in turn determine _their_ origins.\n",
    "5. If we find a part of the state that is faulty, yet has only correct origins, we have found the defect."
   ]
  },
  {
   "cell_type": "markdown",
   "metadata": {
    "button": false,
    "new_sheet": true,
    "run_control": {
     "read_only": false
    },
    "slideshow": {
     "slide_type": "subslide"
    }
   },
   "source": [
    "In all generality, a \"part of the state\" can be anything that can influence the program – some configuration setting, some database content, or the state of a device. Almost always, though, it is through _individual variables_ that a part of the state manifests itself.\n",
    "\n",
    "The good news is that variables do not take arbitrary values at arbitrary times – instead, they are set and accessed at precise moments in time, as determined by the program's semantics. This allows us to determine their _origins_ by reading program code."
   ]
  },
  {
   "cell_type": "markdown",
   "metadata": {
    "button": false,
    "new_sheet": true,
    "run_control": {
     "read_only": false
    },
    "slideshow": {
     "slide_type": "fragment"
    }
   },
   "source": [
    "Let us assume you have a piece of code that reads as follows. The `middle()` function is supposed to return the \"middle\" number of three values `x`, `y`, and `z` – that is, the one number that neither is the minimum nor the maximum."
   ]
  },
  {
   "cell_type": "code",
   "execution_count": 4,
   "metadata": {
    "slideshow": {
     "slide_type": "subslide"
    }
   },
   "outputs": [],
   "source": [
    "def middle(x, y, z):\n",
    "    if y < z:\n",
    "        if x < y:\n",
    "            return y\n",
    "        elif x < z:\n",
    "            return y\n",
    "    else:\n",
    "        if x > y:\n",
    "            return y\n",
    "        elif x > z:\n",
    "            return x\n",
    "    return z"
   ]
  },
  {
   "cell_type": "markdown",
   "metadata": {
    "slideshow": {
     "slide_type": "fragment"
    }
   },
   "source": [
    "In most cases, `middle()` runs just fine:"
   ]
  },
  {
   "cell_type": "code",
   "execution_count": 5,
   "metadata": {
    "slideshow": {
     "slide_type": "subslide"
    }
   },
   "outputs": [
    {
     "data": {
      "text/plain": [
       "2"
      ]
     },
     "execution_count": 5,
     "metadata": {},
     "output_type": "execute_result"
    }
   ],
   "source": [
    "m = middle(1, 2, 3)\n",
    "m"
   ]
  },
  {
   "cell_type": "markdown",
   "metadata": {
    "slideshow": {
     "slide_type": "fragment"
    }
   },
   "source": [
    "In others, however, it returns the wrong value:"
   ]
  },
  {
   "cell_type": "code",
   "execution_count": 6,
   "metadata": {
    "slideshow": {
     "slide_type": "fragment"
    }
   },
   "outputs": [
    {
     "data": {
      "text/plain": [
       "1"
      ]
     },
     "execution_count": 6,
     "metadata": {},
     "output_type": "execute_result"
    }
   ],
   "source": [
    "m = middle(2, 1, 3)\n",
    "m"
   ]
  },
  {
   "cell_type": "markdown",
   "metadata": {
    "slideshow": {
     "slide_type": "subslide"
    }
   },
   "source": [
    "This is a typical debugging situation: You see a value that is erroneous; and you want to find out where it came from. \n",
    "\n",
    "* In our case, we see that the erroneous value was returned from `middle()`, so we identify the five `return` statements in `middle()` that the value could have come from.\n",
    "* The value returned is the value of `y`, and neither `x`, `y`, nor `z` are altered during the execution of `middle()`. Hence, it must be one of the three `return y` statements that is the origin of `m`. But which one?\n",
    "\n",
    "For our small example, we can fire up an interactive debugger and simply step through the function; this reveals us the conditions evaluated and the `return` statement executed."
   ]
  },
  {
   "cell_type": "code",
   "execution_count": 7,
   "metadata": {
    "slideshow": {
     "slide_type": "skip"
    }
   },
   "outputs": [],
   "source": [
    "from Debugger import Debugger  # minor dependency"
   ]
  },
  {
   "cell_type": "code",
   "execution_count": 8,
   "metadata": {
    "slideshow": {
     "slide_type": "subslide"
    }
   },
   "outputs": [],
   "source": [
    "# ignore\n",
    "next_inputs([\"step\", \"step\", \"step\", \"step\", \"quit\"]);"
   ]
  },
  {
   "cell_type": "code",
   "execution_count": 9,
   "metadata": {
    "slideshow": {
     "slide_type": "subslide"
    }
   },
   "outputs": [
    {
     "name": "stdout",
     "output_type": "stream",
     "text": [
      "Calling middle(z = 3, y = 1, x = 2)\n"
     ]
    },
    {
     "data": {
      "text/html": [
       "<samp>(debugger) <b>step</b></samp>"
      ],
      "text/plain": [
       "<IPython.core.display.HTML object>"
      ]
     },
     "metadata": {},
     "output_type": "display_data"
    },
    {
     "name": "stdout",
     "output_type": "stream",
     "text": [
      "2     if y < z:\n"
     ]
    },
    {
     "data": {
      "text/html": [
       "<samp>(debugger) <b>step</b></samp>"
      ],
      "text/plain": [
       "<IPython.core.display.HTML object>"
      ]
     },
     "metadata": {},
     "output_type": "display_data"
    },
    {
     "name": "stdout",
     "output_type": "stream",
     "text": [
      "3         if x < y:\n"
     ]
    },
    {
     "data": {
      "text/html": [
       "<samp>(debugger) <b>step</b></samp>"
      ],
      "text/plain": [
       "<IPython.core.display.HTML object>"
      ]
     },
     "metadata": {},
     "output_type": "display_data"
    },
    {
     "name": "stdout",
     "output_type": "stream",
     "text": [
      "5         elif x < z:\n"
     ]
    },
    {
     "data": {
      "text/html": [
       "<samp>(debugger) <b>step</b></samp>"
      ],
      "text/plain": [
       "<IPython.core.display.HTML object>"
      ]
     },
     "metadata": {},
     "output_type": "display_data"
    },
    {
     "name": "stdout",
     "output_type": "stream",
     "text": [
      "6             return y\n"
     ]
    },
    {
     "data": {
      "text/html": [
       "<samp>(debugger) <b>quit</b></samp>"
      ],
      "text/plain": [
       "<IPython.core.display.HTML object>"
      ]
     },
     "metadata": {},
     "output_type": "display_data"
    }
   ],
   "source": [
    "with Debugger():\n",
    "    middle(2, 1, 3)"
   ]
  },
  {
   "cell_type": "markdown",
   "metadata": {
    "slideshow": {
     "slide_type": "subslide"
    }
   },
   "source": [
    "We now see that it was the second `return` statement that returned the incorrect value. But why was it executed after all? To this end, we can resort to the `middle()` source code and have a look at those conditions that caused the `return y` statement to be executed. Indeed, the conditions `y < z`, `x > y`, and finally `x < z`again are _origins_ of the returned value – and in turn have `x`, `y`, and `z` as origins."
   ]
  },
  {
   "cell_type": "markdown",
   "metadata": {
    "slideshow": {
     "slide_type": "subslide"
    }
   },
   "source": [
    "In our above reasoning about origins, we have encountered two kinds of origins:\n",
    "\n",
    "* earlier _data values_ (such as the value of `y` being returned) and\n",
    "* earlier _control conditions_ (such as the `if` conditions governing the `return y` statement).\n",
    "\n",
    "The later parts of the state that can be influenced by such origins are said to be _dependent_ on these origins. Speaking of variables, a variable $x$ _depends_ on the value of a variable $y$ (written as $x \\leftarrow y$) if a change in $y$ could affect the value of $x$."
   ]
  },
  {
   "cell_type": "markdown",
   "metadata": {
    "slideshow": {
     "slide_type": "subslide"
    }
   },
   "source": [
    "We distinguish two kinds of dependencies $x \\leftarrow y$, aligned with the two kinds of origins as outlined above:\n",
    "\n",
    "* **Data dependency**: $x$ obtains its value from a computation involving the value of $y$. In our example, `m` is data dependent on the return value of `middle()`.\n",
    "* **Control dependency**: $x$ obtains its value because of a computation involving the value of $y$. In our example, the value returned by `return y` is control dependent on the several conditions along its path, which involve `x`, `y`, and `z`."
   ]
  },
  {
   "cell_type": "markdown",
   "metadata": {
    "slideshow": {
     "slide_type": "fragment"
    }
   },
   "source": [
    "Let us examine these dependencies in more detail."
   ]
  },
  {
   "cell_type": "markdown",
   "metadata": {
    "slideshow": {
     "slide_type": "subslide"
    }
   },
   "source": [
    "### Excursion: Visualizing Dependencies"
   ]
  },
  {
   "cell_type": "markdown",
   "metadata": {
    "slideshow": {
     "slide_type": "fragment"
    }
   },
   "source": [
    "Note: This is an excursion, diverting away from the main flow of the chapter. Unless you know what you are doing, you are encouraged to skip this part."
   ]
  },
  {
   "cell_type": "markdown",
   "metadata": {
    "slideshow": {
     "slide_type": "fragment"
    }
   },
   "source": [
    "To illustrate our examples, we introduce a `Dependencies` class that captures dependencies between variables at specific locations."
   ]
  },
  {
   "cell_type": "markdown",
   "metadata": {
    "slideshow": {
     "slide_type": "subslide"
    }
   },
   "source": [
    "#### A Class for Dependencies"
   ]
  },
  {
   "cell_type": "markdown",
   "metadata": {
    "slideshow": {
     "slide_type": "fragment"
    }
   },
   "source": [
    "`Dependencies` holds two dependency graphs. `data` holds data dependencies, `control` holds control dependencies."
   ]
  },
  {
   "cell_type": "code",
   "execution_count": 10,
   "metadata": {
    "slideshow": {
     "slide_type": "subslide"
    }
   },
   "outputs": [],
   "source": [
    "class Dependencies(object):\n",
    "    def __init__(self, data=None, control=None):\n",
    "        \"\"\"\n",
    "Create a dependency graph from `data` and `control`.\n",
    "Both `data` and `control` are dictionaries\n",
    "holding _nodes_ as keys and sets of nodes as values.\n",
    "Each node comes as a tuple (variable_name, location)\n",
    "where `variable_name` is a string \n",
    "and `location` is a pair (function, lineno)\n",
    "where `function` is a callable and `lineno` is a line number\n",
    "denoting a unique location in the code.\n",
    "        \"\"\"\n",
    "        if data is None:\n",
    "            data = {}\n",
    "        if control is None:\n",
    "            control = {}\n",
    "\n",
    "        self.data = data\n",
    "        self.control = control\n",
    "\n",
    "        for var in self.data:\n",
    "            self.control.setdefault(var, set())\n",
    "        for var in self.control:\n",
    "            self.data.setdefault(var, set())\n",
    "\n",
    "        self.validate()"
   ]
  },
  {
   "cell_type": "markdown",
   "metadata": {
    "slideshow": {
     "slide_type": "subslide"
    }
   },
   "source": [
    "Each of the two is organized as a dictionary holding _nodes_ as keys and lists of nodes as values. Each node comes as a tuple\n",
    "\n",
    "```python\n",
    "(variable_name, location)\n",
    " ```\n",
    " \n",
    "where `variable_name` is a string and `location` is a pair\n",
    "\n",
    "\n",
    "```python\n",
    "(func, lineno)\n",
    " ```\n",
    " \n",
    "denoting a unique location in the code."
   ]
  },
  {
   "cell_type": "markdown",
   "metadata": {
    "slideshow": {
     "slide_type": "subslide"
    }
   },
   "source": [
    "The `validate()` method checks for consistency."
   ]
  },
  {
   "cell_type": "code",
   "execution_count": 11,
   "metadata": {
    "slideshow": {
     "slide_type": "fragment"
    }
   },
   "outputs": [],
   "source": [
    "class Dependencies(Dependencies):\n",
    "    def validate(self):\n",
    "        \"\"\"Check dependency structure.\"\"\"\n",
    "        assert isinstance(self.data, dict)\n",
    "        assert isinstance(self.control, dict)\n",
    "\n",
    "        for node in (self.data.keys()) | set(self.control.keys()):\n",
    "            var_name, location = node\n",
    "            assert isinstance(var_name, str)\n",
    "            func, lineno = location\n",
    "            assert callable(func)\n",
    "            assert isinstance(lineno, int)"
   ]
  },
  {
   "cell_type": "markdown",
   "metadata": {
    "slideshow": {
     "slide_type": "subslide"
    }
   },
   "source": [
    "In this chapter, for many purposes, we need to lookup a function's location, source code, or simply definition. The class `StackInspector` provides a number of convenience functions for this purpose."
   ]
  },
  {
   "cell_type": "markdown",
   "metadata": {
    "slideshow": {
     "slide_type": "fragment"
    }
   },
   "source": [
    "When we access or execute functions, we do so in the  caller's environment, not ours. The `caller_globals()` method acts as replacement for `globals()`."
   ]
  },
  {
   "cell_type": "markdown",
   "metadata": {
    "slideshow": {
     "slide_type": "fragment"
    }
   },
   "source": [
    "The method `caller_frame()` walks up the current call stack and returns the topmost frame invoking a method or function from the current class. "
   ]
  },
  {
   "cell_type": "code",
   "execution_count": 12,
   "metadata": {
    "slideshow": {
     "slide_type": "skip"
    }
   },
   "outputs": [],
   "source": [
    "import inspect\n",
    "from types import FunctionType"
   ]
  },
  {
   "cell_type": "code",
   "execution_count": 13,
   "metadata": {
    "slideshow": {
     "slide_type": "subslide"
    }
   },
   "outputs": [],
   "source": [
    "class StackInspector(object):\n",
    "    def caller_frame(self):\n",
    "        \"\"\"Return the frame of the caller.\"\"\"\n",
    "\n",
    "        # Walk up the call tree until we leave the current class\n",
    "        frame = inspect.currentframe()\n",
    "        while ('self' in frame.f_locals and\n",
    "               isinstance(frame.f_locals['self'], self.__class__)):\n",
    "            frame = frame.f_back\n",
    "\n",
    "        return frame\n",
    "\n",
    "    def caller_globals(self):\n",
    "        \"\"\"Return the globals() environment of the caller.\"\"\"\n",
    "        return self.caller_frame().f_globals\n",
    "\n",
    "    def caller_locals(self):\n",
    "        \"\"\"Return the locals() environment of the caller.\"\"\"\n",
    "        return self.caller_frame().f_locals"
   ]
  },
  {
   "cell_type": "markdown",
   "metadata": {
    "slideshow": {
     "slide_type": "subslide"
    }
   },
   "source": [
    "`caller_location()` returns the caller's function and its location. It does a fair bit of magic to retrieve nested functions, by looking through global and local variables until a match is found. This may be simplified in the future."
   ]
  },
  {
   "cell_type": "code",
   "execution_count": 14,
   "metadata": {
    "slideshow": {
     "slide_type": "subslide"
    }
   },
   "outputs": [],
   "source": [
    "class StackInspector(StackInspector):\n",
    "    def caller_location(self):\n",
    "        \"\"\"Return the location (func, lineno) of the caller.\"\"\"\n",
    "        return self.caller_function(), self.caller_frame().f_lineno\n",
    "\n",
    "    def search_frame(self, name):\n",
    "        \"\"\"Return a pair (`frame`, `item`) \n",
    "        in which the function `name` is defined as `item`.\"\"\"\n",
    "        frame = self.caller_frame()\n",
    "        while frame:\n",
    "            item = None\n",
    "            if name in frame.f_globals:\n",
    "                item = frame.f_globals[name]\n",
    "            if name in frame.f_locals:\n",
    "                item = frame.f_locals[name]\n",
    "            if item and callable(item):\n",
    "                return frame, item\n",
    "\n",
    "            frame = frame.f_back\n",
    "\n",
    "        return None, None\n",
    "\n",
    "    def search_func(self, name):\n",
    "        \"\"\"Search in callers for a definition of the function `name`\"\"\"\n",
    "        frame, func = self.search_frame(name)\n",
    "        return func\n",
    "\n",
    "    def caller_function(self):\n",
    "        \"\"\"Return the calling function\"\"\"\n",
    "        frame = self.caller_frame()\n",
    "        name = frame.f_code.co_name\n",
    "        func = self.search_func(name)\n",
    "        if func:\n",
    "            return func\n",
    "\n",
    "        if not name.startswith('<'):\n",
    "            warnings.warn(f\"Couldn't find {name} in caller\")\n",
    "\n",
    "        try:\n",
    "            # Create new function from given code\n",
    "            return FunctionType(frame.f_code,\n",
    "                                globals=frame.f_globals,\n",
    "                                name=name)\n",
    "        except TypeError:\n",
    "            # Unsuitable code for creating a function\n",
    "            # Last resort: Return some function\n",
    "            return self.unknown\n",
    "\n",
    "        except Exception as exc:\n",
    "            # Any other exception\n",
    "            warnings.warn(f\"Couldn't create function for {name} \"\n",
    "                          f\" ({type(exc).__name__}: {exc})\")\n",
    "            return self.unknown\n",
    "\n",
    "    def unknown():\n",
    "        pass"
   ]
  },
  {
   "cell_type": "markdown",
   "metadata": {
    "slideshow": {
     "slide_type": "subslide"
    }
   },
   "source": [
    "We make the `StackInspector` methods available as part of the `Dependencies` class."
   ]
  },
  {
   "cell_type": "code",
   "execution_count": 15,
   "metadata": {
    "ipub": {
     "ignore": true
    },
    "slideshow": {
     "slide_type": "fragment"
    }
   },
   "outputs": [],
   "source": [
    "class Dependencies(Dependencies, StackInspector):\n",
    "    pass"
   ]
  },
  {
   "cell_type": "markdown",
   "metadata": {
    "slideshow": {
     "slide_type": "fragment"
    }
   },
   "source": [
    "The `source()` method returns the source code for a given node."
   ]
  },
  {
   "cell_type": "code",
   "execution_count": 16,
   "metadata": {
    "slideshow": {
     "slide_type": "skip"
    }
   },
   "outputs": [],
   "source": [
    "import warnings"
   ]
  },
  {
   "cell_type": "code",
   "execution_count": 17,
   "metadata": {
    "ipub": {
     "ignore": true
    },
    "slideshow": {
     "slide_type": "subslide"
    }
   },
   "outputs": [],
   "source": [
    "class Dependencies(Dependencies):\n",
    "    def _source(self, node):\n",
    "        # Return source line, or ''\n",
    "        (name, location) = node\n",
    "        func, lineno = location\n",
    "        if not func:\n",
    "            # No source\n",
    "            return ''\n",
    "\n",
    "        try:\n",
    "            source_lines, first_lineno = inspect.getsourcelines(func)\n",
    "        except OSError:\n",
    "            warnings.warn(f\"Couldn't find source \"\n",
    "                          f\"for {func} ({func.__name__})\")\n",
    "            return ''\n",
    "\n",
    "        try:\n",
    "            line = source_lines[lineno - first_lineno].strip()\n",
    "        except IndexError:\n",
    "            return ''\n",
    "\n",
    "        return line\n",
    "\n",
    "    def source(self, node):\n",
    "        \"\"\"Return the source code for a given node.\"\"\"\n",
    "        line = self._source(node)\n",
    "        if line:\n",
    "            return line\n",
    "\n",
    "        (name, location) = node\n",
    "        func, lineno = location\n",
    "        code_name = func.__name__\n",
    "\n",
    "        if code_name.startswith('<'):\n",
    "            return code_name\n",
    "        else:\n",
    "            return f'<{code_name}()>'"
   ]
  },
  {
   "cell_type": "code",
   "execution_count": 18,
   "metadata": {
    "slideshow": {
     "slide_type": "subslide"
    }
   },
   "outputs": [
    {
     "data": {
      "text/plain": [
       "'def middle(x, y, z):'"
      ]
     },
     "execution_count": 18,
     "metadata": {},
     "output_type": "execute_result"
    }
   ],
   "source": [
    "test_deps = Dependencies()\n",
    "test_deps.source(('z', (middle, 1)))"
   ]
  },
  {
   "cell_type": "markdown",
   "metadata": {
    "slideshow": {
     "slide_type": "subslide"
    }
   },
   "source": [
    "#### Drawing Dependencies"
   ]
  },
  {
   "cell_type": "markdown",
   "metadata": {
    "slideshow": {
     "slide_type": "fragment"
    }
   },
   "source": [
    "Both data and control form a graph between nodes, and cam be visualized as such. We use the `graphviz` package for creating such visualizations."
   ]
  },
  {
   "cell_type": "code",
   "execution_count": 19,
   "metadata": {
    "ipub": {
     "ignore": true
    },
    "slideshow": {
     "slide_type": "skip"
    }
   },
   "outputs": [],
   "source": [
    "from graphviz import Digraph, nohtml"
   ]
  },
  {
   "cell_type": "markdown",
   "metadata": {
    "slideshow": {
     "slide_type": "fragment"
    }
   },
   "source": [
    "`make_graph()` sets the basic graph attributes."
   ]
  },
  {
   "cell_type": "code",
   "execution_count": 20,
   "metadata": {
    "slideshow": {
     "slide_type": "skip"
    }
   },
   "outputs": [],
   "source": [
    "import html"
   ]
  },
  {
   "cell_type": "code",
   "execution_count": 21,
   "metadata": {
    "slideshow": {
     "slide_type": "subslide"
    }
   },
   "outputs": [],
   "source": [
    "class Dependencies(Dependencies):\n",
    "    NODE_COLOR = 'peachpuff'\n",
    "    FONT_NAME = 'Fira Mono, Courier, monospace'\n",
    "\n",
    "    def make_graph(self, name=\"dependencies\", comment=\"Dependencies\"):\n",
    "        return Digraph(name=name, comment=comment, \n",
    "            graph_attr={\n",
    "            },\n",
    "            node_attr={\n",
    "                'style': 'filled',\n",
    "                'shape': 'box',\n",
    "                'fillcolor': self.NODE_COLOR,\n",
    "                'fontname': self.FONT_NAME\n",
    "            },\n",
    "            edge_attr={\n",
    "                'fontname': self.FONT_NAME\n",
    "            })"
   ]
  },
  {
   "cell_type": "markdown",
   "metadata": {
    "slideshow": {
     "slide_type": "subslide"
    }
   },
   "source": [
    "`graph()` returns a graph visualization."
   ]
  },
  {
   "cell_type": "code",
   "execution_count": 22,
   "metadata": {
    "slideshow": {
     "slide_type": "fragment"
    }
   },
   "outputs": [],
   "source": [
    "class Dependencies(Dependencies):\n",
    "    def graph(self):\n",
    "        \"\"\"Draw dependencies.\"\"\"\n",
    "        self.validate()\n",
    "\n",
    "        g = self.make_graph()\n",
    "        self.draw_dependencies(g)\n",
    "        self.add_hierarchy(g)\n",
    "        return g\n",
    "\n",
    "    # In Jupyter, render dependencies as graph\n",
    "    def _repr_svg_(self):\n",
    "        return self.graph()._repr_svg_()"
   ]
  },
  {
   "cell_type": "markdown",
   "metadata": {
    "slideshow": {
     "slide_type": "subslide"
    }
   },
   "source": [
    "The main part of graph drawing takes place in two methods, `draw_dependencies()` and `add_hierarchy()`."
   ]
  },
  {
   "cell_type": "markdown",
   "metadata": {
    "slideshow": {
     "slide_type": "fragment"
    }
   },
   "source": [
    "`draw_dependencies()` processes through the graph, adding nodes and edges from the dependencies."
   ]
  },
  {
   "cell_type": "code",
   "execution_count": 23,
   "metadata": {
    "slideshow": {
     "slide_type": "subslide"
    }
   },
   "outputs": [],
   "source": [
    "class Dependencies(Dependencies):\n",
    "    def all_vars(self):\n",
    "        all_vars = set()\n",
    "        for var in self.data:\n",
    "            all_vars.add(var)\n",
    "            for source in self.data[var]:\n",
    "                all_vars.add(source)\n",
    "\n",
    "        for var in self.control:\n",
    "            all_vars.add(var)\n",
    "            for source in self.control[var]:\n",
    "                all_vars.add(source)\n",
    "\n",
    "        return all_vars"
   ]
  },
  {
   "cell_type": "code",
   "execution_count": 24,
   "metadata": {
    "slideshow": {
     "slide_type": "subslide"
    }
   },
   "outputs": [],
   "source": [
    "class Dependencies(Dependencies):\n",
    "    def draw_dependencies(self, g):\n",
    "        for var in self.all_vars():\n",
    "            g.node(self.id(var),\n",
    "                   label=self.label(var),\n",
    "                   tooltip=self.tooltip(var))\n",
    "\n",
    "            if var in self.data:\n",
    "                for source in self.data[var]:\n",
    "                    g.edge(self.id(source), self.id(var))\n",
    "\n",
    "            if var in self.control:\n",
    "                for source in self.control[var]:\n",
    "                    g.edge(self.id(source), self.id(var),\n",
    "                           style='dashed', color='grey')"
   ]
  },
  {
   "cell_type": "markdown",
   "metadata": {
    "slideshow": {
     "slide_type": "subslide"
    }
   },
   "source": [
    "`draw_dependencies()` makes use of a few helper functions."
   ]
  },
  {
   "cell_type": "code",
   "execution_count": 25,
   "metadata": {
    "slideshow": {
     "slide_type": "subslide"
    }
   },
   "outputs": [],
   "source": [
    "class Dependencies(Dependencies):\n",
    "    def id(self, var):\n",
    "        \"\"\"Return a unique ID for `var`.\"\"\"\n",
    "        id = \"\"\n",
    "        # Avoid non-identifier characters\n",
    "        for c in repr(var):\n",
    "            if c.isalnum() or c == '_':\n",
    "                id += c\n",
    "            if c == ':' or c == ',':\n",
    "                id += '_'\n",
    "        return id\n",
    "\n",
    "    def label(self, var):\n",
    "        \"\"\"Render node `var` using HTML style.\"\"\"\n",
    "        (name, location) = var\n",
    "        source = self.source(var)\n",
    "\n",
    "        title = html.escape(name)\n",
    "        if name.startswith('<'):\n",
    "            title = f'<I>{title}</I>'\n",
    "\n",
    "        label = f'<B>{title}</B>'\n",
    "        if source:\n",
    "            label += (f'<FONT POINT-SIZE=\"9.0\"><BR/><BR/>'\n",
    "                    f'{html.escape(source)}'\n",
    "                    f'</FONT>')\n",
    "        label = f'<{label}>'\n",
    "        return label\n",
    "\n",
    "    def tooltip(self, var):\n",
    "        \"\"\"Return a tooltip for node `var`.\"\"\"\n",
    "        (name, location) = var\n",
    "        func, lineno = location\n",
    "        return f\"{func.__name__}:{lineno}\""
   ]
  },
  {
   "cell_type": "markdown",
   "metadata": {
    "slideshow": {
     "slide_type": "subslide"
    }
   },
   "source": [
    "In the second part of graph drawing, `add_hierarchy()` adds invisible edges to ensure that nodes with lower line numbers are drawn above nodes with higher line numbers."
   ]
  },
  {
   "cell_type": "code",
   "execution_count": 26,
   "metadata": {
    "slideshow": {
     "slide_type": "subslide"
    }
   },
   "outputs": [],
   "source": [
    "class Dependencies(Dependencies):\n",
    "    def add_hierarchy(self, g):\n",
    "        \"\"\"Add invisible edges for a proper hierarchy.\"\"\"\n",
    "        functions = self.all_functions()\n",
    "        for func in functions:\n",
    "            last_var = None\n",
    "            last_lineno = 0\n",
    "            for (lineno, var) in functions[func]:\n",
    "                if last_var is not None and lineno > last_lineno:\n",
    "                    g.edge(self.id(last_var),\n",
    "                           self.id(var),\n",
    "                           style='invis')\n",
    "\n",
    "                last_var = var\n",
    "                last_lineno = lineno\n",
    "\n",
    "        return g"
   ]
  },
  {
   "cell_type": "code",
   "execution_count": 27,
   "metadata": {
    "slideshow": {
     "slide_type": "subslide"
    }
   },
   "outputs": [],
   "source": [
    "class Dependencies(Dependencies):\n",
    "    def all_functions(self):\n",
    "        functions = {}\n",
    "        for var in self.all_vars():\n",
    "            (name, location) = var\n",
    "            func, lineno = location\n",
    "            if func not in functions:\n",
    "                functions[func] = []\n",
    "            functions[func].append((lineno, var))\n",
    "\n",
    "        for func in functions:\n",
    "            functions[func].sort()\n",
    "\n",
    "        return functions"
   ]
  },
  {
   "cell_type": "markdown",
   "metadata": {
    "slideshow": {
     "slide_type": "fragment"
    }
   },
   "source": [
    "Here comes the graph in all its glory:"
   ]
  },
  {
   "cell_type": "code",
   "execution_count": 28,
   "metadata": {
    "slideshow": {
     "slide_type": "subslide"
    }
   },
   "outputs": [],
   "source": [
    "def middle_deps():\n",
    "    return Dependencies({('z', (middle, 1)): set(), ('y', (middle, 1)): set(), ('x', (middle, 1)): set(), ('<test>', (middle, 2)): {('y', (middle, 1)), ('z', (middle, 1))}, ('<test>', (middle, 3)): {('y', (middle, 1)), ('x', (middle, 1))}, ('<test>', (middle, 5)): {('z', (middle, 1)), ('x', (middle, 1))}, ('<middle() return value>', (middle, 6)): {('y', (middle, 1))}}, {('z', (middle, 1)): set(), ('y', (middle, 1)): set(), ('x', (middle, 1)): set(), ('<test>', (middle, 2)): set(), ('<test>', (middle, 3)): {('<test>', (middle, 2))}, ('<test>', (middle, 5)): {('<test>', (middle, 3))}, ('<middle() return value>', (middle, 6)): {('<test>', (middle, 5))}})"
   ]
  },
  {
   "cell_type": "code",
   "execution_count": 29,
   "metadata": {
    "slideshow": {
     "slide_type": "fragment"
    }
   },
   "outputs": [
    {
     "data": {
      "image/svg+xml": [
       "<?xml version=\"1.0\" encoding=\"UTF-8\" standalone=\"no\"?>\n",
       "<!DOCTYPE svg PUBLIC \"-//W3C//DTD SVG 1.1//EN\"\n",
       " \"http://www.w3.org/Graphics/SVG/1.1/DTD/svg11.dtd\">\n",
       "<!-- Generated by graphviz version 2.40.1 (20161225.0304)\n",
       " -->\n",
       "<!-- Title: dependencies Pages: 1 -->\n",
       "<svg width=\"344pt\" height=\"352pt\"\n",
       " viewBox=\"0.00 0.00 344.27 352.00\" xmlns=\"http://www.w3.org/2000/svg\" xmlns:xlink=\"http://www.w3.org/1999/xlink\">\n",
       "<g id=\"graph0\" class=\"graph\" transform=\"scale(1 1) rotate(0) translate(4 348)\">\n",
       "<title>dependencies</title>\n",
       "<polygon fill=\"#ffffff\" stroke=\"transparent\" points=\"-4,4 -4,-348 340.2684,-348 340.2684,4 -4,4\"/>\n",
       "<!-- test_functionmiddleat0x7fe3e15c16a8_2 -->\n",
       "<g id=\"node1\" class=\"node\">\n",
       "<title>test_functionmiddleat0x7fe3e15c16a8_2</title>\n",
       "<g id=\"a_node1\"><a xlink:title=\"middle:2\">\n",
       "<polygon fill=\"#ffdab9\" stroke=\"#000000\" points=\"177,-268 110,-268 110,-228 177,-228 177,-268\"/>\n",
       "<text text-anchor=\"start\" x=\"118\" y=\"-253.8\" font-family=\"Fira Mono, Courier, monospace\" font-weight=\"bold\" font-style=\"italic\" font-size=\"14.00\" fill=\"#000000\">&lt;test&gt;</text>\n",
       "<text text-anchor=\"start\" x=\"119\" y=\"-234.8\" font-family=\"Fira Mono, Courier, monospace\" font-size=\"9.00\" fill=\"#000000\">if y &lt; z:</text>\n",
       "</a>\n",
       "</g>\n",
       "</g>\n",
       "<!-- test_functionmiddleat0x7fe3e15c16a8_3 -->\n",
       "<g id=\"node6\" class=\"node\">\n",
       "<title>test_functionmiddleat0x7fe3e15c16a8_3</title>\n",
       "<g id=\"a_node6\"><a xlink:title=\"middle:3\">\n",
       "<polygon fill=\"#ffdab9\" stroke=\"#000000\" points=\"177,-192 110,-192 110,-152 177,-152 177,-192\"/>\n",
       "<text text-anchor=\"start\" x=\"118\" y=\"-177.8\" font-family=\"Fira Mono, Courier, monospace\" font-weight=\"bold\" font-style=\"italic\" font-size=\"14.00\" fill=\"#000000\">&lt;test&gt;</text>\n",
       "<text text-anchor=\"start\" x=\"119\" y=\"-158.8\" font-family=\"Fira Mono, Courier, monospace\" font-size=\"9.00\" fill=\"#000000\">if x &lt; y:</text>\n",
       "</a>\n",
       "</g>\n",
       "</g>\n",
       "<!-- test_functionmiddleat0x7fe3e15c16a8_2&#45;&gt;test_functionmiddleat0x7fe3e15c16a8_3 -->\n",
       "<g id=\"edge7\" class=\"edge\">\n",
       "<title>test_functionmiddleat0x7fe3e15c16a8_2&#45;&gt;test_functionmiddleat0x7fe3e15c16a8_3</title>\n",
       "<path fill=\"none\" stroke=\"#c0c0c0\" stroke-dasharray=\"5,2\" d=\"M137.4426,-227.6334C136.7819,-219.8186 136.5939,-210.7253 136.8786,-202.183\"/>\n",
       "<polygon fill=\"#c0c0c0\" stroke=\"#c0c0c0\" points=\"140.375,-202.3453 137.4602,-192.1593 133.3867,-201.9397 140.375,-202.3453\"/>\n",
       "</g>\n",
       "<!-- test_functionmiddleat0x7fe3e15c16a8_2&#45;&gt;test_functionmiddleat0x7fe3e15c16a8_3 -->\n",
       "<!-- y_functionmiddleat0x7fe3e15c16a8_1 -->\n",
       "<g id=\"node2\" class=\"node\">\n",
       "<title>y_functionmiddleat0x7fe3e15c16a8_1</title>\n",
       "<g id=\"a_node2\"><a xlink:title=\"middle:1\">\n",
       "<polygon fill=\"#ffdab9\" stroke=\"#000000\" points=\"125,-344 0,-344 0,-304 125,-304 125,-344\"/>\n",
       "<text text-anchor=\"start\" x=\"58\" y=\"-329.8\" font-family=\"Fira Mono, Courier, monospace\" font-weight=\"bold\" font-size=\"14.00\" fill=\"#000000\">y</text>\n",
       "<text text-anchor=\"start\" x=\"8\" y=\"-310.8\" font-family=\"Fira Mono, Courier, monospace\" font-size=\"9.00\" fill=\"#000000\">def middle(x, y, z):</text>\n",
       "</a>\n",
       "</g>\n",
       "</g>\n",
       "<!-- y_functionmiddleat0x7fe3e15c16a8_1&#45;&gt;test_functionmiddleat0x7fe3e15c16a8_2 -->\n",
       "<g id=\"edge1\" class=\"edge\">\n",
       "<title>y_functionmiddleat0x7fe3e15c16a8_1&#45;&gt;test_functionmiddleat0x7fe3e15c16a8_2</title>\n",
       "<path fill=\"none\" stroke=\"#000000\" d=\"M84.2065,-303.6334C93.5422,-294.8739 104.5898,-284.5083 114.6037,-275.1125\"/>\n",
       "<polygon fill=\"#000000\" stroke=\"#000000\" points=\"117.1167,-277.5541 122.0144,-268.1593 112.327,-272.4493 117.1167,-277.5541\"/>\n",
       "</g>\n",
       "<!-- middlereturnvalue_functionmiddleat0x7fe3e15c16a8_6 -->\n",
       "<g id=\"node4\" class=\"node\">\n",
       "<title>middlereturnvalue_functionmiddleat0x7fe3e15c16a8_6</title>\n",
       "<g id=\"a_node4\"><a xlink:title=\"middle:6\">\n",
       "<polygon fill=\"#ffdab9\" stroke=\"#000000\" points=\"248.5,-40 38.5,-40 38.5,0 248.5,0 248.5,-40\"/>\n",
       "<text text-anchor=\"start\" x=\"46.5\" y=\"-25.8\" font-family=\"Fira Mono, Courier, monospace\" font-weight=\"bold\" font-style=\"italic\" font-size=\"14.00\" fill=\"#000000\">&lt;middle() return value&gt;</text>\n",
       "<text text-anchor=\"start\" x=\"121.5\" y=\"-6.8\" font-family=\"Fira Mono, Courier, monospace\" font-size=\"9.00\" fill=\"#000000\">return y</text>\n",
       "</a>\n",
       "</g>\n",
       "</g>\n",
       "<!-- y_functionmiddleat0x7fe3e15c16a8_1&#45;&gt;middlereturnvalue_functionmiddleat0x7fe3e15c16a8_6 -->\n",
       "<g id=\"edge3\" class=\"edge\">\n",
       "<title>y_functionmiddleat0x7fe3e15c16a8_1&#45;&gt;middlereturnvalue_functionmiddleat0x7fe3e15c16a8_6</title>\n",
       "<path fill=\"none\" stroke=\"#000000\" d=\"M61.5752,-303.6921C60.3605,-260.0002 61.6299,-154.6654 96.5,-76 100.9826,-65.8875 107.8599,-56.1704 114.9821,-47.7513\"/>\n",
       "<polygon fill=\"#000000\" stroke=\"#000000\" points=\"117.7606,-49.8948 121.8155,-40.1066 112.5416,-45.2297 117.7606,-49.8948\"/>\n",
       "</g>\n",
       "<!-- y_functionmiddleat0x7fe3e15c16a8_1&#45;&gt;test_functionmiddleat0x7fe3e15c16a8_3 -->\n",
       "<g id=\"edge5\" class=\"edge\">\n",
       "<title>y_functionmiddleat0x7fe3e15c16a8_1&#45;&gt;test_functionmiddleat0x7fe3e15c16a8_3</title>\n",
       "<path fill=\"none\" stroke=\"#000000\" d=\"M68.6772,-303.7746C75.1871,-283.8201 86.4409,-252.7916 100.5,-228 105.9528,-218.3845 112.8999,-208.5944 119.6118,-199.9458\"/>\n",
       "<polygon fill=\"#000000\" stroke=\"#000000\" points=\"122.4143,-202.0453 125.9184,-192.0466 116.9439,-197.6777 122.4143,-202.0453\"/>\n",
       "</g>\n",
       "<!-- z_functionmiddleat0x7fe3e15c16a8_1 -->\n",
       "<g id=\"node3\" class=\"node\">\n",
       "<title>z_functionmiddleat0x7fe3e15c16a8_1</title>\n",
       "<g id=\"a_node3\"><a xlink:title=\"middle:1\">\n",
       "<polygon fill=\"#ffdab9\" stroke=\"#000000\" points=\"268,-344 143,-344 143,-304 268,-304 268,-344\"/>\n",
       "<text text-anchor=\"start\" x=\"201\" y=\"-329.8\" font-family=\"Fira Mono, Courier, monospace\" font-weight=\"bold\" font-size=\"14.00\" fill=\"#000000\">z</text>\n",
       "<text text-anchor=\"start\" x=\"151\" y=\"-310.8\" font-family=\"Fira Mono, Courier, monospace\" font-size=\"9.00\" fill=\"#000000\">def middle(x, y, z):</text>\n",
       "</a>\n",
       "</g>\n",
       "</g>\n",
       "<!-- z_functionmiddleat0x7fe3e15c16a8_1&#45;&gt;test_functionmiddleat0x7fe3e15c16a8_2 -->\n",
       "<g id=\"edge2\" class=\"edge\">\n",
       "<title>z_functionmiddleat0x7fe3e15c16a8_1&#45;&gt;test_functionmiddleat0x7fe3e15c16a8_2</title>\n",
       "<path fill=\"none\" stroke=\"#000000\" d=\"M182.8277,-303.6334C175.2506,-295.2175 167.0121,-285.3188 159.9761,-276.2223\"/>\n",
       "<polygon fill=\"#000000\" stroke=\"#000000\" points=\"162.7167,-274.0433 153.906,-268.1593 157.1243,-278.2535 162.7167,-274.0433\"/>\n",
       "</g>\n",
       "<!-- z_functionmiddleat0x7fe3e15c16a8_1&#45;&gt;test_functionmiddleat0x7fe3e15c16a8_2 -->\n",
       "<!-- test_functionmiddleat0x7fe3e15c16a8_5 -->\n",
       "<g id=\"node5\" class=\"node\">\n",
       "<title>test_functionmiddleat0x7fe3e15c16a8_5</title>\n",
       "<g id=\"a_node5\"><a xlink:title=\"middle:5\">\n",
       "<polygon fill=\"#ffdab9\" stroke=\"#000000\" points=\"181.5,-116 105.5,-116 105.5,-76 181.5,-76 181.5,-116\"/>\n",
       "<text text-anchor=\"start\" x=\"118\" y=\"-101.8\" font-family=\"Fira Mono, Courier, monospace\" font-weight=\"bold\" font-style=\"italic\" font-size=\"14.00\" fill=\"#000000\">&lt;test&gt;</text>\n",
       "<text text-anchor=\"start\" x=\"113.5\" y=\"-82.8\" font-family=\"Fira Mono, Courier, monospace\" font-size=\"9.00\" fill=\"#000000\">elif x &lt; z:</text>\n",
       "</a>\n",
       "</g>\n",
       "</g>\n",
       "<!-- z_functionmiddleat0x7fe3e15c16a8_1&#45;&gt;test_functionmiddleat0x7fe3e15c16a8_5 -->\n",
       "<g id=\"edge8\" class=\"edge\">\n",
       "<title>z_functionmiddleat0x7fe3e15c16a8_1&#45;&gt;test_functionmiddleat0x7fe3e15c16a8_5</title>\n",
       "<path fill=\"none\" stroke=\"#000000\" d=\"M268.0384,-310.9807C291.4312,-302.7478 315.6626,-289.4322 329.5,-268 339.1428,-253.0646 337.6589,-243.795 329.5,-228 300.5731,-172.0002 235.7076,-134.6065 190.7796,-114.3315\"/>\n",
       "<polygon fill=\"#000000\" stroke=\"#000000\" points=\"192.0787,-111.0794 181.5152,-110.2643 189.2648,-117.489 192.0787,-111.0794\"/>\n",
       "</g>\n",
       "<!-- test_functionmiddleat0x7fe3e15c16a8_5&#45;&gt;middlereturnvalue_functionmiddleat0x7fe3e15c16a8_6 -->\n",
       "<g id=\"edge4\" class=\"edge\">\n",
       "<title>test_functionmiddleat0x7fe3e15c16a8_5&#45;&gt;middlereturnvalue_functionmiddleat0x7fe3e15c16a8_6</title>\n",
       "<path fill=\"none\" stroke=\"#c0c0c0\" stroke-dasharray=\"5,2\" d=\"M137.4426,-75.6334C136.7819,-67.8186 136.5939,-58.7253 136.8786,-50.183\"/>\n",
       "<polygon fill=\"#c0c0c0\" stroke=\"#c0c0c0\" points=\"140.375,-50.3453 137.4602,-40.1593 133.3867,-49.9397 140.375,-50.3453\"/>\n",
       "</g>\n",
       "<!-- test_functionmiddleat0x7fe3e15c16a8_5&#45;&gt;middlereturnvalue_functionmiddleat0x7fe3e15c16a8_6 -->\n",
       "<!-- test_functionmiddleat0x7fe3e15c16a8_3&#45;&gt;test_functionmiddleat0x7fe3e15c16a8_5 -->\n",
       "<g id=\"edge10\" class=\"edge\">\n",
       "<title>test_functionmiddleat0x7fe3e15c16a8_3&#45;&gt;test_functionmiddleat0x7fe3e15c16a8_5</title>\n",
       "<path fill=\"none\" stroke=\"#c0c0c0\" stroke-dasharray=\"5,2\" d=\"M137.4426,-151.6334C136.7819,-143.8186 136.5939,-134.7253 136.8786,-126.183\"/>\n",
       "<polygon fill=\"#c0c0c0\" stroke=\"#c0c0c0\" points=\"140.375,-126.3453 137.4602,-116.1593 133.3867,-125.9397 140.375,-126.3453\"/>\n",
       "</g>\n",
       "<!-- test_functionmiddleat0x7fe3e15c16a8_3&#45;&gt;test_functionmiddleat0x7fe3e15c16a8_5 -->\n",
       "<!-- x_functionmiddleat0x7fe3e15c16a8_1 -->\n",
       "<g id=\"node7\" class=\"node\">\n",
       "<title>x_functionmiddleat0x7fe3e15c16a8_1</title>\n",
       "<g id=\"a_node7\"><a xlink:title=\"middle:1\">\n",
       "<polygon fill=\"#ffdab9\" stroke=\"#000000\" points=\"320,-268 195,-268 195,-228 320,-228 320,-268\"/>\n",
       "<text text-anchor=\"start\" x=\"253\" y=\"-253.8\" font-family=\"Fira Mono, Courier, monospace\" font-weight=\"bold\" font-size=\"14.00\" fill=\"#000000\">x</text>\n",
       "<text text-anchor=\"start\" x=\"203\" y=\"-234.8\" font-family=\"Fira Mono, Courier, monospace\" font-size=\"9.00\" fill=\"#000000\">def middle(x, y, z):</text>\n",
       "</a>\n",
       "</g>\n",
       "</g>\n",
       "<!-- x_functionmiddleat0x7fe3e15c16a8_1&#45;&gt;test_functionmiddleat0x7fe3e15c16a8_5 -->\n",
       "<g id=\"edge9\" class=\"edge\">\n",
       "<title>x_functionmiddleat0x7fe3e15c16a8_1&#45;&gt;test_functionmiddleat0x7fe3e15c16a8_5</title>\n",
       "<path fill=\"none\" stroke=\"#000000\" d=\"M242.3617,-227.8156C222.4314,-201.2419 187.2834,-154.3778 164.7109,-124.2812\"/>\n",
       "<polygon fill=\"#000000\" stroke=\"#000000\" points=\"167.501,-122.1679 158.7009,-116.2679 161.901,-126.3679 167.501,-122.1679\"/>\n",
       "</g>\n",
       "<!-- x_functionmiddleat0x7fe3e15c16a8_1&#45;&gt;test_functionmiddleat0x7fe3e15c16a8_3 -->\n",
       "<g id=\"edge6\" class=\"edge\">\n",
       "<title>x_functionmiddleat0x7fe3e15c16a8_1&#45;&gt;test_functionmiddleat0x7fe3e15c16a8_3</title>\n",
       "<path fill=\"none\" stroke=\"#000000\" d=\"M227.2494,-227.8329C213.4642,-218.6428 196.9794,-207.6529 182.2955,-197.8637\"/>\n",
       "<polygon fill=\"#000000\" stroke=\"#000000\" points=\"184.154,-194.8962 173.892,-192.2613 180.271,-200.7205 184.154,-194.8962\"/>\n",
       "</g>\n",
       "</g>\n",
       "</svg>\n"
      ],
      "text/plain": [
       "<__main__.Dependencies at 0x7fe3e15bccf8>"
      ]
     },
     "execution_count": 29,
     "metadata": {},
     "output_type": "execute_result"
    }
   ],
   "source": [
    "middle_deps()"
   ]
  },
  {
   "cell_type": "markdown",
   "metadata": {
    "slideshow": {
     "slide_type": "subslide"
    }
   },
   "source": [
    "#### Slices\n",
    "\n",
    "The method `backward_slice(*critera, mode='cd')` returns a subset of dependencies, following dependencies backward from the given *slicing criteria* `criteria`. These criteria can be\n",
    "\n",
    "* variable names (such as `<test>`); or\n",
    "* `(function, lineno)` pairs (such as `(middle, 3)`); or\n",
    "* `(var_name, (function, lineno))` (such as `(`x`, (middle, 1))`) locations.\n",
    "\n",
    "The extra parameter `mode` controls which dependencies are to be followed:\n",
    "\n",
    "* **`d`** = data dependencies\n",
    "* **`c`** = control dependencies"
   ]
  },
  {
   "cell_type": "code",
   "execution_count": 30,
   "metadata": {
    "slideshow": {
     "slide_type": "subslide"
    }
   },
   "outputs": [],
   "source": [
    "class Dependencies(Dependencies):\n",
    "    def expand_criteria(self, criteria):\n",
    "        \"\"\"Return list of vars matched by `criteria`.\"\"\"\n",
    "        all_vars = []\n",
    "        for criterion in criteria:\n",
    "            criterion_var = None\n",
    "            criterion_func = None\n",
    "            criterion_lineno = None\n",
    "\n",
    "            if isinstance(criterion, str):\n",
    "                criterion_var = criterion\n",
    "            elif len(criterion) == 2 and callable(criterion[0]):\n",
    "                criterion_func, criterion_lineno = criterion\n",
    "            elif len(criterion) == 2 and isinstance(criterion[0], str):\n",
    "                criterion_var = criterion[0]\n",
    "                criterion_func, criterion_lineno = criterion[1]\n",
    "            else:\n",
    "                raise ValueError(\"Invalid argument\")\n",
    "\n",
    "            for var in self.all_vars():\n",
    "                (var_name, location) = var\n",
    "                func, lineno = location\n",
    "\n",
    "                name_matches = (criterion_func is None or\n",
    "                                criterion_func == func or\n",
    "                                criterion_func.__name__ == func.__name__)\n",
    "\n",
    "                location_matches = (criterion_lineno is None or\n",
    "                                    criterion_lineno == lineno)\n",
    "\n",
    "                var_matches = (criterion_var is None or\n",
    "                               criterion_var == var_name)\n",
    "\n",
    "                if name_matches and location_matches and var_matches:\n",
    "                    all_vars.append(var)\n",
    "\n",
    "        return all_vars\n",
    "\n",
    "    def backward_slice(self, *criteria, mode=\"cd\", depth=-1):\n",
    "        \"\"\"Create a backward slice from nodes `criteria`.\n",
    "        `mode` can contain 'c' (draw control dependencies)\n",
    "            and 'd' (draw data dependencies) (default: 'cd')\"\"\"\n",
    "        data = {}\n",
    "        control = {}\n",
    "        queue = self.expand_criteria(criteria)\n",
    "        seen = set()\n",
    "\n",
    "        while len(queue) > 0 and depth != 0:\n",
    "            var = queue[0]\n",
    "            queue = queue[1:]\n",
    "            seen.add(var)\n",
    "\n",
    "            if 'd' in mode:\n",
    "                # Follow data dependencies\n",
    "                data[var] = self.data[var]\n",
    "                for next_var in data[var]:\n",
    "                    if next_var not in seen:\n",
    "                        queue.append(next_var)\n",
    "            else:\n",
    "                data[var] = set()\n",
    "\n",
    "            if 'c' in mode:\n",
    "                # Follow control dependencies\n",
    "                control[var] = self.control[var]\n",
    "                for next_var in control[var]:\n",
    "                    if next_var not in seen:\n",
    "                        queue.append(next_var)\n",
    "            else:\n",
    "                control[var] = set()\n",
    "\n",
    "            depth -= 1\n",
    "\n",
    "        return Dependencies(data, control)"
   ]
  },
  {
   "cell_type": "markdown",
   "metadata": {
    "slideshow": {
     "slide_type": "subslide"
    }
   },
   "source": [
    "### End of Excursion"
   ]
  },
  {
   "cell_type": "markdown",
   "metadata": {
    "slideshow": {
     "slide_type": "subslide"
    }
   },
   "source": [
    "### Data Dependencies\n",
    "\n",
    "Here is an example of a data dependency in our `middle()` program. The value `y` returned by `middle()` comes from the value `y` as originally passed as argument. We use arrows $x \\leftarrow y$ to indicate that a variable $x$ depends on an earlier variable $y$:"
   ]
  },
  {
   "cell_type": "code",
   "execution_count": 31,
   "metadata": {
    "slideshow": {
     "slide_type": "fragment"
    }
   },
   "outputs": [
    {
     "data": {
      "image/svg+xml": [
       "<?xml version=\"1.0\" encoding=\"UTF-8\" standalone=\"no\"?>\n",
       "<!DOCTYPE svg PUBLIC \"-//W3C//DTD SVG 1.1//EN\"\n",
       " \"http://www.w3.org/Graphics/SVG/1.1/DTD/svg11.dtd\">\n",
       "<!-- Generated by graphviz version 2.40.1 (20161225.0304)\n",
       " -->\n",
       "<!-- Title: dependencies Pages: 1 -->\n",
       "<svg width=\"218pt\" height=\"124pt\"\n",
       " viewBox=\"0.00 0.00 218.00 124.00\" xmlns=\"http://www.w3.org/2000/svg\" xmlns:xlink=\"http://www.w3.org/1999/xlink\">\n",
       "<g id=\"graph0\" class=\"graph\" transform=\"scale(1 1) rotate(0) translate(4 120)\">\n",
       "<title>dependencies</title>\n",
       "<polygon fill=\"#ffffff\" stroke=\"transparent\" points=\"-4,4 -4,-120 214,-120 214,4 -4,4\"/>\n",
       "<!-- y_functionmiddleat0x7fe3e15c16a8_1 -->\n",
       "<g id=\"node1\" class=\"node\">\n",
       "<title>y_functionmiddleat0x7fe3e15c16a8_1</title>\n",
       "<g id=\"a_node1\"><a xlink:title=\"middle:1\">\n",
       "<polygon fill=\"#ffdab9\" stroke=\"#000000\" points=\"167.5,-116 42.5,-116 42.5,-76 167.5,-76 167.5,-116\"/>\n",
       "<text text-anchor=\"start\" x=\"100.5\" y=\"-101.8\" font-family=\"Fira Mono, Courier, monospace\" font-weight=\"bold\" font-size=\"14.00\" fill=\"#000000\">y</text>\n",
       "<text text-anchor=\"start\" x=\"50.5\" y=\"-82.8\" font-family=\"Fira Mono, Courier, monospace\" font-size=\"9.00\" fill=\"#000000\">def middle(x, y, z):</text>\n",
       "</a>\n",
       "</g>\n",
       "</g>\n",
       "<!-- middlereturnvalue_functionmiddleat0x7fe3e15c16a8_6 -->\n",
       "<g id=\"node2\" class=\"node\">\n",
       "<title>middlereturnvalue_functionmiddleat0x7fe3e15c16a8_6</title>\n",
       "<g id=\"a_node2\"><a xlink:title=\"middle:6\">\n",
       "<polygon fill=\"#ffdab9\" stroke=\"#000000\" points=\"210,-40 0,-40 0,0 210,0 210,-40\"/>\n",
       "<text text-anchor=\"start\" x=\"8\" y=\"-25.8\" font-family=\"Fira Mono, Courier, monospace\" font-weight=\"bold\" font-style=\"italic\" font-size=\"14.00\" fill=\"#000000\">&lt;middle() return value&gt;</text>\n",
       "<text text-anchor=\"start\" x=\"83\" y=\"-6.8\" font-family=\"Fira Mono, Courier, monospace\" font-size=\"9.00\" fill=\"#000000\">return y</text>\n",
       "</a>\n",
       "</g>\n",
       "</g>\n",
       "<!-- y_functionmiddleat0x7fe3e15c16a8_1&#45;&gt;middlereturnvalue_functionmiddleat0x7fe3e15c16a8_6 -->\n",
       "<g id=\"edge1\" class=\"edge\">\n",
       "<title>y_functionmiddleat0x7fe3e15c16a8_1&#45;&gt;middlereturnvalue_functionmiddleat0x7fe3e15c16a8_6</title>\n",
       "<path fill=\"none\" stroke=\"#000000\" d=\"M98.9426,-75.6334C98.2819,-67.8186 98.0939,-58.7253 98.3786,-50.183\"/>\n",
       "<polygon fill=\"#000000\" stroke=\"#000000\" points=\"101.875,-50.3453 98.9602,-40.1593 94.8867,-49.9397 101.875,-50.3453\"/>\n",
       "</g>\n",
       "<!-- y_functionmiddleat0x7fe3e15c16a8_1&#45;&gt;middlereturnvalue_functionmiddleat0x7fe3e15c16a8_6 -->\n",
       "</g>\n",
       "</svg>\n"
      ],
      "text/plain": [
       "<__main__.Dependencies at 0x7fe3e1758da0>"
      ]
     },
     "execution_count": 31,
     "metadata": {},
     "output_type": "execute_result"
    }
   ],
   "source": [
    "# ignore\n",
    "middle_deps().backward_slice('<middle() return value>', mode='d')"
   ]
  },
  {
   "cell_type": "markdown",
   "metadata": {
    "slideshow": {
     "slide_type": "fragment"
    }
   },
   "source": [
    "Here, we can see that the value `y` in the return statement is data dependent on the value of `y` as passed to `middle()`. An alternate interpretation of this graph is a *data flow*: The value of `y` in the upper node _flows_ into the value of `y` in the lower node."
   ]
  },
  {
   "cell_type": "markdown",
   "metadata": {
    "slideshow": {
     "slide_type": "subslide"
    }
   },
   "source": [
    "Since we consider the values of variables at specific locations in the program, such data dependencies can also be interpreted as dependencies between _statements_ – the above `return` statement thus is data dependent on the initialization of `y` in the upper node."
   ]
  },
  {
   "cell_type": "markdown",
   "metadata": {
    "slideshow": {
     "slide_type": "subslide"
    }
   },
   "source": [
    "### Control Dependencies\n",
    "\n",
    "Here is an example of a control dependency. The execution of the above `return` statement is controlled by the earlier test `x < z`. We use grey dashed lines to indicate control dependencies:"
   ]
  },
  {
   "cell_type": "code",
   "execution_count": 32,
   "metadata": {
    "slideshow": {
     "slide_type": "fragment"
    }
   },
   "outputs": [
    {
     "data": {
      "image/svg+xml": [
       "<?xml version=\"1.0\" encoding=\"UTF-8\" standalone=\"no\"?>\n",
       "<!DOCTYPE svg PUBLIC \"-//W3C//DTD SVG 1.1//EN\"\n",
       " \"http://www.w3.org/Graphics/SVG/1.1/DTD/svg11.dtd\">\n",
       "<!-- Generated by graphviz version 2.40.1 (20161225.0304)\n",
       " -->\n",
       "<!-- Title: dependencies Pages: 1 -->\n",
       "<svg width=\"218pt\" height=\"124pt\"\n",
       " viewBox=\"0.00 0.00 218.00 124.00\" xmlns=\"http://www.w3.org/2000/svg\" xmlns:xlink=\"http://www.w3.org/1999/xlink\">\n",
       "<g id=\"graph0\" class=\"graph\" transform=\"scale(1 1) rotate(0) translate(4 120)\">\n",
       "<title>dependencies</title>\n",
       "<polygon fill=\"#ffffff\" stroke=\"transparent\" points=\"-4,4 -4,-120 214,-120 214,4 -4,4\"/>\n",
       "<!-- test_functionmiddleat0x7fe3e15c16a8_5 -->\n",
       "<g id=\"node1\" class=\"node\">\n",
       "<title>test_functionmiddleat0x7fe3e15c16a8_5</title>\n",
       "<g id=\"a_node1\"><a xlink:title=\"middle:5\">\n",
       "<polygon fill=\"#ffdab9\" stroke=\"#000000\" points=\"143,-116 67,-116 67,-76 143,-76 143,-116\"/>\n",
       "<text text-anchor=\"start\" x=\"79.5\" y=\"-101.8\" font-family=\"Fira Mono, Courier, monospace\" font-weight=\"bold\" font-style=\"italic\" font-size=\"14.00\" fill=\"#000000\">&lt;test&gt;</text>\n",
       "<text text-anchor=\"start\" x=\"75\" y=\"-82.8\" font-family=\"Fira Mono, Courier, monospace\" font-size=\"9.00\" fill=\"#000000\">elif x &lt; z:</text>\n",
       "</a>\n",
       "</g>\n",
       "</g>\n",
       "<!-- middlereturnvalue_functionmiddleat0x7fe3e15c16a8_6 -->\n",
       "<g id=\"node2\" class=\"node\">\n",
       "<title>middlereturnvalue_functionmiddleat0x7fe3e15c16a8_6</title>\n",
       "<g id=\"a_node2\"><a xlink:title=\"middle:6\">\n",
       "<polygon fill=\"#ffdab9\" stroke=\"#000000\" points=\"210,-40 0,-40 0,0 210,0 210,-40\"/>\n",
       "<text text-anchor=\"start\" x=\"8\" y=\"-25.8\" font-family=\"Fira Mono, Courier, monospace\" font-weight=\"bold\" font-style=\"italic\" font-size=\"14.00\" fill=\"#000000\">&lt;middle() return value&gt;</text>\n",
       "<text text-anchor=\"start\" x=\"83\" y=\"-6.8\" font-family=\"Fira Mono, Courier, monospace\" font-size=\"9.00\" fill=\"#000000\">return y</text>\n",
       "</a>\n",
       "</g>\n",
       "</g>\n",
       "<!-- test_functionmiddleat0x7fe3e15c16a8_5&#45;&gt;middlereturnvalue_functionmiddleat0x7fe3e15c16a8_6 -->\n",
       "<g id=\"edge1\" class=\"edge\">\n",
       "<title>test_functionmiddleat0x7fe3e15c16a8_5&#45;&gt;middlereturnvalue_functionmiddleat0x7fe3e15c16a8_6</title>\n",
       "<path fill=\"none\" stroke=\"#c0c0c0\" stroke-dasharray=\"5,2\" d=\"M98.9426,-75.6334C98.2819,-67.8186 98.0939,-58.7253 98.3786,-50.183\"/>\n",
       "<polygon fill=\"#c0c0c0\" stroke=\"#c0c0c0\" points=\"101.875,-50.3453 98.9602,-40.1593 94.8867,-49.9397 101.875,-50.3453\"/>\n",
       "</g>\n",
       "<!-- test_functionmiddleat0x7fe3e15c16a8_5&#45;&gt;middlereturnvalue_functionmiddleat0x7fe3e15c16a8_6 -->\n",
       "</g>\n",
       "</svg>\n"
      ],
      "text/plain": [
       "<__main__.Dependencies at 0x7fe3e15ec278>"
      ]
     },
     "execution_count": 32,
     "metadata": {},
     "output_type": "execute_result"
    }
   ],
   "source": [
    "# ignore\n",
    "middle_deps().backward_slice('<middle() return value>', mode='c', depth=1)"
   ]
  },
  {
   "cell_type": "markdown",
   "metadata": {
    "slideshow": {
     "slide_type": "fragment"
    }
   },
   "source": [
    "This test in turn is controlled by earlier tests, so the full chain of control dependencies looks like this:"
   ]
  },
  {
   "cell_type": "code",
   "execution_count": 33,
   "metadata": {
    "slideshow": {
     "slide_type": "fragment"
    }
   },
   "outputs": [
    {
     "data": {
      "image/svg+xml": [
       "<?xml version=\"1.0\" encoding=\"UTF-8\" standalone=\"no\"?>\n",
       "<!DOCTYPE svg PUBLIC \"-//W3C//DTD SVG 1.1//EN\"\n",
       " \"http://www.w3.org/Graphics/SVG/1.1/DTD/svg11.dtd\">\n",
       "<!-- Generated by graphviz version 2.40.1 (20161225.0304)\n",
       " -->\n",
       "<!-- Title: dependencies Pages: 1 -->\n",
       "<svg width=\"218pt\" height=\"276pt\"\n",
       " viewBox=\"0.00 0.00 218.00 276.00\" xmlns=\"http://www.w3.org/2000/svg\" xmlns:xlink=\"http://www.w3.org/1999/xlink\">\n",
       "<g id=\"graph0\" class=\"graph\" transform=\"scale(1 1) rotate(0) translate(4 272)\">\n",
       "<title>dependencies</title>\n",
       "<polygon fill=\"#ffffff\" stroke=\"transparent\" points=\"-4,4 -4,-272 214,-272 214,4 -4,4\"/>\n",
       "<!-- test_functionmiddleat0x7fe3e15c16a8_3 -->\n",
       "<g id=\"node1\" class=\"node\">\n",
       "<title>test_functionmiddleat0x7fe3e15c16a8_3</title>\n",
       "<g id=\"a_node1\"><a xlink:title=\"middle:3\">\n",
       "<polygon fill=\"#ffdab9\" stroke=\"#000000\" points=\"138.5,-192 71.5,-192 71.5,-152 138.5,-152 138.5,-192\"/>\n",
       "<text text-anchor=\"start\" x=\"79.5\" y=\"-177.8\" font-family=\"Fira Mono, Courier, monospace\" font-weight=\"bold\" font-style=\"italic\" font-size=\"14.00\" fill=\"#000000\">&lt;test&gt;</text>\n",
       "<text text-anchor=\"start\" x=\"80.5\" y=\"-158.8\" font-family=\"Fira Mono, Courier, monospace\" font-size=\"9.00\" fill=\"#000000\">if x &lt; y:</text>\n",
       "</a>\n",
       "</g>\n",
       "</g>\n",
       "<!-- test_functionmiddleat0x7fe3e15c16a8_5 -->\n",
       "<g id=\"node3\" class=\"node\">\n",
       "<title>test_functionmiddleat0x7fe3e15c16a8_5</title>\n",
       "<g id=\"a_node3\"><a xlink:title=\"middle:5\">\n",
       "<polygon fill=\"#ffdab9\" stroke=\"#000000\" points=\"143,-116 67,-116 67,-76 143,-76 143,-116\"/>\n",
       "<text text-anchor=\"start\" x=\"79.5\" y=\"-101.8\" font-family=\"Fira Mono, Courier, monospace\" font-weight=\"bold\" font-style=\"italic\" font-size=\"14.00\" fill=\"#000000\">&lt;test&gt;</text>\n",
       "<text text-anchor=\"start\" x=\"75\" y=\"-82.8\" font-family=\"Fira Mono, Courier, monospace\" font-size=\"9.00\" fill=\"#000000\">elif x &lt; z:</text>\n",
       "</a>\n",
       "</g>\n",
       "</g>\n",
       "<!-- test_functionmiddleat0x7fe3e15c16a8_3&#45;&gt;test_functionmiddleat0x7fe3e15c16a8_5 -->\n",
       "<g id=\"edge2\" class=\"edge\">\n",
       "<title>test_functionmiddleat0x7fe3e15c16a8_3&#45;&gt;test_functionmiddleat0x7fe3e15c16a8_5</title>\n",
       "<path fill=\"none\" stroke=\"#c0c0c0\" stroke-dasharray=\"5,2\" d=\"M98.9426,-151.6334C98.2819,-143.8186 98.0939,-134.7253 98.3786,-126.183\"/>\n",
       "<polygon fill=\"#c0c0c0\" stroke=\"#c0c0c0\" points=\"101.875,-126.3453 98.9602,-116.1593 94.8867,-125.9397 101.875,-126.3453\"/>\n",
       "</g>\n",
       "<!-- test_functionmiddleat0x7fe3e15c16a8_3&#45;&gt;test_functionmiddleat0x7fe3e15c16a8_5 -->\n",
       "<!-- test_functionmiddleat0x7fe3e15c16a8_2 -->\n",
       "<g id=\"node2\" class=\"node\">\n",
       "<title>test_functionmiddleat0x7fe3e15c16a8_2</title>\n",
       "<g id=\"a_node2\"><a xlink:title=\"middle:2\">\n",
       "<polygon fill=\"#ffdab9\" stroke=\"#000000\" points=\"138.5,-268 71.5,-268 71.5,-228 138.5,-228 138.5,-268\"/>\n",
       "<text text-anchor=\"start\" x=\"79.5\" y=\"-253.8\" font-family=\"Fira Mono, Courier, monospace\" font-weight=\"bold\" font-style=\"italic\" font-size=\"14.00\" fill=\"#000000\">&lt;test&gt;</text>\n",
       "<text text-anchor=\"start\" x=\"80.5\" y=\"-234.8\" font-family=\"Fira Mono, Courier, monospace\" font-size=\"9.00\" fill=\"#000000\">if y &lt; z:</text>\n",
       "</a>\n",
       "</g>\n",
       "</g>\n",
       "<!-- test_functionmiddleat0x7fe3e15c16a8_2&#45;&gt;test_functionmiddleat0x7fe3e15c16a8_3 -->\n",
       "<g id=\"edge1\" class=\"edge\">\n",
       "<title>test_functionmiddleat0x7fe3e15c16a8_2&#45;&gt;test_functionmiddleat0x7fe3e15c16a8_3</title>\n",
       "<path fill=\"none\" stroke=\"#c0c0c0\" stroke-dasharray=\"5,2\" d=\"M98.9426,-227.6334C98.2819,-219.8186 98.0939,-210.7253 98.3786,-202.183\"/>\n",
       "<polygon fill=\"#c0c0c0\" stroke=\"#c0c0c0\" points=\"101.875,-202.3453 98.9602,-192.1593 94.8867,-201.9397 101.875,-202.3453\"/>\n",
       "</g>\n",
       "<!-- test_functionmiddleat0x7fe3e15c16a8_2&#45;&gt;test_functionmiddleat0x7fe3e15c16a8_3 -->\n",
       "<!-- middlereturnvalue_functionmiddleat0x7fe3e15c16a8_6 -->\n",
       "<g id=\"node4\" class=\"node\">\n",
       "<title>middlereturnvalue_functionmiddleat0x7fe3e15c16a8_6</title>\n",
       "<g id=\"a_node4\"><a xlink:title=\"middle:6\">\n",
       "<polygon fill=\"#ffdab9\" stroke=\"#000000\" points=\"210,-40 0,-40 0,0 210,0 210,-40\"/>\n",
       "<text text-anchor=\"start\" x=\"8\" y=\"-25.8\" font-family=\"Fira Mono, Courier, monospace\" font-weight=\"bold\" font-style=\"italic\" font-size=\"14.00\" fill=\"#000000\">&lt;middle() return value&gt;</text>\n",
       "<text text-anchor=\"start\" x=\"83\" y=\"-6.8\" font-family=\"Fira Mono, Courier, monospace\" font-size=\"9.00\" fill=\"#000000\">return y</text>\n",
       "</a>\n",
       "</g>\n",
       "</g>\n",
       "<!-- test_functionmiddleat0x7fe3e15c16a8_5&#45;&gt;middlereturnvalue_functionmiddleat0x7fe3e15c16a8_6 -->\n",
       "<g id=\"edge3\" class=\"edge\">\n",
       "<title>test_functionmiddleat0x7fe3e15c16a8_5&#45;&gt;middlereturnvalue_functionmiddleat0x7fe3e15c16a8_6</title>\n",
       "<path fill=\"none\" stroke=\"#c0c0c0\" stroke-dasharray=\"5,2\" d=\"M98.9426,-75.6334C98.2819,-67.8186 98.0939,-58.7253 98.3786,-50.183\"/>\n",
       "<polygon fill=\"#c0c0c0\" stroke=\"#c0c0c0\" points=\"101.875,-50.3453 98.9602,-40.1593 94.8867,-49.9397 101.875,-50.3453\"/>\n",
       "</g>\n",
       "<!-- test_functionmiddleat0x7fe3e15c16a8_5&#45;&gt;middlereturnvalue_functionmiddleat0x7fe3e15c16a8_6 -->\n",
       "</g>\n",
       "</svg>\n"
      ],
      "text/plain": [
       "<__main__.Dependencies at 0x7fe3e15eca58>"
      ]
     },
     "execution_count": 33,
     "metadata": {},
     "output_type": "execute_result"
    }
   ],
   "source": [
    "# ignore\n",
    "middle_deps().backward_slice('<middle() return value>', mode='c')"
   ]
  },
  {
   "cell_type": "markdown",
   "metadata": {
    "slideshow": {
     "slide_type": "subslide"
    }
   },
   "source": [
    "### Dependency Graphs\n",
    "\n",
    "As the above `<test>` values (and their statements) are in turn also dependent on earlier data, namely the `x`, `y`, and `z` values as originally passed. We can draw all data and control dependencies in a single graph, called a _program dependency graph_:"
   ]
  },
  {
   "cell_type": "code",
   "execution_count": 34,
   "metadata": {
    "slideshow": {
     "slide_type": "fragment"
    }
   },
   "outputs": [
    {
     "data": {
      "image/svg+xml": [
       "<?xml version=\"1.0\" encoding=\"UTF-8\" standalone=\"no\"?>\n",
       "<!DOCTYPE svg PUBLIC \"-//W3C//DTD SVG 1.1//EN\"\n",
       " \"http://www.w3.org/Graphics/SVG/1.1/DTD/svg11.dtd\">\n",
       "<!-- Generated by graphviz version 2.40.1 (20161225.0304)\n",
       " -->\n",
       "<!-- Title: dependencies Pages: 1 -->\n",
       "<svg width=\"344pt\" height=\"352pt\"\n",
       " viewBox=\"0.00 0.00 344.27 352.00\" xmlns=\"http://www.w3.org/2000/svg\" xmlns:xlink=\"http://www.w3.org/1999/xlink\">\n",
       "<g id=\"graph0\" class=\"graph\" transform=\"scale(1 1) rotate(0) translate(4 348)\">\n",
       "<title>dependencies</title>\n",
       "<polygon fill=\"#ffffff\" stroke=\"transparent\" points=\"-4,4 -4,-348 340.2684,-348 340.2684,4 -4,4\"/>\n",
       "<!-- test_functionmiddleat0x7fe3e15c16a8_2 -->\n",
       "<g id=\"node1\" class=\"node\">\n",
       "<title>test_functionmiddleat0x7fe3e15c16a8_2</title>\n",
       "<g id=\"a_node1\"><a xlink:title=\"middle:2\">\n",
       "<polygon fill=\"#ffdab9\" stroke=\"#000000\" points=\"177,-268 110,-268 110,-228 177,-228 177,-268\"/>\n",
       "<text text-anchor=\"start\" x=\"118\" y=\"-253.8\" font-family=\"Fira Mono, Courier, monospace\" font-weight=\"bold\" font-style=\"italic\" font-size=\"14.00\" fill=\"#000000\">&lt;test&gt;</text>\n",
       "<text text-anchor=\"start\" x=\"119\" y=\"-234.8\" font-family=\"Fira Mono, Courier, monospace\" font-size=\"9.00\" fill=\"#000000\">if y &lt; z:</text>\n",
       "</a>\n",
       "</g>\n",
       "</g>\n",
       "<!-- test_functionmiddleat0x7fe3e15c16a8_3 -->\n",
       "<g id=\"node6\" class=\"node\">\n",
       "<title>test_functionmiddleat0x7fe3e15c16a8_3</title>\n",
       "<g id=\"a_node6\"><a xlink:title=\"middle:3\">\n",
       "<polygon fill=\"#ffdab9\" stroke=\"#000000\" points=\"177,-192 110,-192 110,-152 177,-152 177,-192\"/>\n",
       "<text text-anchor=\"start\" x=\"118\" y=\"-177.8\" font-family=\"Fira Mono, Courier, monospace\" font-weight=\"bold\" font-style=\"italic\" font-size=\"14.00\" fill=\"#000000\">&lt;test&gt;</text>\n",
       "<text text-anchor=\"start\" x=\"119\" y=\"-158.8\" font-family=\"Fira Mono, Courier, monospace\" font-size=\"9.00\" fill=\"#000000\">if x &lt; y:</text>\n",
       "</a>\n",
       "</g>\n",
       "</g>\n",
       "<!-- test_functionmiddleat0x7fe3e15c16a8_2&#45;&gt;test_functionmiddleat0x7fe3e15c16a8_3 -->\n",
       "<g id=\"edge7\" class=\"edge\">\n",
       "<title>test_functionmiddleat0x7fe3e15c16a8_2&#45;&gt;test_functionmiddleat0x7fe3e15c16a8_3</title>\n",
       "<path fill=\"none\" stroke=\"#c0c0c0\" stroke-dasharray=\"5,2\" d=\"M137.4426,-227.6334C136.7819,-219.8186 136.5939,-210.7253 136.8786,-202.183\"/>\n",
       "<polygon fill=\"#c0c0c0\" stroke=\"#c0c0c0\" points=\"140.375,-202.3453 137.4602,-192.1593 133.3867,-201.9397 140.375,-202.3453\"/>\n",
       "</g>\n",
       "<!-- test_functionmiddleat0x7fe3e15c16a8_2&#45;&gt;test_functionmiddleat0x7fe3e15c16a8_3 -->\n",
       "<!-- y_functionmiddleat0x7fe3e15c16a8_1 -->\n",
       "<g id=\"node2\" class=\"node\">\n",
       "<title>y_functionmiddleat0x7fe3e15c16a8_1</title>\n",
       "<g id=\"a_node2\"><a xlink:title=\"middle:1\">\n",
       "<polygon fill=\"#ffdab9\" stroke=\"#000000\" points=\"125,-344 0,-344 0,-304 125,-304 125,-344\"/>\n",
       "<text text-anchor=\"start\" x=\"58\" y=\"-329.8\" font-family=\"Fira Mono, Courier, monospace\" font-weight=\"bold\" font-size=\"14.00\" fill=\"#000000\">y</text>\n",
       "<text text-anchor=\"start\" x=\"8\" y=\"-310.8\" font-family=\"Fira Mono, Courier, monospace\" font-size=\"9.00\" fill=\"#000000\">def middle(x, y, z):</text>\n",
       "</a>\n",
       "</g>\n",
       "</g>\n",
       "<!-- y_functionmiddleat0x7fe3e15c16a8_1&#45;&gt;test_functionmiddleat0x7fe3e15c16a8_2 -->\n",
       "<g id=\"edge1\" class=\"edge\">\n",
       "<title>y_functionmiddleat0x7fe3e15c16a8_1&#45;&gt;test_functionmiddleat0x7fe3e15c16a8_2</title>\n",
       "<path fill=\"none\" stroke=\"#000000\" d=\"M84.2065,-303.6334C93.5422,-294.8739 104.5898,-284.5083 114.6037,-275.1125\"/>\n",
       "<polygon fill=\"#000000\" stroke=\"#000000\" points=\"117.1167,-277.5541 122.0144,-268.1593 112.327,-272.4493 117.1167,-277.5541\"/>\n",
       "</g>\n",
       "<!-- middlereturnvalue_functionmiddleat0x7fe3e15c16a8_6 -->\n",
       "<g id=\"node4\" class=\"node\">\n",
       "<title>middlereturnvalue_functionmiddleat0x7fe3e15c16a8_6</title>\n",
       "<g id=\"a_node4\"><a xlink:title=\"middle:6\">\n",
       "<polygon fill=\"#ffdab9\" stroke=\"#000000\" points=\"248.5,-40 38.5,-40 38.5,0 248.5,0 248.5,-40\"/>\n",
       "<text text-anchor=\"start\" x=\"46.5\" y=\"-25.8\" font-family=\"Fira Mono, Courier, monospace\" font-weight=\"bold\" font-style=\"italic\" font-size=\"14.00\" fill=\"#000000\">&lt;middle() return value&gt;</text>\n",
       "<text text-anchor=\"start\" x=\"121.5\" y=\"-6.8\" font-family=\"Fira Mono, Courier, monospace\" font-size=\"9.00\" fill=\"#000000\">return y</text>\n",
       "</a>\n",
       "</g>\n",
       "</g>\n",
       "<!-- y_functionmiddleat0x7fe3e15c16a8_1&#45;&gt;middlereturnvalue_functionmiddleat0x7fe3e15c16a8_6 -->\n",
       "<g id=\"edge3\" class=\"edge\">\n",
       "<title>y_functionmiddleat0x7fe3e15c16a8_1&#45;&gt;middlereturnvalue_functionmiddleat0x7fe3e15c16a8_6</title>\n",
       "<path fill=\"none\" stroke=\"#000000\" d=\"M61.5752,-303.6921C60.3605,-260.0002 61.6299,-154.6654 96.5,-76 100.9826,-65.8875 107.8599,-56.1704 114.9821,-47.7513\"/>\n",
       "<polygon fill=\"#000000\" stroke=\"#000000\" points=\"117.7606,-49.8948 121.8155,-40.1066 112.5416,-45.2297 117.7606,-49.8948\"/>\n",
       "</g>\n",
       "<!-- y_functionmiddleat0x7fe3e15c16a8_1&#45;&gt;test_functionmiddleat0x7fe3e15c16a8_3 -->\n",
       "<g id=\"edge5\" class=\"edge\">\n",
       "<title>y_functionmiddleat0x7fe3e15c16a8_1&#45;&gt;test_functionmiddleat0x7fe3e15c16a8_3</title>\n",
       "<path fill=\"none\" stroke=\"#000000\" d=\"M68.6772,-303.7746C75.1871,-283.8201 86.4409,-252.7916 100.5,-228 105.9528,-218.3845 112.8999,-208.5944 119.6118,-199.9458\"/>\n",
       "<polygon fill=\"#000000\" stroke=\"#000000\" points=\"122.4143,-202.0453 125.9184,-192.0466 116.9439,-197.6777 122.4143,-202.0453\"/>\n",
       "</g>\n",
       "<!-- z_functionmiddleat0x7fe3e15c16a8_1 -->\n",
       "<g id=\"node3\" class=\"node\">\n",
       "<title>z_functionmiddleat0x7fe3e15c16a8_1</title>\n",
       "<g id=\"a_node3\"><a xlink:title=\"middle:1\">\n",
       "<polygon fill=\"#ffdab9\" stroke=\"#000000\" points=\"268,-344 143,-344 143,-304 268,-304 268,-344\"/>\n",
       "<text text-anchor=\"start\" x=\"201\" y=\"-329.8\" font-family=\"Fira Mono, Courier, monospace\" font-weight=\"bold\" font-size=\"14.00\" fill=\"#000000\">z</text>\n",
       "<text text-anchor=\"start\" x=\"151\" y=\"-310.8\" font-family=\"Fira Mono, Courier, monospace\" font-size=\"9.00\" fill=\"#000000\">def middle(x, y, z):</text>\n",
       "</a>\n",
       "</g>\n",
       "</g>\n",
       "<!-- z_functionmiddleat0x7fe3e15c16a8_1&#45;&gt;test_functionmiddleat0x7fe3e15c16a8_2 -->\n",
       "<g id=\"edge2\" class=\"edge\">\n",
       "<title>z_functionmiddleat0x7fe3e15c16a8_1&#45;&gt;test_functionmiddleat0x7fe3e15c16a8_2</title>\n",
       "<path fill=\"none\" stroke=\"#000000\" d=\"M182.8277,-303.6334C175.2506,-295.2175 167.0121,-285.3188 159.9761,-276.2223\"/>\n",
       "<polygon fill=\"#000000\" stroke=\"#000000\" points=\"162.7167,-274.0433 153.906,-268.1593 157.1243,-278.2535 162.7167,-274.0433\"/>\n",
       "</g>\n",
       "<!-- z_functionmiddleat0x7fe3e15c16a8_1&#45;&gt;test_functionmiddleat0x7fe3e15c16a8_2 -->\n",
       "<!-- test_functionmiddleat0x7fe3e15c16a8_5 -->\n",
       "<g id=\"node5\" class=\"node\">\n",
       "<title>test_functionmiddleat0x7fe3e15c16a8_5</title>\n",
       "<g id=\"a_node5\"><a xlink:title=\"middle:5\">\n",
       "<polygon fill=\"#ffdab9\" stroke=\"#000000\" points=\"181.5,-116 105.5,-116 105.5,-76 181.5,-76 181.5,-116\"/>\n",
       "<text text-anchor=\"start\" x=\"118\" y=\"-101.8\" font-family=\"Fira Mono, Courier, monospace\" font-weight=\"bold\" font-style=\"italic\" font-size=\"14.00\" fill=\"#000000\">&lt;test&gt;</text>\n",
       "<text text-anchor=\"start\" x=\"113.5\" y=\"-82.8\" font-family=\"Fira Mono, Courier, monospace\" font-size=\"9.00\" fill=\"#000000\">elif x &lt; z:</text>\n",
       "</a>\n",
       "</g>\n",
       "</g>\n",
       "<!-- z_functionmiddleat0x7fe3e15c16a8_1&#45;&gt;test_functionmiddleat0x7fe3e15c16a8_5 -->\n",
       "<g id=\"edge8\" class=\"edge\">\n",
       "<title>z_functionmiddleat0x7fe3e15c16a8_1&#45;&gt;test_functionmiddleat0x7fe3e15c16a8_5</title>\n",
       "<path fill=\"none\" stroke=\"#000000\" d=\"M268.0384,-310.9807C291.4312,-302.7478 315.6626,-289.4322 329.5,-268 339.1428,-253.0646 337.6589,-243.795 329.5,-228 300.5731,-172.0002 235.7076,-134.6065 190.7796,-114.3315\"/>\n",
       "<polygon fill=\"#000000\" stroke=\"#000000\" points=\"192.0787,-111.0794 181.5152,-110.2643 189.2648,-117.489 192.0787,-111.0794\"/>\n",
       "</g>\n",
       "<!-- test_functionmiddleat0x7fe3e15c16a8_5&#45;&gt;middlereturnvalue_functionmiddleat0x7fe3e15c16a8_6 -->\n",
       "<g id=\"edge4\" class=\"edge\">\n",
       "<title>test_functionmiddleat0x7fe3e15c16a8_5&#45;&gt;middlereturnvalue_functionmiddleat0x7fe3e15c16a8_6</title>\n",
       "<path fill=\"none\" stroke=\"#c0c0c0\" stroke-dasharray=\"5,2\" d=\"M137.4426,-75.6334C136.7819,-67.8186 136.5939,-58.7253 136.8786,-50.183\"/>\n",
       "<polygon fill=\"#c0c0c0\" stroke=\"#c0c0c0\" points=\"140.375,-50.3453 137.4602,-40.1593 133.3867,-49.9397 140.375,-50.3453\"/>\n",
       "</g>\n",
       "<!-- test_functionmiddleat0x7fe3e15c16a8_5&#45;&gt;middlereturnvalue_functionmiddleat0x7fe3e15c16a8_6 -->\n",
       "<!-- test_functionmiddleat0x7fe3e15c16a8_3&#45;&gt;test_functionmiddleat0x7fe3e15c16a8_5 -->\n",
       "<g id=\"edge10\" class=\"edge\">\n",
       "<title>test_functionmiddleat0x7fe3e15c16a8_3&#45;&gt;test_functionmiddleat0x7fe3e15c16a8_5</title>\n",
       "<path fill=\"none\" stroke=\"#c0c0c0\" stroke-dasharray=\"5,2\" d=\"M137.4426,-151.6334C136.7819,-143.8186 136.5939,-134.7253 136.8786,-126.183\"/>\n",
       "<polygon fill=\"#c0c0c0\" stroke=\"#c0c0c0\" points=\"140.375,-126.3453 137.4602,-116.1593 133.3867,-125.9397 140.375,-126.3453\"/>\n",
       "</g>\n",
       "<!-- test_functionmiddleat0x7fe3e15c16a8_3&#45;&gt;test_functionmiddleat0x7fe3e15c16a8_5 -->\n",
       "<!-- x_functionmiddleat0x7fe3e15c16a8_1 -->\n",
       "<g id=\"node7\" class=\"node\">\n",
       "<title>x_functionmiddleat0x7fe3e15c16a8_1</title>\n",
       "<g id=\"a_node7\"><a xlink:title=\"middle:1\">\n",
       "<polygon fill=\"#ffdab9\" stroke=\"#000000\" points=\"320,-268 195,-268 195,-228 320,-228 320,-268\"/>\n",
       "<text text-anchor=\"start\" x=\"253\" y=\"-253.8\" font-family=\"Fira Mono, Courier, monospace\" font-weight=\"bold\" font-size=\"14.00\" fill=\"#000000\">x</text>\n",
       "<text text-anchor=\"start\" x=\"203\" y=\"-234.8\" font-family=\"Fira Mono, Courier, monospace\" font-size=\"9.00\" fill=\"#000000\">def middle(x, y, z):</text>\n",
       "</a>\n",
       "</g>\n",
       "</g>\n",
       "<!-- x_functionmiddleat0x7fe3e15c16a8_1&#45;&gt;test_functionmiddleat0x7fe3e15c16a8_5 -->\n",
       "<g id=\"edge9\" class=\"edge\">\n",
       "<title>x_functionmiddleat0x7fe3e15c16a8_1&#45;&gt;test_functionmiddleat0x7fe3e15c16a8_5</title>\n",
       "<path fill=\"none\" stroke=\"#000000\" d=\"M242.3617,-227.8156C222.4314,-201.2419 187.2834,-154.3778 164.7109,-124.2812\"/>\n",
       "<polygon fill=\"#000000\" stroke=\"#000000\" points=\"167.501,-122.1679 158.7009,-116.2679 161.901,-126.3679 167.501,-122.1679\"/>\n",
       "</g>\n",
       "<!-- x_functionmiddleat0x7fe3e15c16a8_1&#45;&gt;test_functionmiddleat0x7fe3e15c16a8_3 -->\n",
       "<g id=\"edge6\" class=\"edge\">\n",
       "<title>x_functionmiddleat0x7fe3e15c16a8_1&#45;&gt;test_functionmiddleat0x7fe3e15c16a8_3</title>\n",
       "<path fill=\"none\" stroke=\"#000000\" d=\"M227.2494,-227.8329C213.4642,-218.6428 196.9794,-207.6529 182.2955,-197.8637\"/>\n",
       "<polygon fill=\"#000000\" stroke=\"#000000\" points=\"184.154,-194.8962 173.892,-192.2613 180.271,-200.7205 184.154,-194.8962\"/>\n",
       "</g>\n",
       "</g>\n",
       "</svg>\n"
      ],
      "text/plain": [
       "<__main__.Dependencies at 0x7fe3e1758d68>"
      ]
     },
     "execution_count": 34,
     "metadata": {},
     "output_type": "execute_result"
    }
   ],
   "source": [
    "# ignore\n",
    "middle_deps()"
   ]
  },
  {
   "cell_type": "markdown",
   "metadata": {
    "slideshow": {
     "slide_type": "fragment"
    }
   },
   "source": [
    "This graph now gives us an idea on how to proceed to track the origins of the `middle()` return value at the bottom. Its value can come from any of the origins – namely the initialization of `y` at the function call, or from the `<test>` that controls it. This test in turn depends on `x` and `z` and their associated statements, which we now can check one after the other."
   ]
  },
  {
   "cell_type": "markdown",
   "metadata": {
    "slideshow": {
     "slide_type": "subslide"
    }
   },
   "source": [
    "Note that all these dependencies in the graph are _dynamic_ dependencies – that is, they refer to statements actually evaluated in the run at hand, as well as the decisions made in that very run. There also are _static_ dependency graphs coming from static analysis of the code; but for debugging, _dynamic_ dependencies specific to the failing run are more useful."
   ]
  },
  {
   "cell_type": "markdown",
   "metadata": {
    "slideshow": {
     "slide_type": "subslide"
    }
   },
   "source": [
    "### Showing Dependencies with Code\n",
    "\n",
    "While a graph gives us a representation about which possible data and control flows to track, integrating dependencies with actual program code results in a compact representation that is easy to reason about."
   ]
  },
  {
   "cell_type": "markdown",
   "metadata": {
    "slideshow": {
     "slide_type": "subslide"
    }
   },
   "source": [
    "#### Excursion: Listing Dependencies"
   ]
  },
  {
   "cell_type": "markdown",
   "metadata": {
    "slideshow": {
     "slide_type": "subslide"
    }
   },
   "source": [
    "To show dependencies as text, we introduce a method `format_var()` that shows a single node (a variable) as text. By default, a node is referenced as\n",
    "\n",
    "```python\n",
    "NAME (FUNCTION:LINENO)\n",
    "```\n",
    "\n",
    "However, within a given function, it makes no sense to re-state the function name again and again, so we have a shorthand\n",
    "\n",
    "```python\n",
    "NAME (LINENO)\n",
    "```\n",
    "\n",
    "to state a dependency to variable `NAME` in line `LINENO`."
   ]
  },
  {
   "cell_type": "code",
   "execution_count": 35,
   "metadata": {
    "slideshow": {
     "slide_type": "subslide"
    }
   },
   "outputs": [],
   "source": [
    "class Dependencies(Dependencies):\n",
    "    def format_var(self, var, current_func=None):\n",
    "        \"\"\"Return string for `var` in `current_func`.\"\"\"\n",
    "        name, location = var\n",
    "        func, lineno = location\n",
    "        if func == current_func or func.__name__ == current_func.__name__:\n",
    "            return f\"{name} ({lineno})\"\n",
    "        else:\n",
    "            return f\"{name} ({func.__name__}:{lineno})\""
   ]
  },
  {
   "cell_type": "markdown",
   "metadata": {
    "slideshow": {
     "slide_type": "fragment"
    }
   },
   "source": [
    "`format_var()` is used extensively in the `__str__()` string representation of dependencies, listing all nodes and their data (`<=`) and control (`<-`) dependencies."
   ]
  },
  {
   "cell_type": "code",
   "execution_count": 36,
   "metadata": {
    "slideshow": {
     "slide_type": "subslide"
    }
   },
   "outputs": [],
   "source": [
    "class Dependencies(Dependencies):\n",
    "    def __str__(self):\n",
    "        \"\"\"Return string representation of dependencies\"\"\"\n",
    "        self.validate()\n",
    "\n",
    "        out = \"\"\n",
    "        for func in self.all_functions():\n",
    "            code_name = func.__name__\n",
    "\n",
    "            if out != \"\":\n",
    "                out += \"\\n\"\n",
    "            out += f\"{code_name}():\\n\"\n",
    "\n",
    "            all_vars = list(set(self.data.keys()) | set(self.control.keys()))\n",
    "            all_vars.sort(key=lambda var: var[1][1])\n",
    "\n",
    "            for var in all_vars:\n",
    "                (name, location) = var\n",
    "                var_func, var_lineno = location\n",
    "                var_code_name = var_func.__name__\n",
    "\n",
    "                if var_code_name != code_name:\n",
    "                    continue\n",
    "\n",
    "                all_deps = \"\"\n",
    "                for (source, arrow) in [(self.data, \"<=\"), (self.control, \"<-\")]:\n",
    "                    deps = \"\"\n",
    "                    for data_dep in source[var]:\n",
    "                        if deps == \"\":\n",
    "                            deps = f\" {arrow} \"\n",
    "                        else:\n",
    "                            deps += \", \"\n",
    "                        deps += self.format_var(data_dep, func)\n",
    "\n",
    "                    if deps != \"\":\n",
    "                        if all_deps != \"\":\n",
    "                            all_deps += \";\"\n",
    "                        all_deps += deps\n",
    "\n",
    "                if all_deps == \"\":\n",
    "                    continue\n",
    "\n",
    "                out += (\"    \" + \n",
    "                        self.format_var(var, func) +\n",
    "                        all_deps + \"\\n\")\n",
    "\n",
    "        return out"
   ]
  },
  {
   "cell_type": "markdown",
   "metadata": {
    "slideshow": {
     "slide_type": "subslide"
    }
   },
   "source": [
    "Here is a compact string representation of dependencies. We see how the (last) `middle() return value` has a data dependency to `y` in Line 1, and to the `<test>` in Line 5."
   ]
  },
  {
   "cell_type": "code",
   "execution_count": 37,
   "metadata": {
    "slideshow": {
     "slide_type": "fragment"
    }
   },
   "outputs": [
    {
     "name": "stdout",
     "output_type": "stream",
     "text": [
      "middle():\n",
      "    <test> (2) <= y (1), z (1)\n",
      "    <test> (3) <= y (1), x (1); <- <test> (2)\n",
      "    <test> (5) <= z (1), x (1); <- <test> (3)\n",
      "    <middle() return value> (6) <= y (1); <- <test> (5)\n",
      "\n"
     ]
    }
   ],
   "source": [
    "print(middle_deps())"
   ]
  },
  {
   "cell_type": "markdown",
   "metadata": {
    "slideshow": {
     "slide_type": "fragment"
    }
   },
   "source": [
    "The `__repr__()` method shows a raw form of dependencies, useful for creating dependencies from scratch."
   ]
  },
  {
   "cell_type": "code",
   "execution_count": 38,
   "metadata": {
    "slideshow": {
     "slide_type": "subslide"
    }
   },
   "outputs": [],
   "source": [
    "class Dependencies(Dependencies):\n",
    "    def repr_var(self, var):\n",
    "        name, location = var\n",
    "        func, lineno = location\n",
    "        return f\"({repr(name)}, ({func.__name__}, {lineno}))\"\n",
    "\n",
    "    def repr_deps(self, var_set):\n",
    "        if len(var_set) == 0:\n",
    "            return \"set()\"\n",
    "\n",
    "        return (\"{\" +\n",
    "                \", \".join(f\"{self.repr_var(var)}\"\n",
    "                         for var in var_set) +\n",
    "                \"}\")\n",
    "\n",
    "    def repr_dependencies(self, vars):\n",
    "        return (\"{\\n        \" +\n",
    "                \",\\n        \".join(\n",
    "                    f\"{self.repr_var(var)}: {self.repr_deps(vars[var])}\"\n",
    "                    for var in vars) +\n",
    "                \"}\")\n",
    "\n",
    "    def __repr__(self):\n",
    "        # Useful for saving and restoring values\n",
    "        return (f\"Dependencies(\\n\" +\n",
    "                f\"    data={self.repr_dependencies(self.data)},\\n\" +\n",
    "                f\" control={self.repr_dependencies(self.control)})\")"
   ]
  },
  {
   "cell_type": "code",
   "execution_count": 39,
   "metadata": {
    "slideshow": {
     "slide_type": "subslide"
    }
   },
   "outputs": [
    {
     "name": "stdout",
     "output_type": "stream",
     "text": [
      "Dependencies(\n",
      "    data={\n",
      "        ('z', (middle, 1)): set(),\n",
      "        ('y', (middle, 1)): set(),\n",
      "        ('x', (middle, 1)): set(),\n",
      "        ('<test>', (middle, 2)): {('y', (middle, 1)), ('z', (middle, 1))},\n",
      "        ('<test>', (middle, 3)): {('y', (middle, 1)), ('x', (middle, 1))},\n",
      "        ('<test>', (middle, 5)): {('z', (middle, 1)), ('x', (middle, 1))},\n",
      "        ('<middle() return value>', (middle, 6)): {('y', (middle, 1))}},\n",
      " control={\n",
      "        ('z', (middle, 1)): set(),\n",
      "        ('y', (middle, 1)): set(),\n",
      "        ('x', (middle, 1)): set(),\n",
      "        ('<test>', (middle, 2)): set(),\n",
      "        ('<test>', (middle, 3)): {('<test>', (middle, 2))},\n",
      "        ('<test>', (middle, 5)): {('<test>', (middle, 3))},\n",
      "        ('<middle() return value>', (middle, 6)): {('<test>', (middle, 5))}})\n"
     ]
    }
   ],
   "source": [
    "print(repr(middle_deps()))"
   ]
  },
  {
   "cell_type": "markdown",
   "metadata": {
    "slideshow": {
     "slide_type": "subslide"
    }
   },
   "source": [
    "An even more useful representation comes when integrating these dependencies as comments into the code. The method `code(item_1, item_2, ...)` lists the given (function) items, including their dependencies; `code()` lists _all_ functions contained in the dependencies."
   ]
  },
  {
   "cell_type": "code",
   "execution_count": 40,
   "metadata": {
    "slideshow": {
     "slide_type": "subslide"
    }
   },
   "outputs": [],
   "source": [
    "class Dependencies(Dependencies):\n",
    "    def code(self, *items, mode='cd'):\n",
    "        \"\"\"List `items` on standard output, \n",
    "        including dependencies as comments. \n",
    "        If `items` is empty, all included functions are listed.\n",
    "        `mode` can contain 'c' (draw control dependencies)\n",
    "            and 'd' (draw data dependencies) (default: 'cd').\"\"\"\n",
    "\n",
    "        if len(items) == 0:\n",
    "            items = self.all_functions().keys()\n",
    "\n",
    "        for i, item in enumerate(items):\n",
    "            if i > 0:\n",
    "                print()\n",
    "            self._code(item, mode)"
   ]
  },
  {
   "cell_type": "code",
   "execution_count": 41,
   "metadata": {
    "slideshow": {
     "slide_type": "subslide"
    }
   },
   "outputs": [],
   "source": [
    "class Dependencies(Dependencies):\n",
    "    def _code(self, item, mode):\n",
    "        # The functions in dependencies may be (instrumented) copies\n",
    "        # of the original function. Find the function with the same name.\n",
    "        func = item\n",
    "        for fn in self.all_functions():\n",
    "            if fn == item or fn.__name__ == item.__name__:\n",
    "                func = fn\n",
    "                break\n",
    "\n",
    "        all_vars = self.all_vars()\n",
    "        slice_locations = set(location for (name, location) in all_vars)\n",
    "\n",
    "        source_lines, first_lineno = inspect.getsourcelines(func)\n",
    "\n",
    "        n = first_lineno\n",
    "        for line in source_lines:\n",
    "            line_location = (func, n)\n",
    "            if line_location in slice_locations:\n",
    "                prefix = \"* \"\n",
    "            else:\n",
    "                prefix = \"  \"\n",
    "\n",
    "            print(f\"{prefix}{n:4} \", end=\"\")\n",
    "\n",
    "            comment = \"\"\n",
    "            for (mode_control, source, arrow) in [\n",
    "                ('d', self.data, '<='),\n",
    "                ('c', self.control, '<-')\n",
    "            ]:\n",
    "                if mode_control not in mode:\n",
    "                    continue\n",
    "\n",
    "                deps = \"\"\n",
    "                for var in source:\n",
    "                    name, location = var\n",
    "                    if location == line_location:\n",
    "                        for dep_var in source[var]:\n",
    "                            if deps == \"\":\n",
    "                                deps = arrow + \" \"\n",
    "                            else:\n",
    "                                deps += \", \"\n",
    "                            deps += self.format_var(dep_var, item)\n",
    "\n",
    "                if deps != \"\":\n",
    "                    if comment != \"\":\n",
    "                        comment += \"; \"\n",
    "                    comment += deps\n",
    "\n",
    "            if comment != \"\":\n",
    "                line = line.rstrip() + \"  # \" + comment\n",
    "\n",
    "            print_content(line.rstrip(), '.py')\n",
    "            print()\n",
    "            n += 1"
   ]
  },
  {
   "cell_type": "markdown",
   "metadata": {
    "slideshow": {
     "slide_type": "subslide"
    }
   },
   "source": [
    "#### End of Excursion"
   ]
  },
  {
   "cell_type": "markdown",
   "metadata": {
    "slideshow": {
     "slide_type": "subslide"
    }
   },
   "source": [
    "The following listing shows such an integration. For each executed line (`*`), we see its data (`<=`) and control (`<-`) dependencies, listing the associated variables and line numbers. The comment\n",
    "\n",
    "```python\n",
    "# <= y (1); <- <test> (5)\n",
    "```\n",
    "\n",
    "for Line 6, for instance, states that the return value is data dependent on the value of `y` in Line 1, and control dependent on the test in Line 5.\n",
    "\n",
    "Again, one can easily follow these dependencies back to track where a value came from (data dependencies) and why a statement was executed (control dependency)."
   ]
  },
  {
   "cell_type": "code",
   "execution_count": 42,
   "metadata": {
    "slideshow": {
     "slide_type": "subslide"
    }
   },
   "outputs": [
    {
     "name": "stdout",
     "output_type": "stream",
     "text": [
      "*    1 \u001b[34mdef\u001b[39;49;00m \u001b[32mmiddle\u001b[39;49;00m(x, y, z):\n",
      "*    2     \u001b[34mif\u001b[39;49;00m y < z:  \u001b[37m# <= y (1), z (1)\u001b[39;49;00m\n",
      "*    3         \u001b[34mif\u001b[39;49;00m x < y:  \u001b[37m# <= y (1), x (1); <- <test> (2)\u001b[39;49;00m\n",
      "     4             \u001b[34mreturn\u001b[39;49;00m y\n",
      "*    5         \u001b[34melif\u001b[39;49;00m x < z:  \u001b[37m# <= z (1), x (1); <- <test> (3)\u001b[39;49;00m\n",
      "*    6             \u001b[34mreturn\u001b[39;49;00m y  \u001b[37m# <= y (1); <- <test> (5)\u001b[39;49;00m\n",
      "     7     \u001b[34melse\u001b[39;49;00m:\n",
      "     8         \u001b[34mif\u001b[39;49;00m x > y:\n",
      "     9             \u001b[34mreturn\u001b[39;49;00m y\n",
      "    10         \u001b[34melif\u001b[39;49;00m x > z:\n",
      "    11             \u001b[34mreturn\u001b[39;49;00m x\n",
      "    12     \u001b[34mreturn\u001b[39;49;00m z\n"
     ]
    }
   ],
   "source": [
    "# ignore\n",
    "middle_deps().code()"
   ]
  },
  {
   "cell_type": "markdown",
   "metadata": {
    "slideshow": {
     "slide_type": "subslide"
    }
   },
   "source": [
    "One important aspect of dependencies is that they not only point to specific sources and causes of failures – but that they also _rule out_ parts of program and state as failures.\n",
    "\n",
    "* In the above code, Lines 8 and later have no influence on the output, simply because they were not executed.\n",
    "* Furthermore, we see that we can start our investigation with Line 6, because that is the last one executed.\n",
    "* The data dependencies tell us that no statement has interfered with the value of `y` between the function call and its return.\n",
    "* Hence, the error must be in the conditions and the final `return` statement.\n",
    "\n",
    "With this in mind, recall that our original invocation was `middle(2, 1, 3)`. Why and how is the above code wrong?"
   ]
  },
  {
   "cell_type": "code",
   "execution_count": 43,
   "metadata": {
    "slideshow": {
     "slide_type": "subslide"
    }
   },
   "outputs": [
    {
     "data": {
      "text/html": [
       "\n",
       "    \n",
       "    <script>\n",
       "    function answer(quiz_id) {\n",
       "        ans = 0;\n",
       "        for (i = 1;; i++) {\n",
       "            checkbox = document.getElementById(quiz_id + \"-\" + i.toString());\n",
       "            if (!checkbox)\n",
       "                break;\n",
       "            if (checkbox.checked)\n",
       "                ans |= (1 << i);\n",
       "        }\n",
       "        return ans;\n",
       "    }\n",
       "    function check_selection(quiz_id, correct_answer, multiple_choice) {\n",
       "        given_answer = answer(quiz_id);\n",
       "        if (given_answer == correct_answer)\n",
       "        {\n",
       "            document.getElementById(quiz_id + \"-submit\").value = \"Correct!\";\n",
       "            for (i = 1;; i++) {\n",
       "                checkbox = document.getElementById(quiz_id + \"-\" + i.toString());\n",
       "                label = document.getElementById(quiz_id + \"-\" + i.toString() + \"-label\")\n",
       "                if (!checkbox)\n",
       "                    break;\n",
       "    \n",
       "                if (checkbox.checked) {\n",
       "                    label.style.fontWeight = \"bold\";\n",
       "                }\n",
       "                else {\n",
       "                    label.style.textDecoration = \"line-through\";\n",
       "                }\n",
       "            }\n",
       "        }\n",
       "        else \n",
       "        {\n",
       "            document.getElementById(quiz_id + \"-submit\").value = \"Try again\";\n",
       "            if (!multiple_choice) {\n",
       "                for (i = 1;; i++) {\n",
       "                    checkbox = document.getElementById(quiz_id + \"-\" + i.toString());\n",
       "                    label = document.getElementById(quiz_id + \"-\" + i.toString() + \"-label\")\n",
       "\n",
       "                    if (!checkbox)\n",
       "                        break;\n",
       "                    if (checkbox.checked) {\n",
       "                        label.style.textDecoration = \"line-through\";\n",
       "                    }\n",
       "                }\n",
       "            }\n",
       "        }\n",
       "    }\n",
       "    function clear_selection(quiz_id) {\n",
       "        document.getElementById(quiz_id + \"-submit\").value = \"Submit\";\n",
       "    }\n",
       "    </script>\n",
       "    \n",
       "    <div class=\"quiz\">\n",
       "    <h3 class=\"quiz_title\">Quiz</h3>\n",
       "    <p>\n",
       "    <div class=\"quiz_question\">Which of the following <code>middle()</code> code lines should be fixed?</div>\n",
       "    </p>\n",
       "    <p>\n",
       "    <div class=\"quiz_options\" title=\"Pick a choice.\">\n",
       "    \n",
       "        <input type=\"radio\" name=\"f9ebdf24-529f-11eb-a588-225582d40c1b\" id=\"f9ebdf24-529f-11eb-a588-225582d40c1b-1\" onclick=\"clear_selection('f9ebdf24-529f-11eb-a588-225582d40c1b')\">\n",
       "        <label id=\"f9ebdf24-529f-11eb-a588-225582d40c1b-1-label\" for=\"f9ebdf24-529f-11eb-a588-225582d40c1b-1\">Line 2: <code>if y &lt; z:</code></label><br>\n",
       "    \n",
       "        <input type=\"radio\" name=\"f9ebdf24-529f-11eb-a588-225582d40c1b\" id=\"f9ebdf24-529f-11eb-a588-225582d40c1b-2\" onclick=\"clear_selection('f9ebdf24-529f-11eb-a588-225582d40c1b')\">\n",
       "        <label id=\"f9ebdf24-529f-11eb-a588-225582d40c1b-2-label\" for=\"f9ebdf24-529f-11eb-a588-225582d40c1b-2\">Line 3: <code>if x &lt; y:</code></label><br>\n",
       "    \n",
       "        <input type=\"radio\" name=\"f9ebdf24-529f-11eb-a588-225582d40c1b\" id=\"f9ebdf24-529f-11eb-a588-225582d40c1b-3\" onclick=\"clear_selection('f9ebdf24-529f-11eb-a588-225582d40c1b')\">\n",
       "        <label id=\"f9ebdf24-529f-11eb-a588-225582d40c1b-3-label\" for=\"f9ebdf24-529f-11eb-a588-225582d40c1b-3\">Line 5: <code>elif x &lt; z:</code></label><br>\n",
       "    \n",
       "        <input type=\"radio\" name=\"f9ebdf24-529f-11eb-a588-225582d40c1b\" id=\"f9ebdf24-529f-11eb-a588-225582d40c1b-4\" onclick=\"clear_selection('f9ebdf24-529f-11eb-a588-225582d40c1b')\">\n",
       "        <label id=\"f9ebdf24-529f-11eb-a588-225582d40c1b-4-label\" for=\"f9ebdf24-529f-11eb-a588-225582d40c1b-4\">Line 6: <code>return z</code></label><br>\n",
       "    \n",
       "    </div>\n",
       "    </p>\n",
       "    <input id=\"f9ebdf24-529f-11eb-a588-225582d40c1b-submit\" type=\"submit\" value=\"Submit\" onclick=\"check_selection('f9ebdf24-529f-11eb-a588-225582d40c1b', 16, 0)\">\n",
       "    </div>\n",
       "    "
      ],
      "text/plain": [
       "<IPython.core.display.HTML object>"
      ]
     },
     "execution_count": 43,
     "metadata": {},
     "output_type": "execute_result"
    }
   ],
   "source": [
    "quiz(\"Which of the following `middle()` code lines should be fixed?\",\n",
    "    [\n",
    "        \"Line 2: `if y < z:`\",\n",
    "        \"Line 3: `if x < y:`\",\n",
    "        \"Line 5: `elif x < z:`\",\n",
    "        \"Line 6: `return z`\",\n",
    "    ], (1 ** 0 + 1 ** 1) ** (1 ** 2 + 1 ** 3))"
   ]
  },
  {
   "cell_type": "markdown",
   "metadata": {
    "slideshow": {
     "slide_type": "fragment"
    }
   },
   "source": [
    "Indeed, from the controlling conditions, we see that `y < z`, `x >= y`, and `x < z` all hold. Hence, `y <= x < z` holds, and it is `x`, not `y`, that should be returned."
   ]
  },
  {
   "cell_type": "markdown",
   "metadata": {
    "slideshow": {
     "slide_type": "slide"
    }
   },
   "source": [
    "## Slices\n",
    "\n",
    "Given a dependency graph for a particular variable, we can identify the subset of the program that could have influenced it – the so-called _slice_. In the above code listing, these code locations are highlighted with `*` characters. Only these locations are part of the slice."
   ]
  },
  {
   "cell_type": "markdown",
   "metadata": {
    "slideshow": {
     "slide_type": "subslide"
    }
   },
   "source": [
    "Slices are central to debugging for two reasons:\n",
    "\n",
    "* First, they _rule out_ those locations of the program that could _not_ have an effect on the failure. Hence, these locations need not be investigated as it comes to searching for the defect. Nor do they need to be considered for a fix, as any change outside of the program slice by construction cannot affect the failure.\n",
    "* Second, they bring together possible origins that may be scattered across the code. Many dependencies in program code are _non-local_, with references to functions, classes, and modules defined in other locations, files, or libraries. A slice brings together all those locations in a single whole."
   ]
  },
  {
   "cell_type": "markdown",
   "metadata": {
    "slideshow": {
     "slide_type": "subslide"
    }
   },
   "source": [
    "Here is an example of a slice – this time for our well-known `remove_html_markup()` function from [the introduction to debugging](Intro_Debugging.ipynb):"
   ]
  },
  {
   "cell_type": "code",
   "execution_count": 44,
   "metadata": {
    "slideshow": {
     "slide_type": "skip"
    }
   },
   "outputs": [],
   "source": [
    "from Intro_Debugging import remove_html_markup"
   ]
  },
  {
   "cell_type": "code",
   "execution_count": 45,
   "metadata": {
    "slideshow": {
     "slide_type": "subslide"
    }
   },
   "outputs": [
    {
     "name": "stdout",
     "output_type": "stream",
     "text": [
      "\u001b[34mdef\u001b[39;49;00m \u001b[32mremove_html_markup\u001b[39;49;00m(s):\n",
      "    tag = \u001b[34mFalse\u001b[39;49;00m\n",
      "    quote = \u001b[34mFalse\u001b[39;49;00m\n",
      "    out = \u001b[33m\"\u001b[39;49;00m\u001b[33m\"\u001b[39;49;00m\n",
      "\n",
      "    \u001b[34mfor\u001b[39;49;00m c \u001b[35min\u001b[39;49;00m s:\n",
      "        \u001b[34massert\u001b[39;49;00m tag \u001b[35mor\u001b[39;49;00m \u001b[35mnot\u001b[39;49;00m quote\n",
      "\n",
      "        \u001b[34mif\u001b[39;49;00m c == \u001b[33m'\u001b[39;49;00m\u001b[33m<\u001b[39;49;00m\u001b[33m'\u001b[39;49;00m \u001b[35mand\u001b[39;49;00m \u001b[35mnot\u001b[39;49;00m quote:\n",
      "            tag = \u001b[34mTrue\u001b[39;49;00m\n",
      "        \u001b[34melif\u001b[39;49;00m c == \u001b[33m'\u001b[39;49;00m\u001b[33m>\u001b[39;49;00m\u001b[33m'\u001b[39;49;00m \u001b[35mand\u001b[39;49;00m \u001b[35mnot\u001b[39;49;00m quote:\n",
      "            tag = \u001b[34mFalse\u001b[39;49;00m\n",
      "        \u001b[34melif\u001b[39;49;00m (c == \u001b[33m'\u001b[39;49;00m\u001b[33m\"\u001b[39;49;00m\u001b[33m'\u001b[39;49;00m \u001b[35mor\u001b[39;49;00m c == \u001b[33m\"\u001b[39;49;00m\u001b[33m'\u001b[39;49;00m\u001b[33m\"\u001b[39;49;00m) \u001b[35mand\u001b[39;49;00m tag:\n",
      "            quote = \u001b[35mnot\u001b[39;49;00m quote\n",
      "        \u001b[34melif\u001b[39;49;00m \u001b[35mnot\u001b[39;49;00m tag:\n",
      "            out = out + c\n",
      "\n",
      "    \u001b[34mreturn\u001b[39;49;00m out"
     ]
    }
   ],
   "source": [
    "print_content(inspect.getsource(remove_html_markup), '.py')"
   ]
  },
  {
   "cell_type": "markdown",
   "metadata": {
    "slideshow": {
     "slide_type": "subslide"
    }
   },
   "source": [
    "When we invoke `remove_html_markup()` as follows..."
   ]
  },
  {
   "cell_type": "code",
   "execution_count": 46,
   "metadata": {
    "slideshow": {
     "slide_type": "fragment"
    }
   },
   "outputs": [
    {
     "data": {
      "text/plain": [
       "'bar'"
      ]
     },
     "execution_count": 46,
     "metadata": {},
     "output_type": "execute_result"
    }
   ],
   "source": [
    "remove_html_markup('<foo>bar</foo>')"
   ]
  },
  {
   "cell_type": "markdown",
   "metadata": {
    "slideshow": {
     "slide_type": "fragment"
    }
   },
   "source": [
    "... we obtain the following dependencies:"
   ]
  },
  {
   "cell_type": "code",
   "execution_count": 47,
   "metadata": {
    "slideshow": {
     "slide_type": "fragment"
    }
   },
   "outputs": [],
   "source": [
    "# ignore\n",
    "def remove_html_markup_deps():\n",
    "    return Dependencies({('s', (remove_html_markup, 136)): set(), ('tag', (remove_html_markup, 137)): set(), ('quote', (remove_html_markup, 138)): set(), ('out', (remove_html_markup, 139)): set(), ('c', (remove_html_markup, 141)): {('s', (remove_html_markup, 136))}, ('<test>', (remove_html_markup, 144)): {('quote', (remove_html_markup, 138)), ('c', (remove_html_markup, 141))}, ('tag', (remove_html_markup, 145)): set(), ('<test>', (remove_html_markup, 146)): {('quote', (remove_html_markup, 138)), ('c', (remove_html_markup, 141))}, ('<test>', (remove_html_markup, 148)): {('c', (remove_html_markup, 141))}, ('<test>', (remove_html_markup, 150)): {('tag', (remove_html_markup, 147)), ('tag', (remove_html_markup, 145))}, ('tag', (remove_html_markup, 147)): set(), ('out', (remove_html_markup, 151)): {('out', (remove_html_markup, 151)), ('c', (remove_html_markup, 141)), ('out', (remove_html_markup, 139))}, ('<remove_html_markup() return value>', (remove_html_markup, 153)): {('<test>', (remove_html_markup, 146)), ('out', (remove_html_markup, 151))}}, {('s', (remove_html_markup, 136)): set(), ('tag', (remove_html_markup, 137)): set(), ('quote', (remove_html_markup, 138)): set(), ('out', (remove_html_markup, 139)): set(), ('c', (remove_html_markup, 141)): set(), ('<test>', (remove_html_markup, 144)): set(), ('tag', (remove_html_markup, 145)): {('<test>', (remove_html_markup, 144))}, ('<test>', (remove_html_markup, 146)): {('<test>', (remove_html_markup, 144))}, ('<test>', (remove_html_markup, 148)): {('<test>', (remove_html_markup, 146))}, ('<test>', (remove_html_markup, 150)): {('<test>', (remove_html_markup, 148))}, ('tag', (remove_html_markup, 147)): {('<test>', (remove_html_markup, 146))}, ('out', (remove_html_markup, 151)): {('<test>', (remove_html_markup, 150))}, ('<remove_html_markup() return value>', (remove_html_markup, 153)): set()})"
   ]
  },
  {
   "cell_type": "code",
   "execution_count": 48,
   "metadata": {
    "slideshow": {
     "slide_type": "fragment"
    }
   },
   "outputs": [
    {
     "data": {
      "image/svg+xml": [
       "<?xml version=\"1.0\" encoding=\"UTF-8\" standalone=\"no\"?>\n",
       "<!DOCTYPE svg PUBLIC \"-//W3C//DTD SVG 1.1//EN\"\n",
       " \"http://www.w3.org/Graphics/SVG/1.1/DTD/svg11.dtd\">\n",
       "<!-- Generated by graphviz version 2.40.1 (20161225.0304)\n",
       " -->\n",
       "<!-- Title: dependencies Pages: 1 -->\n",
       "<svg width=\"466pt\" height=\"960pt\"\n",
       " viewBox=\"0.00 0.00 466.00 960.00\" xmlns=\"http://www.w3.org/2000/svg\" xmlns:xlink=\"http://www.w3.org/1999/xlink\">\n",
       "<g id=\"graph0\" class=\"graph\" transform=\"scale(1 1) rotate(0) translate(4 956)\">\n",
       "<title>dependencies</title>\n",
       "<polygon fill=\"#ffffff\" stroke=\"transparent\" points=\"-4,4 -4,-956 462,-956 462,4 -4,4\"/>\n",
       "<!-- quote_functionremove_html_markupat0x7fe3e15c18c8_138 -->\n",
       "<g id=\"node1\" class=\"node\">\n",
       "<title>quote_functionremove_html_markupat0x7fe3e15c18c8_138</title>\n",
       "<g id=\"a_node1\"><a xlink:title=\"remove_html_markup:138\">\n",
       "<polygon fill=\"#ffdab9\" stroke=\"#000000\" points=\"314,-800 227,-800 227,-760 314,-760 314,-800\"/>\n",
       "<text text-anchor=\"start\" x=\"249\" y=\"-785.8\" font-family=\"Fira Mono, Courier, monospace\" font-weight=\"bold\" font-size=\"14.00\" fill=\"#000000\">quote</text>\n",
       "<text text-anchor=\"start\" x=\"235\" y=\"-766.8\" font-family=\"Fira Mono, Courier, monospace\" font-size=\"9.00\" fill=\"#000000\">quote = False</text>\n",
       "</a>\n",
       "</g>\n",
       "</g>\n",
       "<!-- out_functionremove_html_markupat0x7fe3e15c18c8_139 -->\n",
       "<g id=\"node2\" class=\"node\">\n",
       "<title>out_functionremove_html_markupat0x7fe3e15c18c8_139</title>\n",
       "<g id=\"a_node2\"><a xlink:title=\"remove_html_markup:139\">\n",
       "<polygon fill=\"#ffdab9\" stroke=\"#000000\" points=\"188.5,-724 128.5,-724 128.5,-684 188.5,-684 188.5,-724\"/>\n",
       "<text text-anchor=\"start\" x=\"145.5\" y=\"-709.8\" font-family=\"Fira Mono, Courier, monospace\" font-weight=\"bold\" font-size=\"14.00\" fill=\"#000000\">out</text>\n",
       "<text text-anchor=\"start\" x=\"136.5\" y=\"-690.8\" font-family=\"Fira Mono, Courier, monospace\" font-size=\"9.00\" fill=\"#000000\">out = &quot;&quot;</text>\n",
       "</a>\n",
       "</g>\n",
       "</g>\n",
       "<!-- quote_functionremove_html_markupat0x7fe3e15c18c8_138&#45;&gt;out_functionremove_html_markupat0x7fe3e15c18c8_139 -->\n",
       "<!-- test_functionremove_html_markupat0x7fe3e15c18c8_146 -->\n",
       "<g id=\"node3\" class=\"node\">\n",
       "<title>test_functionremove_html_markupat0x7fe3e15c18c8_146</title>\n",
       "<g id=\"a_node3\"><a xlink:title=\"remove_html_markup:146\">\n",
       "<polygon fill=\"#ffdab9\" stroke=\"#000000\" points=\"273.5,-420 105.5,-420 105.5,-380 273.5,-380 273.5,-420\"/>\n",
       "<text text-anchor=\"start\" x=\"164\" y=\"-405.8\" font-family=\"Fira Mono, Courier, monospace\" font-weight=\"bold\" font-style=\"italic\" font-size=\"14.00\" fill=\"#000000\">&lt;test&gt;</text>\n",
       "<text text-anchor=\"start\" x=\"113.5\" y=\"-386.8\" font-family=\"Fira Mono, Courier, monospace\" font-size=\"9.00\" fill=\"#000000\">elif c == &#39;&gt;&#39; and not quote:</text>\n",
       "</a>\n",
       "</g>\n",
       "</g>\n",
       "<!-- quote_functionremove_html_markupat0x7fe3e15c18c8_138&#45;&gt;test_functionremove_html_markupat0x7fe3e15c18c8_146 -->\n",
       "<g id=\"edge1\" class=\"edge\">\n",
       "<title>quote_functionremove_html_markupat0x7fe3e15c18c8_138&#45;&gt;test_functionremove_html_markupat0x7fe3e15c18c8_146</title>\n",
       "<path fill=\"none\" stroke=\"#000000\" d=\"M297.2246,-759.8035C328.9173,-733.3297 377.5,-683.6685 377.5,-628 377.5,-628 377.5,-628 377.5,-552 377.5,-488.9451 312.7573,-447.5507 259.2585,-424.1092\"/>\n",
       "<polygon fill=\"#000000\" stroke=\"#000000\" points=\"260.3329,-420.7631 249.7601,-420.0801 257.5994,-427.2073 260.3329,-420.7631\"/>\n",
       "</g>\n",
       "<!-- test_functionremove_html_markupat0x7fe3e15c18c8_144 -->\n",
       "<g id=\"node5\" class=\"node\">\n",
       "<title>test_functionremove_html_markupat0x7fe3e15c18c8_144</title>\n",
       "<g id=\"a_node5\"><a xlink:title=\"remove_html_markup:144\">\n",
       "<polygon fill=\"#ffdab9\" stroke=\"#000000\" points=\"235,-572 78,-572 78,-532 235,-532 235,-572\"/>\n",
       "<text text-anchor=\"start\" x=\"131\" y=\"-557.8\" font-family=\"Fira Mono, Courier, monospace\" font-weight=\"bold\" font-style=\"italic\" font-size=\"14.00\" fill=\"#000000\">&lt;test&gt;</text>\n",
       "<text text-anchor=\"start\" x=\"86\" y=\"-538.8\" font-family=\"Fira Mono, Courier, monospace\" font-size=\"9.00\" fill=\"#000000\">if c == &#39;&lt;&#39; and not quote:</text>\n",
       "</a>\n",
       "</g>\n",
       "</g>\n",
       "<!-- quote_functionremove_html_markupat0x7fe3e15c18c8_138&#45;&gt;test_functionremove_html_markupat0x7fe3e15c18c8_144 -->\n",
       "<g id=\"edge18\" class=\"edge\">\n",
       "<title>quote_functionremove_html_markupat0x7fe3e15c18c8_138&#45;&gt;test_functionremove_html_markupat0x7fe3e15c18c8_144</title>\n",
       "<path fill=\"none\" stroke=\"#000000\" d=\"M260.3833,-759.7665C240.1441,-719.2883 194.6025,-628.2049 171.1182,-581.2365\"/>\n",
       "<polygon fill=\"#000000\" stroke=\"#000000\" points=\"174.1968,-579.5671 166.5941,-572.1881 167.9358,-582.6977 174.1968,-579.5671\"/>\n",
       "</g>\n",
       "<!-- c_functionremove_html_markupat0x7fe3e15c18c8_141 -->\n",
       "<g id=\"node4\" class=\"node\">\n",
       "<title>c_functionremove_html_markupat0x7fe3e15c18c8_141</title>\n",
       "<g id=\"a_node4\"><a xlink:title=\"remove_html_markup:141\">\n",
       "<polygon fill=\"#ffdab9\" stroke=\"#000000\" points=\"320.5,-648 244.5,-648 244.5,-608 320.5,-608 320.5,-648\"/>\n",
       "<text text-anchor=\"start\" x=\"278\" y=\"-633.8\" font-family=\"Fira Mono, Courier, monospace\" font-weight=\"bold\" font-size=\"14.00\" fill=\"#000000\">c</text>\n",
       "<text text-anchor=\"start\" x=\"252.5\" y=\"-614.8\" font-family=\"Fira Mono, Courier, monospace\" font-size=\"9.00\" fill=\"#000000\">for c in s:</text>\n",
       "</a>\n",
       "</g>\n",
       "</g>\n",
       "<!-- out_functionremove_html_markupat0x7fe3e15c18c8_139&#45;&gt;c_functionremove_html_markupat0x7fe3e15c18c8_141 -->\n",
       "<!-- out_functionremove_html_markupat0x7fe3e15c18c8_151 -->\n",
       "<g id=\"node6\" class=\"node\">\n",
       "<title>out_functionremove_html_markupat0x7fe3e15c18c8_151</title>\n",
       "<g id=\"a_node6\"><a xlink:title=\"remove_html_markup:151\">\n",
       "<polygon fill=\"#ffdab9\" stroke=\"#000000\" points=\"199,-116 112,-116 112,-76 199,-76 199,-116\"/>\n",
       "<text text-anchor=\"start\" x=\"142.5\" y=\"-101.8\" font-family=\"Fira Mono, Courier, monospace\" font-weight=\"bold\" font-size=\"14.00\" fill=\"#000000\">out</text>\n",
       "<text text-anchor=\"start\" x=\"120\" y=\"-82.8\" font-family=\"Fira Mono, Courier, monospace\" font-size=\"9.00\" fill=\"#000000\">out = out + c</text>\n",
       "</a>\n",
       "</g>\n",
       "</g>\n",
       "<!-- out_functionremove_html_markupat0x7fe3e15c18c8_139&#45;&gt;out_functionremove_html_markupat0x7fe3e15c18c8_151 -->\n",
       "<g id=\"edge6\" class=\"edge\">\n",
       "<title>out_functionremove_html_markupat0x7fe3e15c18c8_139&#45;&gt;out_functionremove_html_markupat0x7fe3e15c18c8_151</title>\n",
       "<path fill=\"none\" stroke=\"#000000\" d=\"M128.3058,-690.3934C84.2402,-668.2289 7.5,-619.8845 7.5,-552 7.5,-552 7.5,-552 7.5,-248 7.5,-190.4554 62.6246,-146.535 105.589,-121.0425\"/>\n",
       "<polygon fill=\"#000000\" stroke=\"#000000\" points=\"107.3571,-124.0632 114.2737,-116.0376 103.8619,-117.9982 107.3571,-124.0632\"/>\n",
       "</g>\n",
       "<!-- tag_functionremove_html_markupat0x7fe3e15c18c8_147 -->\n",
       "<g id=\"node8\" class=\"node\">\n",
       "<title>tag_functionremove_html_markupat0x7fe3e15c18c8_147</title>\n",
       "<g id=\"a_node8\"><a xlink:title=\"remove_html_markup:147\">\n",
       "<polygon fill=\"#ffdab9\" stroke=\"#000000\" points=\"227.5,-344 151.5,-344 151.5,-304 227.5,-304 227.5,-344\"/>\n",
       "<text text-anchor=\"start\" x=\"176.5\" y=\"-329.8\" font-family=\"Fira Mono, Courier, monospace\" font-weight=\"bold\" font-size=\"14.00\" fill=\"#000000\">tag</text>\n",
       "<text text-anchor=\"start\" x=\"159.5\" y=\"-310.8\" font-family=\"Fira Mono, Courier, monospace\" font-size=\"9.00\" fill=\"#000000\">tag = False</text>\n",
       "</a>\n",
       "</g>\n",
       "</g>\n",
       "<!-- test_functionremove_html_markupat0x7fe3e15c18c8_146&#45;&gt;tag_functionremove_html_markupat0x7fe3e15c18c8_147 -->\n",
       "<g id=\"edge8\" class=\"edge\">\n",
       "<title>test_functionremove_html_markupat0x7fe3e15c18c8_146&#45;&gt;tag_functionremove_html_markupat0x7fe3e15c18c8_147</title>\n",
       "<path fill=\"none\" stroke=\"#c0c0c0\" stroke-dasharray=\"5,2\" d=\"M183.4426,-379.6334C182.7819,-371.8186 182.5939,-362.7253 182.8786,-354.183\"/>\n",
       "<polygon fill=\"#c0c0c0\" stroke=\"#c0c0c0\" points=\"186.375,-354.3453 183.4602,-344.1593 179.3867,-353.9397 186.375,-354.3453\"/>\n",
       "</g>\n",
       "<!-- test_functionremove_html_markupat0x7fe3e15c18c8_146&#45;&gt;tag_functionremove_html_markupat0x7fe3e15c18c8_147 -->\n",
       "<!-- remove_html_markupreturnvalue_functionremove_html_markupat0x7fe3e15c18c8_153 -->\n",
       "<g id=\"node9\" class=\"node\">\n",
       "<title>remove_html_markupreturnvalue_functionremove_html_markupat0x7fe3e15c18c8_153</title>\n",
       "<g id=\"a_node9\"><a xlink:title=\"remove_html_markup:153\">\n",
       "<polygon fill=\"#ffdab9\" stroke=\"#000000\" points=\"311,-40 0,-40 0,0 311,0 311,-40\"/>\n",
       "<text text-anchor=\"start\" x=\"8\" y=\"-25.8\" font-family=\"Fira Mono, Courier, monospace\" font-weight=\"bold\" font-style=\"italic\" font-size=\"14.00\" fill=\"#000000\">&lt;remove_html_markup() return value&gt;</text>\n",
       "<text text-anchor=\"start\" x=\"128\" y=\"-6.8\" font-family=\"Fira Mono, Courier, monospace\" font-size=\"9.00\" fill=\"#000000\">return out</text>\n",
       "</a>\n",
       "</g>\n",
       "</g>\n",
       "<!-- test_functionremove_html_markupat0x7fe3e15c18c8_146&#45;&gt;remove_html_markupreturnvalue_functionremove_html_markupat0x7fe3e15c18c8_153 -->\n",
       "<g id=\"edge9\" class=\"edge\">\n",
       "<title>test_functionremove_html_markupat0x7fe3e15c18c8_146&#45;&gt;remove_html_markupreturnvalue_functionremove_html_markupat0x7fe3e15c18c8_153</title>\n",
       "<path fill=\"none\" stroke=\"#000000\" d=\"M163.2977,-379.9787C131.9081,-353.5058 83.5,-303.6575 83.5,-248 83.5,-248 83.5,-248 83.5,-172 83.5,-128.5057 82.5451,-114.6465 102.5,-76 107.915,-65.5127 115.8871,-55.6065 124.0125,-47.1251\"/>\n",
       "<polygon fill=\"#000000\" stroke=\"#000000\" points=\"126.4994,-49.5881 131.1321,-40.0597 121.5686,-44.6195 126.4994,-49.5881\"/>\n",
       "</g>\n",
       "<!-- test_functionremove_html_markupat0x7fe3e15c18c8_148 -->\n",
       "<g id=\"node12\" class=\"node\">\n",
       "<title>test_functionremove_html_markupat0x7fe3e15c18c8_148</title>\n",
       "<g id=\"a_node12\"><a xlink:title=\"remove_html_markup:148\">\n",
       "<polygon fill=\"#ffdab9\" stroke=\"#000000\" points=\"361,-268 150,-268 150,-228 361,-228 361,-268\"/>\n",
       "<text text-anchor=\"start\" x=\"230\" y=\"-253.8\" font-family=\"Fira Mono, Courier, monospace\" font-weight=\"bold\" font-style=\"italic\" font-size=\"14.00\" fill=\"#000000\">&lt;test&gt;</text>\n",
       "<text text-anchor=\"start\" x=\"158\" y=\"-234.8\" font-family=\"Fira Mono, Courier, monospace\" font-size=\"9.00\" fill=\"#000000\">elif (c == &#39;&quot;&#39; or c == &quot;&#39;&quot;) and tag:</text>\n",
       "</a>\n",
       "</g>\n",
       "</g>\n",
       "<!-- test_functionremove_html_markupat0x7fe3e15c18c8_146&#45;&gt;test_functionremove_html_markupat0x7fe3e15c18c8_148 -->\n",
       "<g id=\"edge13\" class=\"edge\">\n",
       "<title>test_functionremove_html_markupat0x7fe3e15c18c8_146&#45;&gt;test_functionremove_html_markupat0x7fe3e15c18c8_148</title>\n",
       "<path fill=\"none\" stroke=\"#c0c0c0\" stroke-dasharray=\"5,2\" d=\"M210.587,-379.9873C219.8915,-370.0209 230.1381,-357.278 236.5,-344 246.4108,-323.3153 251.1525,-297.7497 253.4208,-278.2033\"/>\n",
       "<polygon fill=\"#c0c0c0\" stroke=\"#c0c0c0\" points=\"256.9254,-278.3327 254.4437,-268.0326 249.9605,-277.6322 256.9254,-278.3327\"/>\n",
       "</g>\n",
       "<!-- c_functionremove_html_markupat0x7fe3e15c18c8_141&#45;&gt;test_functionremove_html_markupat0x7fe3e15c18c8_146 -->\n",
       "<g id=\"edge2\" class=\"edge\">\n",
       "<title>c_functionremove_html_markupat0x7fe3e15c18c8_141&#45;&gt;test_functionremove_html_markupat0x7fe3e15c18c8_146</title>\n",
       "<path fill=\"none\" stroke=\"#000000\" d=\"M274.2971,-607.7674C266.4149,-588.3352 254.1621,-558.1537 243.5,-532 229.1614,-496.8278 212.6169,-456.4102 201.6589,-429.6629\"/>\n",
       "<polygon fill=\"#000000\" stroke=\"#000000\" points=\"204.7792,-428.0468 197.7489,-420.1206 198.3019,-430.701 204.7792,-428.0468\"/>\n",
       "</g>\n",
       "<!-- c_functionremove_html_markupat0x7fe3e15c18c8_141&#45;&gt;test_functionremove_html_markupat0x7fe3e15c18c8_144 -->\n",
       "<g id=\"edge19\" class=\"edge\">\n",
       "<title>c_functionremove_html_markupat0x7fe3e15c18c8_141&#45;&gt;test_functionremove_html_markupat0x7fe3e15c18c8_144</title>\n",
       "<path fill=\"none\" stroke=\"#000000\" d=\"M244.4084,-608.6253C227.9249,-599.2002 208.782,-587.7442 192.5363,-577.6088\"/>\n",
       "<polygon fill=\"#000000\" stroke=\"#000000\" points=\"194.1713,-574.5023 183.8443,-572.1352 190.4412,-580.4256 194.1713,-574.5023\"/>\n",
       "</g>\n",
       "<!-- c_functionremove_html_markupat0x7fe3e15c18c8_141&#45;&gt;test_functionremove_html_markupat0x7fe3e15c18c8_144 -->\n",
       "<!-- c_functionremove_html_markupat0x7fe3e15c18c8_141&#45;&gt;out_functionremove_html_markupat0x7fe3e15c18c8_151 -->\n",
       "<g id=\"edge5\" class=\"edge\">\n",
       "<title>c_functionremove_html_markupat0x7fe3e15c18c8_141&#45;&gt;out_functionremove_html_markupat0x7fe3e15c18c8_151</title>\n",
       "<path fill=\"none\" stroke=\"#000000\" d=\"M296.2088,-607.8395C335.9623,-546.6515 443.9275,-359.2431 370.5,-228 336.2453,-166.7737 260.6862,-130.4883 208.9206,-111.9027\"/>\n",
       "<polygon fill=\"#000000\" stroke=\"#000000\" points=\"209.8206,-108.51 199.2258,-108.5278 207.5193,-115.1209 209.8206,-108.51\"/>\n",
       "</g>\n",
       "<!-- c_functionremove_html_markupat0x7fe3e15c18c8_141&#45;&gt;test_functionremove_html_markupat0x7fe3e15c18c8_148 -->\n",
       "<g id=\"edge12\" class=\"edge\">\n",
       "<title>c_functionremove_html_markupat0x7fe3e15c18c8_141&#45;&gt;test_functionremove_html_markupat0x7fe3e15c18c8_148</title>\n",
       "<path fill=\"none\" stroke=\"#000000\" d=\"M286.6227,-607.9383C292.2108,-578.9505 301.5,-523.6037 301.5,-476 301.5,-476 301.5,-476 301.5,-400 301.5,-355.9082 283.5488,-307.5872 270.0744,-277.5275\"/>\n",
       "<polygon fill=\"#000000\" stroke=\"#000000\" points=\"273.0765,-275.6796 265.7089,-268.0659 266.7204,-278.6123 273.0765,-275.6796\"/>\n",
       "</g>\n",
       "<!-- test_functionremove_html_markupat0x7fe3e15c18c8_144&#45;&gt;test_functionremove_html_markupat0x7fe3e15c18c8_146 -->\n",
       "<g id=\"edge3\" class=\"edge\">\n",
       "<title>test_functionremove_html_markupat0x7fe3e15c18c8_144&#45;&gt;test_functionremove_html_markupat0x7fe3e15c18c8_146</title>\n",
       "<path fill=\"none\" stroke=\"#c0c0c0\" stroke-dasharray=\"5,2\" d=\"M169.1403,-531.7978C174.9195,-521.4873 181.2016,-508.5074 184.5,-496 190.1471,-474.5862 191.2833,-449.5787 191.0678,-430.4564\"/>\n",
       "<polygon fill=\"#c0c0c0\" stroke=\"#c0c0c0\" points=\"194.5611,-430.1363 190.8189,-420.2244 187.5632,-430.3066 194.5611,-430.1363\"/>\n",
       "</g>\n",
       "<!-- tag_functionremove_html_markupat0x7fe3e15c18c8_145 -->\n",
       "<g id=\"node13\" class=\"node\">\n",
       "<title>tag_functionremove_html_markupat0x7fe3e15c18c8_145</title>\n",
       "<g id=\"a_node13\"><a xlink:title=\"remove_html_markup:145\">\n",
       "<polygon fill=\"#ffdab9\" stroke=\"#000000\" points=\"176,-496 105,-496 105,-456 176,-456 176,-496\"/>\n",
       "<text text-anchor=\"start\" x=\"127.5\" y=\"-481.8\" font-family=\"Fira Mono, Courier, monospace\" font-weight=\"bold\" font-size=\"14.00\" fill=\"#000000\">tag</text>\n",
       "<text text-anchor=\"start\" x=\"113\" y=\"-462.8\" font-family=\"Fira Mono, Courier, monospace\" font-size=\"9.00\" fill=\"#000000\">tag = True</text>\n",
       "</a>\n",
       "</g>\n",
       "</g>\n",
       "<!-- test_functionremove_html_markupat0x7fe3e15c18c8_144&#45;&gt;tag_functionremove_html_markupat0x7fe3e15c18c8_145 -->\n",
       "<g id=\"edge17\" class=\"edge\">\n",
       "<title>test_functionremove_html_markupat0x7fe3e15c18c8_144&#45;&gt;tag_functionremove_html_markupat0x7fe3e15c18c8_145</title>\n",
       "<path fill=\"none\" stroke=\"#c0c0c0\" stroke-dasharray=\"5,2\" d=\"M146.1548,-531.6334C143.849,-523.8186 141.7466,-514.7253 140.2329,-506.183\"/>\n",
       "<polygon fill=\"#c0c0c0\" stroke=\"#c0c0c0\" points=\"143.6719,-505.5173 138.7043,-496.1593 136.7519,-506.5727 143.6719,-505.5173\"/>\n",
       "</g>\n",
       "<!-- test_functionremove_html_markupat0x7fe3e15c18c8_144&#45;&gt;tag_functionremove_html_markupat0x7fe3e15c18c8_145 -->\n",
       "<!-- out_functionremove_html_markupat0x7fe3e15c18c8_151&#45;&gt;out_functionremove_html_markupat0x7fe3e15c18c8_151 -->\n",
       "<g id=\"edge4\" class=\"edge\">\n",
       "<title>out_functionremove_html_markupat0x7fe3e15c18c8_151&#45;&gt;out_functionremove_html_markupat0x7fe3e15c18c8_151</title>\n",
       "<path fill=\"none\" stroke=\"#000000\" d=\"M199.1694,-109.9682C209.4301,-108.8201 217,-104.1641 217,-96 217,-90.7699 213.8933,-86.9795 208.9627,-84.6287\"/>\n",
       "<polygon fill=\"#000000\" stroke=\"#000000\" points=\"209.7324,-81.212 199.1694,-82.0318 207.9382,-87.9781 209.7324,-81.212\"/>\n",
       "</g>\n",
       "<!-- out_functionremove_html_markupat0x7fe3e15c18c8_151&#45;&gt;remove_html_markupreturnvalue_functionremove_html_markupat0x7fe3e15c18c8_153 -->\n",
       "<g id=\"edge10\" class=\"edge\">\n",
       "<title>out_functionremove_html_markupat0x7fe3e15c18c8_151&#45;&gt;remove_html_markupreturnvalue_functionremove_html_markupat0x7fe3e15c18c8_153</title>\n",
       "<path fill=\"none\" stroke=\"#000000\" d=\"M149.4426,-75.6334C148.7819,-67.8186 148.5939,-58.7253 148.8786,-50.183\"/>\n",
       "<polygon fill=\"#000000\" stroke=\"#000000\" points=\"152.375,-50.3453 149.4602,-40.1593 145.3867,-49.9397 152.375,-50.3453\"/>\n",
       "</g>\n",
       "<!-- out_functionremove_html_markupat0x7fe3e15c18c8_151&#45;&gt;remove_html_markupreturnvalue_functionremove_html_markupat0x7fe3e15c18c8_153 -->\n",
       "<!-- test_functionremove_html_markupat0x7fe3e15c18c8_150 -->\n",
       "<g id=\"node7\" class=\"node\">\n",
       "<title>test_functionremove_html_markupat0x7fe3e15c18c8_150</title>\n",
       "<g id=\"a_node7\"><a xlink:title=\"remove_html_markup:150\">\n",
       "<polygon fill=\"#ffdab9\" stroke=\"#000000\" points=\"199,-192 112,-192 112,-152 199,-152 199,-192\"/>\n",
       "<text text-anchor=\"start\" x=\"130\" y=\"-177.8\" font-family=\"Fira Mono, Courier, monospace\" font-weight=\"bold\" font-style=\"italic\" font-size=\"14.00\" fill=\"#000000\">&lt;test&gt;</text>\n",
       "<text text-anchor=\"start\" x=\"120\" y=\"-158.8\" font-family=\"Fira Mono, Courier, monospace\" font-size=\"9.00\" fill=\"#000000\">elif not tag:</text>\n",
       "</a>\n",
       "</g>\n",
       "</g>\n",
       "<!-- test_functionremove_html_markupat0x7fe3e15c18c8_150&#45;&gt;out_functionremove_html_markupat0x7fe3e15c18c8_151 -->\n",
       "<g id=\"edge7\" class=\"edge\">\n",
       "<title>test_functionremove_html_markupat0x7fe3e15c18c8_150&#45;&gt;out_functionremove_html_markupat0x7fe3e15c18c8_151</title>\n",
       "<path fill=\"none\" stroke=\"#c0c0c0\" stroke-dasharray=\"5,2\" d=\"M149.4426,-151.6334C148.7819,-143.8186 148.5939,-134.7253 148.8786,-126.183\"/>\n",
       "<polygon fill=\"#c0c0c0\" stroke=\"#c0c0c0\" points=\"152.375,-126.3453 149.4602,-116.1593 145.3867,-125.9397 152.375,-126.3453\"/>\n",
       "</g>\n",
       "<!-- test_functionremove_html_markupat0x7fe3e15c18c8_150&#45;&gt;out_functionremove_html_markupat0x7fe3e15c18c8_151 -->\n",
       "<!-- tag_functionremove_html_markupat0x7fe3e15c18c8_147&#45;&gt;test_functionremove_html_markupat0x7fe3e15c18c8_150 -->\n",
       "<g id=\"edge14\" class=\"edge\">\n",
       "<title>tag_functionremove_html_markupat0x7fe3e15c18c8_147&#45;&gt;test_functionremove_html_markupat0x7fe3e15c18c8_150</title>\n",
       "<path fill=\"none\" stroke=\"#000000\" d=\"M165.5194,-303.8924C155.7833,-294.1776 145.6345,-281.6652 140.5,-268 132.4665,-246.6192 137.1269,-221.0004 143.3008,-201.6076\"/>\n",
       "<polygon fill=\"#000000\" stroke=\"#000000\" points=\"146.6319,-202.6841 146.6081,-192.0893 140.0197,-200.3865 146.6319,-202.6841\"/>\n",
       "</g>\n",
       "<!-- tag_functionremove_html_markupat0x7fe3e15c18c8_147&#45;&gt;test_functionremove_html_markupat0x7fe3e15c18c8_148 -->\n",
       "<!-- s_functionremove_html_markupat0x7fe3e15c18c8_136 -->\n",
       "<g id=\"node10\" class=\"node\">\n",
       "<title>s_functionremove_html_markupat0x7fe3e15c18c8_136</title>\n",
       "<g id=\"a_node10\"><a xlink:title=\"remove_html_markup:136\">\n",
       "<polygon fill=\"#ffdab9\" stroke=\"#000000\" points=\"458,-952 301,-952 301,-912 458,-912 458,-952\"/>\n",
       "<text text-anchor=\"start\" x=\"375\" y=\"-937.8\" font-family=\"Fira Mono, Courier, monospace\" font-weight=\"bold\" font-size=\"14.00\" fill=\"#000000\">s</text>\n",
       "<text text-anchor=\"start\" x=\"309\" y=\"-918.8\" font-family=\"Fira Mono, Courier, monospace\" font-size=\"9.00\" fill=\"#000000\">def remove_html_markup(s):</text>\n",
       "</a>\n",
       "</g>\n",
       "</g>\n",
       "<!-- s_functionremove_html_markupat0x7fe3e15c18c8_136&#45;&gt;c_functionremove_html_markupat0x7fe3e15c18c8_141 -->\n",
       "<g id=\"edge11\" class=\"edge\">\n",
       "<title>s_functionremove_html_markupat0x7fe3e15c18c8_136&#45;&gt;c_functionremove_html_markupat0x7fe3e15c18c8_141</title>\n",
       "<path fill=\"none\" stroke=\"#000000\" d=\"M386.9231,-911.9159C393.1112,-892.3341 399.9575,-861.8165 393.5,-836 376.1672,-766.7056 330.8851,-695.2296 303.8128,-656.7464\"/>\n",
       "<polygon fill=\"#000000\" stroke=\"#000000\" points=\"306.3336,-654.2532 297.6767,-648.1452 300.6351,-658.3186 306.3336,-654.2532\"/>\n",
       "</g>\n",
       "<!-- tag_functionremove_html_markupat0x7fe3e15c18c8_137 -->\n",
       "<g id=\"node11\" class=\"node\">\n",
       "<title>tag_functionremove_html_markupat0x7fe3e15c18c8_137</title>\n",
       "<g id=\"a_node11\"><a xlink:title=\"remove_html_markup:137\">\n",
       "<polygon fill=\"#ffdab9\" stroke=\"#000000\" points=\"384.5,-876 308.5,-876 308.5,-836 384.5,-836 384.5,-876\"/>\n",
       "<text text-anchor=\"start\" x=\"333.5\" y=\"-861.8\" font-family=\"Fira Mono, Courier, monospace\" font-weight=\"bold\" font-size=\"14.00\" fill=\"#000000\">tag</text>\n",
       "<text text-anchor=\"start\" x=\"316.5\" y=\"-842.8\" font-family=\"Fira Mono, Courier, monospace\" font-size=\"9.00\" fill=\"#000000\">tag = False</text>\n",
       "</a>\n",
       "</g>\n",
       "</g>\n",
       "<!-- s_functionremove_html_markupat0x7fe3e15c18c8_136&#45;&gt;tag_functionremove_html_markupat0x7fe3e15c18c8_137 -->\n",
       "<!-- tag_functionremove_html_markupat0x7fe3e15c18c8_137&#45;&gt;quote_functionremove_html_markupat0x7fe3e15c18c8_138 -->\n",
       "<!-- test_functionremove_html_markupat0x7fe3e15c18c8_148&#45;&gt;test_functionremove_html_markupat0x7fe3e15c18c8_150 -->\n",
       "<g id=\"edge16\" class=\"edge\">\n",
       "<title>test_functionremove_html_markupat0x7fe3e15c18c8_148&#45;&gt;test_functionremove_html_markupat0x7fe3e15c18c8_150</title>\n",
       "<path fill=\"none\" stroke=\"#c0c0c0\" stroke-dasharray=\"5,2\" d=\"M222.9239,-227.8329C210.4042,-218.9004 196.2683,-208.2678 184.1413,-198.6898\"/>\n",
       "<polygon fill=\"#c0c0c0\" stroke=\"#c0c0c0\" points=\"186.1051,-195.7786 176.1111,-192.2613 181.7304,-201.2432 186.1051,-195.7786\"/>\n",
       "</g>\n",
       "<!-- test_functionremove_html_markupat0x7fe3e15c18c8_148&#45;&gt;test_functionremove_html_markupat0x7fe3e15c18c8_150 -->\n",
       "<!-- tag_functionremove_html_markupat0x7fe3e15c18c8_145&#45;&gt;test_functionremove_html_markupat0x7fe3e15c18c8_146 -->\n",
       "<!-- tag_functionremove_html_markupat0x7fe3e15c18c8_145&#45;&gt;test_functionremove_html_markupat0x7fe3e15c18c8_150 -->\n",
       "<g id=\"edge15\" class=\"edge\">\n",
       "<title>tag_functionremove_html_markupat0x7fe3e15c18c8_145&#45;&gt;test_functionremove_html_markupat0x7fe3e15c18c8_150</title>\n",
       "<path fill=\"none\" stroke=\"#000000\" d=\"M119.3897,-455.9785C110.4988,-446.1033 101.1477,-433.4378 96.5,-420 90.6891,-403.1987 94.4375,-397.6577 96.5,-380 104.5544,-311.0444 111.2466,-294.0912 132.5,-228 135.2983,-219.2982 138.8498,-210.0458 142.3197,-201.6211\"/>\n",
       "<polygon fill=\"#000000\" stroke=\"#000000\" points=\"145.6348,-202.7677 146.3056,-192.1942 139.1875,-200.0416 145.6348,-202.7677\"/>\n",
       "</g>\n",
       "</g>\n",
       "</svg>\n"
      ],
      "text/plain": [
       "<graphviz.dot.Digraph at 0x7fe3e1c9d160>"
      ]
     },
     "execution_count": 48,
     "metadata": {},
     "output_type": "execute_result"
    }
   ],
   "source": [
    "# ignore\n",
    "remove_html_markup_deps().graph()"
   ]
  },
  {
   "cell_type": "markdown",
   "metadata": {
    "slideshow": {
     "slide_type": "subslide"
    }
   },
   "source": [
    "Again, we can read such a graph _forward_ (starting from, say, `s`) or _backward_ (starting from the return value). Starting forward, we see how the passed string `s` flows into the `for` loop, breaking `s` into individual characters `c` that are then checked on various occasions, before flowing into the `out` return value. We also see how the various `if` conditions are all influenced by `c`, `tag`, and `quote`."
   ]
  },
  {
   "cell_type": "code",
   "execution_count": 49,
   "metadata": {
    "slideshow": {
     "slide_type": "fragment"
    }
   },
   "outputs": [
    {
     "data": {
      "text/html": [
       "\n",
       "    \n",
       "    <script>\n",
       "    function answer(quiz_id) {\n",
       "        ans = 0;\n",
       "        for (i = 1;; i++) {\n",
       "            checkbox = document.getElementById(quiz_id + \"-\" + i.toString());\n",
       "            if (!checkbox)\n",
       "                break;\n",
       "            if (checkbox.checked)\n",
       "                ans |= (1 << i);\n",
       "        }\n",
       "        return ans;\n",
       "    }\n",
       "    function check_selection(quiz_id, correct_answer, multiple_choice) {\n",
       "        given_answer = answer(quiz_id);\n",
       "        if (given_answer == correct_answer)\n",
       "        {\n",
       "            document.getElementById(quiz_id + \"-submit\").value = \"Correct!\";\n",
       "            for (i = 1;; i++) {\n",
       "                checkbox = document.getElementById(quiz_id + \"-\" + i.toString());\n",
       "                label = document.getElementById(quiz_id + \"-\" + i.toString() + \"-label\")\n",
       "                if (!checkbox)\n",
       "                    break;\n",
       "    \n",
       "                if (checkbox.checked) {\n",
       "                    label.style.fontWeight = \"bold\";\n",
       "                }\n",
       "                else {\n",
       "                    label.style.textDecoration = \"line-through\";\n",
       "                }\n",
       "            }\n",
       "        }\n",
       "        else \n",
       "        {\n",
       "            document.getElementById(quiz_id + \"-submit\").value = \"Try again\";\n",
       "            if (!multiple_choice) {\n",
       "                for (i = 1;; i++) {\n",
       "                    checkbox = document.getElementById(quiz_id + \"-\" + i.toString());\n",
       "                    label = document.getElementById(quiz_id + \"-\" + i.toString() + \"-label\")\n",
       "\n",
       "                    if (!checkbox)\n",
       "                        break;\n",
       "                    if (checkbox.checked) {\n",
       "                        label.style.textDecoration = \"line-through\";\n",
       "                    }\n",
       "                }\n",
       "            }\n",
       "        }\n",
       "    }\n",
       "    function clear_selection(quiz_id) {\n",
       "        document.getElementById(quiz_id + \"-submit\").value = \"Submit\";\n",
       "    }\n",
       "    </script>\n",
       "    \n",
       "    <div class=\"quiz\">\n",
       "    <h3 class=\"quiz_title\">Quiz</h3>\n",
       "    <p>\n",
       "    <div class=\"quiz_question\">Why does the first line <code>tag = False</code> not influence anything?</div>\n",
       "    </p>\n",
       "    <p>\n",
       "    <div class=\"quiz_options\" title=\"Pick a choice.\">\n",
       "    \n",
       "        <input type=\"radio\" name=\"fa5e6076-529f-11eb-8163-225582d40c1b\" id=\"fa5e6076-529f-11eb-8163-225582d40c1b-1\" onclick=\"clear_selection('fa5e6076-529f-11eb-8163-225582d40c1b')\">\n",
       "        <label id=\"fa5e6076-529f-11eb-8163-225582d40c1b-1-label\" for=\"fa5e6076-529f-11eb-8163-225582d40c1b-1\">Because the input contains only tags</label><br>\n",
       "    \n",
       "        <input type=\"radio\" name=\"fa5e6076-529f-11eb-8163-225582d40c1b\" id=\"fa5e6076-529f-11eb-8163-225582d40c1b-2\" onclick=\"clear_selection('fa5e6076-529f-11eb-8163-225582d40c1b')\">\n",
       "        <label id=\"fa5e6076-529f-11eb-8163-225582d40c1b-2-label\" for=\"fa5e6076-529f-11eb-8163-225582d40c1b-2\">Because <code>tag</code> is set to True with the first character</label><br>\n",
       "    \n",
       "        <input type=\"radio\" name=\"fa5e6076-529f-11eb-8163-225582d40c1b\" id=\"fa5e6076-529f-11eb-8163-225582d40c1b-3\" onclick=\"clear_selection('fa5e6076-529f-11eb-8163-225582d40c1b')\">\n",
       "        <label id=\"fa5e6076-529f-11eb-8163-225582d40c1b-3-label\" for=\"fa5e6076-529f-11eb-8163-225582d40c1b-3\">Because <code>tag</code> is not read by any variable</label><br>\n",
       "    \n",
       "        <input type=\"radio\" name=\"fa5e6076-529f-11eb-8163-225582d40c1b\" id=\"fa5e6076-529f-11eb-8163-225582d40c1b-4\" onclick=\"clear_selection('fa5e6076-529f-11eb-8163-225582d40c1b')\">\n",
       "        <label id=\"fa5e6076-529f-11eb-8163-225582d40c1b-4-label\" for=\"fa5e6076-529f-11eb-8163-225582d40c1b-4\">Because the input contains no tags</label><br>\n",
       "    \n",
       "    </div>\n",
       "    </p>\n",
       "    <input id=\"fa5e6076-529f-11eb-8163-225582d40c1b-submit\" type=\"submit\" value=\"Submit\" onclick=\"check_selection('fa5e6076-529f-11eb-8163-225582d40c1b', 4, 0)\">\n",
       "    </div>\n",
       "    "
      ],
      "text/plain": [
       "<IPython.core.display.HTML object>"
      ]
     },
     "execution_count": 49,
     "metadata": {},
     "output_type": "execute_result"
    }
   ],
   "source": [
    "quiz(\"Why does the first line `tag = False` not influence anything?\",\n",
    "    [\n",
    "        \"Because the input contains only tags\",\n",
    "        \"Because `tag` is set to True with the first character\",\n",
    "        \"Because `tag` is not read by any variable\",\n",
    "        \"Because the input contains no tags\",\n",
    "    ], (1 << 1 + 1 >> 1))"
   ]
  },
  {
   "cell_type": "markdown",
   "metadata": {
    "slideshow": {
     "slide_type": "subslide"
    }
   },
   "source": [
    "Which are the locations that set `tag` to True? To this end, we compute the slice of `tag` at `tag = True`:"
   ]
  },
  {
   "cell_type": "code",
   "execution_count": 50,
   "metadata": {
    "slideshow": {
     "slide_type": "subslide"
    }
   },
   "outputs": [
    {
     "data": {
      "image/svg+xml": [
       "<?xml version=\"1.0\" encoding=\"UTF-8\" standalone=\"no\"?>\n",
       "<!DOCTYPE svg PUBLIC \"-//W3C//DTD SVG 1.1//EN\"\n",
       " \"http://www.w3.org/Graphics/SVG/1.1/DTD/svg11.dtd\">\n",
       "<!-- Generated by graphviz version 2.40.1 (20161225.0304)\n",
       " -->\n",
       "<!-- Title: dependencies Pages: 1 -->\n",
       "<svg width=\"196pt\" height=\"352pt\"\n",
       " viewBox=\"0.00 0.00 196.00 352.00\" xmlns=\"http://www.w3.org/2000/svg\" xmlns:xlink=\"http://www.w3.org/1999/xlink\">\n",
       "<g id=\"graph0\" class=\"graph\" transform=\"scale(1 1) rotate(0) translate(4 348)\">\n",
       "<title>dependencies</title>\n",
       "<polygon fill=\"#ffffff\" stroke=\"transparent\" points=\"-4,4 -4,-348 192,-348 192,4 -4,4\"/>\n",
       "<!-- quote_functionremove_html_markupat0x7fe3e15c18c8_138 -->\n",
       "<g id=\"node1\" class=\"node\">\n",
       "<title>quote_functionremove_html_markupat0x7fe3e15c18c8_138</title>\n",
       "<g id=\"a_node1\"><a xlink:title=\"remove_html_markup:138\">\n",
       "<polygon fill=\"#ffdab9\" stroke=\"#000000\" points=\"188,-268 101,-268 101,-228 188,-228 188,-268\"/>\n",
       "<text text-anchor=\"start\" x=\"123\" y=\"-253.8\" font-family=\"Fira Mono, Courier, monospace\" font-weight=\"bold\" font-size=\"14.00\" fill=\"#000000\">quote</text>\n",
       "<text text-anchor=\"start\" x=\"109\" y=\"-234.8\" font-family=\"Fira Mono, Courier, monospace\" font-size=\"9.00\" fill=\"#000000\">quote = False</text>\n",
       "</a>\n",
       "</g>\n",
       "</g>\n",
       "<!-- c_functionremove_html_markupat0x7fe3e15c18c8_141 -->\n",
       "<g id=\"node3\" class=\"node\">\n",
       "<title>c_functionremove_html_markupat0x7fe3e15c18c8_141</title>\n",
       "<g id=\"a_node3\"><a xlink:title=\"remove_html_markup:141\">\n",
       "<polygon fill=\"#ffdab9\" stroke=\"#000000\" points=\"116.5,-192 40.5,-192 40.5,-152 116.5,-152 116.5,-192\"/>\n",
       "<text text-anchor=\"start\" x=\"74\" y=\"-177.8\" font-family=\"Fira Mono, Courier, monospace\" font-weight=\"bold\" font-size=\"14.00\" fill=\"#000000\">c</text>\n",
       "<text text-anchor=\"start\" x=\"48.5\" y=\"-158.8\" font-family=\"Fira Mono, Courier, monospace\" font-size=\"9.00\" fill=\"#000000\">for c in s:</text>\n",
       "</a>\n",
       "</g>\n",
       "</g>\n",
       "<!-- quote_functionremove_html_markupat0x7fe3e15c18c8_138&#45;&gt;c_functionremove_html_markupat0x7fe3e15c18c8_141 -->\n",
       "<!-- test_functionremove_html_markupat0x7fe3e15c18c8_144 -->\n",
       "<g id=\"node4\" class=\"node\">\n",
       "<title>test_functionremove_html_markupat0x7fe3e15c18c8_144</title>\n",
       "<g id=\"a_node4\"><a xlink:title=\"remove_html_markup:144\">\n",
       "<polygon fill=\"#ffdab9\" stroke=\"#000000\" points=\"157,-116 0,-116 0,-76 157,-76 157,-116\"/>\n",
       "<text text-anchor=\"start\" x=\"53\" y=\"-101.8\" font-family=\"Fira Mono, Courier, monospace\" font-weight=\"bold\" font-style=\"italic\" font-size=\"14.00\" fill=\"#000000\">&lt;test&gt;</text>\n",
       "<text text-anchor=\"start\" x=\"8\" y=\"-82.8\" font-family=\"Fira Mono, Courier, monospace\" font-size=\"9.00\" fill=\"#000000\">if c == &#39;&lt;&#39; and not quote:</text>\n",
       "</a>\n",
       "</g>\n",
       "</g>\n",
       "<!-- quote_functionremove_html_markupat0x7fe3e15c18c8_138&#45;&gt;test_functionremove_html_markupat0x7fe3e15c18c8_144 -->\n",
       "<g id=\"edge2\" class=\"edge\">\n",
       "<title>quote_functionremove_html_markupat0x7fe3e15c18c8_138&#45;&gt;test_functionremove_html_markupat0x7fe3e15c18c8_144</title>\n",
       "<path fill=\"none\" stroke=\"#000000\" d=\"M143.4437,-227.9674C141.7314,-207.8864 137.2461,-176.5152 125.5,-152 120.6788,-141.9378 113.6268,-132.1828 106.4445,-123.7107\"/>\n",
       "<polygon fill=\"#000000\" stroke=\"#000000\" points=\"108.8521,-121.1515 99.587,-116.0127 103.6253,-125.8078 108.8521,-121.1515\"/>\n",
       "</g>\n",
       "<!-- s_functionremove_html_markupat0x7fe3e15c18c8_136 -->\n",
       "<g id=\"node2\" class=\"node\">\n",
       "<title>s_functionremove_html_markupat0x7fe3e15c18c8_136</title>\n",
       "<g id=\"a_node2\"><a xlink:title=\"remove_html_markup:136\">\n",
       "<polygon fill=\"#ffdab9\" stroke=\"#000000\" points=\"187,-344 30,-344 30,-304 187,-304 187,-344\"/>\n",
       "<text text-anchor=\"start\" x=\"104\" y=\"-329.8\" font-family=\"Fira Mono, Courier, monospace\" font-weight=\"bold\" font-size=\"14.00\" fill=\"#000000\">s</text>\n",
       "<text text-anchor=\"start\" x=\"38\" y=\"-310.8\" font-family=\"Fira Mono, Courier, monospace\" font-size=\"9.00\" fill=\"#000000\">def remove_html_markup(s):</text>\n",
       "</a>\n",
       "</g>\n",
       "</g>\n",
       "<!-- s_functionremove_html_markupat0x7fe3e15c18c8_136&#45;&gt;quote_functionremove_html_markupat0x7fe3e15c18c8_138 -->\n",
       "<!-- s_functionremove_html_markupat0x7fe3e15c18c8_136&#45;&gt;c_functionremove_html_markupat0x7fe3e15c18c8_141 -->\n",
       "<g id=\"edge1\" class=\"edge\">\n",
       "<title>s_functionremove_html_markupat0x7fe3e15c18c8_136&#45;&gt;c_functionremove_html_markupat0x7fe3e15c18c8_141</title>\n",
       "<path fill=\"none\" stroke=\"#000000\" d=\"M101.5732,-303.9875C98.1252,-293.3971 94.1405,-280.1111 91.5,-268 86.7459,-246.1945 83.4275,-221.2013 81.3337,-202.1837\"/>\n",
       "<polygon fill=\"#000000\" stroke=\"#000000\" points=\"84.7918,-201.5999 80.268,-192.0194 77.8299,-202.3299 84.7918,-201.5999\"/>\n",
       "</g>\n",
       "<!-- c_functionremove_html_markupat0x7fe3e15c18c8_141&#45;&gt;test_functionremove_html_markupat0x7fe3e15c18c8_144 -->\n",
       "<g id=\"edge3\" class=\"edge\">\n",
       "<title>c_functionremove_html_markupat0x7fe3e15c18c8_141&#45;&gt;test_functionremove_html_markupat0x7fe3e15c18c8_144</title>\n",
       "<path fill=\"none\" stroke=\"#000000\" d=\"M72.4426,-151.6334C71.7819,-143.8186 71.5939,-134.7253 71.8786,-126.183\"/>\n",
       "<polygon fill=\"#000000\" stroke=\"#000000\" points=\"75.375,-126.3453 72.4602,-116.1593 68.3867,-125.9397 75.375,-126.3453\"/>\n",
       "</g>\n",
       "<!-- c_functionremove_html_markupat0x7fe3e15c18c8_141&#45;&gt;test_functionremove_html_markupat0x7fe3e15c18c8_144 -->\n",
       "<!-- tag_functionremove_html_markupat0x7fe3e15c18c8_145 -->\n",
       "<g id=\"node5\" class=\"node\">\n",
       "<title>tag_functionremove_html_markupat0x7fe3e15c18c8_145</title>\n",
       "<g id=\"a_node5\"><a xlink:title=\"remove_html_markup:145\">\n",
       "<polygon fill=\"#ffdab9\" stroke=\"#000000\" points=\"114,-40 43,-40 43,0 114,0 114,-40\"/>\n",
       "<text text-anchor=\"start\" x=\"65.5\" y=\"-25.8\" font-family=\"Fira Mono, Courier, monospace\" font-weight=\"bold\" font-size=\"14.00\" fill=\"#000000\">tag</text>\n",
       "<text text-anchor=\"start\" x=\"51\" y=\"-6.8\" font-family=\"Fira Mono, Courier, monospace\" font-size=\"9.00\" fill=\"#000000\">tag = True</text>\n",
       "</a>\n",
       "</g>\n",
       "</g>\n",
       "<!-- test_functionremove_html_markupat0x7fe3e15c18c8_144&#45;&gt;tag_functionremove_html_markupat0x7fe3e15c18c8_145 -->\n",
       "<g id=\"edge4\" class=\"edge\">\n",
       "<title>test_functionremove_html_markupat0x7fe3e15c18c8_144&#45;&gt;tag_functionremove_html_markupat0x7fe3e15c18c8_145</title>\n",
       "<path fill=\"none\" stroke=\"#c0c0c0\" stroke-dasharray=\"5,2\" d=\"M72.4426,-75.6334C71.7819,-67.8186 71.5939,-58.7253 71.8786,-50.183\"/>\n",
       "<polygon fill=\"#c0c0c0\" stroke=\"#c0c0c0\" points=\"75.375,-50.3453 72.4602,-40.1593 68.3867,-49.9397 75.375,-50.3453\"/>\n",
       "</g>\n",
       "<!-- test_functionremove_html_markupat0x7fe3e15c18c8_144&#45;&gt;tag_functionremove_html_markupat0x7fe3e15c18c8_145 -->\n",
       "</g>\n",
       "</svg>\n"
      ],
      "text/plain": [
       "Dependencies(\n",
       "    data={\n",
       "        ('tag', (remove_html_markup, 145)): set(),\n",
       "        ('<test>', (remove_html_markup, 144)): {('quote', (remove_html_markup, 138)), ('c', (remove_html_markup, 141))},\n",
       "        ('quote', (remove_html_markup, 138)): set(),\n",
       "        ('c', (remove_html_markup, 141)): {('s', (remove_html_markup, 136))},\n",
       "        ('s', (remove_html_markup, 136)): set()},\n",
       " control={\n",
       "        ('tag', (remove_html_markup, 145)): {('<test>', (remove_html_markup, 144))},\n",
       "        ('<test>', (remove_html_markup, 144)): set(),\n",
       "        ('quote', (remove_html_markup, 138)): set(),\n",
       "        ('c', (remove_html_markup, 141)): set(),\n",
       "        ('s', (remove_html_markup, 136)): set()})"
      ]
     },
     "execution_count": 50,
     "metadata": {},
     "output_type": "execute_result"
    }
   ],
   "source": [
    "# ignore\n",
    "tag_deps = Dependencies({('tag', (remove_html_markup, 145)): set(), ('<test>', (remove_html_markup, 144)): {('quote', (remove_html_markup, 138)), ('c', (remove_html_markup, 141))}, ('quote', (remove_html_markup, 138)): set(), ('c', (remove_html_markup, 141)): {('s', (remove_html_markup, 136))}, ('s', (remove_html_markup, 136)): set()}, {('tag', (remove_html_markup, 145)): {('<test>', (remove_html_markup, 144))}, ('<test>', (remove_html_markup, 144)): set(), ('quote', (remove_html_markup, 138)): set(), ('c', (remove_html_markup, 141)): set(), ('s', (remove_html_markup, 136)): set()})\n",
    "tag_deps"
   ]
  },
  {
   "cell_type": "markdown",
   "metadata": {
    "slideshow": {
     "slide_type": "subslide"
    }
   },
   "source": [
    "We see where the value of `tag` comes from: from the characters `c` in `s` as well as `quote`, which all cause it to be set. Again, we can combine these dependencies and the listing in a single, compact view. Note, again, that there are no other locations in the code that could possibly have affected `tag` in our run."
   ]
  },
  {
   "cell_type": "code",
   "execution_count": 51,
   "metadata": {
    "slideshow": {
     "slide_type": "subslide"
    }
   },
   "outputs": [
    {
     "name": "stdout",
     "output_type": "stream",
     "text": [
      "*  136 \u001b[34mdef\u001b[39;49;00m \u001b[32mremove_html_markup\u001b[39;49;00m(s):\n",
      "   137     tag = \u001b[34mFalse\u001b[39;49;00m\n",
      "*  138     quote = \u001b[34mFalse\u001b[39;49;00m\n",
      "   139     out = \u001b[33m\"\u001b[39;49;00m\u001b[33m\"\u001b[39;49;00m\n",
      "   140 \n",
      "*  141     \u001b[34mfor\u001b[39;49;00m c \u001b[35min\u001b[39;49;00m s:  \u001b[37m# <= s (136)\u001b[39;49;00m\n",
      "   142         \u001b[34massert\u001b[39;49;00m tag \u001b[35mor\u001b[39;49;00m \u001b[35mnot\u001b[39;49;00m quote\n",
      "   143 \n",
      "*  144         \u001b[34mif\u001b[39;49;00m c == \u001b[33m'\u001b[39;49;00m\u001b[33m<\u001b[39;49;00m\u001b[33m'\u001b[39;49;00m \u001b[35mand\u001b[39;49;00m \u001b[35mnot\u001b[39;49;00m quote:  \u001b[37m# <= quote (138), c (141)\u001b[39;49;00m\n",
      "*  145             tag = \u001b[34mTrue\u001b[39;49;00m  \u001b[37m# <- <test> (144)\u001b[39;49;00m\n",
      "   146         \u001b[34melif\u001b[39;49;00m c == \u001b[33m'\u001b[39;49;00m\u001b[33m>\u001b[39;49;00m\u001b[33m'\u001b[39;49;00m \u001b[35mand\u001b[39;49;00m \u001b[35mnot\u001b[39;49;00m quote:\n",
      "   147             tag = \u001b[34mFalse\u001b[39;49;00m\n",
      "   148         \u001b[34melif\u001b[39;49;00m (c == \u001b[33m'\u001b[39;49;00m\u001b[33m\"\u001b[39;49;00m\u001b[33m'\u001b[39;49;00m \u001b[35mor\u001b[39;49;00m c == \u001b[33m\"\u001b[39;49;00m\u001b[33m'\u001b[39;49;00m\u001b[33m\"\u001b[39;49;00m) \u001b[35mand\u001b[39;49;00m tag:\n",
      "   149             quote = \u001b[35mnot\u001b[39;49;00m quote\n",
      "   150         \u001b[34melif\u001b[39;49;00m \u001b[35mnot\u001b[39;49;00m tag:\n",
      "   151             out = out + c\n",
      "   152 \n",
      "   153     \u001b[34mreturn\u001b[39;49;00m out\n"
     ]
    }
   ],
   "source": [
    "# ignore\n",
    "tag_deps.code()"
   ]
  },
  {
   "cell_type": "code",
   "execution_count": 52,
   "metadata": {
    "slideshow": {
     "slide_type": "subslide"
    }
   },
   "outputs": [
    {
     "data": {
      "text/html": [
       "\n",
       "    \n",
       "    <script>\n",
       "    function answer(quiz_id) {\n",
       "        ans = 0;\n",
       "        for (i = 1;; i++) {\n",
       "            checkbox = document.getElementById(quiz_id + \"-\" + i.toString());\n",
       "            if (!checkbox)\n",
       "                break;\n",
       "            if (checkbox.checked)\n",
       "                ans |= (1 << i);\n",
       "        }\n",
       "        return ans;\n",
       "    }\n",
       "    function check_selection(quiz_id, correct_answer, multiple_choice) {\n",
       "        given_answer = answer(quiz_id);\n",
       "        if (given_answer == correct_answer)\n",
       "        {\n",
       "            document.getElementById(quiz_id + \"-submit\").value = \"Correct!\";\n",
       "            for (i = 1;; i++) {\n",
       "                checkbox = document.getElementById(quiz_id + \"-\" + i.toString());\n",
       "                label = document.getElementById(quiz_id + \"-\" + i.toString() + \"-label\")\n",
       "                if (!checkbox)\n",
       "                    break;\n",
       "    \n",
       "                if (checkbox.checked) {\n",
       "                    label.style.fontWeight = \"bold\";\n",
       "                }\n",
       "                else {\n",
       "                    label.style.textDecoration = \"line-through\";\n",
       "                }\n",
       "            }\n",
       "        }\n",
       "        else \n",
       "        {\n",
       "            document.getElementById(quiz_id + \"-submit\").value = \"Try again\";\n",
       "            if (!multiple_choice) {\n",
       "                for (i = 1;; i++) {\n",
       "                    checkbox = document.getElementById(quiz_id + \"-\" + i.toString());\n",
       "                    label = document.getElementById(quiz_id + \"-\" + i.toString() + \"-label\")\n",
       "\n",
       "                    if (!checkbox)\n",
       "                        break;\n",
       "                    if (checkbox.checked) {\n",
       "                        label.style.textDecoration = \"line-through\";\n",
       "                    }\n",
       "                }\n",
       "            }\n",
       "        }\n",
       "    }\n",
       "    function clear_selection(quiz_id) {\n",
       "        document.getElementById(quiz_id + \"-submit\").value = \"Submit\";\n",
       "    }\n",
       "    </script>\n",
       "    \n",
       "    <div class=\"quiz\">\n",
       "    <h3 class=\"quiz_title\">Quiz</h3>\n",
       "    <p>\n",
       "    <div class=\"quiz_question\">How does the slice of <code>tag = True</code> change for a different value of <code>s</code>?</div>\n",
       "    </p>\n",
       "    <p>\n",
       "    <div class=\"quiz_options\" title=\"Check all that apply.\">\n",
       "    \n",
       "        <input type=\"checkbox\" name=\"facf5178-529f-11eb-9732-225582d40c1b\" id=\"facf5178-529f-11eb-9732-225582d40c1b-1\" onclick=\"clear_selection('facf5178-529f-11eb-9732-225582d40c1b')\">\n",
       "        <label id=\"facf5178-529f-11eb-9732-225582d40c1b-1-label\" for=\"facf5178-529f-11eb-9732-225582d40c1b-1\">Not at all</label><br>\n",
       "    \n",
       "        <input type=\"checkbox\" name=\"facf5178-529f-11eb-9732-225582d40c1b\" id=\"facf5178-529f-11eb-9732-225582d40c1b-2\" onclick=\"clear_selection('facf5178-529f-11eb-9732-225582d40c1b')\">\n",
       "        <label id=\"facf5178-529f-11eb-9732-225582d40c1b-2-label\" for=\"facf5178-529f-11eb-9732-225582d40c1b-2\">If <code>s</code> contains a quote, the <code>quote</code> slice is included, too</label><br>\n",
       "    \n",
       "        <input type=\"checkbox\" name=\"facf5178-529f-11eb-9732-225582d40c1b\" id=\"facf5178-529f-11eb-9732-225582d40c1b-3\" onclick=\"clear_selection('facf5178-529f-11eb-9732-225582d40c1b')\">\n",
       "        <label id=\"facf5178-529f-11eb-9732-225582d40c1b-3-label\" for=\"facf5178-529f-11eb-9732-225582d40c1b-3\">If <code>s</code> contains no HTML tag, the slice will be empty</label><br>\n",
       "    \n",
       "    </div>\n",
       "    </p>\n",
       "    <input id=\"facf5178-529f-11eb-9732-225582d40c1b-submit\" type=\"submit\" value=\"Submit\" onclick=\"check_selection('facf5178-529f-11eb-9732-225582d40c1b', 12, 1)\">\n",
       "    </div>\n",
       "    "
      ],
      "text/plain": [
       "<IPython.core.display.HTML object>"
      ]
     },
     "execution_count": 52,
     "metadata": {},
     "output_type": "execute_result"
    }
   ],
   "source": [
    "quiz(\"How does the slice of `tag = True` change \"\n",
    "     \"for a different value of `s`?\",\n",
    "    [\n",
    "        \"Not at all\",\n",
    "        \"If `s` contains a quote, the `quote` slice is included, too\",\n",
    "        \"If `s` contains no HTML tag, the slice will be empty\"\n",
    "    ], \n",
    "     [1, 2, 3][1:])"
   ]
  },
  {
   "cell_type": "markdown",
   "metadata": {
    "slideshow": {
     "slide_type": "fragment"
    }
   },
   "source": [
    "Indeed, our dynamic slices reflect dependencies as they occurred within a single execution. As the execution changes, so do the dependencies."
   ]
  },
  {
   "cell_type": "markdown",
   "metadata": {
    "slideshow": {
     "slide_type": "slide"
    }
   },
   "source": [
    "## Tracking Techniques\n",
    "\n",
    "For the remainder of this chapter, let us investigate means to _determine such dependencies_ automatically – by _collecting_ them during program execution. The idea is that with a single Python call, we can collect the dependencies for some computation, and present them to programmers – as graphs or as code annotations, as shown above."
   ]
  },
  {
   "cell_type": "markdown",
   "metadata": {
    "slideshow": {
     "slide_type": "fragment"
    }
   },
   "source": [
    "To track dependencies, for every variable, we need to keep track of its _origins_ – where it obtained its value, and which tests controlled its assignments. There are two ways to do so:\n",
    "\n",
    "* Wrapping Data Objects\n",
    "* Wrapping Data Accesses"
   ]
  },
  {
   "cell_type": "markdown",
   "metadata": {
    "slideshow": {
     "slide_type": "subslide"
    }
   },
   "source": [
    "### Wrapping Data Objects"
   ]
  },
  {
   "cell_type": "markdown",
   "metadata": {
    "slideshow": {
     "slide_type": "subslide"
    }
   },
   "source": [
    "One way to track origins is to _wrap_ each value in a class that stores both a value and the origin of the value. If a variable `x` is initialized to zero in Line 3, for instance, we could store it as\n",
    "```\n",
    "x = (value=0, origin=<Line 3>)\n",
    "```\n",
    "and if it is copied in, say, Line 5 to another variable `y`, we could store this as\n",
    "```\n",
    "y = (value=0, origin=<Line 3, Line 5>)\n",
    "```\n",
    "Such a scheme would allow us to track origins and dependencies right within the variable."
   ]
  },
  {
   "cell_type": "markdown",
   "metadata": {
    "slideshow": {
     "slide_type": "subslide"
    }
   },
   "source": [
    "In a language like Python, it is actually possibly to subclass from basic types. Here's how we create a `MyInt` subclass of `int`:"
   ]
  },
  {
   "cell_type": "code",
   "execution_count": 53,
   "metadata": {
    "slideshow": {
     "slide_type": "fragment"
    }
   },
   "outputs": [],
   "source": [
    "class MyInt(int):\n",
    "    def __new__(cls, value, *args, **kwargs):\n",
    "        return super(cls, cls).__new__(cls, value)\n",
    "\n",
    "    def __repr__(self):\n",
    "        return f\"{int(self)}\""
   ]
  },
  {
   "cell_type": "code",
   "execution_count": 54,
   "metadata": {
    "slideshow": {
     "slide_type": "fragment"
    }
   },
   "outputs": [],
   "source": [
    "x = MyInt(5)"
   ]
  },
  {
   "cell_type": "markdown",
   "metadata": {
    "slideshow": {
     "slide_type": "fragment"
    }
   },
   "source": [
    "We can access `x` just like any integer:"
   ]
  },
  {
   "cell_type": "code",
   "execution_count": 55,
   "metadata": {
    "slideshow": {
     "slide_type": "fragment"
    }
   },
   "outputs": [
    {
     "data": {
      "text/plain": [
       "(5, 6)"
      ]
     },
     "execution_count": 55,
     "metadata": {},
     "output_type": "execute_result"
    }
   ],
   "source": [
    "x, x + 1"
   ]
  },
  {
   "cell_type": "markdown",
   "metadata": {
    "slideshow": {
     "slide_type": "fragment"
    }
   },
   "source": [
    "However, we can also add extra attributes to it:"
   ]
  },
  {
   "cell_type": "code",
   "execution_count": 56,
   "metadata": {
    "slideshow": {
     "slide_type": "fragment"
    }
   },
   "outputs": [],
   "source": [
    "x.origin = \"Line 5\""
   ]
  },
  {
   "cell_type": "code",
   "execution_count": 57,
   "metadata": {
    "slideshow": {
     "slide_type": "subslide"
    }
   },
   "outputs": [
    {
     "data": {
      "text/plain": [
       "'Line 5'"
      ]
     },
     "execution_count": 57,
     "metadata": {},
     "output_type": "execute_result"
    }
   ],
   "source": [
    "x.origin"
   ]
  },
  {
   "cell_type": "markdown",
   "metadata": {
    "slideshow": {
     "slide_type": "subslide"
    }
   },
   "source": [
    "Such a \"wrapping\" scheme has the advantage of _leaving program code untouched_ – simply pass \"wrapped\" objects instead of the original values. However, it also has a number of drawbacks.\n",
    "\n",
    "* First, we must make sure that the \"wrapper\" objects are still compatible with the original values – notably by converting them back whenever needed. (What happens if an internal Python function expects an `int` and gets a `MyInt` instead?)\n",
    "* Second, we have to make sure that origins do not get lost during computations – which involves overloading operators such as `+`, `-`, `*`, and so on. (Right now, `MyInt(1) + 1` gives us an `int` object, not a `MyInt`.)\n",
    "* Third, we have to do this for _all_ data types of a language, which is pretty tedious.\n",
    "* Fourth and last, however, we want to track whenever a value is assigned to another variable. Python has no support for this, and thus our dependencies will necessarily be incomplete."
   ]
  },
  {
   "cell_type": "markdown",
   "metadata": {
    "slideshow": {
     "slide_type": "subslide"
    }
   },
   "source": [
    "### Wrapping Data Accesses"
   ]
  },
  {
   "cell_type": "markdown",
   "metadata": {
    "slideshow": {
     "slide_type": "subslide"
    }
   },
   "source": [
    "An alternate way of tracking origins is to _instrument_ the source code such that all _data read and write operations are tracked_. That is, the original data stays unchanged, but we change the code instead.\n",
    "\n",
    "In essence, for every occurrence of a variable `x` being _read_, we replace it with\n",
    "\n",
    "```python\n",
    "_data.get('x', x)  # returns x\n",
    "```\n",
    "\n",
    "and for every occurrence of a value being _written_ to `x`, we replace the value with\n",
    "\n",
    "```python\n",
    "_data.set('x', value)  # returns value\n",
    "```\n",
    "\n",
    "and let the `_data` object track these reads and writes.\n",
    "\n",
    "Hence, an assignment such as \n",
    "\n",
    "```python\n",
    "a = b + c\n",
    "```\n",
    "\n",
    "would get rewritten to\n",
    "\n",
    "```python\n",
    "a = _data.set('a', _data.get('b', b) + _data.get('c', c))\n",
    "```\n",
    "\n",
    "and with every access to `_data`, we would track \n",
    "\n",
    "1. the current _location_ in the code, and \n",
    "2. whether the respective variable was read or written.\n",
    "\n",
    "For the above statement, we could deduce that `b` and `c` were read, and `a` was written – which makes `a` data dependent on `b` and `c`."
   ]
  },
  {
   "cell_type": "markdown",
   "metadata": {
    "slideshow": {
     "slide_type": "subslide"
    }
   },
   "source": [
    "The advantage of such instrumentation is that it works with _arbitrary objects_ (in Python, that is) – we do not case whether `a`, `b`, and `c` would be integers, floats, strings, lists. or any other type for which `+` would be defined. Also, the code semantics remain entirely unchanged.\n",
    "\n",
    "The disadvantage, however, is that it takes a bit of effort to exactly separate reads and writes into individual groups, and that a number of language features have to be handled separately. This is what we do in the remainder of this chapter."
   ]
  },
  {
   "cell_type": "markdown",
   "metadata": {
    "slideshow": {
     "slide_type": "slide"
    }
   },
   "source": [
    "## A Data Tracker\n",
    "\n",
    "To implement `_data` accesses as shown above, we introduce the `DataTracker` class. As its name suggests, it keeps track of variables being read and written, and provides methods to determine the code location where this tool place."
   ]
  },
  {
   "cell_type": "code",
   "execution_count": 58,
   "metadata": {
    "slideshow": {
     "slide_type": "fragment"
    }
   },
   "outputs": [],
   "source": [
    "class DataTracker(object):\n",
    "    def __init__(self, log=False):\n",
    "        \"\"\"Initialize. If `log` is set, turn on logging.\"\"\"\n",
    "        self.log = log"
   ]
  },
  {
   "cell_type": "code",
   "execution_count": 59,
   "metadata": {
    "slideshow": {
     "slide_type": "fragment"
    }
   },
   "outputs": [],
   "source": [
    "class DataTracker(DataTracker, StackInspector):\n",
    "    pass"
   ]
  },
  {
   "cell_type": "markdown",
   "metadata": {
    "slideshow": {
     "slide_type": "subslide"
    }
   },
   "source": [
    "`set()` is invoked when a variable is set, as in\n",
    "\n",
    "```python\n",
    "pi = _data.set('pi', 3.1415)\n",
    "```\n",
    "\n",
    "By default, we simply log the access."
   ]
  },
  {
   "cell_type": "code",
   "execution_count": 60,
   "metadata": {
    "slideshow": {
     "slide_type": "subslide"
    }
   },
   "outputs": [],
   "source": [
    "class DataTracker(DataTracker):\n",
    "    def set(self, name, value, loads=None):\n",
    "        \"\"\"Track setting `name` to `value`.\"\"\"\n",
    "        if self.log:\n",
    "            caller_func, lineno = self.caller_location()\n",
    "            print(f\"{caller_func.__name__}:{lineno}: setting {name}\")\n",
    "\n",
    "        return value"
   ]
  },
  {
   "cell_type": "markdown",
   "metadata": {
    "slideshow": {
     "slide_type": "fragment"
    }
   },
   "source": [
    "`get()` is invoked when a variable is retrieved, as in\n",
    "\n",
    "```python\n",
    "print(_data.get('pi', pi))\n",
    "```\n",
    "By default, we simply log the access."
   ]
  },
  {
   "cell_type": "code",
   "execution_count": 61,
   "metadata": {
    "slideshow": {
     "slide_type": "subslide"
    }
   },
   "outputs": [],
   "source": [
    "class DataTracker(DataTracker):\n",
    "    def get(self, name, value):\n",
    "        \"\"\"Track getting `value` from `name`.\"\"\"\n",
    "\n",
    "        if self.log:\n",
    "            caller_func, lineno = self.caller_location()\n",
    "            print(f\"{caller_func.__name__}:{lineno}: getting {name}\")\n",
    "\n",
    "        return value"
   ]
  },
  {
   "cell_type": "code",
   "execution_count": 62,
   "metadata": {
    "slideshow": {
     "slide_type": "fragment"
    }
   },
   "outputs": [],
   "source": [
    "class DataTracker(DataTracker):\n",
    "    def __repr__(self):\n",
    "        return super().__repr__()"
   ]
  },
  {
   "cell_type": "markdown",
   "metadata": {
    "slideshow": {
     "slide_type": "fragment"
    }
   },
   "source": [
    "Here's an example of a logging `DataTracker`:"
   ]
  },
  {
   "cell_type": "code",
   "execution_count": 63,
   "metadata": {
    "slideshow": {
     "slide_type": "subslide"
    }
   },
   "outputs": [
    {
     "name": "stdout",
     "output_type": "stream",
     "text": [
      "<module>:2: setting x\n"
     ]
    }
   ],
   "source": [
    "_test_data = DataTracker(log=True)\n",
    "x = _test_data.set('x', 1)"
   ]
  },
  {
   "cell_type": "code",
   "execution_count": 64,
   "metadata": {
    "slideshow": {
     "slide_type": "fragment"
    }
   },
   "outputs": [
    {
     "name": "stdout",
     "output_type": "stream",
     "text": [
      "<module>:1: getting x\n"
     ]
    },
    {
     "data": {
      "text/plain": [
       "1"
      ]
     },
     "execution_count": 64,
     "metadata": {},
     "output_type": "execute_result"
    }
   ],
   "source": [
    "_test_data.get('x', x)"
   ]
  },
  {
   "cell_type": "markdown",
   "metadata": {
    "slideshow": {
     "slide_type": "slide"
    }
   },
   "source": [
    "## Instrumenting Source Code\n",
    "\n",
    "How do we transform source code such that read and write accesses to variables would be automatically rewritten?  To this end, we inspect the internal representation of source code, namely the _abstract syntax trees_ (ASTs). An AST represents the code as a tree, with specific node types for each syntactical element."
   ]
  },
  {
   "cell_type": "code",
   "execution_count": 65,
   "metadata": {
    "slideshow": {
     "slide_type": "skip"
    }
   },
   "outputs": [],
   "source": [
    "import ast\n",
    "import astor"
   ]
  },
  {
   "cell_type": "code",
   "execution_count": 66,
   "metadata": {
    "slideshow": {
     "slide_type": "skip"
    }
   },
   "outputs": [],
   "source": [
    "from bookutils import show_ast"
   ]
  },
  {
   "cell_type": "markdown",
   "metadata": {
    "slideshow": {
     "slide_type": "fragment"
    }
   },
   "source": [
    "Here is the tree representation for our `middle()` function. It starts with a `FunctionDef` node at the top (with the name `\"middle\"` and the three arguments `x`, `y`, `z` as children), followed by a subtree for each of the `If` statements, each of which contains a branch for when their condition evaluates to`True` and a branch for when their condition evaluates to `False`."
   ]
  },
  {
   "cell_type": "code",
   "execution_count": 67,
   "metadata": {
    "slideshow": {
     "slide_type": "subslide"
    }
   },
   "outputs": [
    {
     "data": {
      "image/svg+xml": [
       "<svg height=\"476pt\" viewBox=\"0.00 0.00 1862.00 476.00\" width=\"1862pt\" xmlns=\"http://www.w3.org/2000/svg\" xmlns:xlink=\"http://www.w3.org/1999/xlink\">\n",
       "<g class=\"graph\" id=\"graph0\" transform=\"scale(1 1) rotate(0) translate(4 472)\">\n",
       "<title>%3</title>\n",
       "<polygon fill=\"#ffffff\" points=\"-4,4 -4,-472 1858,-472 1858,4 -4,4\" stroke=\"transparent\"/>\n",
       "<!-- 0 -->\n",
       "<g class=\"node\" id=\"node1\">\n",
       "<title>0</title>\n",
       "<text fill=\"#004080\" font-family=\"Courier,monospace\" font-size=\"14.00\" font-weight=\"bold\" text-anchor=\"start\" x=\"196.5\" y=\"-447.3\">FunctionDef</text>\n",
       "</g>\n",
       "<!-- 1 -->\n",
       "<g class=\"node\" id=\"node2\">\n",
       "<title>1</title>\n",
       "<text fill=\"#008040\" font-family=\"Courier,monospace\" font-size=\"14.00\" text-anchor=\"middle\" x=\"65\" y=\"-374.3\">&quot;middle&quot;</text>\n",
       "</g>\n",
       "<!-- 0&#45;&#45;1 -->\n",
       "<g class=\"edge\" id=\"edge1\">\n",
       "<title>0--1</title>\n",
       "<path d=\"M247,-432C247,-432 173.6167,-414.0594 116,-396 113.1329,-395.1013 110.1857,-394.1461 107.2233,-393.1625\" fill=\"none\" stroke=\"#000000\"/>\n",
       "</g>\n",
       "<!-- 2 -->\n",
       "<g class=\"node\" id=\"node3\">\n",
       "<title>2</title>\n",
       "<text fill=\"#004080\" font-family=\"Courier,monospace\" font-size=\"14.00\" font-weight=\"bold\" text-anchor=\"start\" x=\"133\" y=\"-375.3\">arguments</text>\n",
       "</g>\n",
       "<!-- 0&#45;&#45;2 -->\n",
       "<g class=\"edge\" id=\"edge2\">\n",
       "<title>0--2</title>\n",
       "<path d=\"M247,-432C247,-432 218.7783,-411.9478 196.7301,-396.2819\" fill=\"none\" stroke=\"#000000\"/>\n",
       "</g>\n",
       "<!-- 9 -->\n",
       "<g class=\"node\" id=\"node10\">\n",
       "<title>9</title>\n",
       "<text fill=\"#004080\" font-family=\"Courier,monospace\" font-size=\"14.00\" font-weight=\"bold\" text-anchor=\"start\" x=\"464.5\" y=\"-375.3\">If</text>\n",
       "</g>\n",
       "<!-- 0&#45;&#45;9 -->\n",
       "<g class=\"edge\" id=\"edge9\">\n",
       "<title>0--9</title>\n",
       "<path d=\"M247,-432C247,-432 385.63,-398.876 445.7391,-384.5137\" fill=\"none\" stroke=\"#000000\"/>\n",
       "</g>\n",
       "<!-- 70 -->\n",
       "<g class=\"node\" id=\"node71\">\n",
       "<title>70</title>\n",
       "<text fill=\"#004080\" font-family=\"Courier,monospace\" font-size=\"14.00\" font-weight=\"bold\" text-anchor=\"start\" x=\"1129.5\" y=\"-375.3\">Return</text>\n",
       "</g>\n",
       "<!-- 0&#45;&#45;70 -->\n",
       "<g class=\"edge\" id=\"edge70\">\n",
       "<title>0--70</title>\n",
       "<path d=\"M247,-432C247,-432 957.0073,-389.7749 1121.3352,-380.0021\" fill=\"none\" stroke=\"#000000\"/>\n",
       "</g>\n",
       "<!-- 3 -->\n",
       "<g class=\"node\" id=\"node4\">\n",
       "<title>3</title>\n",
       "<text fill=\"#004080\" font-family=\"Courier,monospace\" font-size=\"14.00\" font-weight=\"bold\" text-anchor=\"start\" x=\"14\" y=\"-303.3\">arg</text>\n",
       "</g>\n",
       "<!-- 2&#45;&#45;3 -->\n",
       "<g class=\"edge\" id=\"edge3\">\n",
       "<title>2--3</title>\n",
       "<path d=\"M157,-360C157,-360 103.9448,-342.025 63,-324 60.186,-322.7612 57.2759,-321.4165 54.3857,-320.0389\" fill=\"none\" stroke=\"#000000\"/>\n",
       "</g>\n",
       "<!-- 5 -->\n",
       "<g class=\"node\" id=\"node6\">\n",
       "<title>5</title>\n",
       "<text fill=\"#004080\" font-family=\"Courier,monospace\" font-size=\"14.00\" font-weight=\"bold\" text-anchor=\"start\" x=\"86\" y=\"-303.3\">arg</text>\n",
       "</g>\n",
       "<!-- 2&#45;&#45;5 -->\n",
       "<g class=\"edge\" id=\"edge5\">\n",
       "<title>2--5</title>\n",
       "<path d=\"M157,-360C157,-360 135.4624,-339.9478 118.6362,-324.2819\" fill=\"none\" stroke=\"#000000\"/>\n",
       "</g>\n",
       "<!-- 7 -->\n",
       "<g class=\"node\" id=\"node8\">\n",
       "<title>7</title>\n",
       "<text fill=\"#004080\" font-family=\"Courier,monospace\" font-size=\"14.00\" font-weight=\"bold\" text-anchor=\"start\" x=\"158\" y=\"-303.3\">arg</text>\n",
       "</g>\n",
       "<!-- 2&#45;&#45;7 -->\n",
       "<g class=\"edge\" id=\"edge7\">\n",
       "<title>2--7</title>\n",
       "<path d=\"M157,-360C157,-360 162.1987,-339.9478 166.2602,-324.2819\" fill=\"none\" stroke=\"#000000\"/>\n",
       "</g>\n",
       "<!-- 4 -->\n",
       "<g class=\"node\" id=\"node5\">\n",
       "<title>4</title>\n",
       "<text fill=\"#008040\" font-family=\"Courier,monospace\" font-size=\"14.00\" text-anchor=\"middle\" x=\"27\" y=\"-230.3\">&quot;x&quot;</text>\n",
       "</g>\n",
       "<!-- 3&#45;&#45;4 -->\n",
       "<g class=\"edge\" id=\"edge4\">\n",
       "<title>3--4</title>\n",
       "<path d=\"M27,-287.8314C27,-277 27,-263.2876 27,-252.4133\" fill=\"none\" stroke=\"#000000\"/>\n",
       "</g>\n",
       "<!-- 6 -->\n",
       "<g class=\"node\" id=\"node7\">\n",
       "<title>6</title>\n",
       "<text fill=\"#008040\" font-family=\"Courier,monospace\" font-size=\"14.00\" text-anchor=\"middle\" x=\"99\" y=\"-230.3\">&quot;y&quot;</text>\n",
       "</g>\n",
       "<!-- 5&#45;&#45;6 -->\n",
       "<g class=\"edge\" id=\"edge6\">\n",
       "<title>5--6</title>\n",
       "<path d=\"M99,-287.8314C99,-277 99,-263.2876 99,-252.4133\" fill=\"none\" stroke=\"#000000\"/>\n",
       "</g>\n",
       "<!-- 8 -->\n",
       "<g class=\"node\" id=\"node9\">\n",
       "<title>8</title>\n",
       "<text fill=\"#008040\" font-family=\"Courier,monospace\" font-size=\"14.00\" text-anchor=\"middle\" x=\"171\" y=\"-230.3\">&quot;z&quot;</text>\n",
       "</g>\n",
       "<!-- 7&#45;&#45;8 -->\n",
       "<g class=\"edge\" id=\"edge8\">\n",
       "<title>7--8</title>\n",
       "<path d=\"M171,-287.8314C171,-277 171,-263.2876 171,-252.4133\" fill=\"none\" stroke=\"#000000\"/>\n",
       "</g>\n",
       "<!-- 10 -->\n",
       "<g class=\"node\" id=\"node11\">\n",
       "<title>10</title>\n",
       "<text fill=\"#004080\" font-family=\"Courier,monospace\" font-size=\"14.00\" font-weight=\"bold\" text-anchor=\"start\" x=\"321.5\" y=\"-303.3\">Compare</text>\n",
       "</g>\n",
       "<!-- 9&#45;&#45;10 -->\n",
       "<g class=\"edge\" id=\"edge10\">\n",
       "<title>9--10</title>\n",
       "<path d=\"M490,-360C490,-360 429.7808,-336.6055 388.6154,-320.6132\" fill=\"none\" stroke=\"#000000\"/>\n",
       "</g>\n",
       "<!-- 18 -->\n",
       "<g class=\"node\" id=\"node19\">\n",
       "<title>18</title>\n",
       "<text fill=\"#004080\" font-family=\"Courier,monospace\" font-size=\"14.00\" font-weight=\"bold\" text-anchor=\"start\" x=\"594.5\" y=\"-303.3\">If</text>\n",
       "</g>\n",
       "<!-- 9&#45;&#45;18 -->\n",
       "<g class=\"edge\" id=\"edge18\">\n",
       "<title>9--18</title>\n",
       "<path d=\"M490,-360C490,-360 542.5036,-334.9098 575.9337,-318.9343\" fill=\"none\" stroke=\"#000000\"/>\n",
       "</g>\n",
       "<!-- 44 -->\n",
       "<g class=\"node\" id=\"node45\">\n",
       "<title>44</title>\n",
       "<text fill=\"#004080\" font-family=\"Courier,monospace\" font-size=\"14.00\" font-weight=\"bold\" text-anchor=\"start\" x=\"1314.5\" y=\"-303.3\">If</text>\n",
       "</g>\n",
       "<!-- 9&#45;&#45;44 -->\n",
       "<g class=\"edge\" id=\"edge44\">\n",
       "<title>9--44</title>\n",
       "<path d=\"M490,-360C490,-360 1152.1961,-317.0725 1295.7582,-307.766\" fill=\"none\" stroke=\"#000000\"/>\n",
       "</g>\n",
       "<!-- 11 -->\n",
       "<g class=\"node\" id=\"node12\">\n",
       "<title>11</title>\n",
       "<text fill=\"#004080\" font-family=\"Courier,monospace\" font-size=\"14.00\" font-weight=\"bold\" text-anchor=\"start\" x=\"226\" y=\"-231.3\">Name</text>\n",
       "</g>\n",
       "<!-- 10&#45;&#45;11 -->\n",
       "<g class=\"edge\" id=\"edge11\">\n",
       "<title>10--11</title>\n",
       "<path d=\"M345,-288C345,-288 300.2843,-264.327 270.0663,-248.3292\" fill=\"none\" stroke=\"#000000\"/>\n",
       "</g>\n",
       "<!-- 14 -->\n",
       "<g class=\"node\" id=\"node15\">\n",
       "<title>14</title>\n",
       "<text fill=\"#008040\" font-family=\"Courier,monospace\" font-size=\"14.00\" text-anchor=\"middle\" x=\"315\" y=\"-230.3\">Lt</text>\n",
       "</g>\n",
       "<!-- 10&#45;&#45;14 -->\n",
       "<g class=\"edge\" id=\"edge14\">\n",
       "<title>10--14</title>\n",
       "<path d=\"M345,-288C345,-288 333.8599,-267.9478 325.1566,-252.2819\" fill=\"none\" stroke=\"#000000\"/>\n",
       "</g>\n",
       "<!-- 15 -->\n",
       "<g class=\"node\" id=\"node16\">\n",
       "<title>15</title>\n",
       "<text fill=\"#004080\" font-family=\"Courier,monospace\" font-size=\"14.00\" font-weight=\"bold\" text-anchor=\"start\" x=\"370\" y=\"-231.3\">Name</text>\n",
       "</g>\n",
       "<!-- 10&#45;&#45;15 -->\n",
       "<g class=\"edge\" id=\"edge15\">\n",
       "<title>10--15</title>\n",
       "<path d=\"M345,-288C345,-288 360.5962,-267.9478 372.7807,-252.2819\" fill=\"none\" stroke=\"#000000\"/>\n",
       "</g>\n",
       "<!-- 12 -->\n",
       "<g class=\"node\" id=\"node13\">\n",
       "<title>12</title>\n",
       "<text fill=\"#008040\" font-family=\"Courier,monospace\" font-size=\"14.00\" text-anchor=\"middle\" x=\"171\" y=\"-158.3\">&quot;y&quot;</text>\n",
       "</g>\n",
       "<!-- 11&#45;&#45;12 -->\n",
       "<g class=\"edge\" id=\"edge12\">\n",
       "<title>11--12</title>\n",
       "<path d=\"M235,-216C235,-216 211.2344,-195.9478 192.6675,-180.2819\" fill=\"none\" stroke=\"#000000\"/>\n",
       "</g>\n",
       "<!-- 13 -->\n",
       "<g class=\"node\" id=\"node14\">\n",
       "<title>13</title>\n",
       "<text fill=\"#008040\" font-family=\"Courier,monospace\" font-size=\"14.00\" text-anchor=\"middle\" x=\"243\" y=\"-158.3\">Load</text>\n",
       "</g>\n",
       "<!-- 11&#45;&#45;13 -->\n",
       "<g class=\"edge\" id=\"edge13\">\n",
       "<title>11--13</title>\n",
       "<path d=\"M235,-216C235,-216 237.9707,-195.9478 240.2916,-180.2819\" fill=\"none\" stroke=\"#000000\"/>\n",
       "</g>\n",
       "<!-- 16 -->\n",
       "<g class=\"node\" id=\"node17\">\n",
       "<title>16</title>\n",
       "<text fill=\"#008040\" font-family=\"Courier,monospace\" font-size=\"14.00\" text-anchor=\"middle\" x=\"315\" y=\"-158.3\">&quot;z&quot;</text>\n",
       "</g>\n",
       "<!-- 15&#45;&#45;16 -->\n",
       "<g class=\"edge\" id=\"edge16\">\n",
       "<title>15--16</title>\n",
       "<path d=\"M379,-216C379,-216 355.2344,-195.9478 336.6675,-180.2819\" fill=\"none\" stroke=\"#000000\"/>\n",
       "</g>\n",
       "<!-- 17 -->\n",
       "<g class=\"node\" id=\"node18\">\n",
       "<title>17</title>\n",
       "<text fill=\"#008040\" font-family=\"Courier,monospace\" font-size=\"14.00\" text-anchor=\"middle\" x=\"387\" y=\"-158.3\">Load</text>\n",
       "</g>\n",
       "<!-- 15&#45;&#45;17 -->\n",
       "<g class=\"edge\" id=\"edge17\">\n",
       "<title>15--17</title>\n",
       "<path d=\"M379,-216C379,-216 381.9707,-195.9478 384.2916,-180.2819\" fill=\"none\" stroke=\"#000000\"/>\n",
       "</g>\n",
       "<!-- 19 -->\n",
       "<g class=\"node\" id=\"node20\">\n",
       "<title>19</title>\n",
       "<text fill=\"#004080\" font-family=\"Courier,monospace\" font-size=\"14.00\" font-weight=\"bold\" text-anchor=\"start\" x=\"515.5\" y=\"-231.3\">Compare</text>\n",
       "</g>\n",
       "<!-- 18&#45;&#45;19 -->\n",
       "<g class=\"edge\" id=\"edge19\">\n",
       "<title>18--19</title>\n",
       "<path d=\"M613,-288C613,-288 587.749,-267.9478 568.0217,-252.2819\" fill=\"none\" stroke=\"#000000\"/>\n",
       "</g>\n",
       "<!-- 27 -->\n",
       "<g class=\"node\" id=\"node28\">\n",
       "<title>27</title>\n",
       "<text fill=\"#004080\" font-family=\"Courier,monospace\" font-size=\"14.00\" font-weight=\"bold\" text-anchor=\"start\" x=\"635.5\" y=\"-231.3\">Return</text>\n",
       "</g>\n",
       "<!-- 18&#45;&#45;27 -->\n",
       "<g class=\"edge\" id=\"edge27\">\n",
       "<title>18--27</title>\n",
       "<path d=\"M613,-288C613,-288 630.8242,-267.9478 644.7494,-252.2819\" fill=\"none\" stroke=\"#000000\"/>\n",
       "</g>\n",
       "<!-- 31 -->\n",
       "<g class=\"node\" id=\"node32\">\n",
       "<title>31</title>\n",
       "<text fill=\"#004080\" font-family=\"Courier,monospace\" font-size=\"14.00\" font-weight=\"bold\" text-anchor=\"start\" x=\"882.5\" y=\"-231.3\">If</text>\n",
       "</g>\n",
       "<!-- 18&#45;&#45;31 -->\n",
       "<g class=\"edge\" id=\"edge31\">\n",
       "<title>18--31</title>\n",
       "<path d=\"M613,-288C613,-288 793.886,-252.8639 863.838,-239.2761\" fill=\"none\" stroke=\"#000000\"/>\n",
       "</g>\n",
       "<!-- 20 -->\n",
       "<g class=\"node\" id=\"node21\">\n",
       "<title>20</title>\n",
       "<text fill=\"#004080\" font-family=\"Courier,monospace\" font-size=\"14.00\" font-weight=\"bold\" text-anchor=\"start\" x=\"442\" y=\"-159.3\">Name</text>\n",
       "</g>\n",
       "<!-- 19&#45;&#45;20 -->\n",
       "<g class=\"edge\" id=\"edge20\">\n",
       "<title>19--20</title>\n",
       "<path d=\"M542,-216C542,-216 510.3836,-195.4303 486.1773,-179.6816\" fill=\"none\" stroke=\"#000000\"/>\n",
       "</g>\n",
       "<!-- 23 -->\n",
       "<g class=\"node\" id=\"node24\">\n",
       "<title>23</title>\n",
       "<text fill=\"#008040\" font-family=\"Courier,monospace\" font-size=\"14.00\" text-anchor=\"middle\" x=\"531\" y=\"-158.3\">Lt</text>\n",
       "</g>\n",
       "<!-- 19&#45;&#45;23 -->\n",
       "<g class=\"edge\" id=\"edge23\">\n",
       "<title>19--23</title>\n",
       "<path d=\"M542,-216C542,-216 537.9153,-195.9478 534.7241,-180.2819\" fill=\"none\" stroke=\"#000000\"/>\n",
       "</g>\n",
       "<!-- 24 -->\n",
       "<g class=\"node\" id=\"node25\">\n",
       "<title>24</title>\n",
       "<text fill=\"#004080\" font-family=\"Courier,monospace\" font-size=\"14.00\" font-weight=\"bold\" text-anchor=\"start\" x=\"586\" y=\"-159.3\">Name</text>\n",
       "</g>\n",
       "<!-- 19&#45;&#45;24 -->\n",
       "<g class=\"edge\" id=\"edge24\">\n",
       "<title>19--24</title>\n",
       "<path d=\"M542,-216C542,-216 564.6516,-195.9478 582.3482,-180.2819\" fill=\"none\" stroke=\"#000000\"/>\n",
       "</g>\n",
       "<!-- 21 -->\n",
       "<g class=\"node\" id=\"node22\">\n",
       "<title>21</title>\n",
       "<text fill=\"#008040\" font-family=\"Courier,monospace\" font-size=\"14.00\" text-anchor=\"middle\" x=\"387\" y=\"-86.3\">&quot;x&quot;</text>\n",
       "</g>\n",
       "<!-- 20&#45;&#45;21 -->\n",
       "<g class=\"edge\" id=\"edge21\">\n",
       "<title>20--21</title>\n",
       "<path d=\"M451,-144C451,-144 427.2344,-123.9478 408.6675,-108.2819\" fill=\"none\" stroke=\"#000000\"/>\n",
       "</g>\n",
       "<!-- 22 -->\n",
       "<g class=\"node\" id=\"node23\">\n",
       "<title>22</title>\n",
       "<text fill=\"#008040\" font-family=\"Courier,monospace\" font-size=\"14.00\" text-anchor=\"middle\" x=\"459\" y=\"-86.3\">Load</text>\n",
       "</g>\n",
       "<!-- 20&#45;&#45;22 -->\n",
       "<g class=\"edge\" id=\"edge22\">\n",
       "<title>20--22</title>\n",
       "<path d=\"M451,-144C451,-144 453.9707,-123.9478 456.2916,-108.2819\" fill=\"none\" stroke=\"#000000\"/>\n",
       "</g>\n",
       "<!-- 25 -->\n",
       "<g class=\"node\" id=\"node26\">\n",
       "<title>25</title>\n",
       "<text fill=\"#008040\" font-family=\"Courier,monospace\" font-size=\"14.00\" text-anchor=\"middle\" x=\"531\" y=\"-86.3\">&quot;y&quot;</text>\n",
       "</g>\n",
       "<!-- 24&#45;&#45;25 -->\n",
       "<g class=\"edge\" id=\"edge25\">\n",
       "<title>24--25</title>\n",
       "<path d=\"M595,-144C595,-144 571.2344,-123.9478 552.6675,-108.2819\" fill=\"none\" stroke=\"#000000\"/>\n",
       "</g>\n",
       "<!-- 26 -->\n",
       "<g class=\"node\" id=\"node27\">\n",
       "<title>26</title>\n",
       "<text fill=\"#008040\" font-family=\"Courier,monospace\" font-size=\"14.00\" text-anchor=\"middle\" x=\"603\" y=\"-86.3\">Load</text>\n",
       "</g>\n",
       "<!-- 24&#45;&#45;26 -->\n",
       "<g class=\"edge\" id=\"edge26\">\n",
       "<title>24--26</title>\n",
       "<path d=\"M595,-144C595,-144 597.9707,-123.9478 600.2916,-108.2819\" fill=\"none\" stroke=\"#000000\"/>\n",
       "</g>\n",
       "<!-- 28 -->\n",
       "<g class=\"node\" id=\"node29\">\n",
       "<title>28</title>\n",
       "<text fill=\"#004080\" font-family=\"Courier,monospace\" font-size=\"14.00\" font-weight=\"bold\" text-anchor=\"start\" x=\"658\" y=\"-159.3\">Name</text>\n",
       "</g>\n",
       "<!-- 27&#45;&#45;28 -->\n",
       "<g class=\"edge\" id=\"edge28\">\n",
       "<title>27--28</title>\n",
       "<path d=\"M664.5328,-215.8314C666.6389,-205 669.3052,-191.2876 671.4196,-180.4133\" fill=\"none\" stroke=\"#000000\"/>\n",
       "</g>\n",
       "<!-- 29 -->\n",
       "<g class=\"node\" id=\"node30\">\n",
       "<title>29</title>\n",
       "<text fill=\"#008040\" font-family=\"Courier,monospace\" font-size=\"14.00\" text-anchor=\"middle\" x=\"675\" y=\"-86.3\">&quot;y&quot;</text>\n",
       "</g>\n",
       "<!-- 28&#45;&#45;29 -->\n",
       "<g class=\"edge\" id=\"edge29\">\n",
       "<title>28--29</title>\n",
       "<path d=\"M683,-144C683,-144 680.0293,-123.9478 677.7084,-108.2819\" fill=\"none\" stroke=\"#000000\"/>\n",
       "</g>\n",
       "<!-- 30 -->\n",
       "<g class=\"node\" id=\"node31\">\n",
       "<title>30</title>\n",
       "<text fill=\"#008040\" font-family=\"Courier,monospace\" font-size=\"14.00\" text-anchor=\"middle\" x=\"747\" y=\"-86.3\">Load</text>\n",
       "</g>\n",
       "<!-- 28&#45;&#45;30 -->\n",
       "<g class=\"edge\" id=\"edge30\">\n",
       "<title>28--30</title>\n",
       "<path d=\"M683,-144C683,-144 706.7656,-123.9478 725.3325,-108.2819\" fill=\"none\" stroke=\"#000000\"/>\n",
       "</g>\n",
       "<!-- 32 -->\n",
       "<g class=\"node\" id=\"node33\">\n",
       "<title>32</title>\n",
       "<text fill=\"#004080\" font-family=\"Courier,monospace\" font-size=\"14.00\" font-weight=\"bold\" text-anchor=\"start\" x=\"861.5\" y=\"-159.3\">Compare</text>\n",
       "</g>\n",
       "<!-- 31&#45;&#45;32 -->\n",
       "<g class=\"edge\" id=\"edge32\">\n",
       "<title>31--32</title>\n",
       "<path d=\"M901,-216C901,-216 897.2866,-195.9478 894.3855,-180.2819\" fill=\"none\" stroke=\"#000000\"/>\n",
       "</g>\n",
       "<!-- 40 -->\n",
       "<g class=\"node\" id=\"node41\">\n",
       "<title>40</title>\n",
       "<text fill=\"#004080\" font-family=\"Courier,monospace\" font-size=\"14.00\" font-weight=\"bold\" text-anchor=\"start\" x=\"982.5\" y=\"-159.3\">Return</text>\n",
       "</g>\n",
       "<!-- 31&#45;&#45;40 -->\n",
       "<g class=\"edge\" id=\"edge40\">\n",
       "<title>31--40</title>\n",
       "<path d=\"M901,-216C901,-216 943.0585,-194.7742 974.4381,-178.9378\" fill=\"none\" stroke=\"#000000\"/>\n",
       "</g>\n",
       "<!-- 33 -->\n",
       "<g class=\"node\" id=\"node34\">\n",
       "<title>33</title>\n",
       "<text fill=\"#004080\" font-family=\"Courier,monospace\" font-size=\"14.00\" font-weight=\"bold\" text-anchor=\"start\" x=\"802\" y=\"-87.3\">Name</text>\n",
       "</g>\n",
       "<!-- 32&#45;&#45;33 -->\n",
       "<g class=\"edge\" id=\"edge33\">\n",
       "<title>32--33</title>\n",
       "<path d=\"M891,-144C891,-144 864.2637,-123.9478 843.3759,-108.2819\" fill=\"none\" stroke=\"#000000\"/>\n",
       "</g>\n",
       "<!-- 36 -->\n",
       "<g class=\"node\" id=\"node37\">\n",
       "<title>36</title>\n",
       "<text fill=\"#008040\" font-family=\"Courier,monospace\" font-size=\"14.00\" text-anchor=\"middle\" x=\"891\" y=\"-86.3\">Lt</text>\n",
       "</g>\n",
       "<!-- 32&#45;&#45;36 -->\n",
       "<g class=\"edge\" id=\"edge36\">\n",
       "<title>32--36</title>\n",
       "<path d=\"M891,-144C891,-144 891,-123.9478 891,-108.2819\" fill=\"none\" stroke=\"#000000\"/>\n",
       "</g>\n",
       "<!-- 37 -->\n",
       "<g class=\"node\" id=\"node38\">\n",
       "<title>37</title>\n",
       "<text fill=\"#004080\" font-family=\"Courier,monospace\" font-size=\"14.00\" font-weight=\"bold\" text-anchor=\"start\" x=\"946\" y=\"-87.3\">Name</text>\n",
       "</g>\n",
       "<!-- 32&#45;&#45;37 -->\n",
       "<g class=\"edge\" id=\"edge37\">\n",
       "<title>32--37</title>\n",
       "<path d=\"M891,-144C891,-144 917.7363,-123.9478 938.6241,-108.2819\" fill=\"none\" stroke=\"#000000\"/>\n",
       "</g>\n",
       "<!-- 34 -->\n",
       "<g class=\"node\" id=\"node35\">\n",
       "<title>34</title>\n",
       "<text fill=\"#008040\" font-family=\"Courier,monospace\" font-size=\"14.00\" text-anchor=\"middle\" x=\"747\" y=\"-14.3\">&quot;x&quot;</text>\n",
       "</g>\n",
       "<!-- 33&#45;&#45;34 -->\n",
       "<g class=\"edge\" id=\"edge34\">\n",
       "<title>33--34</title>\n",
       "<path d=\"M811,-72C811,-72 787.2344,-51.9478 768.6675,-36.2819\" fill=\"none\" stroke=\"#000000\"/>\n",
       "</g>\n",
       "<!-- 35 -->\n",
       "<g class=\"node\" id=\"node36\">\n",
       "<title>35</title>\n",
       "<text fill=\"#008040\" font-family=\"Courier,monospace\" font-size=\"14.00\" text-anchor=\"middle\" x=\"819\" y=\"-14.3\">Load</text>\n",
       "</g>\n",
       "<!-- 33&#45;&#45;35 -->\n",
       "<g class=\"edge\" id=\"edge35\">\n",
       "<title>33--35</title>\n",
       "<path d=\"M811,-72C811,-72 813.9707,-51.9478 816.2916,-36.2819\" fill=\"none\" stroke=\"#000000\"/>\n",
       "</g>\n",
       "<!-- 38 -->\n",
       "<g class=\"node\" id=\"node39\">\n",
       "<title>38</title>\n",
       "<text fill=\"#008040\" font-family=\"Courier,monospace\" font-size=\"14.00\" text-anchor=\"middle\" x=\"891\" y=\"-14.3\">&quot;z&quot;</text>\n",
       "</g>\n",
       "<!-- 37&#45;&#45;38 -->\n",
       "<g class=\"edge\" id=\"edge38\">\n",
       "<title>37--38</title>\n",
       "<path d=\"M955,-72C955,-72 931.2344,-51.9478 912.6675,-36.2819\" fill=\"none\" stroke=\"#000000\"/>\n",
       "</g>\n",
       "<!-- 39 -->\n",
       "<g class=\"node\" id=\"node40\">\n",
       "<title>39</title>\n",
       "<text fill=\"#008040\" font-family=\"Courier,monospace\" font-size=\"14.00\" text-anchor=\"middle\" x=\"963\" y=\"-14.3\">Load</text>\n",
       "</g>\n",
       "<!-- 37&#45;&#45;39 -->\n",
       "<g class=\"edge\" id=\"edge39\">\n",
       "<title>37--39</title>\n",
       "<path d=\"M955,-72C955,-72 957.9707,-51.9478 960.2916,-36.2819\" fill=\"none\" stroke=\"#000000\"/>\n",
       "</g>\n",
       "<!-- 41 -->\n",
       "<g class=\"node\" id=\"node42\">\n",
       "<title>41</title>\n",
       "<text fill=\"#004080\" font-family=\"Courier,monospace\" font-size=\"14.00\" font-weight=\"bold\" text-anchor=\"start\" x=\"1018\" y=\"-87.3\">Name</text>\n",
       "</g>\n",
       "<!-- 40&#45;&#45;41 -->\n",
       "<g class=\"edge\" id=\"edge41\">\n",
       "<title>40--41</title>\n",
       "<path d=\"M1014.8132,-143.8314C1018.875,-133 1024.0172,-119.2876 1028.095,-108.4133\" fill=\"none\" stroke=\"#000000\"/>\n",
       "</g>\n",
       "<!-- 42 -->\n",
       "<g class=\"node\" id=\"node43\">\n",
       "<title>42</title>\n",
       "<text fill=\"#008040\" font-family=\"Courier,monospace\" font-size=\"14.00\" text-anchor=\"middle\" x=\"1035\" y=\"-14.3\">&quot;y&quot;</text>\n",
       "</g>\n",
       "<!-- 41&#45;&#45;42 -->\n",
       "<g class=\"edge\" id=\"edge42\">\n",
       "<title>41--42</title>\n",
       "<path d=\"M1043,-72C1043,-72 1040.0293,-51.9478 1037.7084,-36.2819\" fill=\"none\" stroke=\"#000000\"/>\n",
       "</g>\n",
       "<!-- 43 -->\n",
       "<g class=\"node\" id=\"node44\">\n",
       "<title>43</title>\n",
       "<text fill=\"#008040\" font-family=\"Courier,monospace\" font-size=\"14.00\" text-anchor=\"middle\" x=\"1107\" y=\"-14.3\">Load</text>\n",
       "</g>\n",
       "<!-- 41&#45;&#45;43 -->\n",
       "<g class=\"edge\" id=\"edge43\">\n",
       "<title>41--43</title>\n",
       "<path d=\"M1043,-72C1043,-72 1066.7656,-51.9478 1085.3325,-36.2819\" fill=\"none\" stroke=\"#000000\"/>\n",
       "</g>\n",
       "<!-- 45 -->\n",
       "<g class=\"node\" id=\"node46\">\n",
       "<title>45</title>\n",
       "<text fill=\"#004080\" font-family=\"Courier,monospace\" font-size=\"14.00\" font-weight=\"bold\" text-anchor=\"start\" x=\"1235.5\" y=\"-231.3\">Compare</text>\n",
       "</g>\n",
       "<!-- 44&#45;&#45;45 -->\n",
       "<g class=\"edge\" id=\"edge45\">\n",
       "<title>44--45</title>\n",
       "<path d=\"M1332,-288C1332,-288 1307.1204,-267.9478 1287.6831,-252.2819\" fill=\"none\" stroke=\"#000000\"/>\n",
       "</g>\n",
       "<!-- 53 -->\n",
       "<g class=\"node\" id=\"node54\">\n",
       "<title>53</title>\n",
       "<text fill=\"#004080\" font-family=\"Courier,monospace\" font-size=\"14.00\" font-weight=\"bold\" text-anchor=\"start\" x=\"1355.5\" y=\"-231.3\">Return</text>\n",
       "</g>\n",
       "<!-- 44&#45;&#45;53 -->\n",
       "<g class=\"edge\" id=\"edge53\">\n",
       "<title>44--53</title>\n",
       "<path d=\"M1332,-288C1332,-288 1350.1956,-267.9478 1364.4108,-252.2819\" fill=\"none\" stroke=\"#000000\"/>\n",
       "</g>\n",
       "<!-- 57 -->\n",
       "<g class=\"node\" id=\"node58\">\n",
       "<title>57</title>\n",
       "<text fill=\"#004080\" font-family=\"Courier,monospace\" font-size=\"14.00\" font-weight=\"bold\" text-anchor=\"start\" x=\"1533.5\" y=\"-231.3\">If</text>\n",
       "</g>\n",
       "<!-- 44&#45;&#45;57 -->\n",
       "<g class=\"edge\" id=\"edge57\">\n",
       "<title>44--57</title>\n",
       "<path d=\"M1332,-288C1332,-288 1458.2584,-255.5335 1514.9761,-240.949\" fill=\"none\" stroke=\"#000000\"/>\n",
       "</g>\n",
       "<!-- 46 -->\n",
       "<g class=\"node\" id=\"node47\">\n",
       "<title>46</title>\n",
       "<text fill=\"#004080\" font-family=\"Courier,monospace\" font-size=\"14.00\" font-weight=\"bold\" text-anchor=\"start\" x=\"1162\" y=\"-159.3\">Name</text>\n",
       "</g>\n",
       "<!-- 45&#45;&#45;46 -->\n",
       "<g class=\"edge\" id=\"edge46\">\n",
       "<title>45--46</title>\n",
       "<path d=\"M1262,-216C1262,-216 1230.3836,-195.4303 1206.1773,-179.6816\" fill=\"none\" stroke=\"#000000\"/>\n",
       "</g>\n",
       "<!-- 49 -->\n",
       "<g class=\"node\" id=\"node50\">\n",
       "<title>49</title>\n",
       "<text fill=\"#008040\" font-family=\"Courier,monospace\" font-size=\"14.00\" text-anchor=\"middle\" x=\"1251\" y=\"-158.3\">Gt</text>\n",
       "</g>\n",
       "<!-- 45&#45;&#45;49 -->\n",
       "<g class=\"edge\" id=\"edge49\">\n",
       "<title>45--49</title>\n",
       "<path d=\"M1262,-216C1262,-216 1257.9153,-195.9478 1254.7241,-180.2819\" fill=\"none\" stroke=\"#000000\"/>\n",
       "</g>\n",
       "<!-- 50 -->\n",
       "<g class=\"node\" id=\"node51\">\n",
       "<title>50</title>\n",
       "<text fill=\"#004080\" font-family=\"Courier,monospace\" font-size=\"14.00\" font-weight=\"bold\" text-anchor=\"start\" x=\"1306\" y=\"-159.3\">Name</text>\n",
       "</g>\n",
       "<!-- 45&#45;&#45;50 -->\n",
       "<g class=\"edge\" id=\"edge50\">\n",
       "<title>45--50</title>\n",
       "<path d=\"M1262,-216C1262,-216 1284.6516,-195.9478 1302.3482,-180.2819\" fill=\"none\" stroke=\"#000000\"/>\n",
       "</g>\n",
       "<!-- 47 -->\n",
       "<g class=\"node\" id=\"node48\">\n",
       "<title>47</title>\n",
       "<text fill=\"#008040\" font-family=\"Courier,monospace\" font-size=\"14.00\" text-anchor=\"middle\" x=\"1107\" y=\"-86.3\">&quot;x&quot;</text>\n",
       "</g>\n",
       "<!-- 46&#45;&#45;47 -->\n",
       "<g class=\"edge\" id=\"edge47\">\n",
       "<title>46--47</title>\n",
       "<path d=\"M1171,-144C1171,-144 1147.2344,-123.9478 1128.6675,-108.2819\" fill=\"none\" stroke=\"#000000\"/>\n",
       "</g>\n",
       "<!-- 48 -->\n",
       "<g class=\"node\" id=\"node49\">\n",
       "<title>48</title>\n",
       "<text fill=\"#008040\" font-family=\"Courier,monospace\" font-size=\"14.00\" text-anchor=\"middle\" x=\"1179\" y=\"-86.3\">Load</text>\n",
       "</g>\n",
       "<!-- 46&#45;&#45;48 -->\n",
       "<g class=\"edge\" id=\"edge48\">\n",
       "<title>46--48</title>\n",
       "<path d=\"M1171,-144C1171,-144 1173.9707,-123.9478 1176.2916,-108.2819\" fill=\"none\" stroke=\"#000000\"/>\n",
       "</g>\n",
       "<!-- 51 -->\n",
       "<g class=\"node\" id=\"node52\">\n",
       "<title>51</title>\n",
       "<text fill=\"#008040\" font-family=\"Courier,monospace\" font-size=\"14.00\" text-anchor=\"middle\" x=\"1251\" y=\"-86.3\">&quot;y&quot;</text>\n",
       "</g>\n",
       "<!-- 50&#45;&#45;51 -->\n",
       "<g class=\"edge\" id=\"edge51\">\n",
       "<title>50--51</title>\n",
       "<path d=\"M1315,-144C1315,-144 1291.2344,-123.9478 1272.6675,-108.2819\" fill=\"none\" stroke=\"#000000\"/>\n",
       "</g>\n",
       "<!-- 52 -->\n",
       "<g class=\"node\" id=\"node53\">\n",
       "<title>52</title>\n",
       "<text fill=\"#008040\" font-family=\"Courier,monospace\" font-size=\"14.00\" text-anchor=\"middle\" x=\"1323\" y=\"-86.3\">Load</text>\n",
       "</g>\n",
       "<!-- 50&#45;&#45;52 -->\n",
       "<g class=\"edge\" id=\"edge52\">\n",
       "<title>50--52</title>\n",
       "<path d=\"M1315,-144C1315,-144 1317.9707,-123.9478 1320.2916,-108.2819\" fill=\"none\" stroke=\"#000000\"/>\n",
       "</g>\n",
       "<!-- 54 -->\n",
       "<g class=\"node\" id=\"node55\">\n",
       "<title>54</title>\n",
       "<text fill=\"#004080\" font-family=\"Courier,monospace\" font-size=\"14.00\" font-weight=\"bold\" text-anchor=\"start\" x=\"1378\" y=\"-159.3\">Name</text>\n",
       "</g>\n",
       "<!-- 53&#45;&#45;54 -->\n",
       "<g class=\"edge\" id=\"edge54\">\n",
       "<title>53--54</title>\n",
       "<path d=\"M1384.5328,-215.8314C1386.6389,-205 1389.3052,-191.2876 1391.4196,-180.4133\" fill=\"none\" stroke=\"#000000\"/>\n",
       "</g>\n",
       "<!-- 55 -->\n",
       "<g class=\"node\" id=\"node56\">\n",
       "<title>55</title>\n",
       "<text fill=\"#008040\" font-family=\"Courier,monospace\" font-size=\"14.00\" text-anchor=\"middle\" x=\"1395\" y=\"-86.3\">&quot;y&quot;</text>\n",
       "</g>\n",
       "<!-- 54&#45;&#45;55 -->\n",
       "<g class=\"edge\" id=\"edge55\">\n",
       "<title>54--55</title>\n",
       "<path d=\"M1403,-144C1403,-144 1400.0293,-123.9478 1397.7084,-108.2819\" fill=\"none\" stroke=\"#000000\"/>\n",
       "</g>\n",
       "<!-- 56 -->\n",
       "<g class=\"node\" id=\"node57\">\n",
       "<title>56</title>\n",
       "<text fill=\"#008040\" font-family=\"Courier,monospace\" font-size=\"14.00\" text-anchor=\"middle\" x=\"1467\" y=\"-86.3\">Load</text>\n",
       "</g>\n",
       "<!-- 54&#45;&#45;56 -->\n",
       "<g class=\"edge\" id=\"edge56\">\n",
       "<title>54--56</title>\n",
       "<path d=\"M1403,-144C1403,-144 1426.7656,-123.9478 1445.3325,-108.2819\" fill=\"none\" stroke=\"#000000\"/>\n",
       "</g>\n",
       "<!-- 58 -->\n",
       "<g class=\"node\" id=\"node59\">\n",
       "<title>58</title>\n",
       "<text fill=\"#004080\" font-family=\"Courier,monospace\" font-size=\"14.00\" font-weight=\"bold\" text-anchor=\"start\" x=\"1547.5\" y=\"-159.3\">Compare</text>\n",
       "</g>\n",
       "<!-- 57&#45;&#45;58 -->\n",
       "<g class=\"edge\" id=\"edge58\">\n",
       "<title>57--58</title>\n",
       "<path d=\"M1561,-216C1561,-216 1566.9414,-195.9478 1571.5831,-180.2819\" fill=\"none\" stroke=\"#000000\"/>\n",
       "</g>\n",
       "<!-- 66 -->\n",
       "<g class=\"node\" id=\"node67\">\n",
       "<title>66</title>\n",
       "<text fill=\"#004080\" font-family=\"Courier,monospace\" font-size=\"14.00\" font-weight=\"bold\" text-anchor=\"start\" x=\"1685.5\" y=\"-159.3\">Return</text>\n",
       "</g>\n",
       "<!-- 57&#45;&#45;66 -->\n",
       "<g class=\"edge\" id=\"edge66\">\n",
       "<title>57--66</title>\n",
       "<path d=\"M1561,-216C1561,-216 1633.1121,-190.0396 1677.3371,-174.1187\" fill=\"none\" stroke=\"#000000\"/>\n",
       "</g>\n",
       "<!-- 59 -->\n",
       "<g class=\"node\" id=\"node60\">\n",
       "<title>59</title>\n",
       "<text fill=\"#004080\" font-family=\"Courier,monospace\" font-size=\"14.00\" font-weight=\"bold\" text-anchor=\"start\" x=\"1522\" y=\"-87.3\">Name</text>\n",
       "</g>\n",
       "<!-- 58&#45;&#45;59 -->\n",
       "<g class=\"edge\" id=\"edge59\">\n",
       "<title>58--59</title>\n",
       "<path d=\"M1583,-144C1583,-144 1566.6611,-123.9478 1553.8964,-108.2819\" fill=\"none\" stroke=\"#000000\"/>\n",
       "</g>\n",
       "<!-- 62 -->\n",
       "<g class=\"node\" id=\"node63\">\n",
       "<title>62</title>\n",
       "<text fill=\"#008040\" font-family=\"Courier,monospace\" font-size=\"14.00\" text-anchor=\"middle\" x=\"1611\" y=\"-86.3\">Gt</text>\n",
       "</g>\n",
       "<!-- 58&#45;&#45;62 -->\n",
       "<g class=\"edge\" id=\"edge62\">\n",
       "<title>58--62</title>\n",
       "<path d=\"M1583,-144C1583,-144 1593.3975,-123.9478 1601.5205,-108.2819\" fill=\"none\" stroke=\"#000000\"/>\n",
       "</g>\n",
       "<!-- 63 -->\n",
       "<g class=\"node\" id=\"node64\">\n",
       "<title>63</title>\n",
       "<text fill=\"#004080\" font-family=\"Courier,monospace\" font-size=\"14.00\" font-weight=\"bold\" text-anchor=\"start\" x=\"1666\" y=\"-87.3\">Name</text>\n",
       "</g>\n",
       "<!-- 58&#45;&#45;63 -->\n",
       "<g class=\"edge\" id=\"edge63\">\n",
       "<title>58--63</title>\n",
       "<path d=\"M1583,-144C1583,-144 1626.3231,-120.6055 1655.9386,-104.6132\" fill=\"none\" stroke=\"#000000\"/>\n",
       "</g>\n",
       "<!-- 60 -->\n",
       "<g class=\"node\" id=\"node61\">\n",
       "<title>60</title>\n",
       "<text fill=\"#008040\" font-family=\"Courier,monospace\" font-size=\"14.00\" text-anchor=\"middle\" x=\"1467\" y=\"-14.3\">&quot;x&quot;</text>\n",
       "</g>\n",
       "<!-- 59&#45;&#45;60 -->\n",
       "<g class=\"edge\" id=\"edge60\">\n",
       "<title>59--60</title>\n",
       "<path d=\"M1531,-72C1531,-72 1507.2344,-51.9478 1488.6675,-36.2819\" fill=\"none\" stroke=\"#000000\"/>\n",
       "</g>\n",
       "<!-- 61 -->\n",
       "<g class=\"node\" id=\"node62\">\n",
       "<title>61</title>\n",
       "<text fill=\"#008040\" font-family=\"Courier,monospace\" font-size=\"14.00\" text-anchor=\"middle\" x=\"1539\" y=\"-14.3\">Load</text>\n",
       "</g>\n",
       "<!-- 59&#45;&#45;61 -->\n",
       "<g class=\"edge\" id=\"edge61\">\n",
       "<title>59--61</title>\n",
       "<path d=\"M1531,-72C1531,-72 1533.9707,-51.9478 1536.2916,-36.2819\" fill=\"none\" stroke=\"#000000\"/>\n",
       "</g>\n",
       "<!-- 64 -->\n",
       "<g class=\"node\" id=\"node65\">\n",
       "<title>64</title>\n",
       "<text fill=\"#008040\" font-family=\"Courier,monospace\" font-size=\"14.00\" text-anchor=\"middle\" x=\"1611\" y=\"-14.3\">&quot;z&quot;</text>\n",
       "</g>\n",
       "<!-- 63&#45;&#45;64 -->\n",
       "<g class=\"edge\" id=\"edge64\">\n",
       "<title>63--64</title>\n",
       "<path d=\"M1675,-72C1675,-72 1651.2344,-51.9478 1632.6675,-36.2819\" fill=\"none\" stroke=\"#000000\"/>\n",
       "</g>\n",
       "<!-- 65 -->\n",
       "<g class=\"node\" id=\"node66\">\n",
       "<title>65</title>\n",
       "<text fill=\"#008040\" font-family=\"Courier,monospace\" font-size=\"14.00\" text-anchor=\"middle\" x=\"1683\" y=\"-14.3\">Load</text>\n",
       "</g>\n",
       "<!-- 63&#45;&#45;65 -->\n",
       "<g class=\"edge\" id=\"edge65\">\n",
       "<title>63--65</title>\n",
       "<path d=\"M1675,-72C1675,-72 1677.9707,-51.9478 1680.2916,-36.2819\" fill=\"none\" stroke=\"#000000\"/>\n",
       "</g>\n",
       "<!-- 67 -->\n",
       "<g class=\"node\" id=\"node68\">\n",
       "<title>67</title>\n",
       "<text fill=\"#004080\" font-family=\"Courier,monospace\" font-size=\"14.00\" font-weight=\"bold\" text-anchor=\"start\" x=\"1738\" y=\"-87.3\">Name</text>\n",
       "</g>\n",
       "<!-- 66&#45;&#45;67 -->\n",
       "<g class=\"edge\" id=\"edge67\">\n",
       "<title>66--67</title>\n",
       "<path d=\"M1722.1031,-143.8314C1728.7222,-133 1737.102,-119.2876 1743.7474,-108.4133\" fill=\"none\" stroke=\"#000000\"/>\n",
       "</g>\n",
       "<!-- 68 -->\n",
       "<g class=\"node\" id=\"node69\">\n",
       "<title>68</title>\n",
       "<text fill=\"#008040\" font-family=\"Courier,monospace\" font-size=\"14.00\" text-anchor=\"middle\" x=\"1755\" y=\"-14.3\">&quot;x&quot;</text>\n",
       "</g>\n",
       "<!-- 67&#45;&#45;68 -->\n",
       "<g class=\"edge\" id=\"edge68\">\n",
       "<title>67--68</title>\n",
       "<path d=\"M1763,-72C1763,-72 1760.0293,-51.9478 1757.7084,-36.2819\" fill=\"none\" stroke=\"#000000\"/>\n",
       "</g>\n",
       "<!-- 69 -->\n",
       "<g class=\"node\" id=\"node70\">\n",
       "<title>69</title>\n",
       "<text fill=\"#008040\" font-family=\"Courier,monospace\" font-size=\"14.00\" text-anchor=\"middle\" x=\"1827\" y=\"-14.3\">Load</text>\n",
       "</g>\n",
       "<!-- 67&#45;&#45;69 -->\n",
       "<g class=\"edge\" id=\"edge69\">\n",
       "<title>67--69</title>\n",
       "<path d=\"M1763,-72C1763,-72 1786.7656,-51.9478 1805.3325,-36.2819\" fill=\"none\" stroke=\"#000000\"/>\n",
       "</g>\n",
       "<!-- 71 -->\n",
       "<g class=\"node\" id=\"node72\">\n",
       "<title>71</title>\n",
       "<text fill=\"#004080\" font-family=\"Courier,monospace\" font-size=\"14.00\" font-weight=\"bold\" text-anchor=\"start\" x=\"1597\" y=\"-303.3\">Name</text>\n",
       "</g>\n",
       "<!-- 70&#45;&#45;71 -->\n",
       "<g class=\"edge\" id=\"edge71\">\n",
       "<title>70--71</title>\n",
       "<path d=\"M1188.7514,-372.7057C1275.9118,-359.0334 1507.2536,-322.7445 1586.735,-310.2769\" fill=\"none\" stroke=\"#000000\"/>\n",
       "</g>\n",
       "<!-- 72 -->\n",
       "<g class=\"node\" id=\"node73\">\n",
       "<title>72</title>\n",
       "<text fill=\"#008040\" font-family=\"Courier,monospace\" font-size=\"14.00\" text-anchor=\"middle\" x=\"1614\" y=\"-230.3\">&quot;z&quot;</text>\n",
       "</g>\n",
       "<!-- 71&#45;&#45;72 -->\n",
       "<g class=\"edge\" id=\"edge72\">\n",
       "<title>71--72</title>\n",
       "<path d=\"M1622,-288C1622,-288 1619.0293,-267.9478 1616.7084,-252.2819\" fill=\"none\" stroke=\"#000000\"/>\n",
       "</g>\n",
       "<!-- 73 -->\n",
       "<g class=\"node\" id=\"node74\">\n",
       "<title>73</title>\n",
       "<text fill=\"#008040\" font-family=\"Courier,monospace\" font-size=\"14.00\" text-anchor=\"middle\" x=\"1686\" y=\"-230.3\">Load</text>\n",
       "</g>\n",
       "<!-- 71&#45;&#45;73 -->\n",
       "<g class=\"edge\" id=\"edge73\">\n",
       "<title>71--73</title>\n",
       "<path d=\"M1622,-288C1622,-288 1645.7656,-267.9478 1664.3325,-252.2819\" fill=\"none\" stroke=\"#000000\"/>\n",
       "</g>\n",
       "</g>\n",
       "</svg>"
      ],
      "text/plain": [
       "<IPython.core.display.SVG object>"
      ]
     },
     "metadata": {},
     "output_type": "display_data"
    }
   ],
   "source": [
    "middle_tree = ast.parse(inspect.getsource(middle))\n",
    "show_ast(middle_tree)"
   ]
  },
  {
   "cell_type": "markdown",
   "metadata": {
    "slideshow": {
     "slide_type": "fragment"
    }
   },
   "source": [
    "At the very bottom of the tree, you can see a number of `Name` nodes, referring individual variables. These are the ones we want to transform."
   ]
  },
  {
   "cell_type": "markdown",
   "metadata": {
    "slideshow": {
     "slide_type": "subslide"
    }
   },
   "source": [
    "### Tracking Variable Access\n",
    "\n",
    "Our goal is to _traverse_ the tree, identify all `Name` nodes, and convert them to respective `_data` accesses.\n",
    "To this end, we manipulate the AST through the Python modules `ast` and `astor`. The [official Python `ast` reference](http://docs.python.org/3/library/ast) is complete, but a bit brief; the documentation [\"Green Tree Snakes - the missing Python AST docs\"](https://greentreesnakes.readthedocs.io/en/latest/) provides an excellent introduction."
   ]
  },
  {
   "cell_type": "markdown",
   "metadata": {
    "slideshow": {
     "slide_type": "fragment"
    }
   },
   "source": [
    "The Python `ast` class provides a class `NodeTransformer` that allows such transformations. Subclassing from it, we provide a method `visit_Name()` that will be invoked for all `Name` nodes – and replace it by a new subtree from `make_get_data()`:"
   ]
  },
  {
   "cell_type": "code",
   "execution_count": 68,
   "metadata": {
    "slideshow": {
     "slide_type": "skip"
    }
   },
   "outputs": [],
   "source": [
    "from ast import NodeTransformer, NodeVisitor"
   ]
  },
  {
   "cell_type": "code",
   "execution_count": 69,
   "metadata": {
    "slideshow": {
     "slide_type": "fragment"
    }
   },
   "outputs": [],
   "source": [
    "DATA_TRACKER = '_data'"
   ]
  },
  {
   "cell_type": "code",
   "execution_count": 70,
   "metadata": {
    "slideshow": {
     "slide_type": "subslide"
    }
   },
   "outputs": [],
   "source": [
    "class TrackGetTransformer(NodeTransformer):\n",
    "    def visit_Name(self, node):\n",
    "        self.generic_visit(node)\n",
    "\n",
    "        if node.id in dir(__builtins__):\n",
    "            # Do not change built-in names\n",
    "            return node\n",
    "\n",
    "        if node.id == DATA_TRACKER:\n",
    "            # Do not change own accesses\n",
    "            return node\n",
    "\n",
    "        if not isinstance(node.ctx, Load):\n",
    "            # Only change loads (not stores, not deletions)\n",
    "            return node\n",
    "\n",
    "        new_node = make_get_data(node.id)\n",
    "        ast.copy_location(new_node, node)\n",
    "        return new_node"
   ]
  },
  {
   "cell_type": "markdown",
   "metadata": {
    "slideshow": {
     "slide_type": "subslide"
    }
   },
   "source": [
    "Our function `make_get_data(id, method)` returns a new subtree equivalent to the Python code `_data.method('id', id)`."
   ]
  },
  {
   "cell_type": "code",
   "execution_count": 71,
   "metadata": {
    "slideshow": {
     "slide_type": "skip"
    }
   },
   "outputs": [],
   "source": [
    "from ast import Module, Name, Load, Store, Tuple, \\\n",
    "    Attribute, With, withitem, keyword, Call, Expr"
   ]
  },
  {
   "cell_type": "code",
   "execution_count": 72,
   "metadata": {
    "slideshow": {
     "slide_type": "fragment"
    }
   },
   "outputs": [],
   "source": [
    "# Starting with Python 3.8, these will become Constant.\n",
    "# from ast import Num, Str, NameConstant\n",
    "# Use `ast.Num`, `ast.Str`, and `ast.NameConstant` for compatibility"
   ]
  },
  {
   "cell_type": "code",
   "execution_count": 73,
   "metadata": {
    "slideshow": {
     "slide_type": "fragment"
    }
   },
   "outputs": [],
   "source": [
    "def make_get_data(id, method='get'):\n",
    "    return Call(func=Attribute(value=Name(id=DATA_TRACKER, ctx=Load()), \n",
    "                               attr=method, ctx=Load()),\n",
    "                args=[ast.Str(s=id), Name(id=id, ctx=Load())],\n",
    "                keywords=[])"
   ]
  },
  {
   "cell_type": "markdown",
   "metadata": {
    "slideshow": {
     "slide_type": "fragment"
    }
   },
   "source": [
    "This is the tree that `make_get_data()` produces:"
   ]
  },
  {
   "cell_type": "code",
   "execution_count": 74,
   "metadata": {
    "slideshow": {
     "slide_type": "fragment"
    }
   },
   "outputs": [
    {
     "data": {
      "image/svg+xml": [
       "<svg height=\"260pt\" viewBox=\"0.00 0.00 479.50 260.00\" width=\"480pt\" xmlns=\"http://www.w3.org/2000/svg\" xmlns:xlink=\"http://www.w3.org/1999/xlink\">\n",
       "<g class=\"graph\" id=\"graph0\" transform=\"scale(1 1) rotate(0) translate(4 256)\">\n",
       "<title>%3</title>\n",
       "<polygon fill=\"#ffffff\" points=\"-4,4 -4,-256 475.5,-256 475.5,4 -4,4\" stroke=\"transparent\"/>\n",
       "<!-- 0 -->\n",
       "<g class=\"node\" id=\"node1\">\n",
       "<title>0</title>\n",
       "<text fill=\"#004080\" font-family=\"Courier,monospace\" font-size=\"14.00\" font-weight=\"bold\" text-anchor=\"start\" x=\"283.5\" y=\"-231.3\">Call</text>\n",
       "</g>\n",
       "<!-- 1 -->\n",
       "<g class=\"node\" id=\"node2\">\n",
       "<title>1</title>\n",
       "<text fill=\"#004080\" font-family=\"Courier,monospace\" font-size=\"14.00\" font-weight=\"bold\" text-anchor=\"start\" x=\"143.5\" y=\"-159.3\">Attribute</text>\n",
       "</g>\n",
       "<!-- 0&#45;&#45;1 -->\n",
       "<g class=\"edge\" id=\"edge1\">\n",
       "<title>0--1</title>\n",
       "<path d=\"M299.5,-216C299.5,-216 255.4008,-195.819 221.1206,-180.1314\" fill=\"none\" stroke=\"#000000\"/>\n",
       "</g>\n",
       "<!-- 7 -->\n",
       "<g class=\"node\" id=\"node8\">\n",
       "<title>7</title>\n",
       "<text fill=\"#004080\" font-family=\"Courier,monospace\" font-size=\"14.00\" font-weight=\"bold\" text-anchor=\"start\" x=\"287.5\" y=\"-159.3\">Str</text>\n",
       "</g>\n",
       "<!-- 0&#45;&#45;7 -->\n",
       "<g class=\"edge\" id=\"edge7\">\n",
       "<title>0--7</title>\n",
       "<path d=\"M299.5,-216C299.5,-216 299.8713,-195.9478 300.1614,-180.2819\" fill=\"none\" stroke=\"#000000\"/>\n",
       "</g>\n",
       "<!-- 9 -->\n",
       "<g class=\"node\" id=\"node10\">\n",
       "<title>9</title>\n",
       "<text fill=\"#004080\" font-family=\"Courier,monospace\" font-size=\"14.00\" font-weight=\"bold\" text-anchor=\"start\" x=\"355.5\" y=\"-159.3\">Name</text>\n",
       "</g>\n",
       "<!-- 0&#45;&#45;9 -->\n",
       "<g class=\"edge\" id=\"edge9\">\n",
       "<title>0--9</title>\n",
       "<path d=\"M299.5,-216C299.5,-216 326.6077,-195.9478 347.7855,-180.2819\" fill=\"none\" stroke=\"#000000\"/>\n",
       "</g>\n",
       "<!-- 2 -->\n",
       "<g class=\"node\" id=\"node3\">\n",
       "<title>2</title>\n",
       "<text fill=\"#004080\" font-family=\"Courier,monospace\" font-size=\"14.00\" font-weight=\"bold\" text-anchor=\"start\" x=\"61.5\" y=\"-87.3\">Name</text>\n",
       "</g>\n",
       "<!-- 1&#45;&#45;2 -->\n",
       "<g class=\"edge\" id=\"edge2\">\n",
       "<title>1--2</title>\n",
       "<path d=\"M176.5,-144C176.5,-144 134.5458,-120.8824 105.5384,-104.8987\" fill=\"none\" stroke=\"#000000\"/>\n",
       "</g>\n",
       "<!-- 5 -->\n",
       "<g class=\"node\" id=\"node6\">\n",
       "<title>5</title>\n",
       "<text fill=\"#008040\" font-family=\"Courier,monospace\" font-size=\"14.00\" text-anchor=\"middle\" x=\"153.5\" y=\"-86.3\">&quot;get&quot;</text>\n",
       "</g>\n",
       "<!-- 1&#45;&#45;5 -->\n",
       "<g class=\"edge\" id=\"edge5\">\n",
       "<title>1--5</title>\n",
       "<path d=\"M176.5,-144C176.5,-144 167.9592,-123.9478 161.2868,-108.2819\" fill=\"none\" stroke=\"#000000\"/>\n",
       "</g>\n",
       "<!-- 6 -->\n",
       "<g class=\"node\" id=\"node7\">\n",
       "<title>6</title>\n",
       "<text fill=\"#008040\" font-family=\"Courier,monospace\" font-size=\"14.00\" text-anchor=\"middle\" x=\"228.5\" y=\"-86.3\">Load</text>\n",
       "</g>\n",
       "<!-- 1&#45;&#45;6 -->\n",
       "<g class=\"edge\" id=\"edge6\">\n",
       "<title>1--6</title>\n",
       "<path d=\"M176.5,-144C176.5,-144 195.8096,-123.9478 210.8952,-108.2819\" fill=\"none\" stroke=\"#000000\"/>\n",
       "</g>\n",
       "<!-- 3 -->\n",
       "<g class=\"node\" id=\"node4\">\n",
       "<title>3</title>\n",
       "<text fill=\"#008040\" font-family=\"Courier,monospace\" font-size=\"14.00\" text-anchor=\"middle\" x=\"37.5\" y=\"-14.3\">&quot;_data&quot;</text>\n",
       "</g>\n",
       "<!-- 2&#45;&#45;3 -->\n",
       "<g class=\"edge\" id=\"edge3\">\n",
       "<title>2--3</title>\n",
       "<path d=\"M78.5,-72C78.5,-72 63.2751,-51.9478 51.3807,-36.2819\" fill=\"none\" stroke=\"#000000\"/>\n",
       "</g>\n",
       "<!-- 4 -->\n",
       "<g class=\"node\" id=\"node5\">\n",
       "<title>4</title>\n",
       "<text fill=\"#008040\" font-family=\"Courier,monospace\" font-size=\"14.00\" text-anchor=\"middle\" x=\"120.5\" y=\"-14.3\">Load</text>\n",
       "</g>\n",
       "<!-- 2&#45;&#45;4 -->\n",
       "<g class=\"edge\" id=\"edge4\">\n",
       "<title>2--4</title>\n",
       "<path d=\"M78.5,-72C78.5,-72 94.0962,-51.9478 106.2807,-36.2819\" fill=\"none\" stroke=\"#000000\"/>\n",
       "</g>\n",
       "<!-- 8 -->\n",
       "<g class=\"node\" id=\"node9\">\n",
       "<title>8</title>\n",
       "<text fill=\"#008040\" font-family=\"Courier,monospace\" font-size=\"14.00\" text-anchor=\"middle\" x=\"300.5\" y=\"-86.3\">&quot;x&quot;</text>\n",
       "</g>\n",
       "<!-- 7&#45;&#45;8 -->\n",
       "<g class=\"edge\" id=\"edge8\">\n",
       "<title>7--8</title>\n",
       "<path d=\"M300.5,-143.8314C300.5,-133 300.5,-119.2876 300.5,-108.4133\" fill=\"none\" stroke=\"#000000\"/>\n",
       "</g>\n",
       "<!-- 10 -->\n",
       "<g class=\"node\" id=\"node11\">\n",
       "<title>10</title>\n",
       "<text fill=\"#008040\" font-family=\"Courier,monospace\" font-size=\"14.00\" text-anchor=\"middle\" x=\"372.5\" y=\"-86.3\">&quot;x&quot;</text>\n",
       "</g>\n",
       "<!-- 9&#45;&#45;10 -->\n",
       "<g class=\"edge\" id=\"edge10\">\n",
       "<title>9--10</title>\n",
       "<path d=\"M380.5,-144C380.5,-144 377.5293,-123.9478 375.2084,-108.2819\" fill=\"none\" stroke=\"#000000\"/>\n",
       "</g>\n",
       "<!-- 11 -->\n",
       "<g class=\"node\" id=\"node12\">\n",
       "<title>11</title>\n",
       "<text fill=\"#008040\" font-family=\"Courier,monospace\" font-size=\"14.00\" text-anchor=\"middle\" x=\"444.5\" y=\"-86.3\">Load</text>\n",
       "</g>\n",
       "<!-- 9&#45;&#45;11 -->\n",
       "<g class=\"edge\" id=\"edge11\">\n",
       "<title>9--11</title>\n",
       "<path d=\"M380.5,-144C380.5,-144 404.2656,-123.9478 422.8325,-108.2819\" fill=\"none\" stroke=\"#000000\"/>\n",
       "</g>\n",
       "</g>\n",
       "</svg>"
      ],
      "text/plain": [
       "<IPython.core.display.SVG object>"
      ]
     },
     "metadata": {},
     "output_type": "display_data"
    }
   ],
   "source": [
    "show_ast(Module(body=[make_get_data(\"x\")]))"
   ]
  },
  {
   "cell_type": "markdown",
   "metadata": {
    "slideshow": {
     "slide_type": "subslide"
    }
   },
   "source": [
    "How do we know that this is a correct subtree? We can carefully read the [official Python `ast` reference](http://docs.python.org/3/library/ast) and then proceed by trial and error (and apply [delta debugging](DeltaDebugger.ipynb) to determine error causes). Or – pro tip! – we can simply take a piece of Python code, parse it and use `ast.dump()` to print out how to construct the resulting AST:"
   ]
  },
  {
   "cell_type": "code",
   "execution_count": 75,
   "metadata": {
    "slideshow": {
     "slide_type": "fragment"
    }
   },
   "outputs": [
    {
     "name": "stdout",
     "output_type": "stream",
     "text": [
      "Module(body=[Expr(value=Call(func=Attribute(value=Name(id='_data', ctx=Load()), attr='get', ctx=Load()), args=[Str(s='x'), Name(id='x', ctx=Load())], keywords=[]))])\n"
     ]
    }
   ],
   "source": [
    "print(ast.dump(ast.parse(\"_data.get('x', x)\")))"
   ]
  },
  {
   "cell_type": "markdown",
   "metadata": {
    "slideshow": {
     "slide_type": "fragment"
    }
   },
   "source": [
    "If you compare the above output with the code of `make_get_data()`, above, you will find out where the source of `make_get_data()` comes from."
   ]
  },
  {
   "cell_type": "markdown",
   "metadata": {
    "slideshow": {
     "slide_type": "fragment"
    }
   },
   "source": [
    "Let us put `TrackGetTransformer` to action. Its `visit()` method calls `visit_Name()`, which then in turn transforms the `Name` nodes as we want it. This happens in place."
   ]
  },
  {
   "cell_type": "code",
   "execution_count": 76,
   "metadata": {
    "slideshow": {
     "slide_type": "subslide"
    }
   },
   "outputs": [],
   "source": [
    "TrackGetTransformer().visit(middle_tree);"
   ]
  },
  {
   "cell_type": "markdown",
   "metadata": {
    "slideshow": {
     "slide_type": "fragment"
    }
   },
   "source": [
    "To see the effect of our transformations, we introduce a method `dump_tree()` which outputs the tree – and also compiles it to check for any inconsistencies."
   ]
  },
  {
   "cell_type": "code",
   "execution_count": 77,
   "metadata": {
    "slideshow": {
     "slide_type": "fragment"
    }
   },
   "outputs": [],
   "source": [
    "def dump_tree(tree):\n",
    "    print_content(astor.to_source(tree), '.py')\n",
    "    ast.fix_missing_locations(tree)  # Must run this before compiling\n",
    "    _ = compile(tree, '<dump_tree>', 'exec')"
   ]
  },
  {
   "cell_type": "markdown",
   "metadata": {
    "slideshow": {
     "slide_type": "fragment"
    }
   },
   "source": [
    "We see that our transformer has properly replaced all "
   ]
  },
  {
   "cell_type": "code",
   "execution_count": 78,
   "metadata": {
    "slideshow": {
     "slide_type": "subslide"
    }
   },
   "outputs": [
    {
     "name": "stdout",
     "output_type": "stream",
     "text": [
      "\u001b[34mdef\u001b[39;49;00m \u001b[32mmiddle\u001b[39;49;00m(x, y, z):\n",
      "    \u001b[34mif\u001b[39;49;00m _data.get(\u001b[33m'\u001b[39;49;00m\u001b[33my\u001b[39;49;00m\u001b[33m'\u001b[39;49;00m, y) < _data.get(\u001b[33m'\u001b[39;49;00m\u001b[33mz\u001b[39;49;00m\u001b[33m'\u001b[39;49;00m, z):\n",
      "        \u001b[34mif\u001b[39;49;00m _data.get(\u001b[33m'\u001b[39;49;00m\u001b[33mx\u001b[39;49;00m\u001b[33m'\u001b[39;49;00m, x) < _data.get(\u001b[33m'\u001b[39;49;00m\u001b[33my\u001b[39;49;00m\u001b[33m'\u001b[39;49;00m, y):\n",
      "            \u001b[34mreturn\u001b[39;49;00m _data.get(\u001b[33m'\u001b[39;49;00m\u001b[33my\u001b[39;49;00m\u001b[33m'\u001b[39;49;00m, y)\n",
      "        \u001b[34melif\u001b[39;49;00m _data.get(\u001b[33m'\u001b[39;49;00m\u001b[33mx\u001b[39;49;00m\u001b[33m'\u001b[39;49;00m, x) < _data.get(\u001b[33m'\u001b[39;49;00m\u001b[33mz\u001b[39;49;00m\u001b[33m'\u001b[39;49;00m, z):\n",
      "            \u001b[34mreturn\u001b[39;49;00m _data.get(\u001b[33m'\u001b[39;49;00m\u001b[33my\u001b[39;49;00m\u001b[33m'\u001b[39;49;00m, y)\n",
      "    \u001b[34melif\u001b[39;49;00m _data.get(\u001b[33m'\u001b[39;49;00m\u001b[33mx\u001b[39;49;00m\u001b[33m'\u001b[39;49;00m, x) > _data.get(\u001b[33m'\u001b[39;49;00m\u001b[33my\u001b[39;49;00m\u001b[33m'\u001b[39;49;00m, y):\n",
      "        \u001b[34mreturn\u001b[39;49;00m _data.get(\u001b[33m'\u001b[39;49;00m\u001b[33my\u001b[39;49;00m\u001b[33m'\u001b[39;49;00m, y)\n",
      "    \u001b[34melif\u001b[39;49;00m _data.get(\u001b[33m'\u001b[39;49;00m\u001b[33mx\u001b[39;49;00m\u001b[33m'\u001b[39;49;00m, x) > _data.get(\u001b[33m'\u001b[39;49;00m\u001b[33mz\u001b[39;49;00m\u001b[33m'\u001b[39;49;00m, z):\n",
      "        \u001b[34mreturn\u001b[39;49;00m _data.get(\u001b[33m'\u001b[39;49;00m\u001b[33mx\u001b[39;49;00m\u001b[33m'\u001b[39;49;00m, x)\n",
      "    \u001b[34mreturn\u001b[39;49;00m _data.get(\u001b[33m'\u001b[39;49;00m\u001b[33mz\u001b[39;49;00m\u001b[33m'\u001b[39;49;00m, z)"
     ]
    }
   ],
   "source": [
    "dump_tree(middle_tree)"
   ]
  },
  {
   "cell_type": "markdown",
   "metadata": {
    "slideshow": {
     "slide_type": "subslide"
    }
   },
   "source": [
    "Let us now execute this code together with the `DataTracker()` class we previously introduced. The class `DataTrackerTester()` takes a (transformed) tree and a function. Using it as\n",
    "\n",
    "```python\n",
    "with DataTrackerTester(tree, func):\n",
    "    func(...)\n",
    "```\n",
    "\n",
    "first executes the code in _tree_ (possibly instrumenting `func`) and then the `with` body. At the end, `func` is restored to its previous (non-instrumented) version."
   ]
  },
  {
   "cell_type": "code",
   "execution_count": 79,
   "metadata": {
    "slideshow": {
     "slide_type": "subslide"
    }
   },
   "outputs": [],
   "source": [
    "class DataTrackerTester(object):\n",
    "    def __init__(self, tree, func, log=True):\n",
    "        # We pass the source file of `func` such that we can retrieve it\n",
    "        # when accessing the location of the new compiled code\n",
    "        self.code = compile(tree, inspect.getsourcefile(func), 'exec')\n",
    "        self.func = func\n",
    "        self.log = log\n",
    "\n",
    "    def make_data_tracker(self):\n",
    "        return DataTracker(log=self.log)\n",
    "\n",
    "    def __enter__(self):\n",
    "        \"\"\"Rewrite function\"\"\"\n",
    "        tracker = self.make_data_tracker()\n",
    "        globals()[DATA_TRACKER] = tracker\n",
    "        exec(self.code, globals())\n",
    "        return tracker\n",
    "\n",
    "    def __exit__(self, exc_type, exc_value, traceback):\n",
    "        \"\"\"Restore function\"\"\"\n",
    "        globals()[self.func.__name__] = self.func\n",
    "        del globals()[DATA_TRACKER]"
   ]
  },
  {
   "cell_type": "markdown",
   "metadata": {
    "slideshow": {
     "slide_type": "subslide"
    }
   },
   "source": [
    "Here is our `middle()` function:"
   ]
  },
  {
   "cell_type": "code",
   "execution_count": 80,
   "metadata": {
    "slideshow": {
     "slide_type": "fragment"
    }
   },
   "outputs": [
    {
     "name": "stdout",
     "output_type": "stream",
     "text": [
      " 1  \u001b[34mdef\u001b[39;49;00m \u001b[32mmiddle\u001b[39;49;00m(x, y, z):\n",
      " 2      \u001b[34mif\u001b[39;49;00m y < z:\n",
      " 3          \u001b[34mif\u001b[39;49;00m x < y:\n",
      " 4              \u001b[34mreturn\u001b[39;49;00m y\n",
      " 5          \u001b[34melif\u001b[39;49;00m x < z:\n",
      " 6              \u001b[34mreturn\u001b[39;49;00m y\n",
      " 7      \u001b[34melse\u001b[39;49;00m:\n",
      " 8          \u001b[34mif\u001b[39;49;00m x > y:\n",
      " 9              \u001b[34mreturn\u001b[39;49;00m y\n",
      "10          \u001b[34melif\u001b[39;49;00m x > z:\n",
      "11              \u001b[34mreturn\u001b[39;49;00m x\n",
      "12      \u001b[34mreturn\u001b[39;49;00m z"
     ]
    }
   ],
   "source": [
    "print_content(inspect.getsource(middle), '.py', start_line_number=1)"
   ]
  },
  {
   "cell_type": "markdown",
   "metadata": {
    "slideshow": {
     "slide_type": "subslide"
    }
   },
   "source": [
    "And here is our instrumented `middle_tree` executed with a `DataTracker` object. We see how the `middle()` tests access one argument after another."
   ]
  },
  {
   "cell_type": "code",
   "execution_count": 81,
   "metadata": {
    "slideshow": {
     "slide_type": "fragment"
    }
   },
   "outputs": [
    {
     "name": "stdout",
     "output_type": "stream",
     "text": [
      "middle:2: getting y\n",
      "middle:2: getting z\n",
      "middle:3: getting x\n",
      "middle:3: getting y\n",
      "middle:5: getting x\n",
      "middle:5: getting z\n",
      "middle:6: getting y\n"
     ]
    }
   ],
   "source": [
    "with DataTrackerTester(middle_tree, middle):\n",
    "    middle(2, 1, 3)"
   ]
  },
  {
   "cell_type": "markdown",
   "metadata": {
    "slideshow": {
     "slide_type": "fragment"
    }
   },
   "source": [
    "After `DataTrackerTester` is done, `middle` is reverted to its non-instrumented version:"
   ]
  },
  {
   "cell_type": "code",
   "execution_count": 82,
   "metadata": {
    "slideshow": {
     "slide_type": "subslide"
    }
   },
   "outputs": [
    {
     "data": {
      "text/plain": [
       "1"
      ]
     },
     "execution_count": 82,
     "metadata": {},
     "output_type": "execute_result"
    }
   ],
   "source": [
    "middle(2, 1, 3)"
   ]
  },
  {
   "cell_type": "markdown",
   "metadata": {
    "slideshow": {
     "slide_type": "fragment"
    }
   },
   "source": [
    "For a complete picture of what happens during executions, we implement a number of additional code transformers."
   ]
  },
  {
   "cell_type": "markdown",
   "metadata": {
    "slideshow": {
     "slide_type": "fragment"
    }
   },
   "source": [
    "For each assignment statement `x = y`, we change it to `x = _data.set('x', y)`. This allows to __track assignments__."
   ]
  },
  {
   "cell_type": "markdown",
   "metadata": {
    "slideshow": {
     "slide_type": "subslide"
    }
   },
   "source": [
    "### Excursion: Tracking Assignments"
   ]
  },
  {
   "cell_type": "markdown",
   "metadata": {
    "slideshow": {
     "slide_type": "fragment"
    }
   },
   "source": [
    "For the remaining transformers, we follow the same steps as for `TrackGetTransformer`, except that our `visit_...()` methods focus on different nodes, and return different subtrees. Here, we focus on assignment nodes."
   ]
  },
  {
   "cell_type": "markdown",
   "metadata": {
    "slideshow": {
     "slide_type": "fragment"
    }
   },
   "source": [
    "We want to transform assignments `x = value` into `_data.set('x', value)` to track assignments to `x`."
   ]
  },
  {
   "cell_type": "markdown",
   "metadata": {
    "slideshow": {
     "slide_type": "fragment"
    }
   },
   "source": [
    "If the left hand side of the assignment is more complex, as in `x[y] = value`, we want to ensure the read access to `x` and `y` is also tracked. By transforming `x[y] = value` into `_data.set('x', value, loads=(x, y))`, we ensure that `x` and `y` are marked as read (as the otherwise ignored `loads` argument would be changed to `_data.get()` calls for `x` and `y`)."
   ]
  },
  {
   "cell_type": "markdown",
   "metadata": {
    "slideshow": {
     "slide_type": "fragment"
    }
   },
   "source": [
    "Using `ast.dump()`, we reveal what the corresponding syntax tree has to look like:"
   ]
  },
  {
   "cell_type": "code",
   "execution_count": 83,
   "metadata": {
    "slideshow": {
     "slide_type": "subslide"
    }
   },
   "outputs": [
    {
     "name": "stdout",
     "output_type": "stream",
     "text": [
      "Module(body=[Expr(value=Call(func=Attribute(value=Name(id='_data', ctx=Load()), attr='set', ctx=Load()), args=[Str(s='x'), Name(id='value', ctx=Load())], keywords=[keyword(arg='loads', value=Tuple(elts=[Name(id='a', ctx=Load()), Name(id='b', ctx=Load())], ctx=Load()))]))])\n"
     ]
    }
   ],
   "source": [
    "print(ast.dump(ast.parse(\"_data.set('x', value, loads=(a, b))\")))"
   ]
  },
  {
   "cell_type": "markdown",
   "metadata": {
    "slideshow": {
     "slide_type": "fragment"
    }
   },
   "source": [
    "Using this structure, we can write a function `make_set_data()` which constructs such a subtree."
   ]
  },
  {
   "cell_type": "code",
   "execution_count": 84,
   "metadata": {
    "slideshow": {
     "slide_type": "subslide"
    }
   },
   "outputs": [],
   "source": [
    "def make_set_data(id, value, loads=None, method='set'):\n",
    "    \"\"\"Construct a subtree _data.`method`('`id`', `value`). \n",
    "    If `loads` is set to [X1, X2, ...], make it\n",
    "    _data.`method`('`id`', `value`, loads=(X1, X2, ...))\n",
    "    \"\"\"\n",
    "    keywords=[]\n",
    "\n",
    "    if loads:\n",
    "        keywords = [\n",
    "            keyword(arg='loads',\n",
    "                    value=Tuple(\n",
    "                        elts=[Name(id=load, ctx=Load()) for load in loads],\n",
    "                        ctx=Load()\n",
    "                    ))\n",
    "        ]\n",
    "\n",
    "    new_node = Call(func=Attribute(value=Name(id=DATA_TRACKER, ctx=Load()),\n",
    "                                   attr=method, ctx=Load()),\n",
    "                    args=[ast.Str(s=id), value],\n",
    "                    keywords=keywords)\n",
    "\n",
    "    ast.copy_location(new_node, value)\n",
    "\n",
    "    return new_node"
   ]
  },
  {
   "cell_type": "markdown",
   "metadata": {
    "slideshow": {
     "slide_type": "subslide"
    }
   },
   "source": [
    "The problem is, however: How do we get the name of the variable being assigned to? The left hand side of an assignment can be a complex expression such as `x[i]`. We use the leftmost name of the left hand side as name to be assigned to."
   ]
  },
  {
   "cell_type": "code",
   "execution_count": 85,
   "metadata": {
    "slideshow": {
     "slide_type": "subslide"
    }
   },
   "outputs": [],
   "source": [
    "class LeftmostNameVisitor(NodeVisitor):\n",
    "    def __init__(self):\n",
    "        super().__init__()\n",
    "        self.leftmost_name = None\n",
    "\n",
    "    def visit_Name(self, node):\n",
    "        if self.leftmost_name is None:\n",
    "            self.leftmost_name = node.id\n",
    "        self.generic_visit(node)\n",
    "\n",
    "def leftmost_name(tree):\n",
    "    visitor = LeftmostNameVisitor()\n",
    "    visitor.visit(tree)\n",
    "    return visitor.leftmost_name"
   ]
  },
  {
   "cell_type": "code",
   "execution_count": 86,
   "metadata": {
    "slideshow": {
     "slide_type": "subslide"
    }
   },
   "outputs": [
    {
     "data": {
      "text/plain": [
       "'a'"
      ]
     },
     "execution_count": 86,
     "metadata": {},
     "output_type": "execute_result"
    }
   ],
   "source": [
    "leftmost_name(ast.parse('a[x] = 25'))"
   ]
  },
  {
   "cell_type": "markdown",
   "metadata": {
    "slideshow": {
     "slide_type": "fragment"
    }
   },
   "source": [
    "Python also allows _tuple assignments_, as in `(a, b, c) = (1, 2, 3)`. We extract all variables being stored (that is, expressions whose `ctx` attribute is `Store()`) and extract their (leftmost) names."
   ]
  },
  {
   "cell_type": "code",
   "execution_count": 87,
   "metadata": {
    "slideshow": {
     "slide_type": "subslide"
    }
   },
   "outputs": [],
   "source": [
    "class StoreVisitor(NodeVisitor):\n",
    "    def __init__(self):\n",
    "        super().__init__()\n",
    "        self.names = set()\n",
    "\n",
    "    def visit(self, node):\n",
    "        if hasattr(node, 'ctx') and isinstance(node.ctx, Store):\n",
    "            name = leftmost_name(node)\n",
    "            if name is not None:\n",
    "                self.names.add(name)\n",
    "\n",
    "        self.generic_visit(node)\n",
    "\n",
    "def store_names(tree):\n",
    "    visitor = StoreVisitor()\n",
    "    visitor.visit(tree)\n",
    "    return visitor.names"
   ]
  },
  {
   "cell_type": "code",
   "execution_count": 88,
   "metadata": {
    "slideshow": {
     "slide_type": "subslide"
    }
   },
   "outputs": [
    {
     "data": {
      "text/plain": [
       "{'a', 'b', 'c'}"
      ]
     },
     "execution_count": 88,
     "metadata": {},
     "output_type": "execute_result"
    }
   ],
   "source": [
    "store_names(ast.parse('a[x], b[y], c = 1, 2, 3'))"
   ]
  },
  {
   "cell_type": "markdown",
   "metadata": {
    "slideshow": {
     "slide_type": "fragment"
    }
   },
   "source": [
    "For complex assignments, we also want to access the names read in the left hand side of an expression."
   ]
  },
  {
   "cell_type": "code",
   "execution_count": 89,
   "metadata": {
    "slideshow": {
     "slide_type": "subslide"
    }
   },
   "outputs": [],
   "source": [
    "class LoadVisitor(NodeVisitor):\n",
    "    def __init__(self):\n",
    "        super().__init__()\n",
    "        self.names = set()\n",
    "\n",
    "    def visit(self, node):\n",
    "        if hasattr(node, 'ctx') and isinstance(node.ctx, Load):\n",
    "            name = leftmost_name(node)\n",
    "            if name is not None:\n",
    "                self.names.add(name)\n",
    "\n",
    "        self.generic_visit(node)\n",
    "\n",
    "def load_names(tree):\n",
    "    visitor = LoadVisitor()\n",
    "    visitor.visit(tree)\n",
    "    return visitor.names"
   ]
  },
  {
   "cell_type": "code",
   "execution_count": 90,
   "metadata": {
    "slideshow": {
     "slide_type": "subslide"
    }
   },
   "outputs": [
    {
     "data": {
      "text/plain": [
       "{'a', 'b', 'x', 'y'}"
      ]
     },
     "execution_count": 90,
     "metadata": {},
     "output_type": "execute_result"
    }
   ],
   "source": [
    "load_names(ast.parse('a[x], b[y], c = 1, 2, 3'))"
   ]
  },
  {
   "cell_type": "markdown",
   "metadata": {
    "slideshow": {
     "slide_type": "fragment"
    }
   },
   "source": [
    "With this, we can now define `TrackSetTransformer` as a transformer for regular assignments. Note that in Python, an assignment can have multiple targets, as in `a = b = c`; we assign the data dependencies of `c` to them all."
   ]
  },
  {
   "cell_type": "code",
   "execution_count": 91,
   "metadata": {
    "slideshow": {
     "slide_type": "subslide"
    }
   },
   "outputs": [],
   "source": [
    "class TrackSetTransformer(NodeTransformer):\n",
    "    def visit_Assign(self, node):\n",
    "        value = astor.to_source(node.value)\n",
    "        if value.startswith(DATA_TRACKER + '.set'):\n",
    "            return node  # Do not apply twice\n",
    "\n",
    "        for target in node.targets:\n",
    "            loads = load_names(target)\n",
    "            for store_name in store_names(target):\n",
    "                node.value = make_set_data(store_name, node.value, \n",
    "                                           loads=loads)\n",
    "                loads = set()\n",
    "\n",
    "        return node"
   ]
  },
  {
   "cell_type": "markdown",
   "metadata": {
    "slideshow": {
     "slide_type": "subslide"
    }
   },
   "source": [
    "The special form of \"augmented assign\" needs special treatment. We change statements of the form `x += y` to `x += _data.augment('x', y)`."
   ]
  },
  {
   "cell_type": "code",
   "execution_count": 92,
   "metadata": {
    "slideshow": {
     "slide_type": "fragment"
    }
   },
   "outputs": [],
   "source": [
    "class TrackSetTransformer(TrackSetTransformer):\n",
    "    def visit_AugAssign(self, node):\n",
    "        value = astor.to_source(node.value)\n",
    "        if value.startswith(DATA_TRACKER):\n",
    "            return node  # Do not apply twice\n",
    "\n",
    "        id = leftmost_name(node.target)\n",
    "        node.value = make_set_data(id, node.value, method='augment')\n",
    "\n",
    "        return node"
   ]
  },
  {
   "cell_type": "markdown",
   "metadata": {
    "slideshow": {
     "slide_type": "fragment"
    }
   },
   "source": [
    "The corresponding `augment()` method uses a combination of `set()` and `get()` to reflect the semantics."
   ]
  },
  {
   "cell_type": "code",
   "execution_count": 93,
   "metadata": {
    "slideshow": {
     "slide_type": "subslide"
    }
   },
   "outputs": [],
   "source": [
    "class DataTracker(DataTracker):\n",
    "    def augment(self, name, value):\n",
    "        \"\"\"Track augmenting `name` with `value`.\"\"\"\n",
    "        self.set(name, self.get(name, value))\n",
    "        return value"
   ]
  },
  {
   "cell_type": "markdown",
   "metadata": {
    "slideshow": {
     "slide_type": "fragment"
    }
   },
   "source": [
    "Here's both of these transformers in action. Our original function has a number of assignments:"
   ]
  },
  {
   "cell_type": "code",
   "execution_count": 94,
   "metadata": {
    "slideshow": {
     "slide_type": "fragment"
    }
   },
   "outputs": [],
   "source": [
    "def assign_test(x):\n",
    "    fourty_two = forty_two = 42\n",
    "    a, b, c = 1, 2, 3\n",
    "    c[d[x]].attr = 47\n",
    "    foo *= bar + 1"
   ]
  },
  {
   "cell_type": "code",
   "execution_count": 95,
   "metadata": {
    "slideshow": {
     "slide_type": "fragment"
    }
   },
   "outputs": [],
   "source": [
    "assign_tree = ast.parse(inspect.getsource(assign_test))"
   ]
  },
  {
   "cell_type": "code",
   "execution_count": 96,
   "metadata": {
    "slideshow": {
     "slide_type": "subslide"
    }
   },
   "outputs": [
    {
     "name": "stdout",
     "output_type": "stream",
     "text": [
      "\u001b[34mdef\u001b[39;49;00m \u001b[32massign_test\u001b[39;49;00m(x):\n",
      "    fourty_two = forty_two = _data.set(\u001b[33m'\u001b[39;49;00m\u001b[33mforty_two\u001b[39;49;00m\u001b[33m'\u001b[39;49;00m, _data.set(\u001b[33m'\u001b[39;49;00m\u001b[33mfourty_two\u001b[39;49;00m\u001b[33m'\u001b[39;49;00m, \u001b[34m42\u001b[39;49;00m)\n",
      "        )\n",
      "    a, b, c = _data.set(\u001b[33m'\u001b[39;49;00m\u001b[33mc\u001b[39;49;00m\u001b[33m'\u001b[39;49;00m, _data.set(\u001b[33m'\u001b[39;49;00m\u001b[33mb\u001b[39;49;00m\u001b[33m'\u001b[39;49;00m, _data.set(\u001b[33m'\u001b[39;49;00m\u001b[33ma\u001b[39;49;00m\u001b[33m'\u001b[39;49;00m, (\u001b[34m1\u001b[39;49;00m, \u001b[34m2\u001b[39;49;00m, \u001b[34m3\u001b[39;49;00m))))\n",
      "    c[d[x]].attr = _data.set(\u001b[33m'\u001b[39;49;00m\u001b[33mc\u001b[39;49;00m\u001b[33m'\u001b[39;49;00m, \u001b[34m47\u001b[39;49;00m, loads=(d, x, c))\n",
      "    foo *= _data.augment(\u001b[33m'\u001b[39;49;00m\u001b[33mfoo\u001b[39;49;00m\u001b[33m'\u001b[39;49;00m, bar + \u001b[34m1\u001b[39;49;00m)"
     ]
    }
   ],
   "source": [
    "TrackSetTransformer().visit(assign_tree)\n",
    "dump_tree(assign_tree)"
   ]
  },
  {
   "cell_type": "markdown",
   "metadata": {
    "slideshow": {
     "slide_type": "fragment"
    }
   },
   "source": [
    "If we later apply our transformer for data accesses, we can see that we track all variable reads and writes."
   ]
  },
  {
   "cell_type": "code",
   "execution_count": 97,
   "metadata": {
    "slideshow": {
     "slide_type": "subslide"
    }
   },
   "outputs": [
    {
     "name": "stdout",
     "output_type": "stream",
     "text": [
      "\u001b[34mdef\u001b[39;49;00m \u001b[32massign_test\u001b[39;49;00m(x):\n",
      "    fourty_two = forty_two = _data.set(\u001b[33m'\u001b[39;49;00m\u001b[33mforty_two\u001b[39;49;00m\u001b[33m'\u001b[39;49;00m, _data.set(\u001b[33m'\u001b[39;49;00m\u001b[33mfourty_two\u001b[39;49;00m\u001b[33m'\u001b[39;49;00m, \u001b[34m42\u001b[39;49;00m)\n",
      "        )\n",
      "    a, b, c = _data.set(\u001b[33m'\u001b[39;49;00m\u001b[33mc\u001b[39;49;00m\u001b[33m'\u001b[39;49;00m, _data.set(\u001b[33m'\u001b[39;49;00m\u001b[33mb\u001b[39;49;00m\u001b[33m'\u001b[39;49;00m, _data.set(\u001b[33m'\u001b[39;49;00m\u001b[33ma\u001b[39;49;00m\u001b[33m'\u001b[39;49;00m, (\u001b[34m1\u001b[39;49;00m, \u001b[34m2\u001b[39;49;00m, \u001b[34m3\u001b[39;49;00m))))\n",
      "    _data.get(\u001b[33m'\u001b[39;49;00m\u001b[33mc\u001b[39;49;00m\u001b[33m'\u001b[39;49;00m, c)[_data.get(\u001b[33m'\u001b[39;49;00m\u001b[33md\u001b[39;49;00m\u001b[33m'\u001b[39;49;00m, d)[_data.get(\u001b[33m'\u001b[39;49;00m\u001b[33mx\u001b[39;49;00m\u001b[33m'\u001b[39;49;00m, x)]].attr = _data.set(\n",
      "        \u001b[33m'\u001b[39;49;00m\u001b[33mc\u001b[39;49;00m\u001b[33m'\u001b[39;49;00m, \u001b[34m47\u001b[39;49;00m, loads=(_data.get(\u001b[33m'\u001b[39;49;00m\u001b[33md\u001b[39;49;00m\u001b[33m'\u001b[39;49;00m, d), _data.get(\u001b[33m'\u001b[39;49;00m\u001b[33mx\u001b[39;49;00m\u001b[33m'\u001b[39;49;00m, x), _data.get(\u001b[33m'\u001b[39;49;00m\u001b[33mc\u001b[39;49;00m\u001b[33m'\u001b[39;49;00m,\n",
      "        c)))\n",
      "    foo *= _data.augment(\u001b[33m'\u001b[39;49;00m\u001b[33mfoo\u001b[39;49;00m\u001b[33m'\u001b[39;49;00m, _data.get(\u001b[33m'\u001b[39;49;00m\u001b[33mbar\u001b[39;49;00m\u001b[33m'\u001b[39;49;00m, bar) + \u001b[34m1\u001b[39;49;00m)"
     ]
    }
   ],
   "source": [
    "TrackGetTransformer().visit(assign_tree)\n",
    "dump_tree(assign_tree)"
   ]
  },
  {
   "cell_type": "markdown",
   "metadata": {
    "slideshow": {
     "slide_type": "subslide"
    }
   },
   "source": [
    "### End of Excursion"
   ]
  },
  {
   "cell_type": "markdown",
   "metadata": {
    "slideshow": {
     "slide_type": "fragment"
    }
   },
   "source": [
    "Each return statement `return x` is transformed to `return _data.set('<return_value>', x)`. This allows to __track return values__."
   ]
  },
  {
   "cell_type": "markdown",
   "metadata": {
    "slideshow": {
     "slide_type": "subslide"
    }
   },
   "source": [
    "### Excursion: Tracking Return Values"
   ]
  },
  {
   "cell_type": "markdown",
   "metadata": {
    "slideshow": {
     "slide_type": "fragment"
    }
   },
   "source": [
    "Our `TrackReturnTransformer` also makes use of `make_set_data()`."
   ]
  },
  {
   "cell_type": "code",
   "execution_count": 98,
   "metadata": {
    "slideshow": {
     "slide_type": "subslide"
    }
   },
   "outputs": [],
   "source": [
    "class TrackReturnTransformer(NodeTransformer):\n",
    "    def __init__(self):\n",
    "        self.function_name = None\n",
    "        super().__init__()\n",
    "\n",
    "    def visit_FunctionDef(self, node):\n",
    "        outer_name = self.function_name\n",
    "        self.function_name = node.name  # Save current name\n",
    "        self.generic_visit(node)\n",
    "        self.function_name = outer_name\n",
    "        return node\n",
    "\n",
    "    def visit_AsyncFunctionDef(self, node):\n",
    "        return self.visit_FunctionDef(node)\n",
    "\n",
    "    def return_value(self, tp=\"return\"):\n",
    "        if self.function_name is None:\n",
    "            return f\"<{tp} value>\"\n",
    "        else:\n",
    "            return f\"<{self.function_name}() {tp} value>\"\n",
    "\n",
    "    def visit_return_or_yield(self, node, tp=\"return\"):\n",
    "        if node.value is not None:\n",
    "            value = astor.to_source(node.value)\n",
    "            if not value.startswith(DATA_TRACKER + '.set'):\n",
    "                node.value = make_set_data(self.return_value(tp), node.value)\n",
    "\n",
    "        return node\n",
    "\n",
    "    def visit_Return(self, node):\n",
    "        return self.visit_return_or_yield(node, tp=\"return\")\n",
    "\n",
    "    def visit_Yield(self, node):\n",
    "        return self.visit_return_or_yield(node, tp=\"yield\")\n",
    "\n",
    "    def visit_YieldFrom(self, node):\n",
    "        return self.visit_return_or_yield(node, tp=\"yield\")"
   ]
  },
  {
   "cell_type": "markdown",
   "metadata": {
    "slideshow": {
     "slide_type": "subslide"
    }
   },
   "source": [
    "This is the effect of `TrackReturnTransformer`. We see that all return values are saved, and thus all locations of the corresponding return statements are tracked."
   ]
  },
  {
   "cell_type": "code",
   "execution_count": 99,
   "metadata": {
    "slideshow": {
     "slide_type": "subslide"
    }
   },
   "outputs": [
    {
     "name": "stdout",
     "output_type": "stream",
     "text": [
      "\u001b[34mdef\u001b[39;49;00m \u001b[32mmiddle\u001b[39;49;00m(x, y, z):\n",
      "    \u001b[34mif\u001b[39;49;00m _data.get(\u001b[33m'\u001b[39;49;00m\u001b[33my\u001b[39;49;00m\u001b[33m'\u001b[39;49;00m, y) < _data.get(\u001b[33m'\u001b[39;49;00m\u001b[33mz\u001b[39;49;00m\u001b[33m'\u001b[39;49;00m, z):\n",
      "        \u001b[34mif\u001b[39;49;00m _data.get(\u001b[33m'\u001b[39;49;00m\u001b[33mx\u001b[39;49;00m\u001b[33m'\u001b[39;49;00m, x) < _data.get(\u001b[33m'\u001b[39;49;00m\u001b[33my\u001b[39;49;00m\u001b[33m'\u001b[39;49;00m, y):\n",
      "            \u001b[34mreturn\u001b[39;49;00m _data.set(\u001b[33m'\u001b[39;49;00m\u001b[33m<middle() return value>\u001b[39;49;00m\u001b[33m'\u001b[39;49;00m, _data.get(\u001b[33m'\u001b[39;49;00m\u001b[33my\u001b[39;49;00m\u001b[33m'\u001b[39;49;00m, y))\n",
      "        \u001b[34melif\u001b[39;49;00m _data.get(\u001b[33m'\u001b[39;49;00m\u001b[33mx\u001b[39;49;00m\u001b[33m'\u001b[39;49;00m, x) < _data.get(\u001b[33m'\u001b[39;49;00m\u001b[33mz\u001b[39;49;00m\u001b[33m'\u001b[39;49;00m, z):\n",
      "            \u001b[34mreturn\u001b[39;49;00m _data.set(\u001b[33m'\u001b[39;49;00m\u001b[33m<middle() return value>\u001b[39;49;00m\u001b[33m'\u001b[39;49;00m, _data.get(\u001b[33m'\u001b[39;49;00m\u001b[33my\u001b[39;49;00m\u001b[33m'\u001b[39;49;00m, y))\n",
      "    \u001b[34melif\u001b[39;49;00m _data.get(\u001b[33m'\u001b[39;49;00m\u001b[33mx\u001b[39;49;00m\u001b[33m'\u001b[39;49;00m, x) > _data.get(\u001b[33m'\u001b[39;49;00m\u001b[33my\u001b[39;49;00m\u001b[33m'\u001b[39;49;00m, y):\n",
      "        \u001b[34mreturn\u001b[39;49;00m _data.set(\u001b[33m'\u001b[39;49;00m\u001b[33m<middle() return value>\u001b[39;49;00m\u001b[33m'\u001b[39;49;00m, _data.get(\u001b[33m'\u001b[39;49;00m\u001b[33my\u001b[39;49;00m\u001b[33m'\u001b[39;49;00m, y))\n",
      "    \u001b[34melif\u001b[39;49;00m _data.get(\u001b[33m'\u001b[39;49;00m\u001b[33mx\u001b[39;49;00m\u001b[33m'\u001b[39;49;00m, x) > _data.get(\u001b[33m'\u001b[39;49;00m\u001b[33mz\u001b[39;49;00m\u001b[33m'\u001b[39;49;00m, z):\n",
      "        \u001b[34mreturn\u001b[39;49;00m _data.set(\u001b[33m'\u001b[39;49;00m\u001b[33m<middle() return value>\u001b[39;49;00m\u001b[33m'\u001b[39;49;00m, _data.get(\u001b[33m'\u001b[39;49;00m\u001b[33mx\u001b[39;49;00m\u001b[33m'\u001b[39;49;00m, x))\n",
      "    \u001b[34mreturn\u001b[39;49;00m _data.set(\u001b[33m'\u001b[39;49;00m\u001b[33m<middle() return value>\u001b[39;49;00m\u001b[33m'\u001b[39;49;00m, _data.get(\u001b[33m'\u001b[39;49;00m\u001b[33mz\u001b[39;49;00m\u001b[33m'\u001b[39;49;00m, z))"
     ]
    }
   ],
   "source": [
    "TrackReturnTransformer().visit(middle_tree)\n",
    "dump_tree(middle_tree)"
   ]
  },
  {
   "cell_type": "code",
   "execution_count": 100,
   "metadata": {
    "slideshow": {
     "slide_type": "subslide"
    }
   },
   "outputs": [
    {
     "name": "stdout",
     "output_type": "stream",
     "text": [
      "middle:2: getting y\n",
      "middle:2: getting z\n",
      "middle:3: getting x\n",
      "middle:3: getting y\n",
      "middle:5: getting x\n",
      "middle:5: getting z\n",
      "middle:6: getting y\n",
      "middle:6: setting <middle() return value>\n"
     ]
    }
   ],
   "source": [
    "with DataTrackerTester(middle_tree, middle):\n",
    "    middle(2, 1, 3)"
   ]
  },
  {
   "cell_type": "markdown",
   "metadata": {
    "slideshow": {
     "slide_type": "subslide"
    }
   },
   "source": [
    "### End of Excursion"
   ]
  },
  {
   "cell_type": "markdown",
   "metadata": {
    "slideshow": {
     "slide_type": "subslide"
    }
   },
   "source": [
    "To track __control dependencies__, for every block controlled by an `if`, `while`, or `for`:\n",
    "\n",
    "1. We wrap their tests in a `_data.test()` wrapper. This allows us to assign pseudo-variables like `<test>` which hold the conditions.\n",
    "2. We wrap their controlled blocks in a `with` statement. This allows us to track the variables read right before the `with` (= the controlling variables), and to restore the current controlling variables when the block is left.\n",
    "\n",
    "A statement\n",
    "\n",
    "```python\n",
    "if cond:\n",
    "    body\n",
    "```\n",
    "\n",
    "thus becomes\n",
    "\n",
    "```python\n",
    "if _data.test(cond):\n",
    "    with _data:\n",
    "        body\n",
    "```"
   ]
  },
  {
   "cell_type": "markdown",
   "metadata": {
    "slideshow": {
     "slide_type": "subslide"
    }
   },
   "source": [
    "### Excursion: Tracking Control"
   ]
  },
  {
   "cell_type": "markdown",
   "metadata": {
    "slideshow": {
     "slide_type": "fragment"
    }
   },
   "source": [
    "To modify control statements, we traverse the tree, looking for `If` nodes:"
   ]
  },
  {
   "cell_type": "code",
   "execution_count": 101,
   "metadata": {
    "slideshow": {
     "slide_type": "fragment"
    }
   },
   "outputs": [],
   "source": [
    "class TrackControlTransformer(NodeTransformer):\n",
    "    def visit_If(self, node):\n",
    "        self.generic_visit(node)\n",
    "        node.test = self.make_test(node.test)\n",
    "        node.body = self.make_with(node.body)\n",
    "        node.orelse = self.make_with(node.orelse)\n",
    "        return node"
   ]
  },
  {
   "cell_type": "markdown",
   "metadata": {
    "slideshow": {
     "slide_type": "fragment"
    }
   },
   "source": [
    "The subtrees come from helper functions `make_with()` and `make_test()`. Again, all these subtrees are obtained via `ast.dump()`."
   ]
  },
  {
   "cell_type": "code",
   "execution_count": 102,
   "metadata": {
    "slideshow": {
     "slide_type": "subslide"
    }
   },
   "outputs": [],
   "source": [
    "class TrackControlTransformer(TrackControlTransformer):\n",
    "    def make_with(self, block):\n",
    "        \"\"\"Create a subtree 'with _data: `block`'\"\"\"\n",
    "        if len(block) == 0:\n",
    "            return []\n",
    "\n",
    "        block_as_text = astor.to_source(block[0])\n",
    "        if block_as_text.startswith('with ' + DATA_TRACKER):\n",
    "            return block  # Do not apply twice\n",
    "\n",
    "        new_node = With(\n",
    "            items=[\n",
    "                withitem(\n",
    "                    context_expr=Name(id=DATA_TRACKER, ctx=Load()),\n",
    "                    optional_vars=None)\n",
    "            ],\n",
    "            body=block\n",
    "        )\n",
    "        ast.copy_location(new_node, block[0])\n",
    "        return [new_node]"
   ]
  },
  {
   "cell_type": "code",
   "execution_count": 103,
   "metadata": {
    "slideshow": {
     "slide_type": "subslide"
    }
   },
   "outputs": [],
   "source": [
    "class TrackControlTransformer(TrackControlTransformer):\n",
    "    def make_test(self, test):\n",
    "        test_as_text = astor.to_source(test)\n",
    "        if test_as_text.startswith(DATA_TRACKER + '.test'):\n",
    "            return test  # Do not apply twice\n",
    "\n",
    "        new_test = Call(func=Attribute(value=Name(id=DATA_TRACKER, ctx=Load()),\n",
    "                                       attr='test',\n",
    "                                       ctx=Load()),\n",
    "                         args=[test],\n",
    "                         keywords=[])\n",
    "        ast.copy_location(new_test, test)\n",
    "        return new_test"
   ]
  },
  {
   "cell_type": "markdown",
   "metadata": {
    "slideshow": {
     "slide_type": "fragment"
    }
   },
   "source": [
    "`while` loops are handled just like `if` constructs."
   ]
  },
  {
   "cell_type": "code",
   "execution_count": 104,
   "metadata": {
    "slideshow": {
     "slide_type": "subslide"
    }
   },
   "outputs": [],
   "source": [
    "class TrackControlTransformer(TrackControlTransformer):\n",
    "    def visit_While(self, node):\n",
    "        self.generic_visit(node)\n",
    "        node.test = self.make_test(node.test)\n",
    "        node.body = self.make_with(node.body)\n",
    "        node.orelse = self.make_with(node.orelse)\n",
    "        return node"
   ]
  },
  {
   "cell_type": "markdown",
   "metadata": {
    "slideshow": {
     "slide_type": "fragment"
    }
   },
   "source": [
    "`for` loops gets a different treatment, as there is no condition that would control the body. Still, we ensure that setting the iterator variable is properly tracked."
   ]
  },
  {
   "cell_type": "code",
   "execution_count": 105,
   "metadata": {
    "slideshow": {
     "slide_type": "subslide"
    }
   },
   "outputs": [],
   "source": [
    "class TrackControlTransformer(TrackControlTransformer):\n",
    "    # regular `for` loop\n",
    "    def visit_For(self, node):\n",
    "        self.generic_visit(node)\n",
    "        id = astor.to_source(node.target).strip()\n",
    "        node.iter = make_set_data(id, node.iter)\n",
    "\n",
    "        # Uncomment if you want iterators to control their bodies\n",
    "        # node.body = self.make_with(node.body)\n",
    "        # node.orelse = self.make_with(node.orelse)\n",
    "        return node\n",
    "\n",
    "    # `for` loops in async functions\n",
    "    def visit_AsyncFor(self, node):\n",
    "        return self.visit_For(node)\n",
    "\n",
    "    # `for` clause in comprehensions\n",
    "    def visit_comprehension(self, node):\n",
    "        self.generic_visit(node)\n",
    "        id = astor.to_source(node.target).strip()\n",
    "        node.iter = make_set_data(id, node.iter)\n",
    "        return node"
   ]
  },
  {
   "cell_type": "markdown",
   "metadata": {
    "slideshow": {
     "slide_type": "subslide"
    }
   },
   "source": [
    "Here is the effect of `TrackControlTransformer`:"
   ]
  },
  {
   "cell_type": "code",
   "execution_count": 106,
   "metadata": {
    "slideshow": {
     "slide_type": "subslide"
    }
   },
   "outputs": [
    {
     "name": "stdout",
     "output_type": "stream",
     "text": [
      "\u001b[34mdef\u001b[39;49;00m \u001b[32mmiddle\u001b[39;49;00m(x, y, z):\n",
      "    \u001b[34mif\u001b[39;49;00m _data.test(_data.get(\u001b[33m'\u001b[39;49;00m\u001b[33my\u001b[39;49;00m\u001b[33m'\u001b[39;49;00m, y) < _data.get(\u001b[33m'\u001b[39;49;00m\u001b[33mz\u001b[39;49;00m\u001b[33m'\u001b[39;49;00m, z)):\n",
      "        \u001b[34mwith\u001b[39;49;00m _data:\n",
      "            \u001b[34mif\u001b[39;49;00m _data.test(_data.get(\u001b[33m'\u001b[39;49;00m\u001b[33mx\u001b[39;49;00m\u001b[33m'\u001b[39;49;00m, x) < _data.get(\u001b[33m'\u001b[39;49;00m\u001b[33my\u001b[39;49;00m\u001b[33m'\u001b[39;49;00m, y)):\n",
      "                \u001b[34mwith\u001b[39;49;00m _data:\n",
      "                    \u001b[34mreturn\u001b[39;49;00m _data.set(\u001b[33m'\u001b[39;49;00m\u001b[33m<middle() return value>\u001b[39;49;00m\u001b[33m'\u001b[39;49;00m, _data.get(\n",
      "                        \u001b[33m'\u001b[39;49;00m\u001b[33my\u001b[39;49;00m\u001b[33m'\u001b[39;49;00m, y))\n",
      "            \u001b[34melse\u001b[39;49;00m:\n",
      "                \u001b[34mwith\u001b[39;49;00m _data:\n",
      "                    \u001b[34mif\u001b[39;49;00m _data.test(_data.get(\u001b[33m'\u001b[39;49;00m\u001b[33mx\u001b[39;49;00m\u001b[33m'\u001b[39;49;00m, x) < _data.get(\u001b[33m'\u001b[39;49;00m\u001b[33mz\u001b[39;49;00m\u001b[33m'\u001b[39;49;00m, z)):\n",
      "                        \u001b[34mwith\u001b[39;49;00m _data:\n",
      "                            \u001b[34mreturn\u001b[39;49;00m _data.set(\u001b[33m'\u001b[39;49;00m\u001b[33m<middle() return value>\u001b[39;49;00m\u001b[33m'\u001b[39;49;00m,\n",
      "                                _data.get(\u001b[33m'\u001b[39;49;00m\u001b[33my\u001b[39;49;00m\u001b[33m'\u001b[39;49;00m, y))\n",
      "    \u001b[34melse\u001b[39;49;00m:\n",
      "        \u001b[34mwith\u001b[39;49;00m _data:\n",
      "            \u001b[34mif\u001b[39;49;00m _data.test(_data.get(\u001b[33m'\u001b[39;49;00m\u001b[33mx\u001b[39;49;00m\u001b[33m'\u001b[39;49;00m, x) > _data.get(\u001b[33m'\u001b[39;49;00m\u001b[33my\u001b[39;49;00m\u001b[33m'\u001b[39;49;00m, y)):\n",
      "                \u001b[34mwith\u001b[39;49;00m _data:\n",
      "                    \u001b[34mreturn\u001b[39;49;00m _data.set(\u001b[33m'\u001b[39;49;00m\u001b[33m<middle() return value>\u001b[39;49;00m\u001b[33m'\u001b[39;49;00m, _data.get(\n",
      "                        \u001b[33m'\u001b[39;49;00m\u001b[33my\u001b[39;49;00m\u001b[33m'\u001b[39;49;00m, y))\n",
      "            \u001b[34melse\u001b[39;49;00m:\n",
      "                \u001b[34mwith\u001b[39;49;00m _data:\n",
      "                    \u001b[34mif\u001b[39;49;00m _data.test(_data.get(\u001b[33m'\u001b[39;49;00m\u001b[33mx\u001b[39;49;00m\u001b[33m'\u001b[39;49;00m, x) > _data.get(\u001b[33m'\u001b[39;49;00m\u001b[33mz\u001b[39;49;00m\u001b[33m'\u001b[39;49;00m, z)):\n",
      "                        \u001b[34mwith\u001b[39;49;00m _data:\n",
      "                            \u001b[34mreturn\u001b[39;49;00m _data.set(\u001b[33m'\u001b[39;49;00m\u001b[33m<middle() return value>\u001b[39;49;00m\u001b[33m'\u001b[39;49;00m,\n",
      "                                _data.get(\u001b[33m'\u001b[39;49;00m\u001b[33mx\u001b[39;49;00m\u001b[33m'\u001b[39;49;00m, x))\n",
      "    \u001b[34mreturn\u001b[39;49;00m _data.set(\u001b[33m'\u001b[39;49;00m\u001b[33m<middle() return value>\u001b[39;49;00m\u001b[33m'\u001b[39;49;00m, _data.get(\u001b[33m'\u001b[39;49;00m\u001b[33mz\u001b[39;49;00m\u001b[33m'\u001b[39;49;00m, z))"
     ]
    }
   ],
   "source": [
    "TrackControlTransformer().visit(middle_tree)\n",
    "dump_tree(middle_tree)"
   ]
  },
  {
   "cell_type": "markdown",
   "metadata": {
    "slideshow": {
     "slide_type": "subslide"
    }
   },
   "source": [
    "We extend `DataTracker` to also log these events:"
   ]
  },
  {
   "cell_type": "code",
   "execution_count": 107,
   "metadata": {
    "slideshow": {
     "slide_type": "fragment"
    }
   },
   "outputs": [],
   "source": [
    "class DataTracker(DataTracker):\n",
    "    def test(self, cond):\n",
    "        if self.log:\n",
    "            caller_func, lineno = self.caller_location()\n",
    "            print(f\"{caller_func.__name__}:{lineno}: testing condition\")\n",
    "\n",
    "        return cond"
   ]
  },
  {
   "cell_type": "code",
   "execution_count": 108,
   "metadata": {
    "slideshow": {
     "slide_type": "subslide"
    }
   },
   "outputs": [],
   "source": [
    "class DataTracker(DataTracker):\n",
    "    def __enter__(self):\n",
    "        if self.log:\n",
    "            caller_func, lineno = self.caller_location()\n",
    "            print(f\"{caller_func.__name__}:{lineno}: entering block\")\n",
    "\n",
    "    def __exit__(self, exc_type, exc_value, traceback):\n",
    "        if self.log:\n",
    "            caller_func, lineno = self.caller_location()\n",
    "            print(f\"{caller_func.__name__}:{lineno}: exiting block\")"
   ]
  },
  {
   "cell_type": "code",
   "execution_count": 109,
   "metadata": {
    "slideshow": {
     "slide_type": "subslide"
    }
   },
   "outputs": [
    {
     "name": "stdout",
     "output_type": "stream",
     "text": [
      "middle:2: getting y\n",
      "middle:2: getting z\n",
      "middle:2: testing condition\n",
      "middle:3: entering block\n",
      "middle:3: getting x\n",
      "middle:3: getting y\n",
      "middle:3: testing condition\n",
      "middle:5: entering block\n",
      "middle:5: getting x\n",
      "middle:5: getting z\n",
      "middle:5: testing condition\n",
      "middle:6: entering block\n",
      "middle:6: getting y\n",
      "middle:6: setting <middle() return value>\n",
      "middle:6: exiting block\n",
      "middle:6: exiting block\n",
      "middle:6: exiting block\n"
     ]
    }
   ],
   "source": [
    "with DataTrackerTester(middle_tree, middle):\n",
    "    middle(2, 1, 3)"
   ]
  },
  {
   "cell_type": "markdown",
   "metadata": {
    "slideshow": {
     "slide_type": "subslide"
    }
   },
   "source": [
    "### End of Excursion"
   ]
  },
  {
   "cell_type": "markdown",
   "metadata": {
    "slideshow": {
     "slide_type": "subslide"
    }
   },
   "source": [
    "We also want to be able to __track calls__ across multiple functions. To this end, we wrap each call\n",
    "\n",
    "```python\n",
    "func(arg1, arg2, ...)\n",
    "```\n",
    "\n",
    "into\n",
    "\n",
    "```python\n",
    "_data.ret(_data.call(func)(_data.arg(arg1), _data.arg(arg2), ...))\n",
    "```\n",
    "\n",
    "each of which simply pass through their given argument, but which allow to track the beginning of calls (`call()`), the computation of arguments (`arg()`), and the return of the call (`ret()`), respectively."
   ]
  },
  {
   "cell_type": "markdown",
   "metadata": {
    "slideshow": {
     "slide_type": "subslide"
    }
   },
   "source": [
    "### Excursion: Tracking Calls and Arguments"
   ]
  },
  {
   "cell_type": "markdown",
   "metadata": {
    "slideshow": {
     "slide_type": "fragment"
    }
   },
   "source": [
    "Our `TrackCallTransformer` visits all `Call` nodes, applying the transformations as shown above."
   ]
  },
  {
   "cell_type": "code",
   "execution_count": 110,
   "metadata": {
    "slideshow": {
     "slide_type": "subslide"
    }
   },
   "outputs": [],
   "source": [
    "class TrackCallTransformer(NodeTransformer):\n",
    "    def make_call(self, node, func, pos=None, kw=None):\n",
    "        \"\"\"Return _data.call(`func`)(`node`)\"\"\"\n",
    "        keywords = []\n",
    "\n",
    "        # `Num()` and `Str()` are deprecated in favor of `Constant()`\n",
    "        if pos:\n",
    "            keywords.append(keyword(arg='pos', value=ast.Num(pos)))\n",
    "        if kw:\n",
    "            keywords.append(keyword(arg='kw', value=ast.Str(kw)))\n",
    "\n",
    "        return Call(func=Attribute(value=Name(id=DATA_TRACKER,\n",
    "                                              ctx=Load()),\n",
    "                                   attr=func,\n",
    "                                   ctx=Load()),\n",
    "                     args=[node],\n",
    "                     keywords=keywords)\n",
    "\n",
    "    def visit_Call(self, node):\n",
    "        self.generic_visit(node)\n",
    "\n",
    "        call_as_text = astor.to_source(node)\n",
    "        if call_as_text.startswith(DATA_TRACKER + '.ret'):\n",
    "            return node  # Already applied\n",
    "\n",
    "        func_as_text = astor.to_source(node)\n",
    "        if func_as_text.startswith(DATA_TRACKER + '.'):\n",
    "            return node  # Own function\n",
    "\n",
    "        new_args = []\n",
    "        for n, arg in enumerate(node.args):\n",
    "            new_args.append(self.make_call(arg, 'arg', pos=n + 1))\n",
    "        node.args = new_args\n",
    "\n",
    "        for kw in node.keywords:\n",
    "            id = kw.arg if hasattr(kw, 'arg') else None\n",
    "            kw.value = self.make_call(kw.value, 'arg', kw=id)\n",
    "\n",
    "        node.func = self.make_call(node.func, 'call')\n",
    "        return self.make_call(node, 'ret')"
   ]
  },
  {
   "cell_type": "markdown",
   "metadata": {
    "slideshow": {
     "slide_type": "subslide"
    }
   },
   "source": [
    "Our example function `middle()` does not contain any calls, but here is a function that invokes `middle()` twice:"
   ]
  },
  {
   "cell_type": "code",
   "execution_count": 111,
   "metadata": {
    "slideshow": {
     "slide_type": "fragment"
    }
   },
   "outputs": [],
   "source": [
    "def test_call():\n",
    "    x = middle(1, 2, z=middle(1, 2, 3))\n",
    "    return x"
   ]
  },
  {
   "cell_type": "code",
   "execution_count": 112,
   "metadata": {
    "slideshow": {
     "slide_type": "fragment"
    }
   },
   "outputs": [
    {
     "name": "stdout",
     "output_type": "stream",
     "text": [
      "\u001b[34mdef\u001b[39;49;00m \u001b[32mtest_call\u001b[39;49;00m():\n",
      "    x = middle(\u001b[34m1\u001b[39;49;00m, \u001b[34m2\u001b[39;49;00m, z=middle(\u001b[34m1\u001b[39;49;00m, \u001b[34m2\u001b[39;49;00m, \u001b[34m3\u001b[39;49;00m))\n",
      "    \u001b[34mreturn\u001b[39;49;00m x"
     ]
    }
   ],
   "source": [
    "call_tree = ast.parse(inspect.getsource(test_call))\n",
    "dump_tree(call_tree)"
   ]
  },
  {
   "cell_type": "markdown",
   "metadata": {
    "slideshow": {
     "slide_type": "fragment"
    }
   },
   "source": [
    "If we invoke `TrackCallTransformer` on this testing function, we get the following transformed code:"
   ]
  },
  {
   "cell_type": "code",
   "execution_count": 113,
   "metadata": {
    "slideshow": {
     "slide_type": "fragment"
    }
   },
   "outputs": [],
   "source": [
    "TrackCallTransformer().visit(call_tree);"
   ]
  },
  {
   "cell_type": "code",
   "execution_count": 114,
   "metadata": {
    "slideshow": {
     "slide_type": "subslide"
    }
   },
   "outputs": [
    {
     "name": "stdout",
     "output_type": "stream",
     "text": [
      "\u001b[34mdef\u001b[39;49;00m \u001b[32mtest_call\u001b[39;49;00m():\n",
      "    x = _data.ret(_data.call(middle)(_data.arg(\u001b[34m1\u001b[39;49;00m, pos=\u001b[34m1\u001b[39;49;00m), _data.arg(\u001b[34m2\u001b[39;49;00m, pos=\n",
      "        \u001b[34m2\u001b[39;49;00m), z=_data.arg(_data.ret(_data.call(middle)(_data.arg(\u001b[34m1\u001b[39;49;00m, pos=\u001b[34m1\u001b[39;49;00m),\n",
      "        _data.arg(\u001b[34m2\u001b[39;49;00m, pos=\u001b[34m2\u001b[39;49;00m), _data.arg(\u001b[34m3\u001b[39;49;00m, pos=\u001b[34m3\u001b[39;49;00m))), kw=\u001b[33m'\u001b[39;49;00m\u001b[33mz\u001b[39;49;00m\u001b[33m'\u001b[39;49;00m)))\n",
      "    \u001b[34mreturn\u001b[39;49;00m x"
     ]
    }
   ],
   "source": [
    "dump_tree(call_tree)"
   ]
  },
  {
   "cell_type": "code",
   "execution_count": 115,
   "metadata": {
    "slideshow": {
     "slide_type": "fragment"
    }
   },
   "outputs": [],
   "source": [
    "def f():\n",
    "    return math.isclose(1, 1.0)"
   ]
  },
  {
   "cell_type": "code",
   "execution_count": 116,
   "metadata": {
    "slideshow": {
     "slide_type": "fragment"
    }
   },
   "outputs": [
    {
     "name": "stdout",
     "output_type": "stream",
     "text": [
      "\u001b[34mdef\u001b[39;49;00m \u001b[32mf\u001b[39;49;00m():\n",
      "    \u001b[34mreturn\u001b[39;49;00m math.isclose(\u001b[34m1\u001b[39;49;00m, \u001b[34m1.0\u001b[39;49;00m)"
     ]
    }
   ],
   "source": [
    "f_tree = ast.parse(inspect.getsource(f))\n",
    "dump_tree(f_tree)"
   ]
  },
  {
   "cell_type": "code",
   "execution_count": 117,
   "metadata": {
    "slideshow": {
     "slide_type": "fragment"
    }
   },
   "outputs": [],
   "source": [
    "TrackCallTransformer().visit(f_tree);"
   ]
  },
  {
   "cell_type": "code",
   "execution_count": 118,
   "metadata": {
    "slideshow": {
     "slide_type": "subslide"
    }
   },
   "outputs": [
    {
     "name": "stdout",
     "output_type": "stream",
     "text": [
      "\u001b[34mdef\u001b[39;49;00m \u001b[32mf\u001b[39;49;00m():\n",
      "    \u001b[34mreturn\u001b[39;49;00m _data.ret(_data.call(math.isclose)(_data.arg(\u001b[34m1\u001b[39;49;00m, pos=\u001b[34m1\u001b[39;49;00m), _data.\n",
      "        arg(\u001b[34m1.0\u001b[39;49;00m, pos=\u001b[34m2\u001b[39;49;00m)))"
     ]
    }
   ],
   "source": [
    "dump_tree(f_tree)"
   ]
  },
  {
   "cell_type": "markdown",
   "metadata": {
    "slideshow": {
     "slide_type": "fragment"
    }
   },
   "source": [
    "As before, our default `arg()`, `ret()`, and `call()` methods simply log the event and pass through the given value."
   ]
  },
  {
   "cell_type": "code",
   "execution_count": 119,
   "metadata": {
    "slideshow": {
     "slide_type": "subslide"
    }
   },
   "outputs": [],
   "source": [
    "class DataTracker(DataTracker):\n",
    "    def arg(self, value, pos=None, kw=None):\n",
    "        if self.log:\n",
    "            caller_func, lineno = self.caller_location()\n",
    "            info = \"\"\n",
    "            if pos:\n",
    "                info += f\" #{pos}\"\n",
    "            if kw:\n",
    "                info += f\" {repr(kw)}\"\n",
    "\n",
    "            print(f\"{caller_func.__name__}:{lineno}: pushing arg{info}\")\n",
    "\n",
    "        return value"
   ]
  },
  {
   "cell_type": "code",
   "execution_count": 120,
   "metadata": {
    "slideshow": {
     "slide_type": "subslide"
    }
   },
   "outputs": [],
   "source": [
    "class DataTracker(DataTracker):\n",
    "    def ret(self, value):\n",
    "        if self.log:\n",
    "            caller_func, lineno = self.caller_location()\n",
    "            print(f\"{caller_func.__name__}:{lineno}: returned from call\")\n",
    "\n",
    "        return value"
   ]
  },
  {
   "cell_type": "code",
   "execution_count": 121,
   "metadata": {
    "slideshow": {
     "slide_type": "fragment"
    }
   },
   "outputs": [],
   "source": [
    "class DataTracker(DataTracker):\n",
    "    def call(self, func):\n",
    "        if self.log:\n",
    "            caller_func, lineno = self.caller_location()\n",
    "            print(f\"{caller_func.__name__}:{lineno}: calling {func}\")\n",
    "\n",
    "        return func"
   ]
  },
  {
   "cell_type": "code",
   "execution_count": 122,
   "metadata": {
    "slideshow": {
     "slide_type": "subslide"
    }
   },
   "outputs": [
    {
     "name": "stdout",
     "output_type": "stream",
     "text": [
      "\u001b[34mdef\u001b[39;49;00m \u001b[32mtest_call\u001b[39;49;00m():\n",
      "    x = _data.ret(_data.call(middle)(_data.arg(\u001b[34m1\u001b[39;49;00m, pos=\u001b[34m1\u001b[39;49;00m), _data.arg(\u001b[34m2\u001b[39;49;00m, pos=\n",
      "        \u001b[34m2\u001b[39;49;00m), z=_data.arg(_data.ret(_data.call(middle)(_data.arg(\u001b[34m1\u001b[39;49;00m, pos=\u001b[34m1\u001b[39;49;00m),\n",
      "        _data.arg(\u001b[34m2\u001b[39;49;00m, pos=\u001b[34m2\u001b[39;49;00m), _data.arg(\u001b[34m3\u001b[39;49;00m, pos=\u001b[34m3\u001b[39;49;00m))), kw=\u001b[33m'\u001b[39;49;00m\u001b[33mz\u001b[39;49;00m\u001b[33m'\u001b[39;49;00m)))\n",
      "    \u001b[34mreturn\u001b[39;49;00m x"
     ]
    }
   ],
   "source": [
    "dump_tree(call_tree)"
   ]
  },
  {
   "cell_type": "code",
   "execution_count": 123,
   "metadata": {
    "slideshow": {
     "slide_type": "subslide"
    }
   },
   "outputs": [
    {
     "name": "stdout",
     "output_type": "stream",
     "text": [
      "test_call:2: calling <function middle at 0x7fe3e15c16a8>\n",
      "test_call:2: pushing arg #1\n",
      "test_call:2: pushing arg #2\n",
      "test_call:2: calling <function middle at 0x7fe3e15c16a8>\n",
      "test_call:2: pushing arg #1\n",
      "test_call:2: pushing arg #2\n",
      "test_call:2: pushing arg #3\n",
      "test_call:2: returned from call\n",
      "test_call:2: pushing arg 'z'\n",
      "test_call:2: returned from call\n"
     ]
    }
   ],
   "source": [
    "with DataTrackerTester(call_tree, test_call):\n",
    "    test_call()"
   ]
  },
  {
   "cell_type": "code",
   "execution_count": 124,
   "metadata": {
    "slideshow": {
     "slide_type": "fragment"
    }
   },
   "outputs": [
    {
     "data": {
      "text/plain": [
       "2"
      ]
     },
     "execution_count": 124,
     "metadata": {},
     "output_type": "execute_result"
    }
   ],
   "source": [
    "test_call()"
   ]
  },
  {
   "cell_type": "markdown",
   "metadata": {
    "slideshow": {
     "slide_type": "subslide"
    }
   },
   "source": [
    "### End of Excursion"
   ]
  },
  {
   "cell_type": "markdown",
   "metadata": {
    "slideshow": {
     "slide_type": "fragment"
    }
   },
   "source": [
    "On the receiving end, for each function argument `x`, we insert a call `_data.param('x', x, [position info])` to initialize `x`. This is useful for __tracking parameters across function calls.__"
   ]
  },
  {
   "cell_type": "markdown",
   "metadata": {
    "slideshow": {
     "slide_type": "subslide"
    }
   },
   "source": [
    "### Excursion: Tracking Parameters"
   ]
  },
  {
   "cell_type": "markdown",
   "metadata": {
    "slideshow": {
     "slide_type": "fragment"
    }
   },
   "source": [
    "Again, we use `ast.dump()` to determine the correct syntax tree:"
   ]
  },
  {
   "cell_type": "code",
   "execution_count": 125,
   "metadata": {
    "slideshow": {
     "slide_type": "fragment"
    }
   },
   "outputs": [
    {
     "name": "stdout",
     "output_type": "stream",
     "text": [
      "Module(body=[Expr(value=Call(func=Attribute(value=Name(id='_data', ctx=Load()), attr='param', ctx=Load()), args=[Str(s='x'), Name(id='x', ctx=Load())], keywords=[keyword(arg='pos', value=Num(n=1)), keyword(arg='last', value=NameConstant(value=True))]))])\n"
     ]
    }
   ],
   "source": [
    "print(ast.dump(ast.parse(\"_data.param('x', x, pos=1, last=True)\")))"
   ]
  },
  {
   "cell_type": "code",
   "execution_count": 126,
   "metadata": {
    "slideshow": {
     "slide_type": "subslide"
    }
   },
   "outputs": [],
   "source": [
    "class TrackParamsTransformer(NodeTransformer):\n",
    "    def visit_FunctionDef(self, node):\n",
    "        self.generic_visit(node)\n",
    "\n",
    "        named_args = []\n",
    "        for child in ast.iter_child_nodes(node.args):\n",
    "            if isinstance(child, ast.arg):\n",
    "                named_args.append(child)\n",
    "\n",
    "        create_stmts = []\n",
    "        for n, child in enumerate(named_args):\n",
    "            keywords=[keyword(arg='pos', value=ast.Num(n=n + 1))]\n",
    "            if child is node.args.vararg:\n",
    "                keywords.append(keyword(arg='vararg', value=ast.Str(s='*')))\n",
    "            if child is node.args.kwarg:\n",
    "                keywords.append(keyword(arg='vararg', value=ast.Str(s='**')))\n",
    "            if n == len(named_args) - 1:\n",
    "                keywords.append(keyword(arg='last',\n",
    "                                        value=ast.NameConstant(value=True)))\n",
    "\n",
    "            create_stmt = Expr(\n",
    "                value=Call(\n",
    "                    func=Attribute(value=Name(id=DATA_TRACKER, ctx=Load()),\n",
    "                                   attr='param', ctx=Load()),\n",
    "                    args=[ast.Str(s=child.arg),\n",
    "                          Name(id=child.arg, ctx=Load())\n",
    "                         ],\n",
    "                    keywords=keywords\n",
    "                )\n",
    "            )\n",
    "            ast.copy_location(create_stmt, node)\n",
    "            create_stmts.append(create_stmt)\n",
    "\n",
    "        node.body = create_stmts + node.body\n",
    "        return node"
   ]
  },
  {
   "cell_type": "markdown",
   "metadata": {
    "slideshow": {
     "slide_type": "subslide"
    }
   },
   "source": [
    "This is the effect of `TrackParamsTransformer()`. You see how the first three parameters are all initialized."
   ]
  },
  {
   "cell_type": "code",
   "execution_count": 127,
   "metadata": {
    "slideshow": {
     "slide_type": "subslide"
    }
   },
   "outputs": [
    {
     "name": "stdout",
     "output_type": "stream",
     "text": [
      "\u001b[34mdef\u001b[39;49;00m \u001b[32mmiddle\u001b[39;49;00m(x, y, z):\n",
      "    _data.param(\u001b[33m'\u001b[39;49;00m\u001b[33mx\u001b[39;49;00m\u001b[33m'\u001b[39;49;00m, x, pos=\u001b[34m1\u001b[39;49;00m)\n",
      "    _data.param(\u001b[33m'\u001b[39;49;00m\u001b[33my\u001b[39;49;00m\u001b[33m'\u001b[39;49;00m, y, pos=\u001b[34m2\u001b[39;49;00m)\n",
      "    _data.param(\u001b[33m'\u001b[39;49;00m\u001b[33mz\u001b[39;49;00m\u001b[33m'\u001b[39;49;00m, z, pos=\u001b[34m3\u001b[39;49;00m, last=\u001b[34mTrue\u001b[39;49;00m)\n",
      "    \u001b[34mif\u001b[39;49;00m _data.test(_data.get(\u001b[33m'\u001b[39;49;00m\u001b[33my\u001b[39;49;00m\u001b[33m'\u001b[39;49;00m, y) < _data.get(\u001b[33m'\u001b[39;49;00m\u001b[33mz\u001b[39;49;00m\u001b[33m'\u001b[39;49;00m, z)):\n",
      "        \u001b[34mwith\u001b[39;49;00m _data:\n",
      "            \u001b[34mif\u001b[39;49;00m _data.test(_data.get(\u001b[33m'\u001b[39;49;00m\u001b[33mx\u001b[39;49;00m\u001b[33m'\u001b[39;49;00m, x) < _data.get(\u001b[33m'\u001b[39;49;00m\u001b[33my\u001b[39;49;00m\u001b[33m'\u001b[39;49;00m, y)):\n",
      "                \u001b[34mwith\u001b[39;49;00m _data:\n",
      "                    \u001b[34mreturn\u001b[39;49;00m _data.set(\u001b[33m'\u001b[39;49;00m\u001b[33m<middle() return value>\u001b[39;49;00m\u001b[33m'\u001b[39;49;00m, _data.get(\n",
      "                        \u001b[33m'\u001b[39;49;00m\u001b[33my\u001b[39;49;00m\u001b[33m'\u001b[39;49;00m, y))\n",
      "            \u001b[34melse\u001b[39;49;00m:\n",
      "                \u001b[34mwith\u001b[39;49;00m _data:\n",
      "                    \u001b[34mif\u001b[39;49;00m _data.test(_data.get(\u001b[33m'\u001b[39;49;00m\u001b[33mx\u001b[39;49;00m\u001b[33m'\u001b[39;49;00m, x) < _data.get(\u001b[33m'\u001b[39;49;00m\u001b[33mz\u001b[39;49;00m\u001b[33m'\u001b[39;49;00m, z)):\n",
      "                        \u001b[34mwith\u001b[39;49;00m _data:\n",
      "                            \u001b[34mreturn\u001b[39;49;00m _data.set(\u001b[33m'\u001b[39;49;00m\u001b[33m<middle() return value>\u001b[39;49;00m\u001b[33m'\u001b[39;49;00m,\n",
      "                                _data.get(\u001b[33m'\u001b[39;49;00m\u001b[33my\u001b[39;49;00m\u001b[33m'\u001b[39;49;00m, y))\n",
      "    \u001b[34melse\u001b[39;49;00m:\n",
      "        \u001b[34mwith\u001b[39;49;00m _data:\n",
      "            \u001b[34mif\u001b[39;49;00m _data.test(_data.get(\u001b[33m'\u001b[39;49;00m\u001b[33mx\u001b[39;49;00m\u001b[33m'\u001b[39;49;00m, x) > _data.get(\u001b[33m'\u001b[39;49;00m\u001b[33my\u001b[39;49;00m\u001b[33m'\u001b[39;49;00m, y)):\n",
      "                \u001b[34mwith\u001b[39;49;00m _data:\n",
      "                    \u001b[34mreturn\u001b[39;49;00m _data.set(\u001b[33m'\u001b[39;49;00m\u001b[33m<middle() return value>\u001b[39;49;00m\u001b[33m'\u001b[39;49;00m, _data.get(\n",
      "                        \u001b[33m'\u001b[39;49;00m\u001b[33my\u001b[39;49;00m\u001b[33m'\u001b[39;49;00m, y))\n",
      "            \u001b[34melse\u001b[39;49;00m:\n",
      "                \u001b[34mwith\u001b[39;49;00m _data:\n",
      "                    \u001b[34mif\u001b[39;49;00m _data.test(_data.get(\u001b[33m'\u001b[39;49;00m\u001b[33mx\u001b[39;49;00m\u001b[33m'\u001b[39;49;00m, x) > _data.get(\u001b[33m'\u001b[39;49;00m\u001b[33mz\u001b[39;49;00m\u001b[33m'\u001b[39;49;00m, z)):\n",
      "                        \u001b[34mwith\u001b[39;49;00m _data:\n",
      "                            \u001b[34mreturn\u001b[39;49;00m _data.set(\u001b[33m'\u001b[39;49;00m\u001b[33m<middle() return value>\u001b[39;49;00m\u001b[33m'\u001b[39;49;00m,\n",
      "                                _data.get(\u001b[33m'\u001b[39;49;00m\u001b[33mx\u001b[39;49;00m\u001b[33m'\u001b[39;49;00m, x))\n",
      "    \u001b[34mreturn\u001b[39;49;00m _data.set(\u001b[33m'\u001b[39;49;00m\u001b[33m<middle() return value>\u001b[39;49;00m\u001b[33m'\u001b[39;49;00m, _data.get(\u001b[33m'\u001b[39;49;00m\u001b[33mz\u001b[39;49;00m\u001b[33m'\u001b[39;49;00m, z))"
     ]
    }
   ],
   "source": [
    "TrackParamsTransformer().visit(middle_tree)\n",
    "dump_tree(middle_tree)"
   ]
  },
  {
   "cell_type": "markdown",
   "metadata": {
    "slideshow": {
     "slide_type": "subslide"
    }
   },
   "source": [
    "By default, the `DataTracker` `param()` method simply calls `set()` to set variables."
   ]
  },
  {
   "cell_type": "code",
   "execution_count": 128,
   "metadata": {
    "slideshow": {
     "slide_type": "fragment"
    }
   },
   "outputs": [],
   "source": [
    "class DataTracker(DataTracker):\n",
    "    def param(self, name, value, pos=None, vararg=\"\", last=False):\n",
    "        if self.log:\n",
    "            caller_func, lineno = self.caller_location()\n",
    "            info = \"\"\n",
    "            if pos is not None:\n",
    "                info += f\" #{pos}\"\n",
    "\n",
    "            print(f\"{caller_func.__name__}:{lineno}: initializing {vararg}{name}{info}\")\n",
    "\n",
    "        return self.set(name, value)"
   ]
  },
  {
   "cell_type": "code",
   "execution_count": 129,
   "metadata": {
    "slideshow": {
     "slide_type": "subslide"
    }
   },
   "outputs": [
    {
     "name": "stdout",
     "output_type": "stream",
     "text": [
      "middle:1: initializing x #1\n",
      "middle:1: setting x\n",
      "middle:1: initializing y #2\n",
      "middle:1: setting y\n",
      "middle:1: initializing z #3\n",
      "middle:1: setting z\n",
      "middle:2: getting y\n",
      "middle:2: getting z\n",
      "middle:2: testing condition\n",
      "middle:3: entering block\n",
      "middle:3: getting x\n",
      "middle:3: getting y\n",
      "middle:3: testing condition\n",
      "middle:5: entering block\n",
      "middle:5: getting x\n",
      "middle:5: getting z\n",
      "middle:5: testing condition\n",
      "middle:6: entering block\n",
      "middle:6: getting y\n",
      "middle:6: setting <middle() return value>\n",
      "middle:6: exiting block\n",
      "middle:6: exiting block\n",
      "middle:6: exiting block\n"
     ]
    }
   ],
   "source": [
    "with DataTrackerTester(middle_tree, middle):\n",
    "    middle(2, 1, 3)"
   ]
  },
  {
   "cell_type": "code",
   "execution_count": 130,
   "metadata": {
    "slideshow": {
     "slide_type": "subslide"
    }
   },
   "outputs": [],
   "source": [
    "def args_test(x, *args, **kwargs):\n",
    "    print(x, *args, **kwargs)"
   ]
  },
  {
   "cell_type": "code",
   "execution_count": 131,
   "metadata": {
    "slideshow": {
     "slide_type": "fragment"
    }
   },
   "outputs": [
    {
     "name": "stdout",
     "output_type": "stream",
     "text": [
      "\u001b[34mdef\u001b[39;49;00m \u001b[32margs_test\u001b[39;49;00m(x, *args, **kwargs):\n",
      "    _data.param(\u001b[33m'\u001b[39;49;00m\u001b[33mx\u001b[39;49;00m\u001b[33m'\u001b[39;49;00m, x, pos=\u001b[34m1\u001b[39;49;00m)\n",
      "    _data.param(\u001b[33m'\u001b[39;49;00m\u001b[33margs\u001b[39;49;00m\u001b[33m'\u001b[39;49;00m, args, pos=\u001b[34m2\u001b[39;49;00m, vararg=\u001b[33m'\u001b[39;49;00m\u001b[33m*\u001b[39;49;00m\u001b[33m'\u001b[39;49;00m)\n",
      "    _data.param(\u001b[33m'\u001b[39;49;00m\u001b[33mkwargs\u001b[39;49;00m\u001b[33m'\u001b[39;49;00m, kwargs, pos=\u001b[34m3\u001b[39;49;00m, vararg=\u001b[33m'\u001b[39;49;00m\u001b[33m**\u001b[39;49;00m\u001b[33m'\u001b[39;49;00m, last=\u001b[34mTrue\u001b[39;49;00m)\n",
      "    \u001b[36mprint\u001b[39;49;00m(x, *args, **kwargs)"
     ]
    }
   ],
   "source": [
    "args_tree = ast.parse(inspect.getsource(args_test))\n",
    "TrackParamsTransformer().visit(args_tree)\n",
    "dump_tree(args_tree)"
   ]
  },
  {
   "cell_type": "code",
   "execution_count": 132,
   "metadata": {
    "slideshow": {
     "slide_type": "subslide"
    }
   },
   "outputs": [
    {
     "name": "stdout",
     "output_type": "stream",
     "text": [
      "args_test:1: initializing x #1\n",
      "args_test:1: setting x\n",
      "args_test:1: initializing *args #2\n",
      "args_test:1: setting args\n",
      "args_test:1: initializing **kwargs #3\n",
      "args_test:1: setting kwargs\n",
      "1 2 3\n"
     ]
    }
   ],
   "source": [
    "with DataTrackerTester(args_tree, args_test):\n",
    "    args_test(1, 2, 3)"
   ]
  },
  {
   "cell_type": "markdown",
   "metadata": {
    "slideshow": {
     "slide_type": "subslide"
    }
   },
   "source": [
    "### End of Excursion"
   ]
  },
  {
   "cell_type": "markdown",
   "metadata": {
    "slideshow": {
     "slide_type": "fragment"
    }
   },
   "source": [
    "What do we obtain after we have applied all these transformers on `middle()`? We see that the code now contains quite a load of instrumentation."
   ]
  },
  {
   "cell_type": "code",
   "execution_count": 133,
   "metadata": {
    "slideshow": {
     "slide_type": "subslide"
    }
   },
   "outputs": [
    {
     "name": "stdout",
     "output_type": "stream",
     "text": [
      "\u001b[34mdef\u001b[39;49;00m \u001b[32mmiddle\u001b[39;49;00m(x, y, z):\n",
      "    _data.param(\u001b[33m'\u001b[39;49;00m\u001b[33mx\u001b[39;49;00m\u001b[33m'\u001b[39;49;00m, x, pos=\u001b[34m1\u001b[39;49;00m)\n",
      "    _data.param(\u001b[33m'\u001b[39;49;00m\u001b[33my\u001b[39;49;00m\u001b[33m'\u001b[39;49;00m, y, pos=\u001b[34m2\u001b[39;49;00m)\n",
      "    _data.param(\u001b[33m'\u001b[39;49;00m\u001b[33mz\u001b[39;49;00m\u001b[33m'\u001b[39;49;00m, z, pos=\u001b[34m3\u001b[39;49;00m, last=\u001b[34mTrue\u001b[39;49;00m)\n",
      "    \u001b[34mif\u001b[39;49;00m _data.test(_data.get(\u001b[33m'\u001b[39;49;00m\u001b[33my\u001b[39;49;00m\u001b[33m'\u001b[39;49;00m, y) < _data.get(\u001b[33m'\u001b[39;49;00m\u001b[33mz\u001b[39;49;00m\u001b[33m'\u001b[39;49;00m, z)):\n",
      "        \u001b[34mwith\u001b[39;49;00m _data:\n",
      "            \u001b[34mif\u001b[39;49;00m _data.test(_data.get(\u001b[33m'\u001b[39;49;00m\u001b[33mx\u001b[39;49;00m\u001b[33m'\u001b[39;49;00m, x) < _data.get(\u001b[33m'\u001b[39;49;00m\u001b[33my\u001b[39;49;00m\u001b[33m'\u001b[39;49;00m, y)):\n",
      "                \u001b[34mwith\u001b[39;49;00m _data:\n",
      "                    \u001b[34mreturn\u001b[39;49;00m _data.set(\u001b[33m'\u001b[39;49;00m\u001b[33m<middle() return value>\u001b[39;49;00m\u001b[33m'\u001b[39;49;00m, _data.get(\n",
      "                        \u001b[33m'\u001b[39;49;00m\u001b[33my\u001b[39;49;00m\u001b[33m'\u001b[39;49;00m, y))\n",
      "            \u001b[34melse\u001b[39;49;00m:\n",
      "                \u001b[34mwith\u001b[39;49;00m _data:\n",
      "                    \u001b[34mif\u001b[39;49;00m _data.test(_data.get(\u001b[33m'\u001b[39;49;00m\u001b[33mx\u001b[39;49;00m\u001b[33m'\u001b[39;49;00m, x) < _data.get(\u001b[33m'\u001b[39;49;00m\u001b[33mz\u001b[39;49;00m\u001b[33m'\u001b[39;49;00m, z)):\n",
      "                        \u001b[34mwith\u001b[39;49;00m _data:\n",
      "                            \u001b[34mreturn\u001b[39;49;00m _data.set(\u001b[33m'\u001b[39;49;00m\u001b[33m<middle() return value>\u001b[39;49;00m\u001b[33m'\u001b[39;49;00m,\n",
      "                                _data.get(\u001b[33m'\u001b[39;49;00m\u001b[33my\u001b[39;49;00m\u001b[33m'\u001b[39;49;00m, y))\n",
      "    \u001b[34melse\u001b[39;49;00m:\n",
      "        \u001b[34mwith\u001b[39;49;00m _data:\n",
      "            \u001b[34mif\u001b[39;49;00m _data.test(_data.get(\u001b[33m'\u001b[39;49;00m\u001b[33mx\u001b[39;49;00m\u001b[33m'\u001b[39;49;00m, x) > _data.get(\u001b[33m'\u001b[39;49;00m\u001b[33my\u001b[39;49;00m\u001b[33m'\u001b[39;49;00m, y)):\n",
      "                \u001b[34mwith\u001b[39;49;00m _data:\n",
      "                    \u001b[34mreturn\u001b[39;49;00m _data.set(\u001b[33m'\u001b[39;49;00m\u001b[33m<middle() return value>\u001b[39;49;00m\u001b[33m'\u001b[39;49;00m, _data.get(\n",
      "                        \u001b[33m'\u001b[39;49;00m\u001b[33my\u001b[39;49;00m\u001b[33m'\u001b[39;49;00m, y))\n",
      "            \u001b[34melse\u001b[39;49;00m:\n",
      "                \u001b[34mwith\u001b[39;49;00m _data:\n",
      "                    \u001b[34mif\u001b[39;49;00m _data.test(_data.get(\u001b[33m'\u001b[39;49;00m\u001b[33mx\u001b[39;49;00m\u001b[33m'\u001b[39;49;00m, x) > _data.get(\u001b[33m'\u001b[39;49;00m\u001b[33mz\u001b[39;49;00m\u001b[33m'\u001b[39;49;00m, z)):\n",
      "                        \u001b[34mwith\u001b[39;49;00m _data:\n",
      "                            \u001b[34mreturn\u001b[39;49;00m _data.set(\u001b[33m'\u001b[39;49;00m\u001b[33m<middle() return value>\u001b[39;49;00m\u001b[33m'\u001b[39;49;00m,\n",
      "                                _data.get(\u001b[33m'\u001b[39;49;00m\u001b[33mx\u001b[39;49;00m\u001b[33m'\u001b[39;49;00m, x))\n",
      "    \u001b[34mreturn\u001b[39;49;00m _data.set(\u001b[33m'\u001b[39;49;00m\u001b[33m<middle() return value>\u001b[39;49;00m\u001b[33m'\u001b[39;49;00m, _data.get(\u001b[33m'\u001b[39;49;00m\u001b[33mz\u001b[39;49;00m\u001b[33m'\u001b[39;49;00m, z))"
     ]
    }
   ],
   "source": [
    "dump_tree(middle_tree)"
   ]
  },
  {
   "cell_type": "markdown",
   "metadata": {
    "slideshow": {
     "slide_type": "subslide"
    }
   },
   "source": [
    "And when we execute this code, we see that we can track quite a number of events, while the code semantics stay unchanged."
   ]
  },
  {
   "cell_type": "code",
   "execution_count": 134,
   "metadata": {
    "slideshow": {
     "slide_type": "subslide"
    }
   },
   "outputs": [
    {
     "name": "stdout",
     "output_type": "stream",
     "text": [
      "middle:1: initializing x #1\n",
      "middle:1: setting x\n",
      "middle:1: initializing y #2\n",
      "middle:1: setting y\n",
      "middle:1: initializing z #3\n",
      "middle:1: setting z\n",
      "middle:2: getting y\n",
      "middle:2: getting z\n",
      "middle:2: testing condition\n",
      "middle:3: entering block\n",
      "middle:3: getting x\n",
      "middle:3: getting y\n",
      "middle:3: testing condition\n",
      "middle:5: entering block\n",
      "middle:5: getting x\n",
      "middle:5: getting z\n",
      "middle:5: testing condition\n",
      "middle:6: entering block\n",
      "middle:6: getting y\n",
      "middle:6: setting <middle() return value>\n",
      "middle:6: exiting block\n",
      "middle:6: exiting block\n",
      "middle:6: exiting block\n"
     ]
    },
    {
     "data": {
      "text/plain": [
       "1"
      ]
     },
     "execution_count": 134,
     "metadata": {},
     "output_type": "execute_result"
    }
   ],
   "source": [
    "with DataTrackerTester(middle_tree, middle):\n",
    "    m = middle(2, 1, 3)\n",
    "m"
   ]
  },
  {
   "cell_type": "markdown",
   "metadata": {
    "slideshow": {
     "slide_type": "subslide"
    }
   },
   "source": [
    "### Excursion: Transformer Stress Test"
   ]
  },
  {
   "cell_type": "markdown",
   "metadata": {
    "slideshow": {
     "slide_type": "fragment"
    }
   },
   "source": [
    "We stress test our transformers by instrumenting, transforming, and compiling a number of modules."
   ]
  },
  {
   "cell_type": "code",
   "execution_count": 135,
   "metadata": {
    "slideshow": {
     "slide_type": "skip"
    }
   },
   "outputs": [],
   "source": [
    "import Assertions  # minor dependency\n",
    "import Debugger  # minor dependency"
   ]
  },
  {
   "cell_type": "code",
   "execution_count": 136,
   "metadata": {
    "slideshow": {
     "slide_type": "subslide"
    }
   },
   "outputs": [
    {
     "name": "stdout",
     "output_type": "stream",
     "text": [
      "'Assertions' instrumented successfully.\n",
      "'Debugger' instrumented successfully.\n",
      "'inspect' instrumented successfully.\n",
      "'ast' instrumented successfully.\n",
      "'astor' instrumented successfully.\n"
     ]
    }
   ],
   "source": [
    "for module in [Assertions, Debugger, inspect, ast, astor]:\n",
    "    module_tree = ast.parse(inspect.getsource(module))\n",
    "    TrackCallTransformer().visit(module_tree)\n",
    "    TrackSetTransformer().visit(module_tree)\n",
    "    TrackGetTransformer().visit(module_tree)\n",
    "    TrackControlTransformer().visit(module_tree)\n",
    "    TrackReturnTransformer().visit(module_tree)\n",
    "    TrackParamsTransformer().visit(module_tree)\n",
    "    # dump_tree(module_tree)\n",
    "    ast.fix_missing_locations(module_tree)  # Must run this before compiling\n",
    "    module_code = compile(module_tree, '<stress_test>', 'exec')\n",
    "    print(f\"{repr(module.__name__)} instrumented successfully.\")"
   ]
  },
  {
   "cell_type": "markdown",
   "metadata": {
    "slideshow": {
     "slide_type": "subslide"
    }
   },
   "source": [
    "### End of Excursion"
   ]
  },
  {
   "cell_type": "markdown",
   "metadata": {
    "slideshow": {
     "slide_type": "fragment"
    }
   },
   "source": [
    "Our next step will now be not only to _log_ these events, but to actually construct _dependencies_ from them."
   ]
  },
  {
   "cell_type": "markdown",
   "metadata": {
    "slideshow": {
     "slide_type": "slide"
    }
   },
   "source": [
    "## Tracking Dependencies"
   ]
  },
  {
   "cell_type": "markdown",
   "metadata": {
    "slideshow": {
     "slide_type": "fragment"
    }
   },
   "source": [
    "To construct dependencies from variable accesses, we subclass `DataTracker` into `DependencyTracker` – a class that actually keeps track of all these dependencies.  Its constructor initializes a number of variables we will discuss below."
   ]
  },
  {
   "cell_type": "code",
   "execution_count": 137,
   "metadata": {
    "slideshow": {
     "slide_type": "subslide"
    }
   },
   "outputs": [],
   "source": [
    "class DependencyTracker(DataTracker):\n",
    "    def __init__(self, *args, **kwargs):\n",
    "        super().__init__(*args, **kwargs)\n",
    "\n",
    "        self.origins = {}  # Where current variables were last set\n",
    "        self.data_dependencies = {}  # As with Dependencies, above\n",
    "        self.control_dependencies = {}\n",
    "\n",
    "        self.last_read = []  # List of last read variables\n",
    "        self.last_checked_location = (StackInspector.unknown, 1)\n",
    "        self._ignore_location_change = False\n",
    "\n",
    "        self.data = [[]]  # Data stack\n",
    "        self.control = [[]]  # Control stack\n",
    "\n",
    "        self.frames = [{}]  # Argument stack\n",
    "        self.args = {}  # Current args"
   ]
  },
  {
   "cell_type": "markdown",
   "metadata": {
    "slideshow": {
     "slide_type": "subslide"
    }
   },
   "source": [
    "### Data Dependencies\n",
    "\n",
    "The first job of our `DependencyTracker` is to construct dependencies between _read_ and _written_ variables."
   ]
  },
  {
   "cell_type": "markdown",
   "metadata": {
    "slideshow": {
     "slide_type": "subslide"
    }
   },
   "source": [
    "#### Reading Variables\n",
    "\n",
    "As in `DataTracker`, the key method of `DependencyTracker` again is `get()`, invoked as `_data.get('x', x)` whenever a variable `x` is read. First and foremost, it appends the name of the read variable to the list `last_read`."
   ]
  },
  {
   "cell_type": "code",
   "execution_count": 138,
   "metadata": {
    "slideshow": {
     "slide_type": "fragment"
    }
   },
   "outputs": [],
   "source": [
    "class DependencyTracker(DependencyTracker):\n",
    "    def get(self, name, value):\n",
    "        \"\"\"Track a read access for variable `name` with value `value`\"\"\"\n",
    "        self.check_location()\n",
    "        self.last_read.append(name)\n",
    "        return super().get(name, value)\n",
    "\n",
    "    def check_location(self):\n",
    "        pass  # More on that below"
   ]
  },
  {
   "cell_type": "code",
   "execution_count": 139,
   "metadata": {
    "slideshow": {
     "slide_type": "subslide"
    }
   },
   "outputs": [],
   "source": [
    "x = 5\n",
    "y = 3"
   ]
  },
  {
   "cell_type": "code",
   "execution_count": 140,
   "metadata": {
    "slideshow": {
     "slide_type": "fragment"
    }
   },
   "outputs": [
    {
     "name": "stdout",
     "output_type": "stream",
     "text": [
      "<module>:2: getting x\n",
      "<module>:2: getting y\n"
     ]
    },
    {
     "data": {
      "text/plain": [
       "8"
      ]
     },
     "execution_count": 140,
     "metadata": {},
     "output_type": "execute_result"
    }
   ],
   "source": [
    "_test_data = DependencyTracker(log=True)\n",
    "_test_data.get('x', x) + _test_data.get('y', y)"
   ]
  },
  {
   "cell_type": "code",
   "execution_count": 141,
   "metadata": {
    "slideshow": {
     "slide_type": "fragment"
    }
   },
   "outputs": [
    {
     "data": {
      "text/plain": [
       "['x', 'y']"
      ]
     },
     "execution_count": 141,
     "metadata": {},
     "output_type": "execute_result"
    }
   ],
   "source": [
    "_test_data.last_read"
   ]
  },
  {
   "cell_type": "markdown",
   "metadata": {
    "slideshow": {
     "slide_type": "subslide"
    }
   },
   "source": [
    "#### Checking Locations"
   ]
  },
  {
   "cell_type": "markdown",
   "metadata": {
    "slideshow": {
     "slide_type": "fragment"
    }
   },
   "source": [
    "However, before appending the read variable to `last_read`, `_data.get()` does one more thing. By invoking `check_location()`, it clears the `last_read` list if we have reached a new line in the execution. This avoids situations such as\n",
    "\n",
    "```python\n",
    "x\n",
    "y\n",
    "z = a + b\n",
    "```\n",
    "where `x` and `y` are, well, read, but do not affect the last line. Therefore, with every new line, the list of last read lines is cleared."
   ]
  },
  {
   "cell_type": "code",
   "execution_count": 142,
   "metadata": {
    "slideshow": {
     "slide_type": "subslide"
    }
   },
   "outputs": [],
   "source": [
    "class DependencyTracker(DependencyTracker):\n",
    "    def clear_read(self):\n",
    "        \"\"\"Clear set of read variables\"\"\"\n",
    "        if self.log:\n",
    "            direct_caller = inspect.currentframe().f_back.f_code.co_name\n",
    "            caller_func, lineno = self.caller_location()\n",
    "            print(f\"{caller_func.__name__}:{lineno}: \"\n",
    "                  f\"clearing read variables {self.last_read} \"\n",
    "                  f\"(from {direct_caller})\")\n",
    "\n",
    "        self.last_read = []\n",
    "\n",
    "    def check_location(self):\n",
    "        \"\"\"If we are in a new location, clear set of read variables\"\"\"\n",
    "        location = self.caller_location()\n",
    "        func, lineno = location\n",
    "        last_func, last_lineno = self.last_checked_location\n",
    "\n",
    "        if self.last_checked_location != location:\n",
    "            if self._ignore_location_change:\n",
    "                self._ignore_location_change = False\n",
    "            elif func.__name__.startswith('<'):\n",
    "                # Entering list comprehension, eval(), exec(), ...\n",
    "                pass\n",
    "            elif last_func.__name__.startswith('<'):\n",
    "                # Exiting list comprehension, eval(), exec(), ...\n",
    "                pass\n",
    "            else:\n",
    "                # Standard case\n",
    "                self.clear_read()\n",
    "\n",
    "        self.last_checked_location = location"
   ]
  },
  {
   "cell_type": "markdown",
   "metadata": {
    "slideshow": {
     "slide_type": "subslide"
    }
   },
   "source": [
    "Two methods can suppress this reset of the `last_read` list: \n",
    "\n",
    "* `ignore_next_location_change()` suppresses the reset for the next line. This is useful when returning from a function, when the return value is still in the list of \"read\" variables.\n",
    "* `ignore_location_change()` suppresses the reset for the current line. This is useful if we already have returned from a function call."
   ]
  },
  {
   "cell_type": "code",
   "execution_count": 143,
   "metadata": {
    "slideshow": {
     "slide_type": "fragment"
    }
   },
   "outputs": [],
   "source": [
    "class DependencyTracker(DependencyTracker):\n",
    "    def ignore_next_location_change(self):\n",
    "        self._ignore_location_change = True\n",
    "\n",
    "    def ignore_location_change(self):\n",
    "        self.last_checked_location = self.caller_location()"
   ]
  },
  {
   "cell_type": "markdown",
   "metadata": {
    "slideshow": {
     "slide_type": "subslide"
    }
   },
   "source": [
    "Watch how `DependencyTracker` resets `last_read` when a new line is executed:"
   ]
  },
  {
   "cell_type": "code",
   "execution_count": 144,
   "metadata": {
    "slideshow": {
     "slide_type": "fragment"
    }
   },
   "outputs": [],
   "source": [
    "_test_data = DependencyTracker()"
   ]
  },
  {
   "cell_type": "code",
   "execution_count": 145,
   "metadata": {
    "slideshow": {
     "slide_type": "fragment"
    }
   },
   "outputs": [
    {
     "data": {
      "text/plain": [
       "8"
      ]
     },
     "execution_count": 145,
     "metadata": {},
     "output_type": "execute_result"
    }
   ],
   "source": [
    "_test_data.get('x', x) + _test_data.get('y', y)"
   ]
  },
  {
   "cell_type": "code",
   "execution_count": 146,
   "metadata": {
    "slideshow": {
     "slide_type": "fragment"
    }
   },
   "outputs": [
    {
     "data": {
      "text/plain": [
       "['x', 'y']"
      ]
     },
     "execution_count": 146,
     "metadata": {},
     "output_type": "execute_result"
    }
   ],
   "source": [
    "_test_data.last_read"
   ]
  },
  {
   "cell_type": "code",
   "execution_count": 147,
   "metadata": {
    "slideshow": {
     "slide_type": "fragment"
    }
   },
   "outputs": [
    {
     "data": {
      "text/plain": [
       "41"
      ]
     },
     "execution_count": 147,
     "metadata": {},
     "output_type": "execute_result"
    }
   ],
   "source": [
    "a = 42\n",
    "b = -1\n",
    "_test_data.get('a', a) + _test_data.get('b', b)"
   ]
  },
  {
   "cell_type": "code",
   "execution_count": 148,
   "metadata": {
    "slideshow": {
     "slide_type": "fragment"
    }
   },
   "outputs": [
    {
     "data": {
      "text/plain": [
       "['x', 'y', 'a', 'b']"
      ]
     },
     "execution_count": 148,
     "metadata": {},
     "output_type": "execute_result"
    }
   ],
   "source": [
    "_test_data.last_read"
   ]
  },
  {
   "cell_type": "markdown",
   "metadata": {
    "slideshow": {
     "slide_type": "subslide"
    }
   },
   "source": [
    "#### Setting Variables\n",
    "\n",
    "The method `set()` creates dependencies. It is invoked as  `_data.set('x', value)` whenever a variable `x` is set. \n",
    "\n",
    "First and foremost, it takes the list of variables read `last_read`, and for each of the variables $v$, it takes their origin $o$ (the place where they were last set) and appends the pair ($v$, $o$) to the list of data dependencies. It then does a similar thing with control dependencies (more on these below), and finally marks (in `self.origins`) the current location of $v$."
   ]
  },
  {
   "cell_type": "code",
   "execution_count": 149,
   "metadata": {
    "slideshow": {
     "slide_type": "skip"
    }
   },
   "outputs": [],
   "source": [
    "import itertools"
   ]
  },
  {
   "cell_type": "code",
   "execution_count": 150,
   "metadata": {
    "slideshow": {
     "slide_type": "subslide"
    }
   },
   "outputs": [],
   "source": [
    "class DependencyTracker(DependencyTracker):\n",
    "    TEST = '<test>'\n",
    "\n",
    "    def set(self, name, value, loads=None):\n",
    "        \"\"\"Add a dependency for `name` = `value`\"\"\"\n",
    "\n",
    "        def add_dependencies(dependencies, vars_read, tp):\n",
    "            \"\"\"Add origins of `vars_read` to `dependencies`.\"\"\"\n",
    "            for var_read in vars_read:\n",
    "                if var_read in self.origins:\n",
    "                    if var_read == self.TEST and tp == \"data\":\n",
    "                        # Can't have data dependencies on conditions\n",
    "                        continue\n",
    "\n",
    "                    origin = self.origins[var_read]\n",
    "                    dependencies.add((var_read, origin))\n",
    "\n",
    "                    if self.log:\n",
    "                        origin_func, origin_lineno = origin\n",
    "                        caller_func, lineno = self.caller_location()\n",
    "                        print(f\"{caller_func.__name__}:{lineno}: \"\n",
    "                              f\"new {tp} dependency: \"\n",
    "                              f\"{name} <= {var_read} \"\n",
    "                              f\"({origin_func.__name__}:{origin_lineno})\")\n",
    "\n",
    "        self.check_location()\n",
    "        ret = super().set(name, value)\n",
    "        location = self.caller_location()\n",
    "\n",
    "        add_dependencies(self.data_dependencies.setdefault\n",
    "                         ((name, location), set()),\n",
    "                         self.last_read, tp=\"data\")\n",
    "        add_dependencies(self.control_dependencies.setdefault\n",
    "                         ((name, location), set()),\n",
    "                         itertools.chain.from_iterable(self.control),\n",
    "                         tp=\"control\")\n",
    "\n",
    "        self.origins[name] = location\n",
    "\n",
    "        # Reset read info for next line\n",
    "        self.last_read = [name]\n",
    "\n",
    "        return ret\n",
    "\n",
    "    def dependencies(self):\n",
    "        \"\"\"Return dependencies\"\"\"\n",
    "        return Dependencies(self.data_dependencies,\n",
    "                            self.control_dependencies)"
   ]
  },
  {
   "cell_type": "markdown",
   "metadata": {
    "slideshow": {
     "slide_type": "subslide"
    }
   },
   "source": [
    "Let us illustrate `set()` by example. Here's a set of variables read and written:"
   ]
  },
  {
   "cell_type": "code",
   "execution_count": 151,
   "metadata": {
    "slideshow": {
     "slide_type": "fragment"
    }
   },
   "outputs": [],
   "source": [
    "_test_data = DependencyTracker()\n",
    "x = _test_data.set('x', 1)\n",
    "y = _test_data.set('y', _test_data.get('x', x))\n",
    "z = _test_data.set('z', _test_data.get('x', x) + _test_data.get('y', y))"
   ]
  },
  {
   "cell_type": "markdown",
   "metadata": {
    "slideshow": {
     "slide_type": "fragment"
    }
   },
   "source": [
    "The attribute `origins` saves for each variable where it was last written:"
   ]
  },
  {
   "cell_type": "code",
   "execution_count": 152,
   "metadata": {
    "slideshow": {
     "slide_type": "fragment"
    }
   },
   "outputs": [
    {
     "data": {
      "text/plain": [
       "{'x': (<function __main__.<module>()>, 2),\n",
       " 'y': (<function __main__.<module>()>, 3),\n",
       " 'z': (<function __main__.<module>()>, 4)}"
      ]
     },
     "execution_count": 152,
     "metadata": {},
     "output_type": "execute_result"
    }
   ],
   "source": [
    "_test_data.origins"
   ]
  },
  {
   "cell_type": "markdown",
   "metadata": {
    "slideshow": {
     "slide_type": "fragment"
    }
   },
   "source": [
    "The attribute `data_dependencies` tracks for each variable the variables it was read from:"
   ]
  },
  {
   "cell_type": "code",
   "execution_count": 153,
   "metadata": {
    "slideshow": {
     "slide_type": "subslide"
    }
   },
   "outputs": [
    {
     "data": {
      "text/plain": [
       "{('x', (<function __main__.<module>()>, 2)): set(),\n",
       " ('y',\n",
       "  (<function __main__.<module>()>, 3)): {('x',\n",
       "   (<function __main__.<module>()>, 2))},\n",
       " ('z',\n",
       "  (<function __main__.<module>()>, 4)): {('x',\n",
       "   (<function __main__.<module>()>, 2)), ('y',\n",
       "   (<function __main__.<module>()>, 3))}}"
      ]
     },
     "execution_count": 153,
     "metadata": {},
     "output_type": "execute_result"
    }
   ],
   "source": [
    "_test_data.data_dependencies"
   ]
  },
  {
   "cell_type": "markdown",
   "metadata": {
    "slideshow": {
     "slide_type": "fragment"
    }
   },
   "source": [
    "Hence, the above code already gives us a small dependency graph:"
   ]
  },
  {
   "cell_type": "code",
   "execution_count": 154,
   "metadata": {
    "slideshow": {
     "slide_type": "fragment"
    }
   },
   "outputs": [
    {
     "data": {
      "image/svg+xml": [
       "<?xml version=\"1.0\" encoding=\"UTF-8\" standalone=\"no\"?>\n",
       "<!DOCTYPE svg PUBLIC \"-//W3C//DTD SVG 1.1//EN\"\n",
       " \"http://www.w3.org/Graphics/SVG/1.1/DTD/svg11.dtd\">\n",
       "<!-- Generated by graphviz version 2.40.1 (20161225.0304)\n",
       " -->\n",
       "<!-- Title: dependencies Pages: 1 -->\n",
       "<svg width=\"97pt\" height=\"200pt\"\n",
       " viewBox=\"0.00 0.00 97.00 200.00\" xmlns=\"http://www.w3.org/2000/svg\" xmlns:xlink=\"http://www.w3.org/1999/xlink\">\n",
       "<g id=\"graph0\" class=\"graph\" transform=\"scale(1 1) rotate(0) translate(4 196)\">\n",
       "<title>dependencies</title>\n",
       "<polygon fill=\"#ffffff\" stroke=\"transparent\" points=\"-4,4 -4,-196 93,-196 93,4 -4,4\"/>\n",
       "<!-- x_functionmoduleat0x7fe3e283aea0_2 -->\n",
       "<g id=\"node1\" class=\"node\">\n",
       "<title>x_functionmoduleat0x7fe3e283aea0_2</title>\n",
       "<g id=\"a_node1\"><a xlink:title=\"&lt;module&gt;:2\">\n",
       "<polygon fill=\"#ffdab9\" stroke=\"#000000\" points=\"89,-192 29,-192 29,-152 89,-152 89,-192\"/>\n",
       "<text text-anchor=\"start\" x=\"54.5\" y=\"-177.8\" font-family=\"Fira Mono, Courier, monospace\" font-weight=\"bold\" font-size=\"14.00\" fill=\"#000000\">x</text>\n",
       "<text text-anchor=\"start\" x=\"37\" y=\"-158.8\" font-family=\"Fira Mono, Courier, monospace\" font-size=\"9.00\" fill=\"#000000\">&lt;module&gt;</text>\n",
       "</a>\n",
       "</g>\n",
       "</g>\n",
       "<!-- y_functionmoduleat0x7fe3e283a488_3 -->\n",
       "<g id=\"node2\" class=\"node\">\n",
       "<title>y_functionmoduleat0x7fe3e283a488_3</title>\n",
       "<g id=\"a_node2\"><a xlink:title=\"&lt;module&gt;:3\">\n",
       "<polygon fill=\"#ffdab9\" stroke=\"#000000\" points=\"60,-116 0,-116 0,-76 60,-76 60,-116\"/>\n",
       "<text text-anchor=\"start\" x=\"25.5\" y=\"-101.8\" font-family=\"Fira Mono, Courier, monospace\" font-weight=\"bold\" font-size=\"14.00\" fill=\"#000000\">y</text>\n",
       "<text text-anchor=\"start\" x=\"8\" y=\"-82.8\" font-family=\"Fira Mono, Courier, monospace\" font-size=\"9.00\" fill=\"#000000\">&lt;module&gt;</text>\n",
       "</a>\n",
       "</g>\n",
       "</g>\n",
       "<!-- x_functionmoduleat0x7fe3e283aea0_2&#45;&gt;y_functionmoduleat0x7fe3e283a488_3 -->\n",
       "<g id=\"edge1\" class=\"edge\">\n",
       "<title>x_functionmoduleat0x7fe3e283aea0_2&#45;&gt;y_functionmoduleat0x7fe3e283a488_3</title>\n",
       "<path fill=\"none\" stroke=\"#000000\" d=\"M51.2285,-151.6334C48.181,-143.6468 44.624,-134.325 41.3026,-125.6205\"/>\n",
       "<polygon fill=\"#000000\" stroke=\"#000000\" points=\"44.5275,-124.2544 37.6924,-116.1593 37.9875,-126.75 44.5275,-124.2544\"/>\n",
       "</g>\n",
       "<!-- z_functionmoduleat0x7fe3e283a620_4 -->\n",
       "<g id=\"node3\" class=\"node\">\n",
       "<title>z_functionmoduleat0x7fe3e283a620_4</title>\n",
       "<g id=\"a_node3\"><a xlink:title=\"&lt;module&gt;:4\">\n",
       "<polygon fill=\"#ffdab9\" stroke=\"#000000\" points=\"89,-40 29,-40 29,0 89,0 89,-40\"/>\n",
       "<text text-anchor=\"start\" x=\"54.5\" y=\"-25.8\" font-family=\"Fira Mono, Courier, monospace\" font-weight=\"bold\" font-size=\"14.00\" fill=\"#000000\">z</text>\n",
       "<text text-anchor=\"start\" x=\"37\" y=\"-6.8\" font-family=\"Fira Mono, Courier, monospace\" font-size=\"9.00\" fill=\"#000000\">&lt;module&gt;</text>\n",
       "</a>\n",
       "</g>\n",
       "</g>\n",
       "<!-- x_functionmoduleat0x7fe3e283aea0_2&#45;&gt;z_functionmoduleat0x7fe3e283a620_4 -->\n",
       "<g id=\"edge2\" class=\"edge\">\n",
       "<title>x_functionmoduleat0x7fe3e283aea0_2&#45;&gt;z_functionmoduleat0x7fe3e283a620_4</title>\n",
       "<path fill=\"none\" stroke=\"#000000\" d=\"M63.4774,-151.8976C65.6159,-141.2826 67.9368,-128.0017 69,-116 70.5687,-98.2916 70.5687,-93.7084 69,-76 68.2525,-67.5613 66.8831,-58.4902 65.3925,-50.158\"/>\n",
       "<polygon fill=\"#000000\" stroke=\"#000000\" points=\"68.7866,-49.2709 63.4774,-40.1024 61.9102,-50.5806 68.7866,-49.2709\"/>\n",
       "</g>\n",
       "<!-- y_functionmoduleat0x7fe3e283a488_3&#45;&gt;z_functionmoduleat0x7fe3e283a620_4 -->\n",
       "<g id=\"edge3\" class=\"edge\">\n",
       "<title>y_functionmoduleat0x7fe3e283a488_3&#45;&gt;z_functionmoduleat0x7fe3e283a620_4</title>\n",
       "<path fill=\"none\" stroke=\"#000000\" d=\"M37.7715,-75.6334C40.819,-67.6468 44.376,-58.325 47.6974,-49.6205\"/>\n",
       "<polygon fill=\"#000000\" stroke=\"#000000\" points=\"51.0125,-50.75 51.3076,-40.1593 44.4725,-48.2544 51.0125,-50.75\"/>\n",
       "</g>\n",
       "</g>\n",
       "</svg>\n"
      ],
      "text/plain": [
       "<graphviz.dot.Digraph at 0x7fe3e1edaf28>"
      ]
     },
     "execution_count": 154,
     "metadata": {},
     "output_type": "execute_result"
    }
   ],
   "source": [
    "# ignore\n",
    "_test_data.dependencies().graph()"
   ]
  },
  {
   "cell_type": "markdown",
   "metadata": {
    "slideshow": {
     "slide_type": "subslide"
    }
   },
   "source": [
    "In the remainder of this section, we define methods to\n",
    "\n",
    "* track control dependencies (`test()`, `__enter__()`, `__exit__()`)\n",
    "* track function calls and returns (`call()`, `ret()`)\n",
    "* track function arguments (`arg()`, `param()`)\n",
    "* check the validity of our dependencies (`validate()`).\n",
    "\n",
    "Like our `get()` and `set()` methods above, these work by refining the appropriate methods defined in the `DataTracker` class, building on our `NodeTransformer` transformations."
   ]
  },
  {
   "cell_type": "markdown",
   "metadata": {
    "slideshow": {
     "slide_type": "subslide"
    }
   },
   "source": [
    "### Excursion: Control Dependencies"
   ]
  },
  {
   "cell_type": "markdown",
   "metadata": {
    "slideshow": {
     "slide_type": "fragment"
    }
   },
   "source": [
    "Let us detail control dependencies. As discussed with `DataTracker()`, we invoke `test()` methods for all control conditions, and place the controlled blocks into `with` clauses."
   ]
  },
  {
   "cell_type": "markdown",
   "metadata": {
    "slideshow": {
     "slide_type": "fragment"
    }
   },
   "source": [
    "The `test()` method simply sets a `<test>` variable; this also places it in `last_read`."
   ]
  },
  {
   "cell_type": "code",
   "execution_count": 155,
   "metadata": {
    "slideshow": {
     "slide_type": "fragment"
    }
   },
   "outputs": [],
   "source": [
    "class DependencyTracker(DependencyTracker):\n",
    "    def test(self, value):\n",
    "        \"\"\"Track a test for condition `value`\"\"\"\n",
    "        self.set(self.TEST, value)\n",
    "        return super().test(value)"
   ]
  },
  {
   "cell_type": "markdown",
   "metadata": {
    "slideshow": {
     "slide_type": "fragment"
    }
   },
   "source": [
    "When entering a `with` block, the set of `last_read` variables holds the `<test>` variable read. We save it in the `control` stack, with the effect of any further variables written now being marked as  controlled by `<test>`."
   ]
  },
  {
   "cell_type": "code",
   "execution_count": 156,
   "metadata": {
    "slideshow": {
     "slide_type": "subslide"
    }
   },
   "outputs": [],
   "source": [
    "class DependencyTracker(DependencyTracker):\n",
    "    def __enter__(self):\n",
    "        \"\"\"Track entering an if/while/for block\"\"\"\n",
    "        self.control.append(self.last_read)\n",
    "        self.clear_read()\n",
    "        super().__enter__()"
   ]
  },
  {
   "cell_type": "markdown",
   "metadata": {
    "slideshow": {
     "slide_type": "fragment"
    }
   },
   "source": [
    "When we exit the `with` block, we restore earlier `last_read` values, preparing for `else` blocks."
   ]
  },
  {
   "cell_type": "code",
   "execution_count": 157,
   "metadata": {
    "slideshow": {
     "slide_type": "fragment"
    }
   },
   "outputs": [],
   "source": [
    "class DependencyTracker(DependencyTracker):\n",
    "    def __exit__(self, exc_type, exc_value, traceback):\n",
    "        \"\"\"Track exiting an if/while/for block\"\"\"\n",
    "        self.clear_read()\n",
    "        self.last_read = self.control.pop()\n",
    "        self.ignore_next_location_change()\n",
    "        super().__exit__(exc_type, exc_value, traceback)"
   ]
  },
  {
   "cell_type": "markdown",
   "metadata": {
    "slideshow": {
     "slide_type": "subslide"
    }
   },
   "source": [
    "Here's an example of all these parts in action:"
   ]
  },
  {
   "cell_type": "code",
   "execution_count": 158,
   "metadata": {
    "slideshow": {
     "slide_type": "fragment"
    }
   },
   "outputs": [],
   "source": [
    "_test_data = DependencyTracker()\n",
    "x = _test_data.set('x', 1)\n",
    "y = _test_data.set('y', _test_data.get('x', x))"
   ]
  },
  {
   "cell_type": "code",
   "execution_count": 159,
   "metadata": {
    "slideshow": {
     "slide_type": "fragment"
    }
   },
   "outputs": [],
   "source": [
    "if _test_data.test(_test_data.get('x', x) >= _test_data.get('y', y)):\n",
    "    with _test_data:\n",
    "        z = _test_data.set('z',\n",
    "                           _test_data.get('x', x) + _test_data.get('y', y))"
   ]
  },
  {
   "cell_type": "code",
   "execution_count": 160,
   "metadata": {
    "slideshow": {
     "slide_type": "fragment"
    }
   },
   "outputs": [
    {
     "data": {
      "text/plain": [
       "{('x', (<function __main__.<module>()>, 2)): set(),\n",
       " ('y', (<function __main__.<module>()>, 3)): set(),\n",
       " ('<test>', (<function __main__.<module>()>, 1)): set(),\n",
       " ('z',\n",
       "  (<function __main__.<module>()>, 4)): {('<test>',\n",
       "   (<function __main__.<module>()>, 1))}}"
      ]
     },
     "execution_count": 160,
     "metadata": {},
     "output_type": "execute_result"
    }
   ],
   "source": [
    "_test_data.control_dependencies"
   ]
  },
  {
   "cell_type": "markdown",
   "metadata": {
    "slideshow": {
     "slide_type": "subslide"
    }
   },
   "source": [
    "The control dependency for `z` is reflected in the dependency graph:"
   ]
  },
  {
   "cell_type": "code",
   "execution_count": 161,
   "metadata": {
    "slideshow": {
     "slide_type": "fragment"
    }
   },
   "outputs": [
    {
     "data": {
      "image/svg+xml": [
       "<?xml version=\"1.0\" encoding=\"UTF-8\" standalone=\"no\"?>\n",
       "<!DOCTYPE svg PUBLIC \"-//W3C//DTD SVG 1.1//EN\"\n",
       " \"http://www.w3.org/Graphics/SVG/1.1/DTD/svg11.dtd\">\n",
       "<!-- Generated by graphviz version 2.40.1 (20161225.0304)\n",
       " -->\n",
       "<!-- Title: dependencies Pages: 1 -->\n",
       "<svg width=\"456pt\" height=\"276pt\"\n",
       " viewBox=\"0.00 0.00 455.50 276.00\" xmlns=\"http://www.w3.org/2000/svg\" xmlns:xlink=\"http://www.w3.org/1999/xlink\">\n",
       "<g id=\"graph0\" class=\"graph\" transform=\"scale(1 1) rotate(0) translate(4 272)\">\n",
       "<title>dependencies</title>\n",
       "<polygon fill=\"#ffffff\" stroke=\"transparent\" points=\"-4,4 -4,-272 451.5,-272 451.5,4 -4,4\"/>\n",
       "<!-- test_functionmoduleat0x7fe3e1d1d378_1 -->\n",
       "<g id=\"node1\" class=\"node\">\n",
       "<title>test_functionmoduleat0x7fe3e1d1d378_1</title>\n",
       "<g id=\"a_node1\"><a xlink:title=\"&lt;module&gt;:1\">\n",
       "<polygon fill=\"#ffdab9\" stroke=\"#000000\" points=\"389,-116 0,-116 0,-76 389,-76 389,-116\"/>\n",
       "<text text-anchor=\"start\" x=\"169\" y=\"-101.8\" font-family=\"Fira Mono, Courier, monospace\" font-weight=\"bold\" font-style=\"italic\" font-size=\"14.00\" fill=\"#000000\">&lt;test&gt;</text>\n",
       "<text text-anchor=\"start\" x=\"8\" y=\"-82.8\" font-family=\"Fira Mono, Courier, monospace\" font-size=\"9.00\" fill=\"#000000\">if _test_data.test(_test_data.get(&#39;x&#39;, x) &gt;= _test_data.get(&#39;y&#39;, y)):</text>\n",
       "</a>\n",
       "</g>\n",
       "</g>\n",
       "<!-- z_functionmoduleat0x7fe3e283a0d0_4 -->\n",
       "<g id=\"node4\" class=\"node\">\n",
       "<title>z_functionmoduleat0x7fe3e283a0d0_4</title>\n",
       "<g id=\"a_node4\"><a xlink:title=\"&lt;module&gt;:4\">\n",
       "<polygon fill=\"#ffdab9\" stroke=\"#000000\" points=\"447.5,-40 387.5,-40 387.5,0 447.5,0 447.5,-40\"/>\n",
       "<text text-anchor=\"start\" x=\"413\" y=\"-25.8\" font-family=\"Fira Mono, Courier, monospace\" font-weight=\"bold\" font-size=\"14.00\" fill=\"#000000\">z</text>\n",
       "<text text-anchor=\"start\" x=\"395.5\" y=\"-6.8\" font-family=\"Fira Mono, Courier, monospace\" font-size=\"9.00\" fill=\"#000000\">&lt;module&gt;</text>\n",
       "</a>\n",
       "</g>\n",
       "</g>\n",
       "<!-- test_functionmoduleat0x7fe3e1d1d378_1&#45;&gt;z_functionmoduleat0x7fe3e283a0d0_4 -->\n",
       "<g id=\"edge6\" class=\"edge\">\n",
       "<title>test_functionmoduleat0x7fe3e1d1d378_1&#45;&gt;z_functionmoduleat0x7fe3e283a0d0_4</title>\n",
       "<path fill=\"none\" stroke=\"#c0c0c0\" stroke-dasharray=\"5,2\" d=\"M253.3823,-75.9325C292.6094,-62.5636 343.1104,-45.3525 377.6696,-33.5745\"/>\n",
       "<polygon fill=\"#c0c0c0\" stroke=\"#c0c0c0\" points=\"379.0753,-36.7932 387.4116,-30.2543 376.8172,-30.1674 379.0753,-36.7932\"/>\n",
       "</g>\n",
       "<!-- y_functionmoduleat0x7fe3e1d1d0d0_3 -->\n",
       "<g id=\"node2\" class=\"node\">\n",
       "<title>y_functionmoduleat0x7fe3e1d1d0d0_3</title>\n",
       "<g id=\"a_node2\"><a xlink:title=\"&lt;module&gt;:3\">\n",
       "<polygon fill=\"#ffdab9\" stroke=\"#000000\" points=\"391.5,-192 331.5,-192 331.5,-152 391.5,-152 391.5,-192\"/>\n",
       "<text text-anchor=\"start\" x=\"357\" y=\"-177.8\" font-family=\"Fira Mono, Courier, monospace\" font-weight=\"bold\" font-size=\"14.00\" fill=\"#000000\">y</text>\n",
       "<text text-anchor=\"start\" x=\"339.5\" y=\"-158.8\" font-family=\"Fira Mono, Courier, monospace\" font-size=\"9.00\" fill=\"#000000\">&lt;module&gt;</text>\n",
       "</a>\n",
       "</g>\n",
       "</g>\n",
       "<!-- y_functionmoduleat0x7fe3e1d1d0d0_3&#45;&gt;test_functionmoduleat0x7fe3e1d1d378_1 -->\n",
       "<g id=\"edge1\" class=\"edge\">\n",
       "<title>y_functionmoduleat0x7fe3e1d1d0d0_3&#45;&gt;test_functionmoduleat0x7fe3e1d1d378_1</title>\n",
       "<path fill=\"none\" stroke=\"#000000\" d=\"M331.2576,-158.237C308.0345,-147.6684 275.3786,-132.807 247.8015,-120.257\"/>\n",
       "<polygon fill=\"#000000\" stroke=\"#000000\" points=\"249.2165,-117.0556 238.6649,-116.099 246.317,-123.4268 249.2165,-117.0556\"/>\n",
       "</g>\n",
       "<!-- y_functionmoduleat0x7fe3e1d1d0d0_3&#45;&gt;z_functionmoduleat0x7fe3e283a0d0_4 -->\n",
       "<g id=\"edge4\" class=\"edge\">\n",
       "<title>y_functionmoduleat0x7fe3e1d1d0d0_3&#45;&gt;z_functionmoduleat0x7fe3e283a0d0_4</title>\n",
       "<path fill=\"none\" stroke=\"#000000\" d=\"M376.9205,-151.9887C384.1467,-141.7251 392.2917,-128.7296 397.5,-116 406.1488,-94.8614 411.2253,-69.514 414.0985,-50.1742\"/>\n",
       "<polygon fill=\"#000000\" stroke=\"#000000\" points=\"417.5871,-50.4953 415.4767,-40.1128 410.6519,-49.5453 417.5871,-50.4953\"/>\n",
       "</g>\n",
       "<!-- x_functionmoduleat0x7fe3e283a378_2 -->\n",
       "<g id=\"node3\" class=\"node\">\n",
       "<title>x_functionmoduleat0x7fe3e283a378_2</title>\n",
       "<g id=\"a_node3\"><a xlink:title=\"&lt;module&gt;:2\">\n",
       "<polygon fill=\"#ffdab9\" stroke=\"#000000\" points=\"391.5,-268 331.5,-268 331.5,-228 391.5,-228 391.5,-268\"/>\n",
       "<text text-anchor=\"start\" x=\"357\" y=\"-253.8\" font-family=\"Fira Mono, Courier, monospace\" font-weight=\"bold\" font-size=\"14.00\" fill=\"#000000\">x</text>\n",
       "<text text-anchor=\"start\" x=\"339.5\" y=\"-234.8\" font-family=\"Fira Mono, Courier, monospace\" font-size=\"9.00\" fill=\"#000000\">&lt;module&gt;</text>\n",
       "</a>\n",
       "</g>\n",
       "</g>\n",
       "<!-- x_functionmoduleat0x7fe3e283a378_2&#45;&gt;test_functionmoduleat0x7fe3e1d1d378_1 -->\n",
       "<g id=\"edge2\" class=\"edge\">\n",
       "<title>x_functionmoduleat0x7fe3e283a378_2&#45;&gt;test_functionmoduleat0x7fe3e1d1d378_1</title>\n",
       "<path fill=\"none\" stroke=\"#000000\" d=\"M339.3237,-227.8156C309.6711,-200.8264 257.0234,-152.9075 224.0349,-122.8821\"/>\n",
       "<polygon fill=\"#000000\" stroke=\"#000000\" points=\"226.2534,-120.1686 216.502,-116.0258 221.5416,-125.3454 226.2534,-120.1686\"/>\n",
       "</g>\n",
       "<!-- x_functionmoduleat0x7fe3e283a378_2&#45;&gt;y_functionmoduleat0x7fe3e1d1d0d0_3 -->\n",
       "<g id=\"edge3\" class=\"edge\">\n",
       "<title>x_functionmoduleat0x7fe3e283a378_2&#45;&gt;y_functionmoduleat0x7fe3e1d1d0d0_3</title>\n",
       "<path fill=\"none\" stroke=\"#000000\" d=\"M361.5,-227.6334C361.5,-219.8186 361.5,-210.7253 361.5,-202.183\"/>\n",
       "<polygon fill=\"#000000\" stroke=\"#000000\" points=\"365.0001,-202.1593 361.5,-192.1593 358.0001,-202.1593 365.0001,-202.1593\"/>\n",
       "</g>\n",
       "<!-- x_functionmoduleat0x7fe3e283a378_2&#45;&gt;z_functionmoduleat0x7fe3e283a0d0_4 -->\n",
       "<g id=\"edge5\" class=\"edge\">\n",
       "<title>x_functionmoduleat0x7fe3e283a378_2&#45;&gt;z_functionmoduleat0x7fe3e283a0d0_4</title>\n",
       "<path fill=\"none\" stroke=\"#000000\" d=\"M378.3757,-227.8823C386.148,-217.6958 394.8737,-204.798 400.5,-192 420.856,-145.6971 421.7757,-85.7991 420.0292,-50.2841\"/>\n",
       "<polygon fill=\"#000000\" stroke=\"#000000\" points=\"423.5103,-49.8606 419.4202,-40.0871 416.5227,-50.278 423.5103,-49.8606\"/>\n",
       "</g>\n",
       "</g>\n",
       "</svg>\n"
      ],
      "text/plain": [
       "Dependencies(\n",
       "    data={\n",
       "        ('x', (<module>, 2)): set(),\n",
       "        ('y', (<module>, 3)): {('x', (<module>, 2))},\n",
       "        ('<test>', (<module>, 1)): {('y', (<module>, 3)), ('x', (<module>, 2))},\n",
       "        ('z', (<module>, 4)): {('y', (<module>, 3)), ('x', (<module>, 2))}},\n",
       " control={\n",
       "        ('x', (<module>, 2)): set(),\n",
       "        ('y', (<module>, 3)): set(),\n",
       "        ('<test>', (<module>, 1)): set(),\n",
       "        ('z', (<module>, 4)): {('<test>', (<module>, 1))}})"
      ]
     },
     "execution_count": 161,
     "metadata": {},
     "output_type": "execute_result"
    }
   ],
   "source": [
    "# ignore\n",
    "_test_data.dependencies()"
   ]
  },
  {
   "cell_type": "markdown",
   "metadata": {
    "slideshow": {
     "slide_type": "subslide"
    }
   },
   "source": [
    "### End of Excursion"
   ]
  },
  {
   "cell_type": "markdown",
   "metadata": {
    "slideshow": {
     "slide_type": "subslide"
    }
   },
   "source": [
    "### Excursion: Calls and Returns"
   ]
  },
  {
   "cell_type": "markdown",
   "metadata": {
    "slideshow": {
     "slide_type": "fragment"
    }
   },
   "source": [
    "To handle complex expressions involving functions, we introduce a _data stack_. Every time we invoke a function `func` (`call()` is invoked), we save the list of current variables read `last_read` on the `data` stack; when we return (`ret()` is invoked), we restore `last_read`. This also ensures that only those variables read while evaluating arguments will flow into the function call."
   ]
  },
  {
   "cell_type": "code",
   "execution_count": 162,
   "metadata": {
    "slideshow": {
     "slide_type": "subslide"
    }
   },
   "outputs": [],
   "source": [
    "class DependencyTracker(DependencyTracker):\n",
    "    def call(self, func):\n",
    "        \"\"\"Track a call of function `func`\"\"\"\n",
    "        super().call(func)\n",
    "\n",
    "        if inspect.isgeneratorfunction(func):\n",
    "            return self.call_generator(func)\n",
    "\n",
    "        # Save context\n",
    "        if self.log:\n",
    "            caller_func, lineno = self.caller_location()\n",
    "            print(f\"{caller_func.__name__}:{lineno}: \"\n",
    "                  f\"saving read variables {self.last_read}\")\n",
    "\n",
    "        self.data.append(self.last_read)\n",
    "        self.clear_read()\n",
    "        self.ignore_next_location_change()\n",
    "\n",
    "        self.frames.append(self.args)\n",
    "        self.args = {}\n",
    "\n",
    "        return func"
   ]
  },
  {
   "cell_type": "code",
   "execution_count": 163,
   "metadata": {
    "slideshow": {
     "slide_type": "subslide"
    }
   },
   "outputs": [],
   "source": [
    "class DependencyTracker(DependencyTracker):\n",
    "    def ret(self, value):\n",
    "        \"\"\"Track a function return\"\"\"\n",
    "        super().ret(value)\n",
    "\n",
    "        if self.in_generator():\n",
    "            return self.ret_generator(value)\n",
    "\n",
    "        # Restore old context and add return value\n",
    "        ret_name = None\n",
    "        for var in self.last_read:\n",
    "            if var.startswith(\"<\"):  # \"<return value>\"\n",
    "                ret_name = var\n",
    "\n",
    "        self.last_read = self.data.pop()\n",
    "        if ret_name is not None:\n",
    "            self.last_read.append(ret_name)\n",
    "\n",
    "        self.ignore_location_change()\n",
    "\n",
    "        self.args = self.frames.pop()\n",
    "\n",
    "        if self.log:\n",
    "            caller_func, lineno = self.caller_location()\n",
    "            print(f\"{caller_func.__name__}:{lineno}: \"\n",
    "                  f\"restored read variables {self.last_read}\")\n",
    "\n",
    "        return value"
   ]
  },
  {
   "cell_type": "markdown",
   "metadata": {
    "slideshow": {
     "slide_type": "subslide"
    }
   },
   "source": [
    "Generator functions (those which `yield` a value) are not \"called\" in the sense that Python transfers control to them; instead, a \"call\" to a generator function creates a generator that is evaluated on demand. We mark generator function \"calls\" by saving `None` on the stacks. When the generator function returns the generator, we wrap the generator such that the arguments are being restored when it is invoked."
   ]
  },
  {
   "cell_type": "code",
   "execution_count": 164,
   "metadata": {
    "slideshow": {
     "slide_type": "skip"
    }
   },
   "outputs": [],
   "source": [
    "import copy"
   ]
  },
  {
   "cell_type": "code",
   "execution_count": 165,
   "metadata": {
    "slideshow": {
     "slide_type": "subslide"
    }
   },
   "outputs": [],
   "source": [
    "class DependencyTracker(DependencyTracker):\n",
    "    def in_generator(self):\n",
    "        \"\"\"True if we are calling a generator function\"\"\"\n",
    "        return len(self.data) > 0 and self.data[-1] is None\n",
    "\n",
    "    def call_generator(self, func):\n",
    "        \"\"\"Track a call of a generator function\"\"\"\n",
    "        # Mark the fact that we're in a generator with `None` values\n",
    "        self.data.append(None)\n",
    "        self.frames.append(None)\n",
    "        assert self.in_generator()\n",
    "\n",
    "        self.clear_read()\n",
    "        return func\n",
    "\n",
    "    def ret_generator(self, generator):\n",
    "        \"\"\"Track the return of a generator function\"\"\"\n",
    "        # Pop the two 'None' values pushed earlier\n",
    "        self.data.pop()\n",
    "        self.frames.pop()\n",
    "\n",
    "        if self.log:\n",
    "            caller_func, lineno = self.caller_location()\n",
    "            print(f\"{caller_func.__name__}:{lineno}: \"\n",
    "                  f\"wrapping generator {generator} (args={self.args})\")\n",
    "\n",
    "        # At this point, we already have collected the args.\n",
    "        # The returned generator depends on all of them.\n",
    "        for arg in self.args:\n",
    "            self.last_read += self.args[arg]\n",
    "\n",
    "        # Wrap the generator such that the args are restored \n",
    "        # when it is actually invoked, such that we can map them\n",
    "        # to parameters.\n",
    "        saved_args = copy.deepcopy(self.args)\n",
    "\n",
    "        def wrapper():\n",
    "            self.args = saved_args\n",
    "            if self.log:\n",
    "                caller_func, lineno = self.caller_location()\n",
    "                print(f\"{caller_func.__name__}:{lineno}: \"\n",
    "                  f\"calling generator (args={self.args})\")\n",
    "\n",
    "            self.ignore_next_location_change()\n",
    "            yield from generator\n",
    "\n",
    "        return wrapper()"
   ]
  },
  {
   "cell_type": "markdown",
   "metadata": {
    "slideshow": {
     "slide_type": "subslide"
    }
   },
   "source": [
    "We see an example of how function calls and returns work in conjunction with function arguments, discussed in the next section."
   ]
  },
  {
   "cell_type": "markdown",
   "metadata": {
    "slideshow": {
     "slide_type": "subslide"
    }
   },
   "source": [
    "### End of Excursion"
   ]
  },
  {
   "cell_type": "markdown",
   "metadata": {
    "slideshow": {
     "slide_type": "subslide"
    }
   },
   "source": [
    "### Excursion: Function Arguments"
   ]
  },
  {
   "cell_type": "markdown",
   "metadata": {
    "slideshow": {
     "slide_type": "fragment"
    }
   },
   "source": [
    "Finally, we handle parameters and arguments. The `args` stack holds the current stack of function arguments, holding the `last_read` variable for each argument."
   ]
  },
  {
   "cell_type": "code",
   "execution_count": 166,
   "metadata": {
    "slideshow": {
     "slide_type": "subslide"
    }
   },
   "outputs": [],
   "source": [
    "class DependencyTracker(DependencyTracker):\n",
    "    def arg(self, value, pos=None, kw=None):\n",
    "        \"\"\"Track passing an argument `value`\n",
    "        (with given position `pos` 1..n or keyword `kw`)\"\"\"\n",
    "        if self.log:\n",
    "            caller_func, lineno = self.caller_location()\n",
    "            print(f\"{caller_func.__name__}:{lineno}: \"\n",
    "                  f\"saving args read {self.last_read}\")\n",
    "\n",
    "        if pos:\n",
    "            self.args[pos] = self.last_read\n",
    "        if kw:\n",
    "            self.args[kw] = self.last_read\n",
    "\n",
    "        self.clear_read()\n",
    "        return super().arg(value, pos, kw)"
   ]
  },
  {
   "cell_type": "markdown",
   "metadata": {
    "slideshow": {
     "slide_type": "subslide"
    }
   },
   "source": [
    "When accessing the arguments (with `param()`), we can retrieve this set of read variables for each argument."
   ]
  },
  {
   "cell_type": "code",
   "execution_count": 167,
   "metadata": {
    "slideshow": {
     "slide_type": "subslide"
    }
   },
   "outputs": [],
   "source": [
    "class DependencyTracker(DependencyTracker):\n",
    "    def param(self, name, value, pos=None, vararg=\"\", last=False):\n",
    "        \"\"\"Track getting a parameter `name` with value `value`\n",
    "        (with given position `pos`).\n",
    "        vararg parameters are indicated by setting `varargs` to \n",
    "        '*' (*args) or '**' (**kwargs)\"\"\"\n",
    "        self.clear_read()\n",
    "\n",
    "        if vararg == '*':\n",
    "            # We overapproximate by setting `args` to _all_ positional args\n",
    "            for index in self.args:\n",
    "                if isinstance(index, int) and index >= pos:\n",
    "                    self.last_read += self.args[index]\n",
    "        elif vararg == '**':\n",
    "            # We overapproximate by setting `kwargs` to _all_ passed keyword args\n",
    "            for index in self.args:\n",
    "                if isinstance(index, str):\n",
    "                    self.last_read += self.args[index]\n",
    "        elif name in self.args:\n",
    "            self.last_read = self.args[name]\n",
    "        elif pos in self.args:\n",
    "            self.last_read = self.args[pos]\n",
    "\n",
    "        if self.log:\n",
    "            caller_func, lineno = self.caller_location()\n",
    "            print(f\"{caller_func.__name__}:{lineno}: \"\n",
    "                  f\"restored params read {self.last_read}\")\n",
    "\n",
    "        self.ignore_location_change()\n",
    "        ret = super().param(name, value, pos)\n",
    "\n",
    "        if last:\n",
    "            self.clear_read()\n",
    "        return ret"
   ]
  },
  {
   "cell_type": "markdown",
   "metadata": {
    "slideshow": {
     "slide_type": "subslide"
    }
   },
   "source": [
    "Let us illustrate all these on a small example."
   ]
  },
  {
   "cell_type": "code",
   "execution_count": 168,
   "metadata": {
    "slideshow": {
     "slide_type": "subslide"
    }
   },
   "outputs": [],
   "source": [
    "def call_test():\n",
    "    c = 47\n",
    "\n",
    "    def sq(n):\n",
    "        return n * n\n",
    "\n",
    "    def gen(e):\n",
    "        yield e * c\n",
    "\n",
    "    def just_x(x, y):\n",
    "        return x\n",
    "\n",
    "    a = 42\n",
    "    b = gen(a)\n",
    "    d = list(b)[0]\n",
    "\n",
    "    xs = [1, 2, 3, 4]\n",
    "    ys = [sq(elem) for elem in xs if elem > 2]\n",
    "\n",
    "    return just_x(just_x(d, y=b), ys[0])"
   ]
  },
  {
   "cell_type": "code",
   "execution_count": 169,
   "metadata": {
    "slideshow": {
     "slide_type": "subslide"
    }
   },
   "outputs": [
    {
     "data": {
      "text/plain": [
       "1974"
      ]
     },
     "execution_count": 169,
     "metadata": {},
     "output_type": "execute_result"
    }
   ],
   "source": [
    "call_test()"
   ]
  },
  {
   "cell_type": "markdown",
   "metadata": {
    "slideshow": {
     "slide_type": "fragment"
    }
   },
   "source": [
    "We apply all our transformers on this code:"
   ]
  },
  {
   "cell_type": "code",
   "execution_count": 170,
   "metadata": {
    "slideshow": {
     "slide_type": "subslide"
    }
   },
   "outputs": [
    {
     "name": "stdout",
     "output_type": "stream",
     "text": [
      "\u001b[34mdef\u001b[39;49;00m \u001b[32mcall_test\u001b[39;49;00m():\n",
      "    c = _data.set(\u001b[33m'\u001b[39;49;00m\u001b[33mc\u001b[39;49;00m\u001b[33m'\u001b[39;49;00m, \u001b[34m47\u001b[39;49;00m)\n",
      "\n",
      "    \u001b[34mdef\u001b[39;49;00m \u001b[32msq\u001b[39;49;00m(n):\n",
      "        _data.param(\u001b[33m'\u001b[39;49;00m\u001b[33mn\u001b[39;49;00m\u001b[33m'\u001b[39;49;00m, n, pos=\u001b[34m1\u001b[39;49;00m, last=\u001b[34mTrue\u001b[39;49;00m)\n",
      "        \u001b[34mreturn\u001b[39;49;00m _data.set(\u001b[33m'\u001b[39;49;00m\u001b[33m<sq() return value>\u001b[39;49;00m\u001b[33m'\u001b[39;49;00m, _data.get(\u001b[33m'\u001b[39;49;00m\u001b[33mn\u001b[39;49;00m\u001b[33m'\u001b[39;49;00m, n) * _data.\n",
      "            get(\u001b[33m'\u001b[39;49;00m\u001b[33mn\u001b[39;49;00m\u001b[33m'\u001b[39;49;00m, n))\n",
      "\n",
      "    \u001b[34mdef\u001b[39;49;00m \u001b[32mgen\u001b[39;49;00m(e):\n",
      "        _data.param(\u001b[33m'\u001b[39;49;00m\u001b[33me\u001b[39;49;00m\u001b[33m'\u001b[39;49;00m, e, pos=\u001b[34m1\u001b[39;49;00m, last=\u001b[34mTrue\u001b[39;49;00m)\n",
      "        \u001b[34myield\u001b[39;49;00m _data.set(\u001b[33m'\u001b[39;49;00m\u001b[33m<gen() yield value>\u001b[39;49;00m\u001b[33m'\u001b[39;49;00m, _data.get(\u001b[33m'\u001b[39;49;00m\u001b[33me\u001b[39;49;00m\u001b[33m'\u001b[39;49;00m, e) * _data.\n",
      "            get(\u001b[33m'\u001b[39;49;00m\u001b[33mc\u001b[39;49;00m\u001b[33m'\u001b[39;49;00m, c))\n",
      "\n",
      "    \u001b[34mdef\u001b[39;49;00m \u001b[32mjust_x\u001b[39;49;00m(x, y):\n",
      "        _data.param(\u001b[33m'\u001b[39;49;00m\u001b[33mx\u001b[39;49;00m\u001b[33m'\u001b[39;49;00m, x, pos=\u001b[34m1\u001b[39;49;00m)\n",
      "        _data.param(\u001b[33m'\u001b[39;49;00m\u001b[33my\u001b[39;49;00m\u001b[33m'\u001b[39;49;00m, y, pos=\u001b[34m2\u001b[39;49;00m, last=\u001b[34mTrue\u001b[39;49;00m)\n",
      "        \u001b[34mreturn\u001b[39;49;00m _data.set(\u001b[33m'\u001b[39;49;00m\u001b[33m<just_x() return value>\u001b[39;49;00m\u001b[33m'\u001b[39;49;00m, _data.get(\u001b[33m'\u001b[39;49;00m\u001b[33mx\u001b[39;49;00m\u001b[33m'\u001b[39;49;00m, x))\n",
      "    a = _data.set(\u001b[33m'\u001b[39;49;00m\u001b[33ma\u001b[39;49;00m\u001b[33m'\u001b[39;49;00m, \u001b[34m42\u001b[39;49;00m)\n",
      "    b = _data.set(\u001b[33m'\u001b[39;49;00m\u001b[33mb\u001b[39;49;00m\u001b[33m'\u001b[39;49;00m, _data.ret(_data.call(_data.get(\u001b[33m'\u001b[39;49;00m\u001b[33mgen\u001b[39;49;00m\u001b[33m'\u001b[39;49;00m, gen))(_data.\n",
      "        arg(_data.get(\u001b[33m'\u001b[39;49;00m\u001b[33ma\u001b[39;49;00m\u001b[33m'\u001b[39;49;00m, a), pos=\u001b[34m1\u001b[39;49;00m))))\n",
      "    d = _data.set(\u001b[33m'\u001b[39;49;00m\u001b[33md\u001b[39;49;00m\u001b[33m'\u001b[39;49;00m, _data.ret(_data.call(\u001b[36mlist\u001b[39;49;00m)(_data.arg(_data.get(\u001b[33m'\u001b[39;49;00m\u001b[33mb\u001b[39;49;00m\u001b[33m'\u001b[39;49;00m,\n",
      "        b), pos=\u001b[34m1\u001b[39;49;00m)))[\u001b[34m0\u001b[39;49;00m])\n",
      "    xs = _data.set(\u001b[33m'\u001b[39;49;00m\u001b[33mxs\u001b[39;49;00m\u001b[33m'\u001b[39;49;00m, [\u001b[34m1\u001b[39;49;00m, \u001b[34m2\u001b[39;49;00m, \u001b[34m3\u001b[39;49;00m, \u001b[34m4\u001b[39;49;00m])\n",
      "    ys = _data.set(\u001b[33m'\u001b[39;49;00m\u001b[33mys\u001b[39;49;00m\u001b[33m'\u001b[39;49;00m, [_data.ret(_data.call(_data.get(\u001b[33m'\u001b[39;49;00m\u001b[33msq\u001b[39;49;00m\u001b[33m'\u001b[39;49;00m, sq))(_data.\n",
      "        arg(_data.get(\u001b[33m'\u001b[39;49;00m\u001b[33melem\u001b[39;49;00m\u001b[33m'\u001b[39;49;00m, elem), pos=\u001b[34m1\u001b[39;49;00m))) \u001b[34mfor\u001b[39;49;00m elem \u001b[35min\u001b[39;49;00m _data.set(\u001b[33m'\u001b[39;49;00m\u001b[33melem\u001b[39;49;00m\u001b[33m'\u001b[39;49;00m,\n",
      "        _data.get(\u001b[33m'\u001b[39;49;00m\u001b[33mxs\u001b[39;49;00m\u001b[33m'\u001b[39;49;00m, xs)) \u001b[34mif\u001b[39;49;00m _data.get(\u001b[33m'\u001b[39;49;00m\u001b[33melem\u001b[39;49;00m\u001b[33m'\u001b[39;49;00m, elem) > \u001b[34m2\u001b[39;49;00m])\n",
      "    \u001b[34mreturn\u001b[39;49;00m _data.set(\u001b[33m'\u001b[39;49;00m\u001b[33m<call_test() return value>\u001b[39;49;00m\u001b[33m'\u001b[39;49;00m, _data.ret(_data.call(\n",
      "        _data.get(\u001b[33m'\u001b[39;49;00m\u001b[33mjust_x\u001b[39;49;00m\u001b[33m'\u001b[39;49;00m, just_x))(_data.arg(_data.ret(_data.call(_data.\n",
      "        get(\u001b[33m'\u001b[39;49;00m\u001b[33mjust_x\u001b[39;49;00m\u001b[33m'\u001b[39;49;00m, just_x))(_data.arg(_data.get(\u001b[33m'\u001b[39;49;00m\u001b[33md\u001b[39;49;00m\u001b[33m'\u001b[39;49;00m, d), pos=\u001b[34m1\u001b[39;49;00m), y=_data\n",
      "        .arg(_data.get(\u001b[33m'\u001b[39;49;00m\u001b[33mb\u001b[39;49;00m\u001b[33m'\u001b[39;49;00m, b), kw=\u001b[33m'\u001b[39;49;00m\u001b[33my\u001b[39;49;00m\u001b[33m'\u001b[39;49;00m))), pos=\u001b[34m1\u001b[39;49;00m), _data.arg(_data.get(\u001b[33m'\u001b[39;49;00m\u001b[33mys\u001b[39;49;00m\u001b[33m'\u001b[39;49;00m,\n",
      "        ys)[\u001b[34m0\u001b[39;49;00m], pos=\u001b[34m2\u001b[39;49;00m))))"
     ]
    }
   ],
   "source": [
    "call_tree = ast.parse(inspect.getsource(call_test))\n",
    "TrackCallTransformer().visit(call_tree)\n",
    "TrackSetTransformer().visit(call_tree)\n",
    "TrackGetTransformer().visit(call_tree)\n",
    "TrackControlTransformer().visit(call_tree)\n",
    "TrackReturnTransformer().visit(call_tree)\n",
    "TrackParamsTransformer().visit(call_tree)\n",
    "dump_tree(call_tree)"
   ]
  },
  {
   "cell_type": "markdown",
   "metadata": {
    "slideshow": {
     "slide_type": "subslide"
    }
   },
   "source": [
    "Again, we capture the dependencies:"
   ]
  },
  {
   "cell_type": "code",
   "execution_count": 171,
   "metadata": {
    "slideshow": {
     "slide_type": "fragment"
    }
   },
   "outputs": [],
   "source": [
    "class DependencyTrackerTester(DataTrackerTester):\n",
    "    def make_data_tracker(self):\n",
    "        return DependencyTracker(log=self.log)"
   ]
  },
  {
   "cell_type": "code",
   "execution_count": 172,
   "metadata": {
    "slideshow": {
     "slide_type": "fragment"
    }
   },
   "outputs": [],
   "source": [
    "with DependencyTrackerTester(call_tree, call_test, log=False) as call_deps:\n",
    "    call_test()"
   ]
  },
  {
   "cell_type": "markdown",
   "metadata": {
    "slideshow": {
     "slide_type": "fragment"
    }
   },
   "source": [
    "We see how \n",
    "\n",
    "* `a` flows into the generator `b` and into the parameter `e` of `gen()`.\n",
    "* `xs` flows into `elem` which in turn flows into the parameter `n` of `sq()`. Both flow into `ys`.\n",
    "* `just_x()` returns only its `x` argument."
   ]
  },
  {
   "cell_type": "code",
   "execution_count": 173,
   "metadata": {
    "slideshow": {
     "slide_type": "subslide"
    }
   },
   "outputs": [
    {
     "data": {
      "image/svg+xml": [
       "<?xml version=\"1.0\" encoding=\"UTF-8\" standalone=\"no\"?>\n",
       "<!DOCTYPE svg PUBLIC \"-//W3C//DTD SVG 1.1//EN\"\n",
       " \"http://www.w3.org/Graphics/SVG/1.1/DTD/svg11.dtd\">\n",
       "<!-- Generated by graphviz version 2.40.1 (20161225.0304)\n",
       " -->\n",
       "<!-- Title: dependencies Pages: 1 -->\n",
       "<svg width=\"629pt\" height=\"656pt\"\n",
       " viewBox=\"0.00 0.00 629.00 656.00\" xmlns=\"http://www.w3.org/2000/svg\" xmlns:xlink=\"http://www.w3.org/1999/xlink\">\n",
       "<g id=\"graph0\" class=\"graph\" transform=\"scale(1 1) rotate(0) translate(4 652)\">\n",
       "<title>dependencies</title>\n",
       "<polygon fill=\"#ffffff\" stroke=\"transparent\" points=\"-4,4 -4,-652 625,-652 625,4 -4,4\"/>\n",
       "<!-- d_functioncall_testat0x7fe3e283ad90_15 -->\n",
       "<g id=\"node1\" class=\"node\">\n",
       "<title>d_functioncall_testat0x7fe3e283ad90_15</title>\n",
       "<g id=\"a_node1\"><a xlink:title=\"call_test:15\">\n",
       "<polygon fill=\"#ffdab9\" stroke=\"#000000\" points=\"391.5,-344 299.5,-344 299.5,-304 391.5,-304 391.5,-344\"/>\n",
       "<text text-anchor=\"start\" x=\"341\" y=\"-329.8\" font-family=\"Fira Mono, Courier, monospace\" font-weight=\"bold\" font-size=\"14.00\" fill=\"#000000\">d</text>\n",
       "<text text-anchor=\"start\" x=\"307.5\" y=\"-310.8\" font-family=\"Fira Mono, Courier, monospace\" font-size=\"9.00\" fill=\"#000000\">d = list(b)[0]</text>\n",
       "</a>\n",
       "</g>\n",
       "</g>\n",
       "<!-- xs_functioncall_testat0x7fe3e283ad90_17 -->\n",
       "<g id=\"node4\" class=\"node\">\n",
       "<title>xs_functioncall_testat0x7fe3e283ad90_17</title>\n",
       "<g id=\"a_node4\"><a xlink:title=\"call_test:17\">\n",
       "<polygon fill=\"#ffdab9\" stroke=\"#000000\" points=\"553.5,-268 445.5,-268 445.5,-228 553.5,-228 553.5,-268\"/>\n",
       "<text text-anchor=\"start\" x=\"491\" y=\"-253.8\" font-family=\"Fira Mono, Courier, monospace\" font-weight=\"bold\" font-size=\"14.00\" fill=\"#000000\">xs</text>\n",
       "<text text-anchor=\"start\" x=\"453.5\" y=\"-234.8\" font-family=\"Fira Mono, Courier, monospace\" font-size=\"9.00\" fill=\"#000000\">xs = [1, 2, 3, 4]</text>\n",
       "</a>\n",
       "</g>\n",
       "</g>\n",
       "<!-- d_functioncall_testat0x7fe3e283ad90_15&#45;&gt;xs_functioncall_testat0x7fe3e283ad90_17 -->\n",
       "<!-- x_functioncall_testlocalsjust_xat0x7fe3e1d1dc80_10 -->\n",
       "<g id=\"node10\" class=\"node\">\n",
       "<title>x_functioncall_testlocalsjust_xat0x7fe3e1d1dc80_10</title>\n",
       "<g id=\"a_node10\"><a xlink:title=\"just_x:10\">\n",
       "<polygon fill=\"#ffdab9\" stroke=\"#000000\" points=\"391.5,-268 283.5,-268 283.5,-228 391.5,-228 391.5,-268\"/>\n",
       "<text text-anchor=\"start\" x=\"333\" y=\"-253.8\" font-family=\"Fira Mono, Courier, monospace\" font-weight=\"bold\" font-size=\"14.00\" fill=\"#000000\">x</text>\n",
       "<text text-anchor=\"start\" x=\"291.5\" y=\"-234.8\" font-family=\"Fira Mono, Courier, monospace\" font-size=\"9.00\" fill=\"#000000\">def just_x(x, y):</text>\n",
       "</a>\n",
       "</g>\n",
       "</g>\n",
       "<!-- d_functioncall_testat0x7fe3e283ad90_15&#45;&gt;x_functioncall_testlocalsjust_xat0x7fe3e1d1dc80_10 -->\n",
       "<g id=\"edge5\" class=\"edge\">\n",
       "<title>d_functioncall_testat0x7fe3e283ad90_15&#45;&gt;x_functioncall_testlocalsjust_xat0x7fe3e1d1dc80_10</title>\n",
       "<path fill=\"none\" stroke=\"#000000\" d=\"M343.3561,-303.6334C342.5335,-295.8186 341.5764,-286.7253 340.6772,-278.183\"/>\n",
       "<polygon fill=\"#000000\" stroke=\"#000000\" points=\"344.1497,-277.7379 339.622,-268.1593 337.1882,-278.4708 344.1497,-277.7379\"/>\n",
       "</g>\n",
       "<!-- genyieldvalue_functioncall_testlocalsgenat0x7fe3e1d1dbf8_8 -->\n",
       "<g id=\"node2\" class=\"node\">\n",
       "<title>genyieldvalue_functioncall_testlocalsgenat0x7fe3e1d1dbf8_8</title>\n",
       "<g id=\"a_node2\"><a xlink:title=\"gen:8\">\n",
       "<polygon fill=\"#ffdab9\" stroke=\"#000000\" points=\"538.5,-420 362.5,-420 362.5,-380 538.5,-380 538.5,-420\"/>\n",
       "<text text-anchor=\"start\" x=\"370.5\" y=\"-405.8\" font-family=\"Fira Mono, Courier, monospace\" font-weight=\"bold\" font-style=\"italic\" font-size=\"14.00\" fill=\"#000000\">&lt;gen() yield value&gt;</text>\n",
       "<text text-anchor=\"start\" x=\"420.5\" y=\"-386.8\" font-family=\"Fira Mono, Courier, monospace\" font-size=\"9.00\" fill=\"#000000\">yield e * c</text>\n",
       "</a>\n",
       "</g>\n",
       "</g>\n",
       "<!-- genyieldvalue_functioncall_testlocalsgenat0x7fe3e1d1dbf8_8&#45;&gt;d_functioncall_testat0x7fe3e283ad90_15 -->\n",
       "<g id=\"edge1\" class=\"edge\">\n",
       "<title>genyieldvalue_functioncall_testlocalsgenat0x7fe3e1d1dbf8_8&#45;&gt;d_functioncall_testat0x7fe3e283ad90_15</title>\n",
       "<path fill=\"none\" stroke=\"#000000\" d=\"M422.6376,-379.8329C410.0593,-370.7287 395.0409,-359.8582 381.6123,-350.1384\"/>\n",
       "<polygon fill=\"#000000\" stroke=\"#000000\" points=\"383.6455,-347.2895 373.4926,-344.2613 379.5411,-352.96 383.6455,-347.2895\"/>\n",
       "</g>\n",
       "<!-- b_functioncall_testat0x7fe3e283ad90_14 -->\n",
       "<g id=\"node3\" class=\"node\">\n",
       "<title>b_functioncall_testat0x7fe3e283ad90_14</title>\n",
       "<g id=\"a_node3\"><a xlink:title=\"call_test:14\">\n",
       "<polygon fill=\"#ffdab9\" stroke=\"#000000\" points=\"344,-420 273,-420 273,-380 344,-380 344,-420\"/>\n",
       "<text text-anchor=\"start\" x=\"304\" y=\"-405.8\" font-family=\"Fira Mono, Courier, monospace\" font-weight=\"bold\" font-size=\"14.00\" fill=\"#000000\">b</text>\n",
       "<text text-anchor=\"start\" x=\"281\" y=\"-386.8\" font-family=\"Fira Mono, Courier, monospace\" font-size=\"9.00\" fill=\"#000000\">b = gen(a)</text>\n",
       "</a>\n",
       "</g>\n",
       "</g>\n",
       "<!-- b_functioncall_testat0x7fe3e283ad90_14&#45;&gt;d_functioncall_testat0x7fe3e283ad90_15 -->\n",
       "<g id=\"edge2\" class=\"edge\">\n",
       "<title>b_functioncall_testat0x7fe3e283ad90_14&#45;&gt;d_functioncall_testat0x7fe3e283ad90_15</title>\n",
       "<path fill=\"none\" stroke=\"#000000\" d=\"M312.3579,-379.6334C315.64,-371.4751 320.1156,-361.9235 324.7713,-353.0598\"/>\n",
       "<polygon fill=\"#000000\" stroke=\"#000000\" points=\"327.9121,-354.6113 329.6458,-344.1593 321.7725,-351.2489 327.9121,-354.6113\"/>\n",
       "</g>\n",
       "<!-- b_functioncall_testat0x7fe3e283ad90_14&#45;&gt;d_functioncall_testat0x7fe3e283ad90_15 -->\n",
       "<!-- y_functioncall_testlocalsjust_xat0x7fe3e1d1dc80_10 -->\n",
       "<g id=\"node11\" class=\"node\">\n",
       "<title>y_functioncall_testlocalsjust_xat0x7fe3e1d1dc80_10</title>\n",
       "<g id=\"a_node11\"><a xlink:title=\"just_x:10\">\n",
       "<polygon fill=\"#ffdab9\" stroke=\"#000000\" points=\"265.5,-268 157.5,-268 157.5,-228 265.5,-228 265.5,-268\"/>\n",
       "<text text-anchor=\"start\" x=\"207\" y=\"-253.8\" font-family=\"Fira Mono, Courier, monospace\" font-weight=\"bold\" font-size=\"14.00\" fill=\"#000000\">y</text>\n",
       "<text text-anchor=\"start\" x=\"165.5\" y=\"-234.8\" font-family=\"Fira Mono, Courier, monospace\" font-size=\"9.00\" fill=\"#000000\">def just_x(x, y):</text>\n",
       "</a>\n",
       "</g>\n",
       "</g>\n",
       "<!-- b_functioncall_testat0x7fe3e283ad90_14&#45;&gt;y_functioncall_testlocalsjust_xat0x7fe3e1d1dc80_10 -->\n",
       "<g id=\"edge8\" class=\"edge\">\n",
       "<title>b_functioncall_testat0x7fe3e283ad90_14&#45;&gt;y_functioncall_testlocalsjust_xat0x7fe3e1d1dc80_10</title>\n",
       "<path fill=\"none\" stroke=\"#000000\" d=\"M297.1925,-379.8427C286.0236,-360.2066 268.2329,-329.65 251.5,-304 245.5759,-294.919 238.8253,-285.239 232.5787,-276.5259\"/>\n",
       "<polygon fill=\"#000000\" stroke=\"#000000\" points=\"235.247,-274.243 226.5492,-268.1931 229.5758,-278.3465 235.247,-274.243\"/>\n",
       "</g>\n",
       "<!-- elem_functioncall_testat0x7fe3e283ad90_18 -->\n",
       "<g id=\"node8\" class=\"node\">\n",
       "<title>elem_functioncall_testat0x7fe3e283ad90_18</title>\n",
       "<g id=\"a_node8\"><a xlink:title=\"call_test:18\">\n",
       "<polygon fill=\"#ffdab9\" stroke=\"#000000\" points=\"621,-192 378,-192 378,-152 621,-152 621,-192\"/>\n",
       "<text text-anchor=\"start\" x=\"482.5\" y=\"-177.8\" font-family=\"Fira Mono, Courier, monospace\" font-weight=\"bold\" font-size=\"14.00\" fill=\"#000000\">elem</text>\n",
       "<text text-anchor=\"start\" x=\"386\" y=\"-158.8\" font-family=\"Fira Mono, Courier, monospace\" font-size=\"9.00\" fill=\"#000000\">ys = [sq(elem) for elem in xs if elem &gt; 2]</text>\n",
       "</a>\n",
       "</g>\n",
       "</g>\n",
       "<!-- xs_functioncall_testat0x7fe3e283ad90_17&#45;&gt;elem_functioncall_testat0x7fe3e283ad90_18 -->\n",
       "<g id=\"edge15\" class=\"edge\">\n",
       "<title>xs_functioncall_testat0x7fe3e283ad90_17&#45;&gt;elem_functioncall_testat0x7fe3e283ad90_18</title>\n",
       "<path fill=\"none\" stroke=\"#000000\" d=\"M493.4426,-227.6334C492.7819,-219.8186 492.5939,-210.7253 492.8786,-202.183\"/>\n",
       "<polygon fill=\"#000000\" stroke=\"#000000\" points=\"496.375,-202.3453 493.4602,-192.1593 489.3867,-201.9397 496.375,-202.3453\"/>\n",
       "</g>\n",
       "<!-- xs_functioncall_testat0x7fe3e283ad90_17&#45;&gt;elem_functioncall_testat0x7fe3e283ad90_18 -->\n",
       "<!-- call_testreturnvalue_functioncall_testat0x7fe3e283ad90_20 -->\n",
       "<g id=\"node5\" class=\"node\">\n",
       "<title>call_testreturnvalue_functioncall_testat0x7fe3e283ad90_20</title>\n",
       "<g id=\"a_node5\"><a xlink:title=\"call_test:20\">\n",
       "<polygon fill=\"#ffdab9\" stroke=\"#000000\" points=\"306,-116 71,-116 71,-76 306,-76 306,-116\"/>\n",
       "<text text-anchor=\"start\" x=\"79\" y=\"-101.8\" font-family=\"Fira Mono, Courier, monospace\" font-weight=\"bold\" font-style=\"italic\" font-size=\"14.00\" fill=\"#000000\">&lt;call_test() return value&gt;</text>\n",
       "<text text-anchor=\"start\" x=\"91\" y=\"-82.8\" font-family=\"Fira Mono, Courier, monospace\" font-size=\"9.00\" fill=\"#000000\">return just_x(just_x(d, y=b), ys[0])</text>\n",
       "</a>\n",
       "</g>\n",
       "</g>\n",
       "<!-- just_xreturnvalue_functioncall_testlocalsjust_xat0x7fe3e1d1dc80_11 -->\n",
       "<g id=\"node6\" class=\"node\">\n",
       "<title>just_xreturnvalue_functioncall_testlocalsjust_xat0x7fe3e1d1dc80_11</title>\n",
       "<g id=\"a_node6\"><a xlink:title=\"just_x:11\">\n",
       "<polygon fill=\"#ffdab9\" stroke=\"#000000\" points=\"359.5,-192 149.5,-192 149.5,-152 359.5,-152 359.5,-192\"/>\n",
       "<text text-anchor=\"start\" x=\"157.5\" y=\"-177.8\" font-family=\"Fira Mono, Courier, monospace\" font-weight=\"bold\" font-style=\"italic\" font-size=\"14.00\" fill=\"#000000\">&lt;just_x() return value&gt;</text>\n",
       "<text text-anchor=\"start\" x=\"232.5\" y=\"-158.8\" font-family=\"Fira Mono, Courier, monospace\" font-size=\"9.00\" fill=\"#000000\">return x</text>\n",
       "</a>\n",
       "</g>\n",
       "</g>\n",
       "<!-- just_xreturnvalue_functioncall_testlocalsjust_xat0x7fe3e1d1dc80_11&#45;&gt;call_testreturnvalue_functioncall_testat0x7fe3e283ad90_20 -->\n",
       "<g id=\"edge3\" class=\"edge\">\n",
       "<title>just_xreturnvalue_functioncall_testlocalsjust_xat0x7fe3e1d1dc80_11&#45;&gt;call_testreturnvalue_functioncall_testat0x7fe3e283ad90_20</title>\n",
       "<path fill=\"none\" stroke=\"#000000\" d=\"M236.8132,-151.6334C229.4301,-143.1316 220.7329,-133.1167 212.7672,-123.944\"/>\n",
       "<polygon fill=\"#000000\" stroke=\"#000000\" points=\"215.2063,-121.4147 206.0068,-116.1593 209.921,-126.0046 215.2063,-121.4147\"/>\n",
       "</g>\n",
       "<!-- just_xreturnvalue_functioncall_testlocalsjust_xat0x7fe3e1d1dc80_11&#45;&gt;x_functioncall_testlocalsjust_xat0x7fe3e1d1dc80_10 -->\n",
       "<g id=\"edge6\" class=\"edge\">\n",
       "<title>just_xreturnvalue_functioncall_testlocalsjust_xat0x7fe3e1d1dc80_11&#45;&gt;x_functioncall_testlocalsjust_xat0x7fe3e1d1dc80_10</title>\n",
       "<path fill=\"none\" stroke=\"#000000\" d=\"M282.5559,-192.1593C292.7432,-200.8076 304.09,-211.0507 313.8649,-220.3875\"/>\n",
       "<polygon fill=\"#000000\" stroke=\"#000000\" points=\"311.7061,-223.1702 321.315,-227.6334 316.5866,-218.1522 311.7061,-223.1702\"/>\n",
       "</g>\n",
       "<!-- n_functioncall_testlocalssqat0x7fe3e1d1dea0_4 -->\n",
       "<g id=\"node7\" class=\"node\">\n",
       "<title>n_functioncall_testlocalssqat0x7fe3e1d1dea0_4</title>\n",
       "<g id=\"a_node7\"><a xlink:title=\"sq:4\">\n",
       "<polygon fill=\"#ffdab9\" stroke=\"#000000\" points=\"535,-116 464,-116 464,-76 535,-76 535,-116\"/>\n",
       "<text text-anchor=\"start\" x=\"495\" y=\"-101.8\" font-family=\"Fira Mono, Courier, monospace\" font-weight=\"bold\" font-size=\"14.00\" fill=\"#000000\">n</text>\n",
       "<text text-anchor=\"start\" x=\"472\" y=\"-82.8\" font-family=\"Fira Mono, Courier, monospace\" font-size=\"9.00\" fill=\"#000000\">def sq(n):</text>\n",
       "</a>\n",
       "</g>\n",
       "</g>\n",
       "<!-- sqreturnvalue_functioncall_testlocalssqat0x7fe3e1d1dea0_5 -->\n",
       "<g id=\"node15\" class=\"node\">\n",
       "<title>sqreturnvalue_functioncall_testlocalssqat0x7fe3e1d1dea0_5</title>\n",
       "<g id=\"a_node15\"><a xlink:title=\"sq:5\">\n",
       "<polygon fill=\"#ffdab9\" stroke=\"#000000\" points=\"587.5,-40 411.5,-40 411.5,0 587.5,0 587.5,-40\"/>\n",
       "<text text-anchor=\"start\" x=\"419.5\" y=\"-25.8\" font-family=\"Fira Mono, Courier, monospace\" font-weight=\"bold\" font-style=\"italic\" font-size=\"14.00\" fill=\"#000000\">&lt;sq() return value&gt;</text>\n",
       "<text text-anchor=\"start\" x=\"467\" y=\"-6.8\" font-family=\"Fira Mono, Courier, monospace\" font-size=\"9.00\" fill=\"#000000\">return n * n</text>\n",
       "</a>\n",
       "</g>\n",
       "</g>\n",
       "<!-- n_functioncall_testlocalssqat0x7fe3e1d1dea0_4&#45;&gt;sqreturnvalue_functioncall_testlocalssqat0x7fe3e1d1dea0_5 -->\n",
       "<g id=\"edge13\" class=\"edge\">\n",
       "<title>n_functioncall_testlocalssqat0x7fe3e1d1dea0_4&#45;&gt;sqreturnvalue_functioncall_testlocalssqat0x7fe3e1d1dea0_5</title>\n",
       "<path fill=\"none\" stroke=\"#000000\" d=\"M493.4426,-75.6334C492.7819,-67.8186 492.5939,-58.7253 492.8786,-50.183\"/>\n",
       "<polygon fill=\"#000000\" stroke=\"#000000\" points=\"496.375,-50.3453 493.4602,-40.1593 489.3867,-49.9397 496.375,-50.3453\"/>\n",
       "</g>\n",
       "<!-- n_functioncall_testlocalssqat0x7fe3e1d1dea0_4&#45;&gt;sqreturnvalue_functioncall_testlocalssqat0x7fe3e1d1dea0_5 -->\n",
       "<!-- elem_functioncall_testat0x7fe3e283ad90_18&#45;&gt;n_functioncall_testlocalssqat0x7fe3e1d1dea0_4 -->\n",
       "<g id=\"edge4\" class=\"edge\">\n",
       "<title>elem_functioncall_testat0x7fe3e283ad90_18&#45;&gt;n_functioncall_testlocalssqat0x7fe3e1d1dea0_4</title>\n",
       "<path fill=\"none\" stroke=\"#000000\" d=\"M499.5,-151.6334C499.5,-143.8186 499.5,-134.7253 499.5,-126.183\"/>\n",
       "<polygon fill=\"#000000\" stroke=\"#000000\" points=\"503.0001,-126.1593 499.5,-116.1593 496.0001,-126.1593 503.0001,-126.1593\"/>\n",
       "</g>\n",
       "<!-- c_functioncall_testat0x7fe3e283ad90_2 -->\n",
       "<g id=\"node9\" class=\"node\">\n",
       "<title>c_functioncall_testat0x7fe3e283ad90_2</title>\n",
       "<g id=\"a_node9\"><a xlink:title=\"call_test:2\">\n",
       "<polygon fill=\"#ffdab9\" stroke=\"#000000\" points=\"407.5,-648 353.5,-648 353.5,-608 407.5,-608 407.5,-648\"/>\n",
       "<text text-anchor=\"start\" x=\"376\" y=\"-633.8\" font-family=\"Fira Mono, Courier, monospace\" font-weight=\"bold\" font-size=\"14.00\" fill=\"#000000\">c</text>\n",
       "<text text-anchor=\"start\" x=\"364\" y=\"-614.8\" font-family=\"Fira Mono, Courier, monospace\" font-size=\"9.00\" fill=\"#000000\">c = 47</text>\n",
       "</a>\n",
       "</g>\n",
       "</g>\n",
       "<!-- c_functioncall_testat0x7fe3e283ad90_2&#45;&gt;genyieldvalue_functioncall_testlocalsgenat0x7fe3e1d1dbf8_8 -->\n",
       "<g id=\"edge10\" class=\"edge\">\n",
       "<title>c_functioncall_testat0x7fe3e283ad90_2&#45;&gt;genyieldvalue_functioncall_testlocalsgenat0x7fe3e1d1dbf8_8</title>\n",
       "<path fill=\"none\" stroke=\"#000000\" d=\"M389.5708,-607.8003C400.7598,-582.222 419.7392,-536.5868 431.5,-496 437.8039,-474.2452 442.6947,-449.1146 445.9347,-430.0236\"/>\n",
       "<polygon fill=\"#000000\" stroke=\"#000000\" points=\"449.3977,-430.5334 447.5633,-420.0986 442.4901,-429.3999 449.3977,-430.5334\"/>\n",
       "</g>\n",
       "<!-- a_functioncall_testat0x7fe3e283ad90_13 -->\n",
       "<g id=\"node14\" class=\"node\">\n",
       "<title>a_functioncall_testat0x7fe3e283ad90_13</title>\n",
       "<g id=\"a_node14\"><a xlink:title=\"call_test:13\">\n",
       "<polygon fill=\"#ffdab9\" stroke=\"#000000\" points=\"374.5,-572 320.5,-572 320.5,-532 374.5,-532 374.5,-572\"/>\n",
       "<text text-anchor=\"start\" x=\"343\" y=\"-557.8\" font-family=\"Fira Mono, Courier, monospace\" font-weight=\"bold\" font-size=\"14.00\" fill=\"#000000\">a</text>\n",
       "<text text-anchor=\"start\" x=\"331\" y=\"-538.8\" font-family=\"Fira Mono, Courier, monospace\" font-size=\"9.00\" fill=\"#000000\">a = 42</text>\n",
       "</a>\n",
       "</g>\n",
       "</g>\n",
       "<!-- c_functioncall_testat0x7fe3e283ad90_2&#45;&gt;a_functioncall_testat0x7fe3e283ad90_13 -->\n",
       "<!-- x_functioncall_testlocalsjust_xat0x7fe3e1d1dc80_10&#45;&gt;just_xreturnvalue_functioncall_testlocalsjust_xat0x7fe3e1d1dc80_11 -->\n",
       "<g id=\"edge14\" class=\"edge\">\n",
       "<title>x_functioncall_testlocalsjust_xat0x7fe3e1d1dc80_10&#45;&gt;just_xreturnvalue_functioncall_testlocalsjust_xat0x7fe3e1d1dc80_11</title>\n",
       "<path fill=\"none\" stroke=\"#000000\" d=\"M309.2001,-227.6334C298.9944,-218.9598 287.651,-208.7114 277.9014,-199.3892\"/>\n",
       "<polygon fill=\"#000000\" stroke=\"#000000\" points=\"280.0826,-196.6279 270.4763,-192.1593 275.1992,-201.6432 280.0826,-196.6279\"/>\n",
       "</g>\n",
       "<!-- y_functioncall_testlocalsjust_xat0x7fe3e1d1dc80_10&#45;&gt;just_xreturnvalue_functioncall_testlocalsjust_xat0x7fe3e1d1dc80_11 -->\n",
       "<!-- ys_functioncall_testat0x7fe3e283ad90_18 -->\n",
       "<g id=\"node12\" class=\"node\">\n",
       "<title>ys_functioncall_testat0x7fe3e283ad90_18</title>\n",
       "<g id=\"a_node12\"><a xlink:title=\"call_test:18\">\n",
       "<polygon fill=\"#ffdab9\" stroke=\"#000000\" points=\"243,-344 0,-344 0,-304 243,-304 243,-344\"/>\n",
       "<text text-anchor=\"start\" x=\"113\" y=\"-329.8\" font-family=\"Fira Mono, Courier, monospace\" font-weight=\"bold\" font-size=\"14.00\" fill=\"#000000\">ys</text>\n",
       "<text text-anchor=\"start\" x=\"8\" y=\"-310.8\" font-family=\"Fira Mono, Courier, monospace\" font-size=\"9.00\" fill=\"#000000\">ys = [sq(elem) for elem in xs if elem &gt; 2]</text>\n",
       "</a>\n",
       "</g>\n",
       "</g>\n",
       "<!-- ys_functioncall_testat0x7fe3e283ad90_18&#45;&gt;call_testreturnvalue_functioncall_testat0x7fe3e283ad90_20 -->\n",
       "<!-- ys_functioncall_testat0x7fe3e283ad90_18&#45;&gt;y_functioncall_testlocalsjust_xat0x7fe3e1d1dc80_10 -->\n",
       "<g id=\"edge7\" class=\"edge\">\n",
       "<title>ys_functioncall_testat0x7fe3e283ad90_18&#45;&gt;y_functioncall_testlocalsjust_xat0x7fe3e1d1dc80_10</title>\n",
       "<path fill=\"none\" stroke=\"#000000\" d=\"M145.6183,-303.6334C156.0931,-294.7881 168.5074,-284.3049 179.72,-274.8365\"/>\n",
       "<polygon fill=\"#000000\" stroke=\"#000000\" points=\"182.245,-277.2852 187.6272,-268.1593 177.7287,-271.937 182.245,-277.2852\"/>\n",
       "</g>\n",
       "<!-- e_functioncall_testlocalsgenat0x7fe3e1d1dbf8_7 -->\n",
       "<g id=\"node13\" class=\"node\">\n",
       "<title>e_functioncall_testlocalsgenat0x7fe3e1d1dbf8_7</title>\n",
       "<g id=\"a_node13\"><a xlink:title=\"gen:7\">\n",
       "<polygon fill=\"#ffdab9\" stroke=\"#000000\" points=\"422.5,-496 346.5,-496 346.5,-456 422.5,-456 422.5,-496\"/>\n",
       "<text text-anchor=\"start\" x=\"380\" y=\"-481.8\" font-family=\"Fira Mono, Courier, monospace\" font-weight=\"bold\" font-size=\"14.00\" fill=\"#000000\">e</text>\n",
       "<text text-anchor=\"start\" x=\"354.5\" y=\"-462.8\" font-family=\"Fira Mono, Courier, monospace\" font-size=\"9.00\" fill=\"#000000\">def gen(e):</text>\n",
       "</a>\n",
       "</g>\n",
       "</g>\n",
       "<!-- e_functioncall_testlocalsgenat0x7fe3e1d1dbf8_7&#45;&gt;genyieldvalue_functioncall_testlocalsgenat0x7fe3e1d1dbf8_8 -->\n",
       "<g id=\"edge9\" class=\"edge\">\n",
       "<title>e_functioncall_testlocalsgenat0x7fe3e1d1dbf8_7&#45;&gt;genyieldvalue_functioncall_testlocalsgenat0x7fe3e1d1dbf8_8</title>\n",
       "<path fill=\"none\" stroke=\"#000000\" d=\"M396.1293,-455.6334C402.8611,-447.0457 411.5043,-436.9142 419.9509,-427.6663\"/>\n",
       "<polygon fill=\"#000000\" stroke=\"#000000\" points=\"422.6917,-429.8592 426.9535,-420.1593 417.5729,-425.0844 422.6917,-429.8592\"/>\n",
       "</g>\n",
       "<!-- e_functioncall_testlocalsgenat0x7fe3e1d1dbf8_7&#45;&gt;genyieldvalue_functioncall_testlocalsgenat0x7fe3e1d1dbf8_8 -->\n",
       "<!-- a_functioncall_testat0x7fe3e283ad90_13&#45;&gt;b_functioncall_testat0x7fe3e283ad90_14 -->\n",
       "<g id=\"edge12\" class=\"edge\">\n",
       "<title>a_functioncall_testat0x7fe3e283ad90_13&#45;&gt;b_functioncall_testat0x7fe3e283ad90_14</title>\n",
       "<path fill=\"none\" stroke=\"#000000\" d=\"M337.5611,-531.8156C328.5173,-505.8097 316.6067,-460.3713 310.7408,-430.2331\"/>\n",
       "<polygon fill=\"#000000\" stroke=\"#000000\" points=\"314.1619,-429.4824 308.9327,-420.2679 307.2743,-430.7321 314.1619,-429.4824\"/>\n",
       "</g>\n",
       "<!-- a_functioncall_testat0x7fe3e283ad90_13&#45;&gt;b_functioncall_testat0x7fe3e283ad90_14 -->\n",
       "<!-- a_functioncall_testat0x7fe3e283ad90_13&#45;&gt;e_functioncall_testlocalsgenat0x7fe3e1d1dbf8_7 -->\n",
       "<g id=\"edge11\" class=\"edge\">\n",
       "<title>a_functioncall_testat0x7fe3e283ad90_13&#45;&gt;e_functioncall_testlocalsgenat0x7fe3e1d1dbf8_7</title>\n",
       "<path fill=\"none\" stroke=\"#000000\" d=\"M357.4153,-531.6334C361.3453,-523.561 365.9394,-514.1244 370.2161,-505.34\"/>\n",
       "<polygon fill=\"#000000\" stroke=\"#000000\" points=\"373.4552,-506.6824 374.6856,-496.1593 367.1614,-503.6183 373.4552,-506.6824\"/>\n",
       "</g>\n",
       "</g>\n",
       "</svg>\n"
      ],
      "text/plain": [
       "Dependencies(\n",
       "    data={\n",
       "        ('c', (call_test, 2)): set(),\n",
       "        ('a', (call_test, 13)): set(),\n",
       "        ('b', (call_test, 14)): {('a', (call_test, 13))},\n",
       "        ('e', (gen, 7)): {('a', (call_test, 13))},\n",
       "        ('<gen() yield value>', (gen, 8)): {('e', (gen, 7)), ('c', (call_test, 2))},\n",
       "        ('d', (call_test, 15)): {('<gen() yield value>', (gen, 8)), ('b', (call_test, 14))},\n",
       "        ('xs', (call_test, 17)): set(),\n",
       "        ('elem', (call_test, 18)): {('xs', (call_test, 17))},\n",
       "        ('n', (sq, 4)): {('elem', (call_test, 18))},\n",
       "        ('<sq() return value>', (sq, 5)): {('n', (sq, 4))},\n",
       "        ('ys', (call_test, 18)): set(),\n",
       "        ('x', (just_x, 10)): {('d', (call_test, 15)), ('<just_x() return value>', (just_x, 11))},\n",
       "        ('y', (just_x, 10)): {('ys', (call_test, 18)), ('b', (call_test, 14))},\n",
       "        ('<just_x() return value>', (just_x, 11)): {('x', (just_x, 10))},\n",
       "        ('<call_test() return value>', (call_test, 20)): {('<just_x() return value>', (just_x, 11))}},\n",
       " control={\n",
       "        ('c', (call_test, 2)): set(),\n",
       "        ('a', (call_test, 13)): set(),\n",
       "        ('b', (call_test, 14)): set(),\n",
       "        ('e', (gen, 7)): set(),\n",
       "        ('<gen() yield value>', (gen, 8)): set(),\n",
       "        ('d', (call_test, 15)): set(),\n",
       "        ('xs', (call_test, 17)): set(),\n",
       "        ('elem', (call_test, 18)): set(),\n",
       "        ('n', (sq, 4)): set(),\n",
       "        ('<sq() return value>', (sq, 5)): set(),\n",
       "        ('ys', (call_test, 18)): set(),\n",
       "        ('x', (just_x, 10)): set(),\n",
       "        ('y', (just_x, 10)): set(),\n",
       "        ('<just_x() return value>', (just_x, 11)): set(),\n",
       "        ('<call_test() return value>', (call_test, 20)): set()})"
      ]
     },
     "execution_count": 173,
     "metadata": {},
     "output_type": "execute_result"
    }
   ],
   "source": [
    "call_deps.dependencies()"
   ]
  },
  {
   "cell_type": "markdown",
   "metadata": {
    "slideshow": {
     "slide_type": "subslide"
    }
   },
   "source": [
    "The `code()` view lists each function separately:"
   ]
  },
  {
   "cell_type": "code",
   "execution_count": 174,
   "metadata": {
    "slideshow": {
     "slide_type": "subslide"
    }
   },
   "outputs": [
    {
     "name": "stdout",
     "output_type": "stream",
     "text": [
      "     1 \u001b[34mdef\u001b[39;49;00m \u001b[32mcall_test\u001b[39;49;00m():\n",
      "*    2     c = \u001b[34m47\u001b[39;49;00m\n",
      "     3 \n",
      "     4     \u001b[34mdef\u001b[39;49;00m \u001b[32msq\u001b[39;49;00m(n):\n",
      "     5         \u001b[34mreturn\u001b[39;49;00m n * n\n",
      "     6 \n",
      "     7     \u001b[34mdef\u001b[39;49;00m \u001b[32mgen\u001b[39;49;00m(e):\n",
      "     8         \u001b[34myield\u001b[39;49;00m e * c\n",
      "     9 \n",
      "    10     \u001b[34mdef\u001b[39;49;00m \u001b[32mjust_x\u001b[39;49;00m(x, y):\n",
      "    11         \u001b[34mreturn\u001b[39;49;00m x\n",
      "    12 \n",
      "*   13     a = \u001b[34m42\u001b[39;49;00m\n",
      "*   14     b = gen(a)  \u001b[37m# <= a (13)\u001b[39;49;00m\n",
      "*   15     d = \u001b[36mlist\u001b[39;49;00m(b)[\u001b[34m0\u001b[39;49;00m]  \u001b[37m# <= <gen() yield value> (gen:8), b (14)\u001b[39;49;00m\n",
      "    16 \n",
      "*   17     xs = [\u001b[34m1\u001b[39;49;00m, \u001b[34m2\u001b[39;49;00m, \u001b[34m3\u001b[39;49;00m, \u001b[34m4\u001b[39;49;00m]\n",
      "*   18     ys = [sq(elem) \u001b[34mfor\u001b[39;49;00m elem \u001b[35min\u001b[39;49;00m xs \u001b[34mif\u001b[39;49;00m elem > \u001b[34m2\u001b[39;49;00m]  \u001b[37m# <= xs (17)\u001b[39;49;00m\n",
      "    19 \n",
      "*   20     \u001b[34mreturn\u001b[39;49;00m just_x(just_x(d, y=b), ys[\u001b[34m0\u001b[39;49;00m])  \u001b[37m# <= <just_x() return value> (just_x:11)\u001b[39;49;00m\n",
      "\n",
      "*    4     \u001b[34mdef\u001b[39;49;00m \u001b[32msq\u001b[39;49;00m(n):  \u001b[37m# <= elem (call_test:18)\u001b[39;49;00m\n",
      "*    5         \u001b[34mreturn\u001b[39;49;00m n * n  \u001b[37m# <= n (4)\u001b[39;49;00m\n",
      "\n",
      "*   10     \u001b[34mdef\u001b[39;49;00m \u001b[32mjust_x\u001b[39;49;00m(x, y):  \u001b[37m# <= d (call_test:15), <just_x() return value> (11), ys (call_test:18), b (call_test:14)\u001b[39;49;00m\n",
      "*   11         \u001b[34mreturn\u001b[39;49;00m x  \u001b[37m# <= x (10)\u001b[39;49;00m\n",
      "\n",
      "*    7     \u001b[34mdef\u001b[39;49;00m \u001b[32mgen\u001b[39;49;00m(e):  \u001b[37m# <= a (call_test:13)\u001b[39;49;00m\n",
      "*    8         \u001b[34myield\u001b[39;49;00m e * c  \u001b[37m# <= e (7), c (call_test:2)\u001b[39;49;00m\n"
     ]
    }
   ],
   "source": [
    "call_deps.dependencies().code()"
   ]
  },
  {
   "cell_type": "markdown",
   "metadata": {
    "slideshow": {
     "slide_type": "subslide"
    }
   },
   "source": [
    "### End of Excursion"
   ]
  },
  {
   "cell_type": "markdown",
   "metadata": {
    "slideshow": {
     "slide_type": "subslide"
    }
   },
   "source": [
    "### Excursion: Diagnostics"
   ]
  },
  {
   "cell_type": "markdown",
   "metadata": {
    "slideshow": {
     "slide_type": "fragment"
    }
   },
   "source": [
    "To check the dependencies we obtain, we perform some minimal checks on whether a referenced variable actually also occurs in the source code."
   ]
  },
  {
   "cell_type": "code",
   "execution_count": 175,
   "metadata": {
    "slideshow": {
     "slide_type": "skip"
    }
   },
   "outputs": [],
   "source": [
    "import re"
   ]
  },
  {
   "cell_type": "code",
   "execution_count": 176,
   "metadata": {
    "ipub": {
     "ignore": true
    },
    "slideshow": {
     "slide_type": "subslide"
    }
   },
   "outputs": [],
   "source": [
    "class Dependencies(Dependencies):\n",
    "    def validate(self):\n",
    "        \"\"\"Perform a simple syntactic validation of dependencies\"\"\"\n",
    "        super().validate()\n",
    "\n",
    "        for var in self.all_vars():\n",
    "            source = self.source(var)\n",
    "            if not source:\n",
    "                continue\n",
    "            if source.startswith('<'):\n",
    "                continue   # no source\n",
    "\n",
    "            for dep_var in self.data[var] | self.control[var]:\n",
    "                dep_name, dep_location = dep_var\n",
    "\n",
    "                if dep_name == DependencyTracker.TEST:\n",
    "                    continue  # dependency on <test>\n",
    "\n",
    "                if dep_name.endswith(' value>'):\n",
    "                    if source.find('(') < 0:\n",
    "                        warnings.warn(f\"Warning: {self.format_var(var)} \"\n",
    "                                  f\"depends on {self.format_var(dep_var)}, \"\n",
    "                                  f\"but {repr(source)} does not \"\n",
    "                                  f\"seem to have a call\")\n",
    "                    continue\n",
    "\n",
    "                if source.startswith('def'):\n",
    "                    continue   # function call\n",
    "\n",
    "                rx = re.compile(r'\\b' + dep_name + r'\\b')\n",
    "                if rx.search(source) is None:\n",
    "                    warnings.warn(f\"{self.format_var(var)} \"\n",
    "                              f\"depends on {self.format_var(dep_var)}, \"\n",
    "                              f\"but {repr(dep_name)} does not occur \"\n",
    "                              f\"in {repr(source)}\")"
   ]
  },
  {
   "cell_type": "markdown",
   "metadata": {
    "slideshow": {
     "slide_type": "subslide"
    }
   },
   "source": [
    "`validate()` is automatically called whenever dependencies are output, so if you see any of its error messages, something may be wrong."
   ]
  },
  {
   "cell_type": "markdown",
   "metadata": {
    "slideshow": {
     "slide_type": "subslide"
    }
   },
   "source": [
    "### End of Excursion"
   ]
  },
  {
   "cell_type": "markdown",
   "metadata": {
    "slideshow": {
     "slide_type": "fragment"
    }
   },
   "source": [
    "At this point, `DependencyTracker` is complete; we have all in place to track even complex dependencies in instrumented code."
   ]
  },
  {
   "cell_type": "markdown",
   "metadata": {
    "slideshow": {
     "slide_type": "slide"
    }
   },
   "source": [
    "## Slicing Code"
   ]
  },
  {
   "cell_type": "markdown",
   "metadata": {
    "slideshow": {
     "slide_type": "subslide"
    }
   },
   "source": [
    "Let us now put all these pieces together. We have a means to instrument the source code (our various `NodeTransformer` classes) and a means to track dependencies (the `DependencyTracker` class). Now comes the time to put all these things together in a single tool, which we call `Slicer`.\n",
    "\n",
    "The basic idea of `Slicer` is that you can use it as follows:\n",
    "\n",
    "```python\n",
    "with Slicer(func_1, func_2, ...) as slicer:\n",
    "    func(...)\n",
    "```\n",
    "\n",
    "which first _instruments_ the functions given in the constructor (i.e., replaces their definitions with instrumented counterparts), and then runs the code in the body, calling instrumented functions, and allowing the slicer to collect dependencies. When the body returns, the original definition of the instrumented functions is restored."
   ]
  },
  {
   "cell_type": "markdown",
   "metadata": {
    "slideshow": {
     "slide_type": "subslide"
    }
   },
   "source": [
    "### An Instrumenter Base Class"
   ]
  },
  {
   "cell_type": "markdown",
   "metadata": {
    "slideshow": {
     "slide_type": "fragment"
    }
   },
   "source": [
    "The basic functionality of instrumenting a number of functions (and restoring them at the end of the `with` block) comes in a `Instrumenter` base class. It invokes `instrument()` on all items to instrument; this is to be overloaded in subclasses."
   ]
  },
  {
   "cell_type": "code",
   "execution_count": 177,
   "metadata": {
    "slideshow": {
     "slide_type": "subslide"
    }
   },
   "outputs": [],
   "source": [
    "class Instrumenter(StackInspector):\n",
    "    def __init__(self, *items_to_instrument, globals=None, log=False):\n",
    "        \"\"\"Create an instrumenter.\n",
    "        `items_to_instrument` is a list of items to instrument.\n",
    "        `globals` is a namespace to use (default: caller's globals())\n",
    "        \"\"\"\n",
    "        self.log = log\n",
    "        self.items_to_instrument = items_to_instrument\n",
    "\n",
    "        if globals is None:\n",
    "            globals = self.caller_globals()\n",
    "        self.globals = globals\n",
    "\n",
    "    def __enter__(self):\n",
    "        \"\"\"Instrument sources\"\"\"\n",
    "        for item in self.items_to_instrument:\n",
    "            self.instrument(item)\n",
    "        return self\n",
    "\n",
    "    def instrument(self, item):\n",
    "        \"\"\"Instrument `item`. To be overloaded in subclasses.\"\"\"\n",
    "        if self.log:\n",
    "            print(\"Instrumenting\", item)"
   ]
  },
  {
   "cell_type": "markdown",
   "metadata": {
    "slideshow": {
     "slide_type": "subslide"
    }
   },
   "source": [
    "At the end of the `with` block, we restore the given functions."
   ]
  },
  {
   "cell_type": "code",
   "execution_count": 178,
   "metadata": {
    "slideshow": {
     "slide_type": "fragment"
    }
   },
   "outputs": [],
   "source": [
    "class Instrumenter(Instrumenter):\n",
    "    def __exit__(self, exc_type, exc_value, traceback):\n",
    "        \"\"\"Restore sources\"\"\"\n",
    "        self.restore()\n",
    "\n",
    "    def restore(self):\n",
    "        for item in self.items_to_instrument:\n",
    "            self.globals[item.__name__] = item"
   ]
  },
  {
   "cell_type": "markdown",
   "metadata": {
    "slideshow": {
     "slide_type": "fragment"
    }
   },
   "source": [
    "By default, an `Instrumenter` simply outputs a log message:"
   ]
  },
  {
   "cell_type": "code",
   "execution_count": 179,
   "metadata": {
    "slideshow": {
     "slide_type": "fragment"
    }
   },
   "outputs": [
    {
     "name": "stdout",
     "output_type": "stream",
     "text": [
      "Instrumenting <function middle at 0x7fe3e15c16a8>\n"
     ]
    }
   ],
   "source": [
    "with Instrumenter(middle, log=True) as ins:\n",
    "    pass"
   ]
  },
  {
   "cell_type": "markdown",
   "metadata": {
    "slideshow": {
     "slide_type": "subslide"
    }
   },
   "source": [
    "### The Slicer Class"
   ]
  },
  {
   "cell_type": "markdown",
   "metadata": {
    "slideshow": {
     "slide_type": "fragment"
    }
   },
   "source": [
    "The `Slicer` class comes as a subclass of `Instrumenter`. It sets its own dependency tracker (which can be overwritten by setting the `dependency_tracker` keyword argument)."
   ]
  },
  {
   "cell_type": "code",
   "execution_count": 180,
   "metadata": {
    "slideshow": {
     "slide_type": "subslide"
    }
   },
   "outputs": [],
   "source": [
    "class Slicer(Instrumenter):\n",
    "    def __init__(self, *items_to_instrument, \n",
    "                 dependency_tracker=None,\n",
    "                 globals=None, log=False):\n",
    "        \"\"\"Create a slicer.\n",
    "        `items_to_instrument` are Python functions\n",
    "            or modules with source code.\n",
    "        `dependency_tracker` is the tracker to be used\n",
    "            (default: DependencyTracker).\n",
    "        `globals` is the namespace to be used\n",
    "            (default: caller's `globals()`)\n",
    "        `log`=True or `log` > 0 turns on logging\"\"\"\n",
    "        super().__init__(*items_to_instrument, globals=globals, log=log)\n",
    "        if len(items_to_instrument) == 0:\n",
    "            raise ValueError(\"Need one or more items to instrument\")\n",
    "\n",
    "        if dependency_tracker is None:\n",
    "            dependency_tracker = DependencyTracker(log=(log > 1))\n",
    "        self.dependency_tracker = dependency_tracker\n",
    "\n",
    "        self.saved_dependencies = None"
   ]
  },
  {
   "cell_type": "markdown",
   "metadata": {
    "slideshow": {
     "slide_type": "subslide"
    }
   },
   "source": [
    "The `parse()` method parses a given item, returning its AST."
   ]
  },
  {
   "cell_type": "code",
   "execution_count": 181,
   "metadata": {
    "slideshow": {
     "slide_type": "fragment"
    }
   },
   "outputs": [],
   "source": [
    "class Slicer(Slicer):\n",
    "    def parse(self, item):\n",
    "        \"\"\"Parse `item`, returning its AST\"\"\"\n",
    "        source_lines, lineno = inspect.getsourcelines(item)\n",
    "        source = \"\".join(source_lines)\n",
    "\n",
    "        if self.log >= 2:\n",
    "            print_content(source, '.py', start_line_number=lineno)\n",
    "            print()\n",
    "            print()\n",
    "\n",
    "        tree = ast.parse(source)\n",
    "        ast.increment_lineno(tree, lineno - 1)\n",
    "        return tree"
   ]
  },
  {
   "cell_type": "markdown",
   "metadata": {
    "slideshow": {
     "slide_type": "subslide"
    }
   },
   "source": [
    "The `transform()` method applies the list of transformers defined earlier in this chapter."
   ]
  },
  {
   "cell_type": "code",
   "execution_count": 182,
   "metadata": {
    "slideshow": {
     "slide_type": "subslide"
    }
   },
   "outputs": [],
   "source": [
    "class Slicer(Slicer):\n",
    "    def transformers(self):\n",
    "        \"\"\"List of transformers to apply. To be extended in subclasses.\"\"\"\n",
    "        return [\n",
    "            TrackCallTransformer(),\n",
    "            TrackSetTransformer(),\n",
    "            TrackGetTransformer(),\n",
    "            TrackControlTransformer(),\n",
    "            TrackReturnTransformer(),\n",
    "            TrackParamsTransformer()\n",
    "        ]\n",
    "\n",
    "    def transform(self, tree):\n",
    "        \"\"\"Apply transformers on `tree`. May be extended in subclasses.\"\"\"\n",
    "        # Apply transformers\n",
    "        for transformer in self.transformers():\n",
    "            if self.log >= 3:\n",
    "                print(transformer.__class__.__name__ + ':')\n",
    "\n",
    "            transformer.visit(tree)\n",
    "            ast.fix_missing_locations(tree)\n",
    "            if self.log >= 3:\n",
    "                print_content(\n",
    "                    astor.to_source(tree,\n",
    "                                    add_line_information=self.log >= 4),\n",
    "                              '.py')\n",
    "                print()\n",
    "                print()\n",
    "\n",
    "        if 0 < self.log < 3:\n",
    "            print_content(astor.to_source(tree), '.py')\n",
    "            print()\n",
    "            print()\n",
    "\n",
    "        return tree"
   ]
  },
  {
   "cell_type": "markdown",
   "metadata": {
    "slideshow": {
     "slide_type": "subslide"
    }
   },
   "source": [
    "The `execute()` method executes the transformed tree (such that we get the new definitions). We also make the dependency tracker available for the code in the `with` block."
   ]
  },
  {
   "cell_type": "code",
   "execution_count": 183,
   "metadata": {
    "slideshow": {
     "slide_type": "fragment"
    }
   },
   "outputs": [],
   "source": [
    "class Slicer(Slicer):\n",
    "    def execute(self, tree, item):\n",
    "        \"\"\"Compile and execute `tree`. May be extended in subclasses.\"\"\"\n",
    "\n",
    "        # We pass the source file of `item` such that we can retrieve it\n",
    "        # when accessing the location of the new compiled code\n",
    "        code = compile(tree, inspect.getsourcefile(item), 'exec')\n",
    "\n",
    "        # Execute the code, resulting in a redefinition of item\n",
    "        exec(code, self.globals)\n",
    "        self.globals[DATA_TRACKER] = self.dependency_tracker"
   ]
  },
  {
   "cell_type": "markdown",
   "metadata": {
    "slideshow": {
     "slide_type": "subslide"
    }
   },
   "source": [
    "The `instrument()` method puts all these together, first parsing the item into a tree, then transforming and executing the tree."
   ]
  },
  {
   "cell_type": "code",
   "execution_count": 184,
   "metadata": {
    "slideshow": {
     "slide_type": "fragment"
    }
   },
   "outputs": [],
   "source": [
    "class Slicer(Slicer):\n",
    "    def instrument(self, item):\n",
    "        \"\"\"Instrument `item`, transforming its source code,\n",
    "        and re-defining it.\"\"\"\n",
    "        super().instrument(item)\n",
    "        tree = self.parse(item)\n",
    "        tree = self.transform(tree)\n",
    "        self.execute(tree, item)"
   ]
  },
  {
   "cell_type": "markdown",
   "metadata": {
    "slideshow": {
     "slide_type": "fragment"
    }
   },
   "source": [
    "When we restore the original definition (after the `with` block), we save the dependency tracker again."
   ]
  },
  {
   "cell_type": "code",
   "execution_count": 185,
   "metadata": {
    "slideshow": {
     "slide_type": "subslide"
    }
   },
   "outputs": [],
   "source": [
    "class Slicer(Slicer):\n",
    "    def restore(self):\n",
    "        \"\"\"Restore original code.\"\"\"\n",
    "        if DATA_TRACKER in self.globals:\n",
    "            self.saved_dependencies = self.globals[DATA_TRACKER]\n",
    "            del self.globals[DATA_TRACKER]\n",
    "        super().restore()"
   ]
  },
  {
   "cell_type": "markdown",
   "metadata": {
    "slideshow": {
     "slide_type": "fragment"
    }
   },
   "source": [
    "Three convenience functions allow us to see the dependencies as (well) dependencies, as code, and as graph. These simply invoke the respective functions on the saved dependencies."
   ]
  },
  {
   "cell_type": "code",
   "execution_count": 186,
   "metadata": {
    "slideshow": {
     "slide_type": "subslide"
    }
   },
   "outputs": [],
   "source": [
    "class Slicer(Slicer):\n",
    "    def dependencies(self):\n",
    "        \"\"\"Return collected dependencies.\"\"\"\n",
    "        if self.saved_dependencies is None:\n",
    "            return Dependencies({}, {})\n",
    "        return self.saved_dependencies.dependencies()\n",
    "\n",
    "    def code(self, *args, **kwargs):\n",
    "        \"\"\"Show code of instrumented items, annotated with dependencies.\"\"\"\n",
    "        first = True\n",
    "        for item in self.items_to_instrument:\n",
    "            if not first:\n",
    "                print()\n",
    "            self.dependencies().code(item, *args, **kwargs)\n",
    "            first = False\n",
    "\n",
    "    def graph(self, *args, **kwargs):\n",
    "        \"\"\"Show dependency graph.\"\"\"\n",
    "        return self.dependencies().graph(*args, **kwargs)\n",
    "\n",
    "    def _repr_svg_(self):\n",
    "        return self.graph()._repr_svg_()"
   ]
  },
  {
   "cell_type": "markdown",
   "metadata": {
    "slideshow": {
     "slide_type": "subslide"
    }
   },
   "source": [
    "Let us put `Slicer` into action. We track our `middle()` function:"
   ]
  },
  {
   "cell_type": "code",
   "execution_count": 187,
   "metadata": {
    "slideshow": {
     "slide_type": "fragment"
    }
   },
   "outputs": [
    {
     "data": {
      "text/plain": [
       "1"
      ]
     },
     "execution_count": 187,
     "metadata": {},
     "output_type": "execute_result"
    }
   ],
   "source": [
    "with Slicer(middle) as slicer:\n",
    "    m = middle(2, 1, 3)\n",
    "m"
   ]
  },
  {
   "cell_type": "markdown",
   "metadata": {
    "slideshow": {
     "slide_type": "fragment"
    }
   },
   "source": [
    "These are the dependencies in string form (used when printed):"
   ]
  },
  {
   "cell_type": "code",
   "execution_count": 188,
   "metadata": {
    "slideshow": {
     "slide_type": "fragment"
    }
   },
   "outputs": [
    {
     "name": "stdout",
     "output_type": "stream",
     "text": [
      "middle():\n",
      "    <test> (2) <= y (1), z (1)\n",
      "    <test> (3) <= x (1), y (1); <- <test> (2)\n",
      "    <test> (5) <= x (1), z (1); <- <test> (3)\n",
      "    <middle() return value> (6) <= y (1); <- <test> (5)\n",
      "\n"
     ]
    }
   ],
   "source": [
    "print(slicer.dependencies())"
   ]
  },
  {
   "cell_type": "markdown",
   "metadata": {
    "slideshow": {
     "slide_type": "fragment"
    }
   },
   "source": [
    "This is the code form:"
   ]
  },
  {
   "cell_type": "code",
   "execution_count": 189,
   "metadata": {
    "slideshow": {
     "slide_type": "subslide"
    }
   },
   "outputs": [
    {
     "name": "stdout",
     "output_type": "stream",
     "text": [
      "*    1 \u001b[34mdef\u001b[39;49;00m \u001b[32mmiddle\u001b[39;49;00m(x, y, z):\n",
      "*    2     \u001b[34mif\u001b[39;49;00m y < z:  \u001b[37m# <= y (1), z (1)\u001b[39;49;00m\n",
      "*    3         \u001b[34mif\u001b[39;49;00m x < y:  \u001b[37m# <= x (1), y (1); <- <test> (2)\u001b[39;49;00m\n",
      "     4             \u001b[34mreturn\u001b[39;49;00m y\n",
      "*    5         \u001b[34melif\u001b[39;49;00m x < z:  \u001b[37m# <= x (1), z (1); <- <test> (3)\u001b[39;49;00m\n",
      "*    6             \u001b[34mreturn\u001b[39;49;00m y  \u001b[37m# <= y (1); <- <test> (5)\u001b[39;49;00m\n",
      "     7     \u001b[34melse\u001b[39;49;00m:\n",
      "     8         \u001b[34mif\u001b[39;49;00m x > y:\n",
      "     9             \u001b[34mreturn\u001b[39;49;00m y\n",
      "    10         \u001b[34melif\u001b[39;49;00m x > z:\n",
      "    11             \u001b[34mreturn\u001b[39;49;00m x\n",
      "    12     \u001b[34mreturn\u001b[39;49;00m z\n"
     ]
    }
   ],
   "source": [
    "slicer.code()"
   ]
  },
  {
   "cell_type": "markdown",
   "metadata": {
    "slideshow": {
     "slide_type": "fragment"
    }
   },
   "source": [
    "And this is the graph form:"
   ]
  },
  {
   "cell_type": "code",
   "execution_count": 190,
   "metadata": {
    "slideshow": {
     "slide_type": "subslide"
    }
   },
   "outputs": [
    {
     "data": {
      "image/svg+xml": [
       "<?xml version=\"1.0\" encoding=\"UTF-8\" standalone=\"no\"?>\n",
       "<!DOCTYPE svg PUBLIC \"-//W3C//DTD SVG 1.1//EN\"\n",
       " \"http://www.w3.org/Graphics/SVG/1.1/DTD/svg11.dtd\">\n",
       "<!-- Generated by graphviz version 2.40.1 (20161225.0304)\n",
       " -->\n",
       "<!-- Title: dependencies Pages: 1 -->\n",
       "<svg width=\"344pt\" height=\"352pt\"\n",
       " viewBox=\"0.00 0.00 344.27 352.00\" xmlns=\"http://www.w3.org/2000/svg\" xmlns:xlink=\"http://www.w3.org/1999/xlink\">\n",
       "<g id=\"graph0\" class=\"graph\" transform=\"scale(1 1) rotate(0) translate(4 348)\">\n",
       "<title>dependencies</title>\n",
       "<polygon fill=\"#ffffff\" stroke=\"transparent\" points=\"-4,4 -4,-348 340.2684,-348 340.2684,4 -4,4\"/>\n",
       "<!-- test_functionmiddleat0x7fe3e1d3dae8_5 -->\n",
       "<g id=\"node1\" class=\"node\">\n",
       "<title>test_functionmiddleat0x7fe3e1d3dae8_5</title>\n",
       "<g id=\"a_node1\"><a xlink:title=\"middle:5\">\n",
       "<polygon fill=\"#ffdab9\" stroke=\"#000000\" points=\"181.5,-116 105.5,-116 105.5,-76 181.5,-76 181.5,-116\"/>\n",
       "<text text-anchor=\"start\" x=\"118\" y=\"-101.8\" font-family=\"Fira Mono, Courier, monospace\" font-weight=\"bold\" font-style=\"italic\" font-size=\"14.00\" fill=\"#000000\">&lt;test&gt;</text>\n",
       "<text text-anchor=\"start\" x=\"113.5\" y=\"-82.8\" font-family=\"Fira Mono, Courier, monospace\" font-size=\"9.00\" fill=\"#000000\">elif x &lt; z:</text>\n",
       "</a>\n",
       "</g>\n",
       "</g>\n",
       "<!-- middlereturnvalue_functionmiddleat0x7fe3e1d3dae8_6 -->\n",
       "<g id=\"node7\" class=\"node\">\n",
       "<title>middlereturnvalue_functionmiddleat0x7fe3e1d3dae8_6</title>\n",
       "<g id=\"a_node7\"><a xlink:title=\"middle:6\">\n",
       "<polygon fill=\"#ffdab9\" stroke=\"#000000\" points=\"248.5,-40 38.5,-40 38.5,0 248.5,0 248.5,-40\"/>\n",
       "<text text-anchor=\"start\" x=\"46.5\" y=\"-25.8\" font-family=\"Fira Mono, Courier, monospace\" font-weight=\"bold\" font-style=\"italic\" font-size=\"14.00\" fill=\"#000000\">&lt;middle() return value&gt;</text>\n",
       "<text text-anchor=\"start\" x=\"121.5\" y=\"-6.8\" font-family=\"Fira Mono, Courier, monospace\" font-size=\"9.00\" fill=\"#000000\">return y</text>\n",
       "</a>\n",
       "</g>\n",
       "</g>\n",
       "<!-- test_functionmiddleat0x7fe3e1d3dae8_5&#45;&gt;middlereturnvalue_functionmiddleat0x7fe3e1d3dae8_6 -->\n",
       "<g id=\"edge8\" class=\"edge\">\n",
       "<title>test_functionmiddleat0x7fe3e1d3dae8_5&#45;&gt;middlereturnvalue_functionmiddleat0x7fe3e1d3dae8_6</title>\n",
       "<path fill=\"none\" stroke=\"#c0c0c0\" stroke-dasharray=\"5,2\" d=\"M137.4426,-75.6334C136.7819,-67.8186 136.5939,-58.7253 136.8786,-50.183\"/>\n",
       "<polygon fill=\"#c0c0c0\" stroke=\"#c0c0c0\" points=\"140.375,-50.3453 137.4602,-40.1593 133.3867,-49.9397 140.375,-50.3453\"/>\n",
       "</g>\n",
       "<!-- test_functionmiddleat0x7fe3e1d3dae8_5&#45;&gt;middlereturnvalue_functionmiddleat0x7fe3e1d3dae8_6 -->\n",
       "<!-- x_functionmiddleat0x7fe3e1d3dae8_1 -->\n",
       "<g id=\"node2\" class=\"node\">\n",
       "<title>x_functionmiddleat0x7fe3e1d3dae8_1</title>\n",
       "<g id=\"a_node2\"><a xlink:title=\"middle:1\">\n",
       "<polygon fill=\"#ffdab9\" stroke=\"#000000\" points=\"320,-268 195,-268 195,-228 320,-228 320,-268\"/>\n",
       "<text text-anchor=\"start\" x=\"253\" y=\"-253.8\" font-family=\"Fira Mono, Courier, monospace\" font-weight=\"bold\" font-size=\"14.00\" fill=\"#000000\">x</text>\n",
       "<text text-anchor=\"start\" x=\"203\" y=\"-234.8\" font-family=\"Fira Mono, Courier, monospace\" font-size=\"9.00\" fill=\"#000000\">def middle(x, y, z):</text>\n",
       "</a>\n",
       "</g>\n",
       "</g>\n",
       "<!-- x_functionmiddleat0x7fe3e1d3dae8_1&#45;&gt;test_functionmiddleat0x7fe3e1d3dae8_5 -->\n",
       "<g id=\"edge1\" class=\"edge\">\n",
       "<title>x_functionmiddleat0x7fe3e1d3dae8_1&#45;&gt;test_functionmiddleat0x7fe3e1d3dae8_5</title>\n",
       "<path fill=\"none\" stroke=\"#000000\" d=\"M242.3617,-227.8156C222.4314,-201.2419 187.2834,-154.3778 164.7109,-124.2812\"/>\n",
       "<polygon fill=\"#000000\" stroke=\"#000000\" points=\"167.501,-122.1679 158.7009,-116.2679 161.901,-126.3679 167.501,-122.1679\"/>\n",
       "</g>\n",
       "<!-- test_functionmiddleat0x7fe3e1d3dae8_3 -->\n",
       "<g id=\"node4\" class=\"node\">\n",
       "<title>test_functionmiddleat0x7fe3e1d3dae8_3</title>\n",
       "<g id=\"a_node4\"><a xlink:title=\"middle:3\">\n",
       "<polygon fill=\"#ffdab9\" stroke=\"#000000\" points=\"177,-192 110,-192 110,-152 177,-152 177,-192\"/>\n",
       "<text text-anchor=\"start\" x=\"118\" y=\"-177.8\" font-family=\"Fira Mono, Courier, monospace\" font-weight=\"bold\" font-style=\"italic\" font-size=\"14.00\" fill=\"#000000\">&lt;test&gt;</text>\n",
       "<text text-anchor=\"start\" x=\"119\" y=\"-158.8\" font-family=\"Fira Mono, Courier, monospace\" font-size=\"9.00\" fill=\"#000000\">if x &lt; y:</text>\n",
       "</a>\n",
       "</g>\n",
       "</g>\n",
       "<!-- x_functionmiddleat0x7fe3e1d3dae8_1&#45;&gt;test_functionmiddleat0x7fe3e1d3dae8_3 -->\n",
       "<g id=\"edge4\" class=\"edge\">\n",
       "<title>x_functionmiddleat0x7fe3e1d3dae8_1&#45;&gt;test_functionmiddleat0x7fe3e1d3dae8_3</title>\n",
       "<path fill=\"none\" stroke=\"#000000\" d=\"M227.2494,-227.8329C213.4642,-218.6428 196.9794,-207.6529 182.2955,-197.8637\"/>\n",
       "<polygon fill=\"#000000\" stroke=\"#000000\" points=\"184.154,-194.8962 173.892,-192.2613 180.271,-200.7205 184.154,-194.8962\"/>\n",
       "</g>\n",
       "<!-- z_functionmiddleat0x7fe3e1d3dae8_1 -->\n",
       "<g id=\"node3\" class=\"node\">\n",
       "<title>z_functionmiddleat0x7fe3e1d3dae8_1</title>\n",
       "<g id=\"a_node3\"><a xlink:title=\"middle:1\">\n",
       "<polygon fill=\"#ffdab9\" stroke=\"#000000\" points=\"268,-344 143,-344 143,-304 268,-304 268,-344\"/>\n",
       "<text text-anchor=\"start\" x=\"201\" y=\"-329.8\" font-family=\"Fira Mono, Courier, monospace\" font-weight=\"bold\" font-size=\"14.00\" fill=\"#000000\">z</text>\n",
       "<text text-anchor=\"start\" x=\"151\" y=\"-310.8\" font-family=\"Fira Mono, Courier, monospace\" font-size=\"9.00\" fill=\"#000000\">def middle(x, y, z):</text>\n",
       "</a>\n",
       "</g>\n",
       "</g>\n",
       "<!-- z_functionmiddleat0x7fe3e1d3dae8_1&#45;&gt;test_functionmiddleat0x7fe3e1d3dae8_5 -->\n",
       "<g id=\"edge2\" class=\"edge\">\n",
       "<title>z_functionmiddleat0x7fe3e1d3dae8_1&#45;&gt;test_functionmiddleat0x7fe3e1d3dae8_5</title>\n",
       "<path fill=\"none\" stroke=\"#000000\" d=\"M268.0384,-310.9807C291.4312,-302.7478 315.6626,-289.4322 329.5,-268 339.1428,-253.0646 337.6589,-243.795 329.5,-228 300.5731,-172.0002 235.7076,-134.6065 190.7796,-114.3315\"/>\n",
       "<polygon fill=\"#000000\" stroke=\"#000000\" points=\"192.0787,-111.0794 181.5152,-110.2643 189.2648,-117.489 192.0787,-111.0794\"/>\n",
       "</g>\n",
       "<!-- test_functionmiddleat0x7fe3e1d3dae8_2 -->\n",
       "<g id=\"node6\" class=\"node\">\n",
       "<title>test_functionmiddleat0x7fe3e1d3dae8_2</title>\n",
       "<g id=\"a_node6\"><a xlink:title=\"middle:2\">\n",
       "<polygon fill=\"#ffdab9\" stroke=\"#000000\" points=\"177,-268 110,-268 110,-228 177,-228 177,-268\"/>\n",
       "<text text-anchor=\"start\" x=\"118\" y=\"-253.8\" font-family=\"Fira Mono, Courier, monospace\" font-weight=\"bold\" font-style=\"italic\" font-size=\"14.00\" fill=\"#000000\">&lt;test&gt;</text>\n",
       "<text text-anchor=\"start\" x=\"119\" y=\"-234.8\" font-family=\"Fira Mono, Courier, monospace\" font-size=\"9.00\" fill=\"#000000\">if y &lt; z:</text>\n",
       "</a>\n",
       "</g>\n",
       "</g>\n",
       "<!-- z_functionmiddleat0x7fe3e1d3dae8_1&#45;&gt;test_functionmiddleat0x7fe3e1d3dae8_2 -->\n",
       "<g id=\"edge10\" class=\"edge\">\n",
       "<title>z_functionmiddleat0x7fe3e1d3dae8_1&#45;&gt;test_functionmiddleat0x7fe3e1d3dae8_2</title>\n",
       "<path fill=\"none\" stroke=\"#000000\" d=\"M182.8277,-303.6334C175.2506,-295.2175 167.0121,-285.3188 159.9761,-276.2223\"/>\n",
       "<polygon fill=\"#000000\" stroke=\"#000000\" points=\"162.7167,-274.0433 153.906,-268.1593 157.1243,-278.2535 162.7167,-274.0433\"/>\n",
       "</g>\n",
       "<!-- z_functionmiddleat0x7fe3e1d3dae8_1&#45;&gt;test_functionmiddleat0x7fe3e1d3dae8_2 -->\n",
       "<!-- test_functionmiddleat0x7fe3e1d3dae8_3&#45;&gt;test_functionmiddleat0x7fe3e1d3dae8_5 -->\n",
       "<g id=\"edge3\" class=\"edge\">\n",
       "<title>test_functionmiddleat0x7fe3e1d3dae8_3&#45;&gt;test_functionmiddleat0x7fe3e1d3dae8_5</title>\n",
       "<path fill=\"none\" stroke=\"#c0c0c0\" stroke-dasharray=\"5,2\" d=\"M137.4426,-151.6334C136.7819,-143.8186 136.5939,-134.7253 136.8786,-126.183\"/>\n",
       "<polygon fill=\"#c0c0c0\" stroke=\"#c0c0c0\" points=\"140.375,-126.3453 137.4602,-116.1593 133.3867,-125.9397 140.375,-126.3453\"/>\n",
       "</g>\n",
       "<!-- test_functionmiddleat0x7fe3e1d3dae8_3&#45;&gt;test_functionmiddleat0x7fe3e1d3dae8_5 -->\n",
       "<!-- y_functionmiddleat0x7fe3e1d3dae8_1 -->\n",
       "<g id=\"node5\" class=\"node\">\n",
       "<title>y_functionmiddleat0x7fe3e1d3dae8_1</title>\n",
       "<g id=\"a_node5\"><a xlink:title=\"middle:1\">\n",
       "<polygon fill=\"#ffdab9\" stroke=\"#000000\" points=\"125,-344 0,-344 0,-304 125,-304 125,-344\"/>\n",
       "<text text-anchor=\"start\" x=\"58\" y=\"-329.8\" font-family=\"Fira Mono, Courier, monospace\" font-weight=\"bold\" font-size=\"14.00\" fill=\"#000000\">y</text>\n",
       "<text text-anchor=\"start\" x=\"8\" y=\"-310.8\" font-family=\"Fira Mono, Courier, monospace\" font-size=\"9.00\" fill=\"#000000\">def middle(x, y, z):</text>\n",
       "</a>\n",
       "</g>\n",
       "</g>\n",
       "<!-- y_functionmiddleat0x7fe3e1d3dae8_1&#45;&gt;test_functionmiddleat0x7fe3e1d3dae8_3 -->\n",
       "<g id=\"edge5\" class=\"edge\">\n",
       "<title>y_functionmiddleat0x7fe3e1d3dae8_1&#45;&gt;test_functionmiddleat0x7fe3e1d3dae8_3</title>\n",
       "<path fill=\"none\" stroke=\"#000000\" d=\"M68.6772,-303.7746C75.1871,-283.8201 86.4409,-252.7916 100.5,-228 105.9528,-218.3845 112.8999,-208.5944 119.6118,-199.9458\"/>\n",
       "<polygon fill=\"#000000\" stroke=\"#000000\" points=\"122.4143,-202.0453 125.9184,-192.0466 116.9439,-197.6777 122.4143,-202.0453\"/>\n",
       "</g>\n",
       "<!-- y_functionmiddleat0x7fe3e1d3dae8_1&#45;&gt;test_functionmiddleat0x7fe3e1d3dae8_2 -->\n",
       "<g id=\"edge9\" class=\"edge\">\n",
       "<title>y_functionmiddleat0x7fe3e1d3dae8_1&#45;&gt;test_functionmiddleat0x7fe3e1d3dae8_2</title>\n",
       "<path fill=\"none\" stroke=\"#000000\" d=\"M84.2065,-303.6334C93.5422,-294.8739 104.5898,-284.5083 114.6037,-275.1125\"/>\n",
       "<polygon fill=\"#000000\" stroke=\"#000000\" points=\"117.1167,-277.5541 122.0144,-268.1593 112.327,-272.4493 117.1167,-277.5541\"/>\n",
       "</g>\n",
       "<!-- y_functionmiddleat0x7fe3e1d3dae8_1&#45;&gt;middlereturnvalue_functionmiddleat0x7fe3e1d3dae8_6 -->\n",
       "<g id=\"edge7\" class=\"edge\">\n",
       "<title>y_functionmiddleat0x7fe3e1d3dae8_1&#45;&gt;middlereturnvalue_functionmiddleat0x7fe3e1d3dae8_6</title>\n",
       "<path fill=\"none\" stroke=\"#000000\" d=\"M61.5752,-303.6921C60.3605,-260.0002 61.6299,-154.6654 96.5,-76 100.9826,-65.8875 107.8599,-56.1704 114.9821,-47.7513\"/>\n",
       "<polygon fill=\"#000000\" stroke=\"#000000\" points=\"117.7606,-49.8948 121.8155,-40.1066 112.5416,-45.2297 117.7606,-49.8948\"/>\n",
       "</g>\n",
       "<!-- test_functionmiddleat0x7fe3e1d3dae8_2&#45;&gt;test_functionmiddleat0x7fe3e1d3dae8_3 -->\n",
       "<g id=\"edge6\" class=\"edge\">\n",
       "<title>test_functionmiddleat0x7fe3e1d3dae8_2&#45;&gt;test_functionmiddleat0x7fe3e1d3dae8_3</title>\n",
       "<path fill=\"none\" stroke=\"#c0c0c0\" stroke-dasharray=\"5,2\" d=\"M137.4426,-227.6334C136.7819,-219.8186 136.5939,-210.7253 136.8786,-202.183\"/>\n",
       "<polygon fill=\"#c0c0c0\" stroke=\"#c0c0c0\" points=\"140.375,-202.3453 137.4602,-192.1593 133.3867,-201.9397 140.375,-202.3453\"/>\n",
       "</g>\n",
       "<!-- test_functionmiddleat0x7fe3e1d3dae8_2&#45;&gt;test_functionmiddleat0x7fe3e1d3dae8_3 -->\n",
       "</g>\n",
       "</svg>\n"
      ],
      "text/plain": [
       "<__main__.Slicer at 0x7fe3e2a3cf28>"
      ]
     },
     "execution_count": 190,
     "metadata": {},
     "output_type": "execute_result"
    }
   ],
   "source": [
    "slicer"
   ]
  },
  {
   "cell_type": "markdown",
   "metadata": {
    "slideshow": {
     "slide_type": "fragment"
    }
   },
   "source": [
    "You can also access the raw `repr()` form, which allows you to reconstruct dependencies at any time. (This is how we showed off dependencies at the beginning of this chapter, before even introducing the code that computes them.)"
   ]
  },
  {
   "cell_type": "code",
   "execution_count": 191,
   "metadata": {
    "slideshow": {
     "slide_type": "subslide"
    }
   },
   "outputs": [
    {
     "name": "stdout",
     "output_type": "stream",
     "text": [
      "Dependencies(\n",
      "    data={\n",
      "        ('x', (middle, 1)): set(),\n",
      "        ('y', (middle, 1)): set(),\n",
      "        ('z', (middle, 1)): set(),\n",
      "        ('<test>', (middle, 2)): {('y', (middle, 1)), ('z', (middle, 1))},\n",
      "        ('<test>', (middle, 3)): {('x', (middle, 1)), ('y', (middle, 1))},\n",
      "        ('<test>', (middle, 5)): {('x', (middle, 1)), ('z', (middle, 1))},\n",
      "        ('<middle() return value>', (middle, 6)): {('y', (middle, 1))}},\n",
      " control={\n",
      "        ('x', (middle, 1)): set(),\n",
      "        ('y', (middle, 1)): set(),\n",
      "        ('z', (middle, 1)): set(),\n",
      "        ('<test>', (middle, 2)): set(),\n",
      "        ('<test>', (middle, 3)): {('<test>', (middle, 2))},\n",
      "        ('<test>', (middle, 5)): {('<test>', (middle, 3))},\n",
      "        ('<middle() return value>', (middle, 6)): {('<test>', (middle, 5))}})\n"
     ]
    }
   ],
   "source": [
    "print(repr(slicer.dependencies()))"
   ]
  },
  {
   "cell_type": "markdown",
   "metadata": {
    "slideshow": {
     "slide_type": "subslide"
    }
   },
   "source": [
    "### Diagnostics"
   ]
  },
  {
   "cell_type": "markdown",
   "metadata": {
    "slideshow": {
     "slide_type": "fragment"
    }
   },
   "source": [
    "The `Slicer` constructor accepts a `log` argument (default: False), which can be set to show various intermediate results:\n",
    "\n",
    "* `log=True` (or `log=1`): Show instrumented source code\n",
    "* `log=2`: Also log execution\n",
    "* `log=3`: Also log individual transformer steps\n",
    "* `log=4`: Also log source line numbers"
   ]
  },
  {
   "cell_type": "markdown",
   "metadata": {
    "slideshow": {
     "slide_type": "slide"
    }
   },
   "source": [
    "## More Examples"
   ]
  },
  {
   "cell_type": "markdown",
   "metadata": {
    "slideshow": {
     "slide_type": "fragment"
    }
   },
   "source": [
    "Let us demonstrate our `Slicer` class on a few more examples."
   ]
  },
  {
   "cell_type": "markdown",
   "metadata": {
    "slideshow": {
     "slide_type": "subslide"
    }
   },
   "source": [
    "### Square Root"
   ]
  },
  {
   "cell_type": "markdown",
   "metadata": {
    "slideshow": {
     "slide_type": "fragment"
    }
   },
   "source": [
    "The `square_root()` function from [the chapter on assertions](Assertions.ipynb) demonstrates a nice interplay between data and control dependencies."
   ]
  },
  {
   "cell_type": "code",
   "execution_count": 192,
   "metadata": {
    "slideshow": {
     "slide_type": "skip"
    }
   },
   "outputs": [],
   "source": [
    "import math"
   ]
  },
  {
   "cell_type": "code",
   "execution_count": 193,
   "metadata": {
    "slideshow": {
     "slide_type": "skip"
    }
   },
   "outputs": [],
   "source": [
    "from Assertions import square_root  # minor dependency"
   ]
  },
  {
   "cell_type": "markdown",
   "metadata": {
    "slideshow": {
     "slide_type": "fragment"
    }
   },
   "source": [
    "Here is the original source code:"
   ]
  },
  {
   "cell_type": "code",
   "execution_count": 194,
   "metadata": {
    "slideshow": {
     "slide_type": "subslide"
    }
   },
   "outputs": [
    {
     "name": "stdout",
     "output_type": "stream",
     "text": [
      "\u001b[34mdef\u001b[39;49;00m \u001b[32msquare_root\u001b[39;49;00m(x):\n",
      "    \u001b[34massert\u001b[39;49;00m x >= \u001b[34m0\u001b[39;49;00m  \u001b[37m# precondition\u001b[39;49;00m\n",
      "\n",
      "    approx = \u001b[34mNone\u001b[39;49;00m\n",
      "    guess = x / \u001b[34m2\u001b[39;49;00m\n",
      "    \u001b[34mwhile\u001b[39;49;00m approx != guess:\n",
      "        approx = guess\n",
      "        guess = (approx + x / approx) / \u001b[34m2\u001b[39;49;00m\n",
      "\n",
      "    \u001b[34massert\u001b[39;49;00m math.isclose(approx * approx, x)\n",
      "    \u001b[34mreturn\u001b[39;49;00m approx"
     ]
    }
   ],
   "source": [
    "print_content(inspect.getsource(square_root), '.py')"
   ]
  },
  {
   "cell_type": "markdown",
   "metadata": {
    "slideshow": {
     "slide_type": "fragment"
    }
   },
   "source": [
    "Turning on logging shows the instrumented version:"
   ]
  },
  {
   "cell_type": "code",
   "execution_count": 195,
   "metadata": {
    "slideshow": {
     "slide_type": "subslide"
    }
   },
   "outputs": [
    {
     "name": "stdout",
     "output_type": "stream",
     "text": [
      "Instrumenting <function square_root at 0x7fe3e1d3da60>\n",
      "\u001b[34mdef\u001b[39;49;00m \u001b[32msquare_root\u001b[39;49;00m(x):\n",
      "    _data.param(\u001b[33m'\u001b[39;49;00m\u001b[33mx\u001b[39;49;00m\u001b[33m'\u001b[39;49;00m, x, pos=\u001b[34m1\u001b[39;49;00m, last=\u001b[34mTrue\u001b[39;49;00m)\n",
      "    \u001b[34massert\u001b[39;49;00m _data.get(\u001b[33m'\u001b[39;49;00m\u001b[33mx\u001b[39;49;00m\u001b[33m'\u001b[39;49;00m, x) >= \u001b[34m0\u001b[39;49;00m\n",
      "    approx = _data.set(\u001b[33m'\u001b[39;49;00m\u001b[33mapprox\u001b[39;49;00m\u001b[33m'\u001b[39;49;00m, \u001b[34mNone\u001b[39;49;00m)\n",
      "    guess = _data.set(\u001b[33m'\u001b[39;49;00m\u001b[33mguess\u001b[39;49;00m\u001b[33m'\u001b[39;49;00m, _data.get(\u001b[33m'\u001b[39;49;00m\u001b[33mx\u001b[39;49;00m\u001b[33m'\u001b[39;49;00m, x) / \u001b[34m2\u001b[39;49;00m)\n",
      "    \u001b[34mwhile\u001b[39;49;00m _data.test(_data.get(\u001b[33m'\u001b[39;49;00m\u001b[33mapprox\u001b[39;49;00m\u001b[33m'\u001b[39;49;00m, approx) != _data.get(\u001b[33m'\u001b[39;49;00m\u001b[33mguess\u001b[39;49;00m\u001b[33m'\u001b[39;49;00m, guess)):\n",
      "        \u001b[34mwith\u001b[39;49;00m _data:\n",
      "            approx = _data.set(\u001b[33m'\u001b[39;49;00m\u001b[33mapprox\u001b[39;49;00m\u001b[33m'\u001b[39;49;00m, _data.get(\u001b[33m'\u001b[39;49;00m\u001b[33mguess\u001b[39;49;00m\u001b[33m'\u001b[39;49;00m, guess))\n",
      "            guess = _data.set(\u001b[33m'\u001b[39;49;00m\u001b[33mguess\u001b[39;49;00m\u001b[33m'\u001b[39;49;00m, (_data.get(\u001b[33m'\u001b[39;49;00m\u001b[33mapprox\u001b[39;49;00m\u001b[33m'\u001b[39;49;00m, approx) + _data\n",
      "                .get(\u001b[33m'\u001b[39;49;00m\u001b[33mx\u001b[39;49;00m\u001b[33m'\u001b[39;49;00m, x) / _data.get(\u001b[33m'\u001b[39;49;00m\u001b[33mapprox\u001b[39;49;00m\u001b[33m'\u001b[39;49;00m, approx)) / \u001b[34m2\u001b[39;49;00m)\n",
      "    \u001b[34massert\u001b[39;49;00m _data.ret(_data.call(_data.get(\u001b[33m'\u001b[39;49;00m\u001b[33mmath\u001b[39;49;00m\u001b[33m'\u001b[39;49;00m, math).isclose)(_data.arg(\n",
      "        _data.get(\u001b[33m'\u001b[39;49;00m\u001b[33mapprox\u001b[39;49;00m\u001b[33m'\u001b[39;49;00m, approx) * _data.get(\u001b[33m'\u001b[39;49;00m\u001b[33mapprox\u001b[39;49;00m\u001b[33m'\u001b[39;49;00m, approx), pos=\u001b[34m1\u001b[39;49;00m),\n",
      "        _data.arg(_data.get(\u001b[33m'\u001b[39;49;00m\u001b[33mx\u001b[39;49;00m\u001b[33m'\u001b[39;49;00m, x), pos=\u001b[34m2\u001b[39;49;00m)))\n",
      "    \u001b[34mreturn\u001b[39;49;00m _data.set(\u001b[33m'\u001b[39;49;00m\u001b[33m<square_root() return value>\u001b[39;49;00m\u001b[33m'\u001b[39;49;00m, _data.get(\u001b[33m'\u001b[39;49;00m\u001b[33mapprox\u001b[39;49;00m\u001b[33m'\u001b[39;49;00m,\n",
      "        approx))\n",
      "\n"
     ]
    }
   ],
   "source": [
    "with Slicer(square_root, log=True) as root_slicer:\n",
    "    y = square_root(2.0)"
   ]
  },
  {
   "cell_type": "markdown",
   "metadata": {
    "slideshow": {
     "slide_type": "subslide"
    }
   },
   "source": [
    "The dependency graph shows how `guess` and `approx` flow into each other until they are the same."
   ]
  },
  {
   "cell_type": "code",
   "execution_count": 196,
   "metadata": {
    "slideshow": {
     "slide_type": "fragment"
    }
   },
   "outputs": [
    {
     "data": {
      "image/svg+xml": [
       "<?xml version=\"1.0\" encoding=\"UTF-8\" standalone=\"no\"?>\n",
       "<!DOCTYPE svg PUBLIC \"-//W3C//DTD SVG 1.1//EN\"\n",
       " \"http://www.w3.org/Graphics/SVG/1.1/DTD/svg11.dtd\">\n",
       "<!-- Generated by graphviz version 2.40.1 (20161225.0304)\n",
       " -->\n",
       "<!-- Title: dependencies Pages: 1 -->\n",
       "<svg width=\"501pt\" height=\"352pt\"\n",
       " viewBox=\"0.00 0.00 500.50 352.00\" xmlns=\"http://www.w3.org/2000/svg\" xmlns:xlink=\"http://www.w3.org/1999/xlink\">\n",
       "<g id=\"graph0\" class=\"graph\" transform=\"scale(1 1) rotate(0) translate(4 348)\">\n",
       "<title>dependencies</title>\n",
       "<polygon fill=\"#ffffff\" stroke=\"transparent\" points=\"-4,4 -4,-348 496.5,-348 496.5,4 -4,4\"/>\n",
       "<!-- guess_functionsquare_rootat0x7fe3e1d1db70_58 -->\n",
       "<g id=\"node1\" class=\"node\">\n",
       "<title>guess_functionsquare_rootat0x7fe3e1d1db70_58</title>\n",
       "<g id=\"a_node1\"><a xlink:title=\"square_root:58\">\n",
       "<polygon fill=\"#ffdab9\" stroke=\"#000000\" points=\"338.5,-268 143.5,-268 143.5,-228 338.5,-228 338.5,-268\"/>\n",
       "<text text-anchor=\"start\" x=\"219.5\" y=\"-253.8\" font-family=\"Fira Mono, Courier, monospace\" font-weight=\"bold\" font-size=\"14.00\" fill=\"#000000\">guess</text>\n",
       "<text text-anchor=\"start\" x=\"151.5\" y=\"-234.8\" font-family=\"Fira Mono, Courier, monospace\" font-size=\"9.00\" fill=\"#000000\">guess = (approx + x / approx) / 2</text>\n",
       "</a>\n",
       "</g>\n",
       "</g>\n",
       "<!-- approx_functionsquare_rootat0x7fe3e1d1db70_57 -->\n",
       "<g id=\"node3\" class=\"node\">\n",
       "<title>approx_functionsquare_rootat0x7fe3e1d1db70_57</title>\n",
       "<g id=\"a_node3\"><a xlink:title=\"square_root:57\">\n",
       "<polygon fill=\"#ffdab9\" stroke=\"#000000\" points=\"287,-116 195,-116 195,-76 287,-76 287,-116\"/>\n",
       "<text text-anchor=\"start\" x=\"215.5\" y=\"-101.8\" font-family=\"Fira Mono, Courier, monospace\" font-weight=\"bold\" font-size=\"14.00\" fill=\"#000000\">approx</text>\n",
       "<text text-anchor=\"start\" x=\"203\" y=\"-82.8\" font-family=\"Fira Mono, Courier, monospace\" font-size=\"9.00\" fill=\"#000000\">approx = guess</text>\n",
       "</a>\n",
       "</g>\n",
       "</g>\n",
       "<!-- guess_functionsquare_rootat0x7fe3e1d1db70_58&#45;&gt;approx_functionsquare_rootat0x7fe3e1d1db70_57 -->\n",
       "<g id=\"edge6\" class=\"edge\">\n",
       "<title>guess_functionsquare_rootat0x7fe3e1d1db70_58&#45;&gt;approx_functionsquare_rootat0x7fe3e1d1db70_57</title>\n",
       "<path fill=\"none\" stroke=\"#000000\" d=\"M231.48,-227.8156C226.7376,-201.8097 226.2333,-156.3713 229.9673,-126.2331\"/>\n",
       "<polygon fill=\"#000000\" stroke=\"#000000\" points=\"233.4398,-126.677 231.4648,-116.2679 226.5175,-125.6367 233.4398,-126.677\"/>\n",
       "</g>\n",
       "<!-- test_functionsquare_rootat0x7fe3e1d1db70_56 -->\n",
       "<g id=\"node4\" class=\"node\">\n",
       "<title>test_functionsquare_rootat0x7fe3e1d1db70_56</title>\n",
       "<g id=\"a_node4\"><a xlink:title=\"square_root:56\">\n",
       "<polygon fill=\"#ffdab9\" stroke=\"#000000\" points=\"405.5,-40 270.5,-40 270.5,0 405.5,0 405.5,-40\"/>\n",
       "<text text-anchor=\"start\" x=\"312.5\" y=\"-25.8\" font-family=\"Fira Mono, Courier, monospace\" font-weight=\"bold\" font-style=\"italic\" font-size=\"14.00\" fill=\"#000000\">&lt;test&gt;</text>\n",
       "<text text-anchor=\"start\" x=\"278.5\" y=\"-6.8\" font-family=\"Fira Mono, Courier, monospace\" font-size=\"9.00\" fill=\"#000000\">while approx != guess:</text>\n",
       "</a>\n",
       "</g>\n",
       "</g>\n",
       "<!-- guess_functionsquare_rootat0x7fe3e1d1db70_58&#45;&gt;test_functionsquare_rootat0x7fe3e1d1db70_56 -->\n",
       "<g id=\"edge9\" class=\"edge\">\n",
       "<title>guess_functionsquare_rootat0x7fe3e1d1db70_58&#45;&gt;test_functionsquare_rootat0x7fe3e1d1db70_56</title>\n",
       "<path fill=\"none\" stroke=\"#000000\" d=\"M245.4445,-227.9313C250.7614,-217.4381 258.2261,-204.2572 264,-192 286.9057,-143.3746 307.7994,-84.3052 321.9795,-49.5663\"/>\n",
       "<polygon fill=\"#000000\" stroke=\"#000000\" points=\"325.3415,-50.5992 325.978,-40.0235 318.8853,-47.894 325.3415,-50.5992\"/>\n",
       "</g>\n",
       "<!-- square_rootreturnvalue_functionsquare_rootat0x7fe3e1d1db70_61 -->\n",
       "<g id=\"node5\" class=\"node\">\n",
       "<title>square_rootreturnvalue_functionsquare_rootat0x7fe3e1d1db70_61</title>\n",
       "<g id=\"a_node5\"><a xlink:title=\"square_root:61\">\n",
       "<polygon fill=\"#ffdab9\" stroke=\"#000000\" points=\"252,-40 0,-40 0,0 252,0 252,-40\"/>\n",
       "<text text-anchor=\"start\" x=\"8\" y=\"-25.8\" font-family=\"Fira Mono, Courier, monospace\" font-weight=\"bold\" font-style=\"italic\" font-size=\"14.00\" fill=\"#000000\">&lt;square_root() return value&gt;</text>\n",
       "<text text-anchor=\"start\" x=\"90.5\" y=\"-6.8\" font-family=\"Fira Mono, Courier, monospace\" font-size=\"9.00\" fill=\"#000000\">return approx</text>\n",
       "</a>\n",
       "</g>\n",
       "</g>\n",
       "<!-- guess_functionsquare_rootat0x7fe3e1d1db70_58&#45;&gt;square_rootreturnvalue_functionsquare_rootat0x7fe3e1d1db70_61 -->\n",
       "<!-- x_functionsquare_rootat0x7fe3e1d1db70_51 -->\n",
       "<g id=\"node2\" class=\"node\">\n",
       "<title>x_functionsquare_rootat0x7fe3e1d1db70_51</title>\n",
       "<g id=\"a_node2\"><a xlink:title=\"square_root:51\">\n",
       "<polygon fill=\"#ffdab9\" stroke=\"#000000\" points=\"436.5,-344 317.5,-344 317.5,-304 436.5,-304 436.5,-344\"/>\n",
       "<text text-anchor=\"start\" x=\"372.5\" y=\"-329.8\" font-family=\"Fira Mono, Courier, monospace\" font-weight=\"bold\" font-size=\"14.00\" fill=\"#000000\">x</text>\n",
       "<text text-anchor=\"start\" x=\"325.5\" y=\"-310.8\" font-family=\"Fira Mono, Courier, monospace\" font-size=\"9.00\" fill=\"#000000\">def square_root(x):</text>\n",
       "</a>\n",
       "</g>\n",
       "</g>\n",
       "<!-- x_functionsquare_rootat0x7fe3e1d1db70_51&#45;&gt;guess_functionsquare_rootat0x7fe3e1d1db70_58 -->\n",
       "<g id=\"edge1\" class=\"edge\">\n",
       "<title>x_functionsquare_rootat0x7fe3e1d1db70_51&#45;&gt;guess_functionsquare_rootat0x7fe3e1d1db70_58</title>\n",
       "<path fill=\"none\" stroke=\"#000000\" d=\"M340.9116,-303.8329C324.1586,-294.471 304.0636,-283.2414 286.3023,-273.316\"/>\n",
       "<polygon fill=\"#000000\" stroke=\"#000000\" points=\"287.6939,-270.0843 277.2571,-268.2613 284.2791,-276.1949 287.6939,-270.0843\"/>\n",
       "</g>\n",
       "<!-- guess_functionsquare_rootat0x7fe3e1d1db70_55 -->\n",
       "<g id=\"node6\" class=\"node\">\n",
       "<title>guess_functionsquare_rootat0x7fe3e1d1db70_55</title>\n",
       "<g id=\"a_node6\"><a xlink:title=\"square_root:55\">\n",
       "<polygon fill=\"#ffdab9\" stroke=\"#000000\" points=\"430.5,-192 343.5,-192 343.5,-152 430.5,-152 430.5,-192\"/>\n",
       "<text text-anchor=\"start\" x=\"365.5\" y=\"-177.8\" font-family=\"Fira Mono, Courier, monospace\" font-weight=\"bold\" font-size=\"14.00\" fill=\"#000000\">guess</text>\n",
       "<text text-anchor=\"start\" x=\"351.5\" y=\"-158.8\" font-family=\"Fira Mono, Courier, monospace\" font-size=\"9.00\" fill=\"#000000\">guess = x / 2</text>\n",
       "</a>\n",
       "</g>\n",
       "</g>\n",
       "<!-- x_functionsquare_rootat0x7fe3e1d1db70_51&#45;&gt;guess_functionsquare_rootat0x7fe3e1d1db70_55 -->\n",
       "<g id=\"edge5\" class=\"edge\">\n",
       "<title>x_functionsquare_rootat0x7fe3e1d1db70_51&#45;&gt;guess_functionsquare_rootat0x7fe3e1d1db70_55</title>\n",
       "<path fill=\"none\" stroke=\"#000000\" d=\"M378.3279,-303.8156C380.0314,-277.9232 383.0021,-232.7677 384.9849,-202.6288\"/>\n",
       "<polygon fill=\"#000000\" stroke=\"#000000\" points=\"388.5025,-202.4761 385.6666,-192.2679 381.5176,-202.0165 388.5025,-202.4761\"/>\n",
       "</g>\n",
       "<!-- approx_functionsquare_rootat0x7fe3e1d1db70_54 -->\n",
       "<g id=\"node7\" class=\"node\">\n",
       "<title>approx_functionsquare_rootat0x7fe3e1d1db70_54</title>\n",
       "<g id=\"a_node7\"><a xlink:title=\"square_root:54\">\n",
       "<polygon fill=\"#ffdab9\" stroke=\"#000000\" points=\"492.5,-268 405.5,-268 405.5,-228 492.5,-228 492.5,-268\"/>\n",
       "<text text-anchor=\"start\" x=\"423.5\" y=\"-253.8\" font-family=\"Fira Mono, Courier, monospace\" font-weight=\"bold\" font-size=\"14.00\" fill=\"#000000\">approx</text>\n",
       "<text text-anchor=\"start\" x=\"413.5\" y=\"-234.8\" font-family=\"Fira Mono, Courier, monospace\" font-size=\"9.00\" fill=\"#000000\">approx = None</text>\n",
       "</a>\n",
       "</g>\n",
       "</g>\n",
       "<!-- x_functionsquare_rootat0x7fe3e1d1db70_51&#45;&gt;approx_functionsquare_rootat0x7fe3e1d1db70_54 -->\n",
       "<!-- approx_functionsquare_rootat0x7fe3e1d1db70_57&#45;&gt;guess_functionsquare_rootat0x7fe3e1d1db70_58 -->\n",
       "<g id=\"edge2\" class=\"edge\">\n",
       "<title>approx_functionsquare_rootat0x7fe3e1d1db70_57&#45;&gt;guess_functionsquare_rootat0x7fe3e1d1db70_58</title>\n",
       "<path fill=\"none\" stroke=\"#000000\" d=\"M241,-116.2679C241,-142.2016 241,-187.3616 241,-217.4682\"/>\n",
       "<polygon fill=\"#000000\" stroke=\"#000000\" points=\"237.5001,-217.8155 241,-227.8156 244.5001,-217.8156 237.5001,-217.8155\"/>\n",
       "</g>\n",
       "<!-- approx_functionsquare_rootat0x7fe3e1d1db70_57&#45;&gt;guess_functionsquare_rootat0x7fe3e1d1db70_58 -->\n",
       "<!-- approx_functionsquare_rootat0x7fe3e1d1db70_57&#45;&gt;test_functionsquare_rootat0x7fe3e1d1db70_56 -->\n",
       "<g id=\"edge12\" class=\"edge\">\n",
       "<title>approx_functionsquare_rootat0x7fe3e1d1db70_57&#45;&gt;test_functionsquare_rootat0x7fe3e1d1db70_56</title>\n",
       "<path fill=\"none\" stroke=\"#000000\" d=\"M254.8793,-75.6334C264.9585,-66.5304 278.5342,-55.6928 291.9165,-46.0118\"/>\n",
       "<polygon fill=\"#000000\" stroke=\"#000000\" points=\"294.0477,-48.7914 300.1908,-40.1593 290.0055,-43.0765 294.0477,-48.7914\"/>\n",
       "</g>\n",
       "<!-- approx_functionsquare_rootat0x7fe3e1d1db70_57&#45;&gt;square_rootreturnvalue_functionsquare_rootat0x7fe3e1d1db70_61 -->\n",
       "<g id=\"edge4\" class=\"edge\">\n",
       "<title>approx_functionsquare_rootat0x7fe3e1d1db70_57&#45;&gt;square_rootreturnvalue_functionsquare_rootat0x7fe3e1d1db70_61</title>\n",
       "<path fill=\"none\" stroke=\"#000000\" d=\"M210.484,-75.8329C196.5779,-66.6428 179.9485,-55.6529 165.1358,-45.8637\"/>\n",
       "<polygon fill=\"#000000\" stroke=\"#000000\" points=\"166.9311,-42.8549 156.6586,-40.2613 163.0716,-48.6948 166.9311,-42.8549\"/>\n",
       "</g>\n",
       "<!-- test_functionsquare_rootat0x7fe3e1d1db70_56&#45;&gt;guess_functionsquare_rootat0x7fe3e1d1db70_58 -->\n",
       "<g id=\"edge3\" class=\"edge\">\n",
       "<title>test_functionsquare_rootat0x7fe3e1d1db70_56&#45;&gt;guess_functionsquare_rootat0x7fe3e1d1db70_58</title>\n",
       "<path fill=\"none\" stroke=\"#c0c0c0\" stroke-dasharray=\"5,2\" d=\"M337.1849,-40.0235C329.9048,-72.5417 307.1667,-138.5746 282,-192 277.7147,-201.0971 272.498,-210.7031 267.1422,-219.3414\"/>\n",
       "<polygon fill=\"#c0c0c0\" stroke=\"#c0c0c0\" points=\"264.0718,-217.6425 261.5438,-227.9313 269.9362,-221.4646 264.0718,-217.6425\"/>\n",
       "</g>\n",
       "<!-- test_functionsquare_rootat0x7fe3e1d1db70_56&#45;&gt;approx_functionsquare_rootat0x7fe3e1d1db70_57 -->\n",
       "<g id=\"edge8\" class=\"edge\">\n",
       "<title>test_functionsquare_rootat0x7fe3e1d1db70_56&#45;&gt;approx_functionsquare_rootat0x7fe3e1d1db70_57</title>\n",
       "<path fill=\"none\" stroke=\"#c0c0c0\" stroke-dasharray=\"5,2\" d=\"M312.1402,-40.2613C300.7243,-49.2057 287.1508,-59.8406 274.9358,-69.4111\"/>\n",
       "<polygon fill=\"#c0c0c0\" stroke=\"#c0c0c0\" points=\"272.4526,-66.9104 266.7396,-75.8329 276.7698,-72.4205 272.4526,-66.9104\"/>\n",
       "</g>\n",
       "<!-- test_functionsquare_rootat0x7fe3e1d1db70_56&#45;&gt;approx_functionsquare_rootat0x7fe3e1d1db70_57 -->\n",
       "<!-- guess_functionsquare_rootat0x7fe3e1d1db70_55&#45;&gt;approx_functionsquare_rootat0x7fe3e1d1db70_57 -->\n",
       "<g id=\"edge7\" class=\"edge\">\n",
       "<title>guess_functionsquare_rootat0x7fe3e1d1db70_55&#45;&gt;approx_functionsquare_rootat0x7fe3e1d1db70_57</title>\n",
       "<path fill=\"none\" stroke=\"#000000\" d=\"M348.258,-151.8329C329.9528,-142.3042 307.9308,-130.8407 288.6167,-120.7868\"/>\n",
       "<polygon fill=\"#000000\" stroke=\"#000000\" points=\"290.1558,-117.6422 279.6695,-116.1293 286.9236,-123.8513 290.1558,-117.6422\"/>\n",
       "</g>\n",
       "<!-- guess_functionsquare_rootat0x7fe3e1d1db70_55&#45;&gt;test_functionsquare_rootat0x7fe3e1d1db70_56 -->\n",
       "<g id=\"edge11\" class=\"edge\">\n",
       "<title>guess_functionsquare_rootat0x7fe3e1d1db70_55&#45;&gt;test_functionsquare_rootat0x7fe3e1d1db70_56</title>\n",
       "<path fill=\"none\" stroke=\"#000000\" d=\"M375.7332,-151.8156C364.9785,-125.8097 350.0785,-80.3713 342.2299,-50.2331\"/>\n",
       "<polygon fill=\"#000000\" stroke=\"#000000\" points=\"345.564,-49.1356 339.7661,-40.2679 338.7686,-50.8157 345.564,-49.1356\"/>\n",
       "</g>\n",
       "<!-- guess_functionsquare_rootat0x7fe3e1d1db70_55&#45;&gt;test_functionsquare_rootat0x7fe3e1d1db70_56 -->\n",
       "<!-- approx_functionsquare_rootat0x7fe3e1d1db70_54&#45;&gt;test_functionsquare_rootat0x7fe3e1d1db70_56 -->\n",
       "<g id=\"edge10\" class=\"edge\">\n",
       "<title>approx_functionsquare_rootat0x7fe3e1d1db70_54&#45;&gt;test_functionsquare_rootat0x7fe3e1d1db70_56</title>\n",
       "<path fill=\"none\" stroke=\"#000000\" d=\"M450.0942,-227.8432C450.4944,-207.9408 449.2669,-176.9509 440,-152 424.7394,-110.9113 391.8734,-72.2705 367.5517,-47.5439\"/>\n",
       "<polygon fill=\"#000000\" stroke=\"#000000\" points=\"369.8625,-44.9057 360.3068,-40.3296 364.9232,-49.8658 369.8625,-44.9057\"/>\n",
       "</g>\n",
       "<!-- approx_functionsquare_rootat0x7fe3e1d1db70_54&#45;&gt;guess_functionsquare_rootat0x7fe3e1d1db70_55 -->\n",
       "</g>\n",
       "</svg>\n"
      ],
      "text/plain": [
       "<__main__.Slicer at 0x7fe3e2a29080>"
      ]
     },
     "execution_count": 196,
     "metadata": {},
     "output_type": "execute_result"
    }
   ],
   "source": [
    "root_slicer"
   ]
  },
  {
   "cell_type": "markdown",
   "metadata": {
    "slideshow": {
     "slide_type": "fragment"
    }
   },
   "source": [
    "Again, we can show the code annotated with dependencies:"
   ]
  },
  {
   "cell_type": "code",
   "execution_count": 197,
   "metadata": {
    "slideshow": {
     "slide_type": "subslide"
    }
   },
   "outputs": [
    {
     "name": "stdout",
     "output_type": "stream",
     "text": [
      "*   51 \u001b[34mdef\u001b[39;49;00m \u001b[32msquare_root\u001b[39;49;00m(x):\n",
      "    52     \u001b[34massert\u001b[39;49;00m x >= \u001b[34m0\u001b[39;49;00m  \u001b[37m# precondition\u001b[39;49;00m\n",
      "    53 \n",
      "*   54     approx = \u001b[34mNone\u001b[39;49;00m\n",
      "*   55     guess = x / \u001b[34m2\u001b[39;49;00m  \u001b[37m# <= x (51)\u001b[39;49;00m\n",
      "*   56     \u001b[34mwhile\u001b[39;49;00m approx != guess:  \u001b[37m# <= guess (58), approx (54), guess (55), approx (57)\u001b[39;49;00m\n",
      "*   57         approx = guess  \u001b[37m# <= guess (58), guess (55); <- <test> (56)\u001b[39;49;00m\n",
      "*   58         guess = (approx + x / approx) / \u001b[34m2\u001b[39;49;00m  \u001b[37m# <= x (51), approx (57); <- <test> (56)\u001b[39;49;00m\n",
      "    59 \n",
      "    60     \u001b[34massert\u001b[39;49;00m math.isclose(approx * approx, x)\n",
      "*   61     \u001b[34mreturn\u001b[39;49;00m approx  \u001b[37m# <= approx (57)\u001b[39;49;00m\n"
     ]
    }
   ],
   "source": [
    "root_slicer.code()"
   ]
  },
  {
   "cell_type": "markdown",
   "metadata": {
    "slideshow": {
     "slide_type": "subslide"
    }
   },
   "source": [
    "The astute reader may find that an `assert p` statements do not control the following code, although it would be equivalent to `if not p: raise Exception`. Why is that?"
   ]
  },
  {
   "cell_type": "code",
   "execution_count": 198,
   "metadata": {
    "slideshow": {
     "slide_type": "fragment"
    }
   },
   "outputs": [
    {
     "data": {
      "text/html": [
       "\n",
       "    \n",
       "    <script>\n",
       "    function answer(quiz_id) {\n",
       "        ans = 0;\n",
       "        for (i = 1;; i++) {\n",
       "            checkbox = document.getElementById(quiz_id + \"-\" + i.toString());\n",
       "            if (!checkbox)\n",
       "                break;\n",
       "            if (checkbox.checked)\n",
       "                ans |= (1 << i);\n",
       "        }\n",
       "        return ans;\n",
       "    }\n",
       "    function check_selection(quiz_id, correct_answer, multiple_choice) {\n",
       "        given_answer = answer(quiz_id);\n",
       "        if (given_answer == correct_answer)\n",
       "        {\n",
       "            document.getElementById(quiz_id + \"-submit\").value = \"Correct!\";\n",
       "            for (i = 1;; i++) {\n",
       "                checkbox = document.getElementById(quiz_id + \"-\" + i.toString());\n",
       "                label = document.getElementById(quiz_id + \"-\" + i.toString() + \"-label\")\n",
       "                if (!checkbox)\n",
       "                    break;\n",
       "    \n",
       "                if (checkbox.checked) {\n",
       "                    label.style.fontWeight = \"bold\";\n",
       "                }\n",
       "                else {\n",
       "                    label.style.textDecoration = \"line-through\";\n",
       "                }\n",
       "            }\n",
       "        }\n",
       "        else \n",
       "        {\n",
       "            document.getElementById(quiz_id + \"-submit\").value = \"Try again\";\n",
       "            if (!multiple_choice) {\n",
       "                for (i = 1;; i++) {\n",
       "                    checkbox = document.getElementById(quiz_id + \"-\" + i.toString());\n",
       "                    label = document.getElementById(quiz_id + \"-\" + i.toString() + \"-label\")\n",
       "\n",
       "                    if (!checkbox)\n",
       "                        break;\n",
       "                    if (checkbox.checked) {\n",
       "                        label.style.textDecoration = \"line-through\";\n",
       "                    }\n",
       "                }\n",
       "            }\n",
       "        }\n",
       "    }\n",
       "    function clear_selection(quiz_id) {\n",
       "        document.getElementById(quiz_id + \"-submit\").value = \"Submit\";\n",
       "    }\n",
       "    </script>\n",
       "    \n",
       "    <div class=\"quiz\">\n",
       "    <h3 class=\"quiz_title\">Quiz</h3>\n",
       "    <p>\n",
       "    <div class=\"quiz_question\">Why don't <code>assert</code> statements induce control dependencies?</div>\n",
       "    </p>\n",
       "    <p>\n",
       "    <div class=\"quiz_options\" title=\"Pick a choice.\">\n",
       "    \n",
       "        <input type=\"radio\" name=\"ff53e7e8-529f-11eb-b36c-225582d40c1b\" id=\"ff53e7e8-529f-11eb-b36c-225582d40c1b-1\" onclick=\"clear_selection('ff53e7e8-529f-11eb-b36c-225582d40c1b')\">\n",
       "        <label id=\"ff53e7e8-529f-11eb-b36c-225582d40c1b-1-label\" for=\"ff53e7e8-529f-11eb-b36c-225582d40c1b-1\">We have no special handling of <code>assert</code> statements</label><br>\n",
       "    \n",
       "        <input type=\"radio\" name=\"ff53e7e8-529f-11eb-b36c-225582d40c1b\" id=\"ff53e7e8-529f-11eb-b36c-225582d40c1b-2\" onclick=\"clear_selection('ff53e7e8-529f-11eb-b36c-225582d40c1b')\">\n",
       "        <label id=\"ff53e7e8-529f-11eb-b36c-225582d40c1b-2-label\" for=\"ff53e7e8-529f-11eb-b36c-225582d40c1b-2\">We have no special handling of <code>raise</code> statements</label><br>\n",
       "    \n",
       "        <input type=\"radio\" name=\"ff53e7e8-529f-11eb-b36c-225582d40c1b\" id=\"ff53e7e8-529f-11eb-b36c-225582d40c1b-3\" onclick=\"clear_selection('ff53e7e8-529f-11eb-b36c-225582d40c1b')\">\n",
       "        <label id=\"ff53e7e8-529f-11eb-b36c-225582d40c1b-3-label\" for=\"ff53e7e8-529f-11eb-b36c-225582d40c1b-3\">Assertions are not supposed to act as controlling mechanisms</label><br>\n",
       "    \n",
       "        <input type=\"radio\" name=\"ff53e7e8-529f-11eb-b36c-225582d40c1b\" id=\"ff53e7e8-529f-11eb-b36c-225582d40c1b-4\" onclick=\"clear_selection('ff53e7e8-529f-11eb-b36c-225582d40c1b')\">\n",
       "        <label id=\"ff53e7e8-529f-11eb-b36c-225582d40c1b-4-label\" for=\"ff53e7e8-529f-11eb-b36c-225582d40c1b-4\">All of the above</label><br>\n",
       "    \n",
       "    </div>\n",
       "    </p>\n",
       "    <input id=\"ff53e7e8-529f-11eb-b36c-225582d40c1b-submit\" type=\"submit\" value=\"Submit\" onclick=\"check_selection('ff53e7e8-529f-11eb-b36c-225582d40c1b', 16, 0)\">\n",
       "    </div>\n",
       "    "
      ],
      "text/plain": [
       "<IPython.core.display.HTML object>"
      ]
     },
     "execution_count": 198,
     "metadata": {},
     "output_type": "execute_result"
    }
   ],
   "source": [
    "quiz(\"Why don't `assert` statements induce control dependencies?\",\n",
    "     [\n",
    "         \"We have no special handling of `assert` statements\",\n",
    "         \"We have no special handling of `raise` statements\",\n",
    "         \"Assertions are not supposed to act as controlling mechanisms\",\n",
    "         \"All of the above\",\n",
    "     ],\n",
    "     (1 * 1 << 1 * 1 << 1 * 1)\n",
    "    )"
   ]
  },
  {
   "cell_type": "markdown",
   "metadata": {
    "slideshow": {
     "slide_type": "subslide"
    }
   },
   "source": [
    "Indeed: we treat assertions as \"neutral\" in the sense that they do not affect the remainder of the program – if they are turned off, they have no effect; and if they are turned on, the remaining program logic should not depend on them. (Our instrumentation also has no special treatment of `assert`, `raise`, or even `return` statements; the latter two should be handled by our `with` blocks.)"
   ]
  },
  {
   "cell_type": "code",
   "execution_count": 199,
   "metadata": {
    "slideshow": {
     "slide_type": "fragment"
    }
   },
   "outputs": [],
   "source": [
    "# print(repr(root_slicer))"
   ]
  },
  {
   "cell_type": "markdown",
   "metadata": {
    "slideshow": {
     "slide_type": "subslide"
    }
   },
   "source": [
    "### Removing HTML Markup"
   ]
  },
  {
   "cell_type": "markdown",
   "metadata": {
    "slideshow": {
     "slide_type": "fragment"
    }
   },
   "source": [
    "Let us come to our ongoing example, `remove_html_markup()`. This is how its instrumented code looks like:"
   ]
  },
  {
   "cell_type": "code",
   "execution_count": 200,
   "metadata": {
    "slideshow": {
     "slide_type": "fragment"
    }
   },
   "outputs": [],
   "source": [
    "with Slicer(remove_html_markup) as rhm_slicer:\n",
    "    s = remove_html_markup(\"<foo>bar</foo>\")"
   ]
  },
  {
   "cell_type": "markdown",
   "metadata": {
    "slideshow": {
     "slide_type": "fragment"
    }
   },
   "source": [
    "The graph is as discussed in the introduction to this chapter:"
   ]
  },
  {
   "cell_type": "code",
   "execution_count": 201,
   "metadata": {
    "slideshow": {
     "slide_type": "fragment"
    }
   },
   "outputs": [
    {
     "data": {
      "image/svg+xml": [
       "<?xml version=\"1.0\" encoding=\"UTF-8\" standalone=\"no\"?>\n",
       "<!DOCTYPE svg PUBLIC \"-//W3C//DTD SVG 1.1//EN\"\n",
       " \"http://www.w3.org/Graphics/SVG/1.1/DTD/svg11.dtd\">\n",
       "<!-- Generated by graphviz version 2.40.1 (20161225.0304)\n",
       " -->\n",
       "<!-- Title: dependencies Pages: 1 -->\n",
       "<svg width=\"403pt\" height=\"960pt\"\n",
       " viewBox=\"0.00 0.00 402.50 960.00\" xmlns=\"http://www.w3.org/2000/svg\" xmlns:xlink=\"http://www.w3.org/1999/xlink\">\n",
       "<g id=\"graph0\" class=\"graph\" transform=\"scale(1 1) rotate(0) translate(4 956)\">\n",
       "<title>dependencies</title>\n",
       "<polygon fill=\"#ffffff\" stroke=\"transparent\" points=\"-4,4 -4,-956 398.5,-956 398.5,4 -4,4\"/>\n",
       "<!-- s_functionremove_html_markupat0x7fe3e1fed6a8_136 -->\n",
       "<g id=\"node1\" class=\"node\">\n",
       "<title>s_functionremove_html_markupat0x7fe3e1fed6a8_136</title>\n",
       "<g id=\"a_node1\"><a xlink:title=\"remove_html_markup:136\">\n",
       "<polygon fill=\"#ffdab9\" stroke=\"#000000\" points=\"221.5,-952 64.5,-952 64.5,-912 221.5,-912 221.5,-952\"/>\n",
       "<text text-anchor=\"start\" x=\"138.5\" y=\"-937.8\" font-family=\"Fira Mono, Courier, monospace\" font-weight=\"bold\" font-size=\"14.00\" fill=\"#000000\">s</text>\n",
       "<text text-anchor=\"start\" x=\"72.5\" y=\"-918.8\" font-family=\"Fira Mono, Courier, monospace\" font-size=\"9.00\" fill=\"#000000\">def remove_html_markup(s):</text>\n",
       "</a>\n",
       "</g>\n",
       "</g>\n",
       "<!-- c_functionremove_html_markupat0x7fe3e1fed6a8_141 -->\n",
       "<g id=\"node4\" class=\"node\">\n",
       "<title>c_functionremove_html_markupat0x7fe3e1fed6a8_141</title>\n",
       "<g id=\"a_node4\"><a xlink:title=\"remove_html_markup:141\">\n",
       "<polygon fill=\"#ffdab9\" stroke=\"#000000\" points=\"252,-648 176,-648 176,-608 252,-608 252,-648\"/>\n",
       "<text text-anchor=\"start\" x=\"209.5\" y=\"-633.8\" font-family=\"Fira Mono, Courier, monospace\" font-weight=\"bold\" font-size=\"14.00\" fill=\"#000000\">c</text>\n",
       "<text text-anchor=\"start\" x=\"184\" y=\"-614.8\" font-family=\"Fira Mono, Courier, monospace\" font-size=\"9.00\" fill=\"#000000\">for c in s:</text>\n",
       "</a>\n",
       "</g>\n",
       "</g>\n",
       "<!-- s_functionremove_html_markupat0x7fe3e1fed6a8_136&#45;&gt;c_functionremove_html_markupat0x7fe3e1fed6a8_141 -->\n",
       "<g id=\"edge18\" class=\"edge\">\n",
       "<title>s_functionremove_html_markupat0x7fe3e1fed6a8_136&#45;&gt;c_functionremove_html_markupat0x7fe3e1fed6a8_141</title>\n",
       "<path fill=\"none\" stroke=\"#000000\" d=\"M148.2235,-911.8228C150.9314,-901.1872 154.2403,-887.9106 157,-876 176.6956,-790.9946 176.891,-768.6654 198,-684 200.1216,-675.4906 202.6422,-666.319 205.0479,-657.9108\"/>\n",
       "<polygon fill=\"#000000\" stroke=\"#000000\" points=\"208.4608,-658.7085 207.8908,-648.129 201.739,-656.7548 208.4608,-658.7085\"/>\n",
       "</g>\n",
       "<!-- tag_functionremove_html_markupat0x7fe3e1fed6a8_137 -->\n",
       "<g id=\"node7\" class=\"node\">\n",
       "<title>tag_functionremove_html_markupat0x7fe3e1fed6a8_137</title>\n",
       "<g id=\"a_node7\"><a xlink:title=\"remove_html_markup:137\">\n",
       "<polygon fill=\"#ffdab9\" stroke=\"#000000\" points=\"148,-876 72,-876 72,-836 148,-836 148,-876\"/>\n",
       "<text text-anchor=\"start\" x=\"97\" y=\"-861.8\" font-family=\"Fira Mono, Courier, monospace\" font-weight=\"bold\" font-size=\"14.00\" fill=\"#000000\">tag</text>\n",
       "<text text-anchor=\"start\" x=\"80\" y=\"-842.8\" font-family=\"Fira Mono, Courier, monospace\" font-size=\"9.00\" fill=\"#000000\">tag = False</text>\n",
       "</a>\n",
       "</g>\n",
       "</g>\n",
       "<!-- s_functionremove_html_markupat0x7fe3e1fed6a8_136&#45;&gt;tag_functionremove_html_markupat0x7fe3e1fed6a8_137 -->\n",
       "<!-- test_functionremove_html_markupat0x7fe3e1fed6a8_144 -->\n",
       "<g id=\"node2\" class=\"node\">\n",
       "<title>test_functionremove_html_markupat0x7fe3e1fed6a8_144</title>\n",
       "<g id=\"a_node2\"><a xlink:title=\"remove_html_markup:144\">\n",
       "<polygon fill=\"#ffdab9\" stroke=\"#000000\" points=\"185.5,-572 28.5,-572 28.5,-532 185.5,-532 185.5,-572\"/>\n",
       "<text text-anchor=\"start\" x=\"81.5\" y=\"-557.8\" font-family=\"Fira Mono, Courier, monospace\" font-weight=\"bold\" font-style=\"italic\" font-size=\"14.00\" fill=\"#000000\">&lt;test&gt;</text>\n",
       "<text text-anchor=\"start\" x=\"36.5\" y=\"-538.8\" font-family=\"Fira Mono, Courier, monospace\" font-size=\"9.00\" fill=\"#000000\">if c == &#39;&lt;&#39; and not quote:</text>\n",
       "</a>\n",
       "</g>\n",
       "</g>\n",
       "<!-- test_functionremove_html_markupat0x7fe3e1fed6a8_146 -->\n",
       "<g id=\"node9\" class=\"node\">\n",
       "<title>test_functionremove_html_markupat0x7fe3e1fed6a8_146</title>\n",
       "<g id=\"a_node9\"><a xlink:title=\"remove_html_markup:146\">\n",
       "<polygon fill=\"#ffdab9\" stroke=\"#000000\" points=\"196,-420 28,-420 28,-380 196,-380 196,-420\"/>\n",
       "<text text-anchor=\"start\" x=\"86.5\" y=\"-405.8\" font-family=\"Fira Mono, Courier, monospace\" font-weight=\"bold\" font-style=\"italic\" font-size=\"14.00\" fill=\"#000000\">&lt;test&gt;</text>\n",
       "<text text-anchor=\"start\" x=\"36\" y=\"-386.8\" font-family=\"Fira Mono, Courier, monospace\" font-size=\"9.00\" fill=\"#000000\">elif c == &#39;&gt;&#39; and not quote:</text>\n",
       "</a>\n",
       "</g>\n",
       "</g>\n",
       "<!-- test_functionremove_html_markupat0x7fe3e1fed6a8_144&#45;&gt;test_functionremove_html_markupat0x7fe3e1fed6a8_146 -->\n",
       "<g id=\"edge11\" class=\"edge\">\n",
       "<title>test_functionremove_html_markupat0x7fe3e1fed6a8_144&#45;&gt;test_functionremove_html_markupat0x7fe3e1fed6a8_146</title>\n",
       "<path fill=\"none\" stroke=\"#c0c0c0\" stroke-dasharray=\"5,2\" d=\"M117.0551,-531.8059C121.6878,-521.3902 126.6676,-508.3158 129,-496 132.308,-478.5327 131.6104,-473.5851 129,-456 127.7166,-447.3545 125.3762,-438.196 122.834,-429.8455\"/>\n",
       "<polygon fill=\"#c0c0c0\" stroke=\"#c0c0c0\" points=\"126.104,-428.5824 119.6906,-420.1492 119.4452,-430.7412 126.104,-428.5824\"/>\n",
       "</g>\n",
       "<!-- tag_functionremove_html_markupat0x7fe3e1fed6a8_145 -->\n",
       "<g id=\"node12\" class=\"node\">\n",
       "<title>tag_functionremove_html_markupat0x7fe3e1fed6a8_145</title>\n",
       "<g id=\"a_node12\"><a xlink:title=\"remove_html_markup:145\">\n",
       "<polygon fill=\"#ffdab9\" stroke=\"#000000\" points=\"120.5,-496 49.5,-496 49.5,-456 120.5,-456 120.5,-496\"/>\n",
       "<text text-anchor=\"start\" x=\"72\" y=\"-481.8\" font-family=\"Fira Mono, Courier, monospace\" font-weight=\"bold\" font-size=\"14.00\" fill=\"#000000\">tag</text>\n",
       "<text text-anchor=\"start\" x=\"57.5\" y=\"-462.8\" font-family=\"Fira Mono, Courier, monospace\" font-size=\"9.00\" fill=\"#000000\">tag = True</text>\n",
       "</a>\n",
       "</g>\n",
       "</g>\n",
       "<!-- test_functionremove_html_markupat0x7fe3e1fed6a8_144&#45;&gt;tag_functionremove_html_markupat0x7fe3e1fed6a8_145 -->\n",
       "<g id=\"edge12\" class=\"edge\">\n",
       "<title>test_functionremove_html_markupat0x7fe3e1fed6a8_144&#45;&gt;tag_functionremove_html_markupat0x7fe3e1fed6a8_145</title>\n",
       "<path fill=\"none\" stroke=\"#c0c0c0\" stroke-dasharray=\"5,2\" d=\"M95.047,-531.6334C92.1241,-523.8186 89.3039,-514.7253 87.1158,-506.183\"/>\n",
       "<polygon fill=\"#c0c0c0\" stroke=\"#c0c0c0\" points=\"90.4606,-505.1125 84.7958,-496.1593 83.6409,-506.691 90.4606,-505.1125\"/>\n",
       "</g>\n",
       "<!-- test_functionremove_html_markupat0x7fe3e1fed6a8_144&#45;&gt;tag_functionremove_html_markupat0x7fe3e1fed6a8_145 -->\n",
       "<!-- quote_functionremove_html_markupat0x7fe3e1fed6a8_138 -->\n",
       "<g id=\"node3\" class=\"node\">\n",
       "<title>quote_functionremove_html_markupat0x7fe3e1fed6a8_138</title>\n",
       "<g id=\"a_node3\"><a xlink:title=\"remove_html_markup:138\">\n",
       "<polygon fill=\"#ffdab9\" stroke=\"#000000\" points=\"150.5,-800 63.5,-800 63.5,-760 150.5,-760 150.5,-800\"/>\n",
       "<text text-anchor=\"start\" x=\"85.5\" y=\"-785.8\" font-family=\"Fira Mono, Courier, monospace\" font-weight=\"bold\" font-size=\"14.00\" fill=\"#000000\">quote</text>\n",
       "<text text-anchor=\"start\" x=\"71.5\" y=\"-766.8\" font-family=\"Fira Mono, Courier, monospace\" font-size=\"9.00\" fill=\"#000000\">quote = False</text>\n",
       "</a>\n",
       "</g>\n",
       "</g>\n",
       "<!-- quote_functionremove_html_markupat0x7fe3e1fed6a8_138&#45;&gt;test_functionremove_html_markupat0x7fe3e1fed6a8_144 -->\n",
       "<g id=\"edge1\" class=\"edge\">\n",
       "<title>quote_functionremove_html_markupat0x7fe3e1fed6a8_138&#45;&gt;test_functionremove_html_markupat0x7fe3e1fed6a8_144</title>\n",
       "<path fill=\"none\" stroke=\"#000000\" d=\"M107,-759.7665C107,-719.6263 107,-629.7226 107,-582.4223\"/>\n",
       "<polygon fill=\"#000000\" stroke=\"#000000\" points=\"110.5001,-582.1881 107,-572.1881 103.5001,-582.1882 110.5001,-582.1881\"/>\n",
       "</g>\n",
       "<!-- quote_functionremove_html_markupat0x7fe3e1fed6a8_138&#45;&gt;test_functionremove_html_markupat0x7fe3e1fed6a8_146 -->\n",
       "<g id=\"edge9\" class=\"edge\">\n",
       "<title>quote_functionremove_html_markupat0x7fe3e1fed6a8_138&#45;&gt;test_functionremove_html_markupat0x7fe3e1fed6a8_146</title>\n",
       "<path fill=\"none\" stroke=\"#000000\" d=\"M80.2754,-759.8035C48.5827,-733.3297 0,-683.6685 0,-628 0,-628 0,-628 0,-552 0,-505.7778 11.9434,-492.7331 40,-456 48.5023,-444.8684 59.7248,-434.7436 70.7728,-426.2589\"/>\n",
       "<polygon fill=\"#000000\" stroke=\"#000000\" points=\"73.1603,-428.8474 79.1392,-420.1008 69.0108,-423.2099 73.1603,-428.8474\"/>\n",
       "</g>\n",
       "<!-- out_functionremove_html_markupat0x7fe3e1fed6a8_139 -->\n",
       "<g id=\"node10\" class=\"node\">\n",
       "<title>out_functionremove_html_markupat0x7fe3e1fed6a8_139</title>\n",
       "<g id=\"a_node10\"><a xlink:title=\"remove_html_markup:139\">\n",
       "<polygon fill=\"#ffdab9\" stroke=\"#000000\" points=\"267,-724 207,-724 207,-684 267,-684 267,-724\"/>\n",
       "<text text-anchor=\"start\" x=\"224\" y=\"-709.8\" font-family=\"Fira Mono, Courier, monospace\" font-weight=\"bold\" font-size=\"14.00\" fill=\"#000000\">out</text>\n",
       "<text text-anchor=\"start\" x=\"215\" y=\"-690.8\" font-family=\"Fira Mono, Courier, monospace\" font-size=\"9.00\" fill=\"#000000\">out = &quot;&quot;</text>\n",
       "</a>\n",
       "</g>\n",
       "</g>\n",
       "<!-- quote_functionremove_html_markupat0x7fe3e1fed6a8_138&#45;&gt;out_functionremove_html_markupat0x7fe3e1fed6a8_139 -->\n",
       "<!-- c_functionremove_html_markupat0x7fe3e1fed6a8_141&#45;&gt;test_functionremove_html_markupat0x7fe3e1fed6a8_144 -->\n",
       "<g id=\"edge2\" class=\"edge\">\n",
       "<title>c_functionremove_html_markupat0x7fe3e1fed6a8_141&#45;&gt;test_functionremove_html_markupat0x7fe3e1fed6a8_144</title>\n",
       "<path fill=\"none\" stroke=\"#000000\" d=\"M179.5664,-607.8329C166.0956,-598.8145 150.8179,-588.0631 137.7249,-578.4138\"/>\n",
       "<polygon fill=\"#000000\" stroke=\"#000000\" points=\"139.5855,-575.4353 129.4773,-572.2613 135.4,-581.0461 139.5855,-575.4353\"/>\n",
       "</g>\n",
       "<!-- c_functionremove_html_markupat0x7fe3e1fed6a8_141&#45;&gt;test_functionremove_html_markupat0x7fe3e1fed6a8_144 -->\n",
       "<!-- out_functionremove_html_markupat0x7fe3e1fed6a8_151 -->\n",
       "<g id=\"node6\" class=\"node\">\n",
       "<title>out_functionremove_html_markupat0x7fe3e1fed6a8_151</title>\n",
       "<g id=\"a_node6\"><a xlink:title=\"remove_html_markup:151\">\n",
       "<polygon fill=\"#ffdab9\" stroke=\"#000000\" points=\"282.5,-116 195.5,-116 195.5,-76 282.5,-76 282.5,-116\"/>\n",
       "<text text-anchor=\"start\" x=\"226\" y=\"-101.8\" font-family=\"Fira Mono, Courier, monospace\" font-weight=\"bold\" font-size=\"14.00\" fill=\"#000000\">out</text>\n",
       "<text text-anchor=\"start\" x=\"203.5\" y=\"-82.8\" font-family=\"Fira Mono, Courier, monospace\" font-size=\"9.00\" fill=\"#000000\">out = out + c</text>\n",
       "</a>\n",
       "</g>\n",
       "</g>\n",
       "<!-- c_functionremove_html_markupat0x7fe3e1fed6a8_141&#45;&gt;out_functionremove_html_markupat0x7fe3e1fed6a8_151 -->\n",
       "<g id=\"edge6\" class=\"edge\">\n",
       "<title>c_functionremove_html_markupat0x7fe3e1fed6a8_141&#45;&gt;out_functionremove_html_markupat0x7fe3e1fed6a8_151</title>\n",
       "<path fill=\"none\" stroke=\"#000000\" d=\"M236.2706,-607.7254C263.4983,-580.604 306,-529.6723 306,-476 306,-476 306,-476 306,-248 306,-202.0021 279.9914,-154.3174 260.3834,-124.9036\"/>\n",
       "<polygon fill=\"#000000\" stroke=\"#000000\" points=\"263.0823,-122.6506 254.5396,-116.3839 257.3098,-126.6102 263.0823,-122.6506\"/>\n",
       "</g>\n",
       "<!-- c_functionremove_html_markupat0x7fe3e1fed6a8_141&#45;&gt;test_functionremove_html_markupat0x7fe3e1fed6a8_146 -->\n",
       "<g id=\"edge10\" class=\"edge\">\n",
       "<title>c_functionremove_html_markupat0x7fe3e1fed6a8_141&#45;&gt;test_functionremove_html_markupat0x7fe3e1fed6a8_146</title>\n",
       "<path fill=\"none\" stroke=\"#000000\" d=\"M212.1817,-607.9089C209.8914,-588.0564 204.9788,-557.1034 195,-532 179.7271,-493.5782 153.1342,-454.0169 134.1652,-428.3521\"/>\n",
       "<polygon fill=\"#000000\" stroke=\"#000000\" points=\"136.8526,-426.1019 128.0519,-420.2028 131.2531,-430.3025 136.8526,-426.1019\"/>\n",
       "</g>\n",
       "<!-- test_functionremove_html_markupat0x7fe3e1fed6a8_148 -->\n",
       "<g id=\"node13\" class=\"node\">\n",
       "<title>test_functionremove_html_markupat0x7fe3e1fed6a8_148</title>\n",
       "<g id=\"a_node13\"><a xlink:title=\"remove_html_markup:148\">\n",
       "<polygon fill=\"#ffdab9\" stroke=\"#000000\" points=\"277.5,-268 66.5,-268 66.5,-228 277.5,-228 277.5,-268\"/>\n",
       "<text text-anchor=\"start\" x=\"146.5\" y=\"-253.8\" font-family=\"Fira Mono, Courier, monospace\" font-weight=\"bold\" font-style=\"italic\" font-size=\"14.00\" fill=\"#000000\">&lt;test&gt;</text>\n",
       "<text text-anchor=\"start\" x=\"74.5\" y=\"-234.8\" font-family=\"Fira Mono, Courier, monospace\" font-size=\"9.00\" fill=\"#000000\">elif (c == &#39;&quot;&#39; or c == &quot;&#39;&quot;) and tag:</text>\n",
       "</a>\n",
       "</g>\n",
       "</g>\n",
       "<!-- c_functionremove_html_markupat0x7fe3e1fed6a8_141&#45;&gt;test_functionremove_html_markupat0x7fe3e1fed6a8_148 -->\n",
       "<g id=\"edge13\" class=\"edge\">\n",
       "<title>c_functionremove_html_markupat0x7fe3e1fed6a8_141&#45;&gt;test_functionremove_html_markupat0x7fe3e1fed6a8_148</title>\n",
       "<path fill=\"none\" stroke=\"#000000\" d=\"M222.4334,-607.7508C233.6285,-578.9905 252,-524.4179 252,-476 252,-476 252,-476 252,-400 252,-352.5024 221.0317,-305.2688 197.6305,-276.3572\"/>\n",
       "<polygon fill=\"#000000\" stroke=\"#000000\" points=\"200.0486,-273.7915 190.9589,-268.3483 194.6703,-278.2719 200.0486,-273.7915\"/>\n",
       "</g>\n",
       "<!-- remove_html_markupreturnvalue_functionremove_html_markupat0x7fe3e1fed6a8_153 -->\n",
       "<g id=\"node5\" class=\"node\">\n",
       "<title>remove_html_markupreturnvalue_functionremove_html_markupat0x7fe3e1fed6a8_153</title>\n",
       "<g id=\"a_node5\"><a xlink:title=\"remove_html_markup:153\">\n",
       "<polygon fill=\"#ffdab9\" stroke=\"#000000\" points=\"394.5,-40 83.5,-40 83.5,0 394.5,0 394.5,-40\"/>\n",
       "<text text-anchor=\"start\" x=\"91.5\" y=\"-25.8\" font-family=\"Fira Mono, Courier, monospace\" font-weight=\"bold\" font-style=\"italic\" font-size=\"14.00\" fill=\"#000000\">&lt;remove_html_markup() return value&gt;</text>\n",
       "<text text-anchor=\"start\" x=\"211.5\" y=\"-6.8\" font-family=\"Fira Mono, Courier, monospace\" font-size=\"9.00\" fill=\"#000000\">return out</text>\n",
       "</a>\n",
       "</g>\n",
       "</g>\n",
       "<!-- out_functionremove_html_markupat0x7fe3e1fed6a8_151&#45;&gt;remove_html_markupreturnvalue_functionremove_html_markupat0x7fe3e1fed6a8_153 -->\n",
       "<g id=\"edge3\" class=\"edge\">\n",
       "<title>out_functionremove_html_markupat0x7fe3e1fed6a8_151&#45;&gt;remove_html_markupreturnvalue_functionremove_html_markupat0x7fe3e1fed6a8_153</title>\n",
       "<path fill=\"none\" stroke=\"#000000\" d=\"M232.9426,-75.6334C232.2819,-67.8186 232.0939,-58.7253 232.3786,-50.183\"/>\n",
       "<polygon fill=\"#000000\" stroke=\"#000000\" points=\"235.875,-50.3453 232.9602,-40.1593 228.8867,-49.9397 235.875,-50.3453\"/>\n",
       "</g>\n",
       "<!-- out_functionremove_html_markupat0x7fe3e1fed6a8_151&#45;&gt;remove_html_markupreturnvalue_functionremove_html_markupat0x7fe3e1fed6a8_153 -->\n",
       "<!-- out_functionremove_html_markupat0x7fe3e1fed6a8_151&#45;&gt;out_functionremove_html_markupat0x7fe3e1fed6a8_151 -->\n",
       "<g id=\"edge7\" class=\"edge\">\n",
       "<title>out_functionremove_html_markupat0x7fe3e1fed6a8_151&#45;&gt;out_functionremove_html_markupat0x7fe3e1fed6a8_151</title>\n",
       "<path fill=\"none\" stroke=\"#000000\" d=\"M282.6694,-109.9682C292.9301,-108.8201 300.5,-104.1641 300.5,-96 300.5,-90.7699 297.3933,-86.9795 292.4627,-84.6287\"/>\n",
       "<polygon fill=\"#000000\" stroke=\"#000000\" points=\"293.2324,-81.212 282.6694,-82.0318 291.4382,-87.9781 293.2324,-81.212\"/>\n",
       "</g>\n",
       "<!-- tag_functionremove_html_markupat0x7fe3e1fed6a8_137&#45;&gt;quote_functionremove_html_markupat0x7fe3e1fed6a8_138 -->\n",
       "<!-- tag_functionremove_html_markupat0x7fe3e1fed6a8_147 -->\n",
       "<g id=\"node8\" class=\"node\">\n",
       "<title>tag_functionremove_html_markupat0x7fe3e1fed6a8_147</title>\n",
       "<g id=\"a_node8\"><a xlink:title=\"remove_html_markup:147\">\n",
       "<polygon fill=\"#ffdab9\" stroke=\"#000000\" points=\"147,-344 71,-344 71,-304 147,-304 147,-344\"/>\n",
       "<text text-anchor=\"start\" x=\"96\" y=\"-329.8\" font-family=\"Fira Mono, Courier, monospace\" font-weight=\"bold\" font-size=\"14.00\" fill=\"#000000\">tag</text>\n",
       "<text text-anchor=\"start\" x=\"79\" y=\"-310.8\" font-family=\"Fira Mono, Courier, monospace\" font-size=\"9.00\" fill=\"#000000\">tag = False</text>\n",
       "</a>\n",
       "</g>\n",
       "</g>\n",
       "<!-- test_functionremove_html_markupat0x7fe3e1fed6a8_150 -->\n",
       "<g id=\"node11\" class=\"node\">\n",
       "<title>test_functionremove_html_markupat0x7fe3e1fed6a8_150</title>\n",
       "<g id=\"a_node11\"><a xlink:title=\"remove_html_markup:150\">\n",
       "<polygon fill=\"#ffdab9\" stroke=\"#000000\" points=\"215.5,-192 128.5,-192 128.5,-152 215.5,-152 215.5,-192\"/>\n",
       "<text text-anchor=\"start\" x=\"146.5\" y=\"-177.8\" font-family=\"Fira Mono, Courier, monospace\" font-weight=\"bold\" font-style=\"italic\" font-size=\"14.00\" fill=\"#000000\">&lt;test&gt;</text>\n",
       "<text text-anchor=\"start\" x=\"136.5\" y=\"-158.8\" font-family=\"Fira Mono, Courier, monospace\" font-size=\"9.00\" fill=\"#000000\">elif not tag:</text>\n",
       "</a>\n",
       "</g>\n",
       "</g>\n",
       "<!-- tag_functionremove_html_markupat0x7fe3e1fed6a8_147&#45;&gt;test_functionremove_html_markupat0x7fe3e1fed6a8_150 -->\n",
       "<g id=\"edge16\" class=\"edge\">\n",
       "<title>tag_functionremove_html_markupat0x7fe3e1fed6a8_147&#45;&gt;test_functionremove_html_markupat0x7fe3e1fed6a8_150</title>\n",
       "<path fill=\"none\" stroke=\"#000000\" d=\"M83.306,-303.9062C73.0634,-294.2789 62.4314,-281.8312 57,-268 50.5019,-251.4524 47.5745,-243.0735 57,-228 70.65,-206.1706 95.523,-192.6278 118.654,-184.3431\"/>\n",
       "<polygon fill=\"#000000\" stroke=\"#000000\" points=\"120.0316,-187.5738 128.4228,-181.1056 117.8294,-180.9292 120.0316,-187.5738\"/>\n",
       "</g>\n",
       "<!-- tag_functionremove_html_markupat0x7fe3e1fed6a8_147&#45;&gt;test_functionremove_html_markupat0x7fe3e1fed6a8_148 -->\n",
       "<!-- test_functionremove_html_markupat0x7fe3e1fed6a8_146&#45;&gt;tag_functionremove_html_markupat0x7fe3e1fed6a8_147 -->\n",
       "<g id=\"edge4\" class=\"edge\">\n",
       "<title>test_functionremove_html_markupat0x7fe3e1fed6a8_146&#45;&gt;tag_functionremove_html_markupat0x7fe3e1fed6a8_147</title>\n",
       "<path fill=\"none\" stroke=\"#c0c0c0\" stroke-dasharray=\"5,2\" d=\"M105.1386,-379.6334C104.1695,-371.8186 103.6226,-362.7253 103.57,-354.183\"/>\n",
       "<polygon fill=\"#c0c0c0\" stroke=\"#c0c0c0\" points=\"107.0698,-354.2225 103.756,-344.1593 100.071,-354.0926 107.0698,-354.2225\"/>\n",
       "</g>\n",
       "<!-- test_functionremove_html_markupat0x7fe3e1fed6a8_146&#45;&gt;tag_functionremove_html_markupat0x7fe3e1fed6a8_147 -->\n",
       "<!-- test_functionremove_html_markupat0x7fe3e1fed6a8_146&#45;&gt;test_functionremove_html_markupat0x7fe3e1fed6a8_148 -->\n",
       "<g id=\"edge14\" class=\"edge\">\n",
       "<title>test_functionremove_html_markupat0x7fe3e1fed6a8_146&#45;&gt;test_functionremove_html_markupat0x7fe3e1fed6a8_148</title>\n",
       "<path fill=\"none\" stroke=\"#c0c0c0\" stroke-dasharray=\"5,2\" d=\"M131.8897,-379.8472C140.6329,-369.85 150.2099,-357.1218 156,-344 165.151,-323.2614 169.1049,-297.8948 170.7957,-278.446\"/>\n",
       "<polygon fill=\"#c0c0c0\" stroke=\"#c0c0c0\" points=\"174.2977,-278.5414 171.5208,-268.317 167.3156,-278.0415 174.2977,-278.5414\"/>\n",
       "</g>\n",
       "<!-- out_functionremove_html_markupat0x7fe3e1fed6a8_139&#45;&gt;c_functionremove_html_markupat0x7fe3e1fed6a8_141 -->\n",
       "<!-- out_functionremove_html_markupat0x7fe3e1fed6a8_139&#45;&gt;out_functionremove_html_markupat0x7fe3e1fed6a8_151 -->\n",
       "<g id=\"edge5\" class=\"edge\">\n",
       "<title>out_functionremove_html_markupat0x7fe3e1fed6a8_139&#45;&gt;out_functionremove_html_markupat0x7fe3e1fed6a8_151</title>\n",
       "<path fill=\"none\" stroke=\"#000000\" d=\"M263.7246,-683.8035C295.4173,-657.3297 344,-607.6685 344,-552 344,-552 344,-552 344,-248 344,-196.8486 303.2483,-150.4375 272.5204,-122.7128\"/>\n",
       "<polygon fill=\"#000000\" stroke=\"#000000\" points=\"274.7803,-120.0395 264.9551,-116.0753 270.1637,-125.3013 274.7803,-120.0395\"/>\n",
       "</g>\n",
       "<!-- test_functionremove_html_markupat0x7fe3e1fed6a8_150&#45;&gt;out_functionremove_html_markupat0x7fe3e1fed6a8_151 -->\n",
       "<g id=\"edge8\" class=\"edge\">\n",
       "<title>test_functionremove_html_markupat0x7fe3e1fed6a8_150&#45;&gt;out_functionremove_html_markupat0x7fe3e1fed6a8_151</title>\n",
       "<path fill=\"none\" stroke=\"#c0c0c0\" stroke-dasharray=\"5,2\" d=\"M183.8973,-151.6334C190.7421,-143.0457 199.5186,-132.9142 208.0868,-123.6663\"/>\n",
       "<polygon fill=\"#c0c0c0\" stroke=\"#c0c0c0\" points=\"210.8588,-125.8292 215.1882,-116.1593 205.7735,-121.0187 210.8588,-125.8292\"/>\n",
       "</g>\n",
       "<!-- test_functionremove_html_markupat0x7fe3e1fed6a8_150&#45;&gt;out_functionremove_html_markupat0x7fe3e1fed6a8_151 -->\n",
       "<!-- tag_functionremove_html_markupat0x7fe3e1fed6a8_145&#45;&gt;test_functionremove_html_markupat0x7fe3e1fed6a8_146 -->\n",
       "<!-- tag_functionremove_html_markupat0x7fe3e1fed6a8_145&#45;&gt;test_functionremove_html_markupat0x7fe3e1fed6a8_150 -->\n",
       "<g id=\"edge15\" class=\"edge\">\n",
       "<title>tag_functionremove_html_markupat0x7fe3e1fed6a8_145&#45;&gt;test_functionremove_html_markupat0x7fe3e1fed6a8_150</title>\n",
       "<path fill=\"none\" stroke=\"#000000\" d=\"M50.8171,-455.9999C38.3937,-446.7681 25.7553,-434.5911 19,-420 -3.8409,-370.665 -.7016,-288.7213 47,-228 64.5724,-205.6314 93.0153,-191.94 118.3331,-183.7007\"/>\n",
       "<polygon fill=\"#000000\" stroke=\"#000000\" points=\"119.6653,-186.954 128.2174,-180.7002 117.6319,-180.2558 119.6653,-186.954\"/>\n",
       "</g>\n",
       "<!-- test_functionremove_html_markupat0x7fe3e1fed6a8_148&#45;&gt;test_functionremove_html_markupat0x7fe3e1fed6a8_150 -->\n",
       "<g id=\"edge17\" class=\"edge\">\n",
       "<title>test_functionremove_html_markupat0x7fe3e1fed6a8_148&#45;&gt;test_functionremove_html_markupat0x7fe3e1fed6a8_150</title>\n",
       "<path fill=\"none\" stroke=\"#c0c0c0\" stroke-dasharray=\"5,2\" d=\"M165.9426,-227.6334C165.2819,-219.8186 165.0939,-210.7253 165.3786,-202.183\"/>\n",
       "<polygon fill=\"#c0c0c0\" stroke=\"#c0c0c0\" points=\"168.875,-202.3453 165.9602,-192.1593 161.8867,-201.9397 168.875,-202.3453\"/>\n",
       "</g>\n",
       "<!-- test_functionremove_html_markupat0x7fe3e1fed6a8_148&#45;&gt;test_functionremove_html_markupat0x7fe3e1fed6a8_150 -->\n",
       "</g>\n",
       "</svg>\n"
      ],
      "text/plain": [
       "<__main__.Slicer at 0x7fe3e1e05278>"
      ]
     },
     "execution_count": 201,
     "metadata": {},
     "output_type": "execute_result"
    }
   ],
   "source": [
    "rhm_slicer"
   ]
  },
  {
   "cell_type": "code",
   "execution_count": 202,
   "metadata": {
    "slideshow": {
     "slide_type": "fragment"
    }
   },
   "outputs": [],
   "source": [
    "# print(repr(rhm_slicer.dependencies()))"
   ]
  },
  {
   "cell_type": "code",
   "execution_count": 203,
   "metadata": {
    "slideshow": {
     "slide_type": "subslide"
    }
   },
   "outputs": [
    {
     "name": "stdout",
     "output_type": "stream",
     "text": [
      "*  136 \u001b[34mdef\u001b[39;49;00m \u001b[32mremove_html_markup\u001b[39;49;00m(s):\n",
      "*  137     tag = \u001b[34mFalse\u001b[39;49;00m\n",
      "*  138     quote = \u001b[34mFalse\u001b[39;49;00m\n",
      "*  139     out = \u001b[33m\"\u001b[39;49;00m\u001b[33m\"\u001b[39;49;00m\n",
      "   140 \n",
      "*  141     \u001b[34mfor\u001b[39;49;00m c \u001b[35min\u001b[39;49;00m s:  \u001b[37m# <= s (136)\u001b[39;49;00m\n",
      "   142         \u001b[34massert\u001b[39;49;00m tag \u001b[35mor\u001b[39;49;00m \u001b[35mnot\u001b[39;49;00m quote\n",
      "   143 \n",
      "*  144         \u001b[34mif\u001b[39;49;00m c == \u001b[33m'\u001b[39;49;00m\u001b[33m<\u001b[39;49;00m\u001b[33m'\u001b[39;49;00m \u001b[35mand\u001b[39;49;00m \u001b[35mnot\u001b[39;49;00m quote:  \u001b[37m# <= quote (138), c (141)\u001b[39;49;00m\n",
      "*  145             tag = \u001b[34mTrue\u001b[39;49;00m  \u001b[37m# <- <test> (144)\u001b[39;49;00m\n",
      "*  146         \u001b[34melif\u001b[39;49;00m c == \u001b[33m'\u001b[39;49;00m\u001b[33m>\u001b[39;49;00m\u001b[33m'\u001b[39;49;00m \u001b[35mand\u001b[39;49;00m \u001b[35mnot\u001b[39;49;00m quote:  \u001b[37m# <= quote (138), c (141); <- <test> (144)\u001b[39;49;00m\n",
      "*  147             tag = \u001b[34mFalse\u001b[39;49;00m  \u001b[37m# <- <test> (146)\u001b[39;49;00m\n",
      "*  148         \u001b[34melif\u001b[39;49;00m (c == \u001b[33m'\u001b[39;49;00m\u001b[33m\"\u001b[39;49;00m\u001b[33m'\u001b[39;49;00m \u001b[35mor\u001b[39;49;00m c == \u001b[33m\"\u001b[39;49;00m\u001b[33m'\u001b[39;49;00m\u001b[33m\"\u001b[39;49;00m) \u001b[35mand\u001b[39;49;00m tag:  \u001b[37m# <= c (141); <- <test> (146)\u001b[39;49;00m\n",
      "   149             quote = \u001b[35mnot\u001b[39;49;00m quote\n",
      "*  150         \u001b[34melif\u001b[39;49;00m \u001b[35mnot\u001b[39;49;00m tag:  \u001b[37m# <= tag (145), tag (147); <- <test> (148)\u001b[39;49;00m\n",
      "*  151             out = out + c  \u001b[37m# <= out (139), c (141), out (151); <- <test> (150)\u001b[39;49;00m\n",
      "   152 \n",
      "*  153     \u001b[34mreturn\u001b[39;49;00m out  \u001b[37m# <= out (151)\u001b[39;49;00m\n"
     ]
    }
   ],
   "source": [
    "rhm_slicer.code()"
   ]
  },
  {
   "cell_type": "markdown",
   "metadata": {
    "slideshow": {
     "slide_type": "subslide"
    }
   },
   "source": [
    "We can also compute slices over the dependencies:"
   ]
  },
  {
   "cell_type": "code",
   "execution_count": 204,
   "metadata": {
    "slideshow": {
     "slide_type": "fragment"
    }
   },
   "outputs": [
    {
     "data": {
      "text/plain": [
       "136"
      ]
     },
     "execution_count": 204,
     "metadata": {},
     "output_type": "execute_result"
    }
   ],
   "source": [
    "_, start_remove_html_markup = inspect.getsourcelines(remove_html_markup)\n",
    "start_remove_html_markup"
   ]
  },
  {
   "cell_type": "code",
   "execution_count": 205,
   "metadata": {
    "slideshow": {
     "slide_type": "subslide"
    }
   },
   "outputs": [
    {
     "data": {
      "image/svg+xml": [
       "<?xml version=\"1.0\" encoding=\"UTF-8\" standalone=\"no\"?>\n",
       "<!DOCTYPE svg PUBLIC \"-//W3C//DTD SVG 1.1//EN\"\n",
       " \"http://www.w3.org/Graphics/SVG/1.1/DTD/svg11.dtd\">\n",
       "<!-- Generated by graphviz version 2.40.1 (20161225.0304)\n",
       " -->\n",
       "<!-- Title: dependencies Pages: 1 -->\n",
       "<svg width=\"196pt\" height=\"352pt\"\n",
       " viewBox=\"0.00 0.00 196.00 352.00\" xmlns=\"http://www.w3.org/2000/svg\" xmlns:xlink=\"http://www.w3.org/1999/xlink\">\n",
       "<g id=\"graph0\" class=\"graph\" transform=\"scale(1 1) rotate(0) translate(4 348)\">\n",
       "<title>dependencies</title>\n",
       "<polygon fill=\"#ffffff\" stroke=\"transparent\" points=\"-4,4 -4,-348 192,-348 192,4 -4,4\"/>\n",
       "<!-- test_functionremove_html_markupat0x7fe3e1fed6a8_144 -->\n",
       "<g id=\"node1\" class=\"node\">\n",
       "<title>test_functionremove_html_markupat0x7fe3e1fed6a8_144</title>\n",
       "<g id=\"a_node1\"><a xlink:title=\"remove_html_markup:144\">\n",
       "<polygon fill=\"#ffdab9\" stroke=\"#000000\" points=\"188,-116 31,-116 31,-76 188,-76 188,-116\"/>\n",
       "<text text-anchor=\"start\" x=\"84\" y=\"-101.8\" font-family=\"Fira Mono, Courier, monospace\" font-weight=\"bold\" font-style=\"italic\" font-size=\"14.00\" fill=\"#000000\">&lt;test&gt;</text>\n",
       "<text text-anchor=\"start\" x=\"39\" y=\"-82.8\" font-family=\"Fira Mono, Courier, monospace\" font-size=\"9.00\" fill=\"#000000\">if c == &#39;&lt;&#39; and not quote:</text>\n",
       "</a>\n",
       "</g>\n",
       "</g>\n",
       "<!-- tag_functionremove_html_markupat0x7fe3e1fed6a8_145 -->\n",
       "<g id=\"node5\" class=\"node\">\n",
       "<title>tag_functionremove_html_markupat0x7fe3e1fed6a8_145</title>\n",
       "<g id=\"a_node5\"><a xlink:title=\"remove_html_markup:145\">\n",
       "<polygon fill=\"#ffdab9\" stroke=\"#000000\" points=\"145,-40 74,-40 74,0 145,0 145,-40\"/>\n",
       "<text text-anchor=\"start\" x=\"96.5\" y=\"-25.8\" font-family=\"Fira Mono, Courier, monospace\" font-weight=\"bold\" font-size=\"14.00\" fill=\"#000000\">tag</text>\n",
       "<text text-anchor=\"start\" x=\"82\" y=\"-6.8\" font-family=\"Fira Mono, Courier, monospace\" font-size=\"9.00\" fill=\"#000000\">tag = True</text>\n",
       "</a>\n",
       "</g>\n",
       "</g>\n",
       "<!-- test_functionremove_html_markupat0x7fe3e1fed6a8_144&#45;&gt;tag_functionremove_html_markupat0x7fe3e1fed6a8_145 -->\n",
       "<g id=\"edge3\" class=\"edge\">\n",
       "<title>test_functionremove_html_markupat0x7fe3e1fed6a8_144&#45;&gt;tag_functionremove_html_markupat0x7fe3e1fed6a8_145</title>\n",
       "<path fill=\"none\" stroke=\"#c0c0c0\" stroke-dasharray=\"5,2\" d=\"M103.4426,-75.6334C102.7819,-67.8186 102.5939,-58.7253 102.8786,-50.183\"/>\n",
       "<polygon fill=\"#c0c0c0\" stroke=\"#c0c0c0\" points=\"106.375,-50.3453 103.4602,-40.1593 99.3867,-49.9397 106.375,-50.3453\"/>\n",
       "</g>\n",
       "<!-- test_functionremove_html_markupat0x7fe3e1fed6a8_144&#45;&gt;tag_functionremove_html_markupat0x7fe3e1fed6a8_145 -->\n",
       "<!-- quote_functionremove_html_markupat0x7fe3e1fed6a8_138 -->\n",
       "<g id=\"node2\" class=\"node\">\n",
       "<title>quote_functionremove_html_markupat0x7fe3e1fed6a8_138</title>\n",
       "<g id=\"a_node2\"><a xlink:title=\"remove_html_markup:138\">\n",
       "<polygon fill=\"#ffdab9\" stroke=\"#000000\" points=\"87,-268 0,-268 0,-228 87,-228 87,-268\"/>\n",
       "<text text-anchor=\"start\" x=\"22\" y=\"-253.8\" font-family=\"Fira Mono, Courier, monospace\" font-weight=\"bold\" font-size=\"14.00\" fill=\"#000000\">quote</text>\n",
       "<text text-anchor=\"start\" x=\"8\" y=\"-234.8\" font-family=\"Fira Mono, Courier, monospace\" font-size=\"9.00\" fill=\"#000000\">quote = False</text>\n",
       "</a>\n",
       "</g>\n",
       "</g>\n",
       "<!-- quote_functionremove_html_markupat0x7fe3e1fed6a8_138&#45;&gt;test_functionremove_html_markupat0x7fe3e1fed6a8_144 -->\n",
       "<g id=\"edge1\" class=\"edge\">\n",
       "<title>quote_functionremove_html_markupat0x7fe3e1fed6a8_138&#45;&gt;test_functionremove_html_markupat0x7fe3e1fed6a8_144</title>\n",
       "<path fill=\"none\" stroke=\"#000000\" d=\"M44.5563,-227.9674C46.2686,-207.8864 50.7539,-176.5152 62.5,-152 67.3212,-141.9378 74.3732,-132.1828 81.5555,-123.7107\"/>\n",
       "<polygon fill=\"#000000\" stroke=\"#000000\" points=\"84.3747,-125.8078 88.413,-116.0127 79.1479,-121.1515 84.3747,-125.8078\"/>\n",
       "</g>\n",
       "<!-- c_functionremove_html_markupat0x7fe3e1fed6a8_141 -->\n",
       "<g id=\"node3\" class=\"node\">\n",
       "<title>c_functionremove_html_markupat0x7fe3e1fed6a8_141</title>\n",
       "<g id=\"a_node3\"><a xlink:title=\"remove_html_markup:141\">\n",
       "<polygon fill=\"#ffdab9\" stroke=\"#000000\" points=\"147.5,-192 71.5,-192 71.5,-152 147.5,-152 147.5,-192\"/>\n",
       "<text text-anchor=\"start\" x=\"105\" y=\"-177.8\" font-family=\"Fira Mono, Courier, monospace\" font-weight=\"bold\" font-size=\"14.00\" fill=\"#000000\">c</text>\n",
       "<text text-anchor=\"start\" x=\"79.5\" y=\"-158.8\" font-family=\"Fira Mono, Courier, monospace\" font-size=\"9.00\" fill=\"#000000\">for c in s:</text>\n",
       "</a>\n",
       "</g>\n",
       "</g>\n",
       "<!-- quote_functionremove_html_markupat0x7fe3e1fed6a8_138&#45;&gt;c_functionremove_html_markupat0x7fe3e1fed6a8_141 -->\n",
       "<!-- c_functionremove_html_markupat0x7fe3e1fed6a8_141&#45;&gt;test_functionremove_html_markupat0x7fe3e1fed6a8_144 -->\n",
       "<g id=\"edge2\" class=\"edge\">\n",
       "<title>c_functionremove_html_markupat0x7fe3e1fed6a8_141&#45;&gt;test_functionremove_html_markupat0x7fe3e1fed6a8_144</title>\n",
       "<path fill=\"none\" stroke=\"#000000\" d=\"M103.4426,-151.6334C102.7819,-143.8186 102.5939,-134.7253 102.8786,-126.183\"/>\n",
       "<polygon fill=\"#000000\" stroke=\"#000000\" points=\"106.375,-126.3453 103.4602,-116.1593 99.3867,-125.9397 106.375,-126.3453\"/>\n",
       "</g>\n",
       "<!-- c_functionremove_html_markupat0x7fe3e1fed6a8_141&#45;&gt;test_functionremove_html_markupat0x7fe3e1fed6a8_144 -->\n",
       "<!-- s_functionremove_html_markupat0x7fe3e1fed6a8_136 -->\n",
       "<g id=\"node4\" class=\"node\">\n",
       "<title>s_functionremove_html_markupat0x7fe3e1fed6a8_136</title>\n",
       "<g id=\"a_node4\"><a xlink:title=\"remove_html_markup:136\">\n",
       "<polygon fill=\"#ffdab9\" stroke=\"#000000\" points=\"158,-344 1,-344 1,-304 158,-304 158,-344\"/>\n",
       "<text text-anchor=\"start\" x=\"75\" y=\"-329.8\" font-family=\"Fira Mono, Courier, monospace\" font-weight=\"bold\" font-size=\"14.00\" fill=\"#000000\">s</text>\n",
       "<text text-anchor=\"start\" x=\"9\" y=\"-310.8\" font-family=\"Fira Mono, Courier, monospace\" font-size=\"9.00\" fill=\"#000000\">def remove_html_markup(s):</text>\n",
       "</a>\n",
       "</g>\n",
       "</g>\n",
       "<!-- s_functionremove_html_markupat0x7fe3e1fed6a8_136&#45;&gt;quote_functionremove_html_markupat0x7fe3e1fed6a8_138 -->\n",
       "<!-- s_functionremove_html_markupat0x7fe3e1fed6a8_136&#45;&gt;c_functionremove_html_markupat0x7fe3e1fed6a8_141 -->\n",
       "<g id=\"edge4\" class=\"edge\">\n",
       "<title>s_functionremove_html_markupat0x7fe3e1fed6a8_136&#45;&gt;c_functionremove_html_markupat0x7fe3e1fed6a8_141</title>\n",
       "<path fill=\"none\" stroke=\"#000000\" d=\"M85.933,-303.9461C89.1545,-293.3443 92.9097,-280.0607 95.5,-268 100.1633,-246.2868 103.7369,-221.4732 106.1062,-202.5133\"/>\n",
       "<polygon fill=\"#000000\" stroke=\"#000000\" points=\"109.6072,-202.7142 107.3294,-192.3671 102.6575,-201.8763 109.6072,-202.7142\"/>\n",
       "</g>\n",
       "</g>\n",
       "</svg>\n"
      ],
      "text/plain": [
       "Dependencies(\n",
       "    data={\n",
       "        ('tag', (remove_html_markup, 145)): set(),\n",
       "        ('<test>', (remove_html_markup, 144)): {('quote', (remove_html_markup, 138)), ('c', (remove_html_markup, 141))},\n",
       "        ('quote', (remove_html_markup, 138)): set(),\n",
       "        ('c', (remove_html_markup, 141)): {('s', (remove_html_markup, 136))},\n",
       "        ('s', (remove_html_markup, 136)): set()},\n",
       " control={\n",
       "        ('tag', (remove_html_markup, 145)): {('<test>', (remove_html_markup, 144))},\n",
       "        ('<test>', (remove_html_markup, 144)): set(),\n",
       "        ('quote', (remove_html_markup, 138)): set(),\n",
       "        ('c', (remove_html_markup, 141)): set(),\n",
       "        ('s', (remove_html_markup, 136)): set()})"
      ]
     },
     "execution_count": 205,
     "metadata": {},
     "output_type": "execute_result"
    }
   ],
   "source": [
    "slicing_criterion = ('tag', (remove_html_markup,\n",
    "                             start_remove_html_markup + 9))\n",
    "tag_deps = rhm_slicer.dependencies().backward_slice(slicing_criterion)\n",
    "tag_deps"
   ]
  },
  {
   "cell_type": "code",
   "execution_count": 206,
   "metadata": {
    "slideshow": {
     "slide_type": "subslide"
    }
   },
   "outputs": [],
   "source": [
    "# repr(tag_deps)"
   ]
  },
  {
   "cell_type": "markdown",
   "metadata": {
    "slideshow": {
     "slide_type": "subslide"
    }
   },
   "source": [
    "### Calls and Augmented Assign"
   ]
  },
  {
   "cell_type": "markdown",
   "metadata": {
    "slideshow": {
     "slide_type": "fragment"
    }
   },
   "source": [
    "Our last example covers augmented assigns and data flow across function calls. We introduce two simple functions `add_to()` and `mul_with()`:"
   ]
  },
  {
   "cell_type": "code",
   "execution_count": 207,
   "metadata": {
    "slideshow": {
     "slide_type": "fragment"
    }
   },
   "outputs": [],
   "source": [
    "def add_to(n, m):\n",
    "    n += m\n",
    "    return n"
   ]
  },
  {
   "cell_type": "code",
   "execution_count": 208,
   "metadata": {
    "slideshow": {
     "slide_type": "fragment"
    }
   },
   "outputs": [],
   "source": [
    "def mul_with(x, y):\n",
    "    x *= y\n",
    "    return x"
   ]
  },
  {
   "cell_type": "markdown",
   "metadata": {
    "slideshow": {
     "slide_type": "fragment"
    }
   },
   "source": [
    "And we put these two together in a single call:"
   ]
  },
  {
   "cell_type": "code",
   "execution_count": 209,
   "metadata": {
    "slideshow": {
     "slide_type": "fragment"
    }
   },
   "outputs": [],
   "source": [
    "def test_math():\n",
    "    return mul_with(1, add_to(2, 3))"
   ]
  },
  {
   "cell_type": "code",
   "execution_count": 210,
   "metadata": {
    "slideshow": {
     "slide_type": "fragment"
    }
   },
   "outputs": [],
   "source": [
    "with Slicer(add_to, mul_with, test_math) as math_slicer:\n",
    "    test_math()"
   ]
  },
  {
   "cell_type": "markdown",
   "metadata": {
    "slideshow": {
     "slide_type": "subslide"
    }
   },
   "source": [
    "The resulting dependence graph nicely captures the data flow between these calls, notably arguments and parameters:"
   ]
  },
  {
   "cell_type": "code",
   "execution_count": 211,
   "metadata": {
    "slideshow": {
     "slide_type": "fragment"
    }
   },
   "outputs": [
    {
     "data": {
      "image/svg+xml": [
       "<?xml version=\"1.0\" encoding=\"UTF-8\" standalone=\"no\"?>\n",
       "<!DOCTYPE svg PUBLIC \"-//W3C//DTD SVG 1.1//EN\"\n",
       " \"http://www.w3.org/Graphics/SVG/1.1/DTD/svg11.dtd\">\n",
       "<!-- Generated by graphviz version 2.40.1 (20161225.0304)\n",
       " -->\n",
       "<!-- Title: dependencies Pages: 1 -->\n",
       "<svg width=\"322pt\" height=\"504pt\"\n",
       " viewBox=\"0.00 0.00 322.00 504.00\" xmlns=\"http://www.w3.org/2000/svg\" xmlns:xlink=\"http://www.w3.org/1999/xlink\">\n",
       "<g id=\"graph0\" class=\"graph\" transform=\"scale(1 1) rotate(0) translate(4 500)\">\n",
       "<title>dependencies</title>\n",
       "<polygon fill=\"#ffffff\" stroke=\"transparent\" points=\"-4,4 -4,-500 318,-500 318,4 -4,4\"/>\n",
       "<!-- x_functionmul_withat0x7fe3e1fe20d0_1 -->\n",
       "<g id=\"node1\" class=\"node\">\n",
       "<title>x_functionmul_withat0x7fe3e1fe20d0_1</title>\n",
       "<g id=\"a_node1\"><a xlink:title=\"mul_with:1\">\n",
       "<polygon fill=\"#ffdab9\" stroke=\"#000000\" points=\"119,-268 0,-268 0,-228 119,-228 119,-268\"/>\n",
       "<text text-anchor=\"start\" x=\"55\" y=\"-253.8\" font-family=\"Fira Mono, Courier, monospace\" font-weight=\"bold\" font-size=\"14.00\" fill=\"#000000\">x</text>\n",
       "<text text-anchor=\"start\" x=\"8\" y=\"-234.8\" font-family=\"Fira Mono, Courier, monospace\" font-size=\"9.00\" fill=\"#000000\">def mul_with(x, y):</text>\n",
       "</a>\n",
       "</g>\n",
       "</g>\n",
       "<!-- x_functionmul_withat0x7fe3e1fe20d0_2 -->\n",
       "<g id=\"node8\" class=\"node\">\n",
       "<title>x_functionmul_withat0x7fe3e1fe20d0_2</title>\n",
       "<g id=\"a_node8\"><a xlink:title=\"mul_with:2\">\n",
       "<polygon fill=\"#ffdab9\" stroke=\"#000000\" points=\"223.5,-192 169.5,-192 169.5,-152 223.5,-152 223.5,-192\"/>\n",
       "<text text-anchor=\"start\" x=\"192\" y=\"-177.8\" font-family=\"Fira Mono, Courier, monospace\" font-weight=\"bold\" font-size=\"14.00\" fill=\"#000000\">x</text>\n",
       "<text text-anchor=\"start\" x=\"180\" y=\"-158.8\" font-family=\"Fira Mono, Courier, monospace\" font-size=\"9.00\" fill=\"#000000\">x *= y</text>\n",
       "</a>\n",
       "</g>\n",
       "</g>\n",
       "<!-- x_functionmul_withat0x7fe3e1fe20d0_1&#45;&gt;x_functionmul_withat0x7fe3e1fe20d0_2 -->\n",
       "<g id=\"edge4\" class=\"edge\">\n",
       "<title>x_functionmul_withat0x7fe3e1fe20d0_1&#45;&gt;x_functionmul_withat0x7fe3e1fe20d0_2</title>\n",
       "<path fill=\"none\" stroke=\"#000000\" d=\"M95.8538,-227.8329C115.7893,-216.7738 140.4227,-203.1086 160.3293,-192.0655\"/>\n",
       "<polygon fill=\"#000000\" stroke=\"#000000\" points=\"162.0624,-195.1066 169.1091,-187.1949 158.6667,-188.9854 162.0624,-195.1066\"/>\n",
       "</g>\n",
       "<!-- m_functionadd_toat0x7fe3e10ede18_1 -->\n",
       "<g id=\"node2\" class=\"node\">\n",
       "<title>m_functionadd_toat0x7fe3e10ede18_1</title>\n",
       "<g id=\"a_node2\"><a xlink:title=\"add_to:1\">\n",
       "<polygon fill=\"#ffdab9\" stroke=\"#000000\" points=\"124.5,-496 16.5,-496 16.5,-456 124.5,-456 124.5,-496\"/>\n",
       "<text text-anchor=\"start\" x=\"66\" y=\"-481.8\" font-family=\"Fira Mono, Courier, monospace\" font-weight=\"bold\" font-size=\"14.00\" fill=\"#000000\">m</text>\n",
       "<text text-anchor=\"start\" x=\"24.5\" y=\"-462.8\" font-family=\"Fira Mono, Courier, monospace\" font-size=\"9.00\" fill=\"#000000\">def add_to(n, m):</text>\n",
       "</a>\n",
       "</g>\n",
       "</g>\n",
       "<!-- n_functionadd_toat0x7fe3e10ede18_2 -->\n",
       "<g id=\"node4\" class=\"node\">\n",
       "<title>n_functionadd_toat0x7fe3e10ede18_2</title>\n",
       "<g id=\"a_node4\"><a xlink:title=\"add_to:2\">\n",
       "<polygon fill=\"#ffdab9\" stroke=\"#000000\" points=\"223.5,-420 169.5,-420 169.5,-380 223.5,-380 223.5,-420\"/>\n",
       "<text text-anchor=\"start\" x=\"192\" y=\"-405.8\" font-family=\"Fira Mono, Courier, monospace\" font-weight=\"bold\" font-size=\"14.00\" fill=\"#000000\">n</text>\n",
       "<text text-anchor=\"start\" x=\"180\" y=\"-386.8\" font-family=\"Fira Mono, Courier, monospace\" font-size=\"9.00\" fill=\"#000000\">n += m</text>\n",
       "</a>\n",
       "</g>\n",
       "</g>\n",
       "<!-- m_functionadd_toat0x7fe3e10ede18_1&#45;&gt;n_functionadd_toat0x7fe3e10ede18_2 -->\n",
       "<g id=\"edge5\" class=\"edge\">\n",
       "<title>m_functionadd_toat0x7fe3e10ede18_1&#45;&gt;n_functionadd_toat0x7fe3e10ede18_2</title>\n",
       "<path fill=\"none\" stroke=\"#000000\" d=\"M103.9349,-455.8329C121.3185,-445.3476 142.5862,-432.5195 160.3502,-421.8047\"/>\n",
       "<polygon fill=\"#000000\" stroke=\"#000000\" points=\"162.5259,-424.5798 169.2811,-416.4178 158.9104,-418.5857 162.5259,-424.5798\"/>\n",
       "</g>\n",
       "<!-- add_toreturnvalue_functionadd_toat0x7fe3e10ede18_3 -->\n",
       "<g id=\"node3\" class=\"node\">\n",
       "<title>add_toreturnvalue_functionadd_toat0x7fe3e10ede18_3</title>\n",
       "<g id=\"a_node3\"><a xlink:title=\"add_to:3\">\n",
       "<polygon fill=\"#ffdab9\" stroke=\"#000000\" points=\"301.5,-344 91.5,-344 91.5,-304 301.5,-304 301.5,-344\"/>\n",
       "<text text-anchor=\"start\" x=\"99.5\" y=\"-329.8\" font-family=\"Fira Mono, Courier, monospace\" font-weight=\"bold\" font-style=\"italic\" font-size=\"14.00\" fill=\"#000000\">&lt;add_to() return value&gt;</text>\n",
       "<text text-anchor=\"start\" x=\"174.5\" y=\"-310.8\" font-family=\"Fira Mono, Courier, monospace\" font-size=\"9.00\" fill=\"#000000\">return n</text>\n",
       "</a>\n",
       "</g>\n",
       "</g>\n",
       "<!-- y_functionmul_withat0x7fe3e1fe20d0_1 -->\n",
       "<g id=\"node9\" class=\"node\">\n",
       "<title>y_functionmul_withat0x7fe3e1fe20d0_1</title>\n",
       "<g id=\"a_node9\"><a xlink:title=\"mul_with:1\">\n",
       "<polygon fill=\"#ffdab9\" stroke=\"#000000\" points=\"256,-268 137,-268 137,-228 256,-228 256,-268\"/>\n",
       "<text text-anchor=\"start\" x=\"192\" y=\"-253.8\" font-family=\"Fira Mono, Courier, monospace\" font-weight=\"bold\" font-size=\"14.00\" fill=\"#000000\">y</text>\n",
       "<text text-anchor=\"start\" x=\"145\" y=\"-234.8\" font-family=\"Fira Mono, Courier, monospace\" font-size=\"9.00\" fill=\"#000000\">def mul_with(x, y):</text>\n",
       "</a>\n",
       "</g>\n",
       "</g>\n",
       "<!-- add_toreturnvalue_functionadd_toat0x7fe3e10ede18_3&#45;&gt;y_functionmul_withat0x7fe3e1fe20d0_1 -->\n",
       "<g id=\"edge7\" class=\"edge\">\n",
       "<title>add_toreturnvalue_functionadd_toat0x7fe3e10ede18_3&#45;&gt;y_functionmul_withat0x7fe3e1fe20d0_1</title>\n",
       "<path fill=\"none\" stroke=\"#000000\" d=\"M196.5,-303.6334C196.5,-295.8186 196.5,-286.7253 196.5,-278.183\"/>\n",
       "<polygon fill=\"#000000\" stroke=\"#000000\" points=\"200.0001,-278.1593 196.5,-268.1593 193.0001,-278.1593 200.0001,-278.1593\"/>\n",
       "</g>\n",
       "<!-- n_functionadd_toat0x7fe3e10ede18_2&#45;&gt;add_toreturnvalue_functionadd_toat0x7fe3e10ede18_3 -->\n",
       "<g id=\"edge1\" class=\"edge\">\n",
       "<title>n_functionadd_toat0x7fe3e10ede18_2&#45;&gt;add_toreturnvalue_functionadd_toat0x7fe3e10ede18_3</title>\n",
       "<path fill=\"none\" stroke=\"#000000\" d=\"M190.4426,-379.6334C189.7819,-371.8186 189.5939,-362.7253 189.8786,-354.183\"/>\n",
       "<polygon fill=\"#000000\" stroke=\"#000000\" points=\"193.375,-354.3453 190.4602,-344.1593 186.3867,-353.9397 193.375,-354.3453\"/>\n",
       "</g>\n",
       "<!-- n_functionadd_toat0x7fe3e10ede18_2&#45;&gt;add_toreturnvalue_functionadd_toat0x7fe3e10ede18_3 -->\n",
       "<!-- n_functionadd_toat0x7fe3e10ede18_1 -->\n",
       "<g id=\"node5\" class=\"node\">\n",
       "<title>n_functionadd_toat0x7fe3e10ede18_1</title>\n",
       "<g id=\"a_node5\"><a xlink:title=\"add_to:1\">\n",
       "<polygon fill=\"#ffdab9\" stroke=\"#000000\" points=\"250.5,-496 142.5,-496 142.5,-456 250.5,-456 250.5,-496\"/>\n",
       "<text text-anchor=\"start\" x=\"192\" y=\"-481.8\" font-family=\"Fira Mono, Courier, monospace\" font-weight=\"bold\" font-size=\"14.00\" fill=\"#000000\">n</text>\n",
       "<text text-anchor=\"start\" x=\"150.5\" y=\"-462.8\" font-family=\"Fira Mono, Courier, monospace\" font-size=\"9.00\" fill=\"#000000\">def add_to(n, m):</text>\n",
       "</a>\n",
       "</g>\n",
       "</g>\n",
       "<!-- n_functionadd_toat0x7fe3e10ede18_1&#45;&gt;n_functionadd_toat0x7fe3e10ede18_2 -->\n",
       "<g id=\"edge6\" class=\"edge\">\n",
       "<title>n_functionadd_toat0x7fe3e10ede18_1&#45;&gt;n_functionadd_toat0x7fe3e10ede18_2</title>\n",
       "<path fill=\"none\" stroke=\"#000000\" d=\"M190.4426,-455.6334C189.7819,-447.8186 189.5939,-438.7253 189.8786,-430.183\"/>\n",
       "<polygon fill=\"#000000\" stroke=\"#000000\" points=\"193.375,-430.3453 190.4602,-420.1593 186.3867,-429.9397 193.375,-430.3453\"/>\n",
       "</g>\n",
       "<!-- n_functionadd_toat0x7fe3e10ede18_1&#45;&gt;n_functionadd_toat0x7fe3e10ede18_2 -->\n",
       "<!-- test_mathreturnvalue_functiontest_mathat0x7fe3e1e0c1e0_2 -->\n",
       "<g id=\"node6\" class=\"node\">\n",
       "<title>test_mathreturnvalue_functiontest_mathat0x7fe3e1e0c1e0_2</title>\n",
       "<g id=\"a_node6\"><a xlink:title=\"test_math:2\">\n",
       "<polygon fill=\"#ffdab9\" stroke=\"#000000\" points=\"314,-40 79,-40 79,0 314,0 314,-40\"/>\n",
       "<text text-anchor=\"start\" x=\"87\" y=\"-25.8\" font-family=\"Fira Mono, Courier, monospace\" font-weight=\"bold\" font-style=\"italic\" font-size=\"14.00\" fill=\"#000000\">&lt;test_math() return value&gt;</text>\n",
       "<text text-anchor=\"start\" x=\"110\" y=\"-6.8\" font-family=\"Fira Mono, Courier, monospace\" font-size=\"9.00\" fill=\"#000000\">return mul_with(1, add_to(2, 3))</text>\n",
       "</a>\n",
       "</g>\n",
       "</g>\n",
       "<!-- mul_withreturnvalue_functionmul_withat0x7fe3e1fe20d0_3 -->\n",
       "<g id=\"node7\" class=\"node\">\n",
       "<title>mul_withreturnvalue_functionmul_withat0x7fe3e1fe20d0_3</title>\n",
       "<g id=\"a_node7\"><a xlink:title=\"mul_with:3\">\n",
       "<polygon fill=\"#ffdab9\" stroke=\"#000000\" points=\"310,-116 83,-116 83,-76 310,-76 310,-116\"/>\n",
       "<text text-anchor=\"start\" x=\"91\" y=\"-101.8\" font-family=\"Fira Mono, Courier, monospace\" font-weight=\"bold\" font-style=\"italic\" font-size=\"14.00\" fill=\"#000000\">&lt;mul_with() return value&gt;</text>\n",
       "<text text-anchor=\"start\" x=\"174.5\" y=\"-82.8\" font-family=\"Fira Mono, Courier, monospace\" font-size=\"9.00\" fill=\"#000000\">return x</text>\n",
       "</a>\n",
       "</g>\n",
       "</g>\n",
       "<!-- mul_withreturnvalue_functionmul_withat0x7fe3e1fe20d0_3&#45;&gt;test_mathreturnvalue_functiontest_mathat0x7fe3e1e0c1e0_2 -->\n",
       "<g id=\"edge2\" class=\"edge\">\n",
       "<title>mul_withreturnvalue_functionmul_withat0x7fe3e1fe20d0_3&#45;&gt;test_mathreturnvalue_functiontest_mathat0x7fe3e1e0c1e0_2</title>\n",
       "<path fill=\"none\" stroke=\"#000000\" d=\"M196.5,-75.6334C196.5,-67.8186 196.5,-58.7253 196.5,-50.183\"/>\n",
       "<polygon fill=\"#000000\" stroke=\"#000000\" points=\"200.0001,-50.1593 196.5,-40.1593 193.0001,-50.1593 200.0001,-50.1593\"/>\n",
       "</g>\n",
       "<!-- x_functionmul_withat0x7fe3e1fe20d0_2&#45;&gt;mul_withreturnvalue_functionmul_withat0x7fe3e1fe20d0_3 -->\n",
       "<g id=\"edge8\" class=\"edge\">\n",
       "<title>x_functionmul_withat0x7fe3e1fe20d0_2&#45;&gt;mul_withreturnvalue_functionmul_withat0x7fe3e1fe20d0_3</title>\n",
       "<path fill=\"none\" stroke=\"#000000\" d=\"M190.4426,-151.6334C189.7819,-143.8186 189.5939,-134.7253 189.8786,-126.183\"/>\n",
       "<polygon fill=\"#000000\" stroke=\"#000000\" points=\"193.375,-126.3453 190.4602,-116.1593 186.3867,-125.9397 193.375,-126.3453\"/>\n",
       "</g>\n",
       "<!-- x_functionmul_withat0x7fe3e1fe20d0_2&#45;&gt;mul_withreturnvalue_functionmul_withat0x7fe3e1fe20d0_3 -->\n",
       "<!-- y_functionmul_withat0x7fe3e1fe20d0_1&#45;&gt;x_functionmul_withat0x7fe3e1fe20d0_2 -->\n",
       "<g id=\"edge3\" class=\"edge\">\n",
       "<title>y_functionmul_withat0x7fe3e1fe20d0_1&#45;&gt;x_functionmul_withat0x7fe3e1fe20d0_2</title>\n",
       "<path fill=\"none\" stroke=\"#000000\" d=\"M190.4426,-227.6334C189.7819,-219.8186 189.5939,-210.7253 189.8786,-202.183\"/>\n",
       "<polygon fill=\"#000000\" stroke=\"#000000\" points=\"193.375,-202.3453 190.4602,-192.1593 186.3867,-201.9397 193.375,-202.3453\"/>\n",
       "</g>\n",
       "<!-- y_functionmul_withat0x7fe3e1fe20d0_1&#45;&gt;x_functionmul_withat0x7fe3e1fe20d0_2 -->\n",
       "</g>\n",
       "</svg>\n"
      ],
      "text/plain": [
       "<__main__.Slicer at 0x7fe3e27f0d30>"
      ]
     },
     "execution_count": 211,
     "metadata": {},
     "output_type": "execute_result"
    }
   ],
   "source": [
    "math_slicer"
   ]
  },
  {
   "cell_type": "markdown",
   "metadata": {
    "slideshow": {
     "slide_type": "fragment"
    }
   },
   "source": [
    "These are also reflected in the code view:"
   ]
  },
  {
   "cell_type": "code",
   "execution_count": 212,
   "metadata": {
    "slideshow": {
     "slide_type": "subslide"
    }
   },
   "outputs": [
    {
     "name": "stdout",
     "output_type": "stream",
     "text": [
      "*    1 \u001b[34mdef\u001b[39;49;00m \u001b[32madd_to\u001b[39;49;00m(n, m):\n",
      "*    2     n += m  \u001b[37m# <= m (1), n (1)\u001b[39;49;00m\n",
      "*    3     \u001b[34mreturn\u001b[39;49;00m n  \u001b[37m# <= n (2)\u001b[39;49;00m\n",
      "\n",
      "*    1 \u001b[34mdef\u001b[39;49;00m \u001b[32mmul_with\u001b[39;49;00m(x, y):  \u001b[37m# <= <add_to() return value> (add_to:3)\u001b[39;49;00m\n",
      "*    2     x *= y  \u001b[37m# <= y (1), x (1)\u001b[39;49;00m\n",
      "*    3     \u001b[34mreturn\u001b[39;49;00m x  \u001b[37m# <= x (2)\u001b[39;49;00m\n",
      "\n",
      "     1 \u001b[34mdef\u001b[39;49;00m \u001b[32mtest_math\u001b[39;49;00m():\n",
      "*    2     \u001b[34mreturn\u001b[39;49;00m mul_with(\u001b[34m1\u001b[39;49;00m, add_to(\u001b[34m2\u001b[39;49;00m, \u001b[34m3\u001b[39;49;00m))  \u001b[37m# <= <mul_with() return value> (mul_with:3)\u001b[39;49;00m\n"
     ]
    }
   ],
   "source": [
    "math_slicer.code()"
   ]
  },
  {
   "cell_type": "markdown",
   "metadata": {
    "slideshow": {
     "slide_type": "slide"
    }
   },
   "source": [
    "## Things that do not Work"
   ]
  },
  {
   "cell_type": "markdown",
   "metadata": {
    "slideshow": {
     "slide_type": "subslide"
    }
   },
   "source": [
    "Our slicer (and especially the underlying dependency tracker) is still a proof of concept. A number of Python features are not or only partially supported, and/or hardly tested:\n",
    "\n",
    "* __Exceptions__ are not handled. The code assumes that for every `call()`, there is a matching `ret()`; when exceptions break this, dependencies across function calls and arguments may be assigned incorrectly.\n",
    "* __Multiple definitions on a single line__  as in `x = y; x = 1` are not handled correctly. Our implementation assumes that there is one statement per line.\n",
    "* __If-Expressions__ (`y = 1 if x else 0`) do not create control dependencies, as there are no statements to control. Neither do `if` clauses in comprehensions.\n",
    "* __Asynchronous functions__ (`async`, `await`) are not tested.\n",
    "\n",
    "In these cases, the instrumentation and the underlying dependency tracker may fail to identify control and/or data flows. The semantics of the code, however, should always stay unchanged."
   ]
  },
  {
   "cell_type": "markdown",
   "metadata": {
    "slideshow": {
     "slide_type": "slide"
    }
   },
   "source": [
    "## Synopsis"
   ]
  },
  {
   "cell_type": "markdown",
   "metadata": {
    "slideshow": {
     "slide_type": "fragment"
    }
   },
   "source": [
    "This chapter provides a `Slicer` class to automatically determine and visualize dynamic dependencies. When we say that a variable $x$ depends on a variable $y$ (written $x \\leftarrow y$), we distinguish two kinds of dependencies:\n",
    "\n",
    "* **data dependencies**: $x$ obtains its value from a computation involving the value of $y$.\n",
    "* **control dependencies**: $x$ obtains its value because of a computation involving the value of $y$.\n",
    "\n",
    "Such dependencies are crucial for debugging, as they allow to determine the origins of individual values (and notably incorrect values)."
   ]
  },
  {
   "cell_type": "markdown",
   "metadata": {
    "slideshow": {
     "slide_type": "subslide"
    }
   },
   "source": [
    "To determine dynamic dependencies in a function `func` and its callees `func1`, `func2`, etc., use\n",
    "\n",
    "```python\n",
    "with Slicer(func, func1, func2) as slicer:\n",
    "    <Some code involving func()>\n",
    "```\n",
    "\n",
    "and then `slicer.graph()` or `slicer.code()` to examine dependencies."
   ]
  },
  {
   "cell_type": "markdown",
   "metadata": {
    "slideshow": {
     "slide_type": "fragment"
    }
   },
   "source": [
    "Here is an example. The `demo()` function computes some number from `x`:"
   ]
  },
  {
   "cell_type": "code",
   "execution_count": 213,
   "metadata": {
    "slideshow": {
     "slide_type": "subslide"
    }
   },
   "outputs": [],
   "source": [
    "def demo(x):\n",
    "    z = x\n",
    "    while x <= z <= 64:\n",
    "        z *= 2\n",
    "    return z"
   ]
  },
  {
   "cell_type": "markdown",
   "metadata": {
    "slideshow": {
     "slide_type": "fragment"
    }
   },
   "source": [
    "By using `with Slicer(demo)`, we first instrument `demo()` and then execute it:"
   ]
  },
  {
   "cell_type": "code",
   "execution_count": 214,
   "metadata": {
    "slideshow": {
     "slide_type": "fragment"
    }
   },
   "outputs": [],
   "source": [
    "with Slicer(demo) as slicer:\n",
    "    demo(10)"
   ]
  },
  {
   "cell_type": "markdown",
   "metadata": {
    "slideshow": {
     "slide_type": "fragment"
    }
   },
   "source": [
    "After execution is complete, you can output `slicer` to visualize the dependencies as graph. Data dependencies are shown as black solid edges; control dependencies are shown as grey dashed edges. We see how the parameter `x` flows into `z`, which is returned after some computation that is control dependent on a `<test>` involving `z`."
   ]
  },
  {
   "cell_type": "code",
   "execution_count": 215,
   "metadata": {
    "slideshow": {
     "slide_type": "subslide"
    }
   },
   "outputs": [
    {
     "data": {
      "image/svg+xml": [
       "<?xml version=\"1.0\" encoding=\"UTF-8\" standalone=\"no\"?>\n",
       "<!DOCTYPE svg PUBLIC \"-//W3C//DTD SVG 1.1//EN\"\n",
       " \"http://www.w3.org/Graphics/SVG/1.1/DTD/svg11.dtd\">\n",
       "<!-- Generated by graphviz version 2.40.1 (20161225.0304)\n",
       " -->\n",
       "<!-- Title: dependencies Pages: 1 -->\n",
       "<svg width=\"338pt\" height=\"276pt\"\n",
       " viewBox=\"0.00 0.00 338.00 276.00\" xmlns=\"http://www.w3.org/2000/svg\" xmlns:xlink=\"http://www.w3.org/1999/xlink\">\n",
       "<g id=\"graph0\" class=\"graph\" transform=\"scale(1 1) rotate(0) translate(4 272)\">\n",
       "<title>dependencies</title>\n",
       "<polygon fill=\"#ffffff\" stroke=\"transparent\" points=\"-4,4 -4,-272 334,-272 334,4 -4,4\"/>\n",
       "<!-- z_functiondemoat0x7fe3e1fe2048_4 -->\n",
       "<g id=\"node1\" class=\"node\">\n",
       "<title>z_functiondemoat0x7fe3e1fe2048_4</title>\n",
       "<g id=\"a_node1\"><a xlink:title=\"demo:4\">\n",
       "<polygon fill=\"#ffdab9\" stroke=\"#000000\" points=\"150.5,-116 96.5,-116 96.5,-76 150.5,-76 150.5,-116\"/>\n",
       "<text text-anchor=\"start\" x=\"119\" y=\"-101.8\" font-family=\"Fira Mono, Courier, monospace\" font-weight=\"bold\" font-size=\"14.00\" fill=\"#000000\">z</text>\n",
       "<text text-anchor=\"start\" x=\"107\" y=\"-82.8\" font-family=\"Fira Mono, Courier, monospace\" font-size=\"9.00\" fill=\"#000000\">z *= 2</text>\n",
       "</a>\n",
       "</g>\n",
       "</g>\n",
       "<!-- z_functiondemoat0x7fe3e1fe2048_4&#45;&gt;z_functiondemoat0x7fe3e1fe2048_4 -->\n",
       "<g id=\"edge1\" class=\"edge\">\n",
       "<title>z_functiondemoat0x7fe3e1fe2048_4&#45;&gt;z_functiondemoat0x7fe3e1fe2048_4</title>\n",
       "<path fill=\"none\" stroke=\"#000000\" d=\"M150.7408,-110.2361C160.5239,-110.5422 168.5,-105.7969 168.5,-96 168.5,-89.877 165.3843,-85.7272 160.6591,-83.5506\"/>\n",
       "<polygon fill=\"#000000\" stroke=\"#000000\" points=\"161.2029,-80.0923 150.7408,-81.7639 159.9618,-86.9814 161.2029,-80.0923\"/>\n",
       "</g>\n",
       "<!-- test_functiondemoat0x7fe3e1fe2048_3 -->\n",
       "<g id=\"node3\" class=\"node\">\n",
       "<title>test_functiondemoat0x7fe3e1fe2048_3</title>\n",
       "<g id=\"a_node3\"><a xlink:title=\"demo:3\">\n",
       "<polygon fill=\"#ffdab9\" stroke=\"#000000\" points=\"119,-40 0,-40 0,0 119,0 119,-40\"/>\n",
       "<text text-anchor=\"start\" x=\"34\" y=\"-25.8\" font-family=\"Fira Mono, Courier, monospace\" font-weight=\"bold\" font-style=\"italic\" font-size=\"14.00\" fill=\"#000000\">&lt;test&gt;</text>\n",
       "<text text-anchor=\"start\" x=\"8\" y=\"-6.8\" font-family=\"Fira Mono, Courier, monospace\" font-size=\"9.00\" fill=\"#000000\">while x &lt;= z &lt;= 64:</text>\n",
       "</a>\n",
       "</g>\n",
       "</g>\n",
       "<!-- z_functiondemoat0x7fe3e1fe2048_4&#45;&gt;test_functiondemoat0x7fe3e1fe2048_3 -->\n",
       "<g id=\"edge6\" class=\"edge\">\n",
       "<title>z_functiondemoat0x7fe3e1fe2048_4&#45;&gt;test_functiondemoat0x7fe3e1fe2048_3</title>\n",
       "<path fill=\"none\" stroke=\"#000000\" d=\"M96.2509,-77.6025C87.1553,-68.8363 77.7088,-58.1535 70.2908,-48.3797\"/>\n",
       "<polygon fill=\"#000000\" stroke=\"#000000\" points=\"73.024,-46.185 64.3539,-40.0955 67.3342,-50.2626 73.024,-46.185\"/>\n",
       "</g>\n",
       "<!-- demoreturnvalue_functiondemoat0x7fe3e1fe2048_5 -->\n",
       "<g id=\"node5\" class=\"node\">\n",
       "<title>demoreturnvalue_functiondemoat0x7fe3e1fe2048_5</title>\n",
       "<g id=\"a_node5\"><a xlink:title=\"demo:5\">\n",
       "<polygon fill=\"#ffdab9\" stroke=\"#000000\" points=\"330,-40 137,-40 137,0 330,0 330,-40\"/>\n",
       "<text text-anchor=\"start\" x=\"145\" y=\"-25.8\" font-family=\"Fira Mono, Courier, monospace\" font-weight=\"bold\" font-style=\"italic\" font-size=\"14.00\" fill=\"#000000\">&lt;demo() return value&gt;</text>\n",
       "<text text-anchor=\"start\" x=\"211.5\" y=\"-6.8\" font-family=\"Fira Mono, Courier, monospace\" font-size=\"9.00\" fill=\"#000000\">return z</text>\n",
       "</a>\n",
       "</g>\n",
       "</g>\n",
       "<!-- z_functiondemoat0x7fe3e1fe2048_4&#45;&gt;demoreturnvalue_functiondemoat0x7fe3e1fe2048_5 -->\n",
       "<g id=\"edge8\" class=\"edge\">\n",
       "<title>z_functiondemoat0x7fe3e1fe2048_4&#45;&gt;demoreturnvalue_functiondemoat0x7fe3e1fe2048_5</title>\n",
       "<path fill=\"none\" stroke=\"#000000\" d=\"M146.6487,-75.8329C159.1617,-66.6428 174.9368,-55.6529 189.6315,-45.8637\"/>\n",
       "<polygon fill=\"#000000\" stroke=\"#000000\" points=\"191.705,-48.6888 198.1259,-40.2613 187.851,-42.8453 191.705,-48.6888\"/>\n",
       "</g>\n",
       "<!-- z_functiondemoat0x7fe3e1fe2048_4&#45;&gt;demoreturnvalue_functiondemoat0x7fe3e1fe2048_5 -->\n",
       "<!-- z_functiondemoat0x7fe3e1fe2048_2 -->\n",
       "<g id=\"node2\" class=\"node\">\n",
       "<title>z_functiondemoat0x7fe3e1fe2048_2</title>\n",
       "<g id=\"a_node2\"><a xlink:title=\"demo:2\">\n",
       "<polygon fill=\"#ffdab9\" stroke=\"#000000\" points=\"90.5,-192 36.5,-192 36.5,-152 90.5,-152 90.5,-192\"/>\n",
       "<text text-anchor=\"start\" x=\"59\" y=\"-177.8\" font-family=\"Fira Mono, Courier, monospace\" font-weight=\"bold\" font-size=\"14.00\" fill=\"#000000\">z</text>\n",
       "<text text-anchor=\"start\" x=\"49.5\" y=\"-158.8\" font-family=\"Fira Mono, Courier, monospace\" font-size=\"9.00\" fill=\"#000000\">z = x</text>\n",
       "</a>\n",
       "</g>\n",
       "</g>\n",
       "<!-- z_functiondemoat0x7fe3e1fe2048_2&#45;&gt;z_functiondemoat0x7fe3e1fe2048_4 -->\n",
       "<g id=\"edge2\" class=\"edge\">\n",
       "<title>z_functiondemoat0x7fe3e1fe2048_2&#45;&gt;z_functiondemoat0x7fe3e1fe2048_4</title>\n",
       "<path fill=\"none\" stroke=\"#000000\" d=\"M79.5789,-151.6334C86.2231,-143.2175 94.0378,-133.3188 101.2193,-124.2223\"/>\n",
       "<polygon fill=\"#000000\" stroke=\"#000000\" points=\"104.1354,-126.1769 107.5848,-116.1593 98.6412,-121.8394 104.1354,-126.1769\"/>\n",
       "</g>\n",
       "<!-- z_functiondemoat0x7fe3e1fe2048_2&#45;&gt;test_functiondemoat0x7fe3e1fe2048_3 -->\n",
       "<g id=\"edge7\" class=\"edge\">\n",
       "<title>z_functiondemoat0x7fe3e1fe2048_2&#45;&gt;test_functiondemoat0x7fe3e1fe2048_3</title>\n",
       "<path fill=\"none\" stroke=\"#000000\" d=\"M58.2088,-151.8156C55.1666,-125.9232 53.7181,-80.7677 54.7653,-50.6288\"/>\n",
       "<polygon fill=\"#000000\" stroke=\"#000000\" points=\"58.2792,-50.4251 55.2658,-40.2679 51.2873,-50.0874 58.2792,-50.4251\"/>\n",
       "</g>\n",
       "<!-- z_functiondemoat0x7fe3e1fe2048_2&#45;&gt;test_functiondemoat0x7fe3e1fe2048_3 -->\n",
       "<!-- test_functiondemoat0x7fe3e1fe2048_3&#45;&gt;z_functiondemoat0x7fe3e1fe2048_4 -->\n",
       "<g id=\"edge3\" class=\"edge\">\n",
       "<title>test_functiondemoat0x7fe3e1fe2048_3&#45;&gt;z_functiondemoat0x7fe3e1fe2048_4</title>\n",
       "<path fill=\"none\" stroke=\"#c0c0c0\" stroke-dasharray=\"5,2\" d=\"M76.4762,-40.1593C83.6148,-48.6363 92.0437,-58.6456 99.7794,-67.8318\"/>\n",
       "<polygon fill=\"#c0c0c0\" stroke=\"#c0c0c0\" points=\"97.2306,-70.2387 106.3492,-75.6334 102.585,-65.7298 97.2306,-70.2387\"/>\n",
       "</g>\n",
       "<!-- test_functiondemoat0x7fe3e1fe2048_3&#45;&gt;z_functiondemoat0x7fe3e1fe2048_4 -->\n",
       "<!-- x_functiondemoat0x7fe3e1fe2048_1 -->\n",
       "<g id=\"node4\" class=\"node\">\n",
       "<title>x_functiondemoat0x7fe3e1fe2048_1</title>\n",
       "<g id=\"a_node4\"><a xlink:title=\"demo:1\">\n",
       "<polygon fill=\"#ffdab9\" stroke=\"#000000\" points=\"104,-268 23,-268 23,-228 104,-228 104,-268\"/>\n",
       "<text text-anchor=\"start\" x=\"59\" y=\"-253.8\" font-family=\"Fira Mono, Courier, monospace\" font-weight=\"bold\" font-size=\"14.00\" fill=\"#000000\">x</text>\n",
       "<text text-anchor=\"start\" x=\"31\" y=\"-234.8\" font-family=\"Fira Mono, Courier, monospace\" font-size=\"9.00\" fill=\"#000000\">def demo(x):</text>\n",
       "</a>\n",
       "</g>\n",
       "</g>\n",
       "<!-- x_functiondemoat0x7fe3e1fe2048_1&#45;&gt;z_functiondemoat0x7fe3e1fe2048_2 -->\n",
       "<g id=\"edge4\" class=\"edge\">\n",
       "<title>x_functiondemoat0x7fe3e1fe2048_1&#45;&gt;z_functiondemoat0x7fe3e1fe2048_2</title>\n",
       "<path fill=\"none\" stroke=\"#000000\" d=\"M57.4426,-227.6334C56.7819,-219.8186 56.5939,-210.7253 56.8786,-202.183\"/>\n",
       "<polygon fill=\"#000000\" stroke=\"#000000\" points=\"60.375,-202.3453 57.4602,-192.1593 53.3867,-201.9397 60.375,-202.3453\"/>\n",
       "</g>\n",
       "<!-- x_functiondemoat0x7fe3e1fe2048_1&#45;&gt;z_functiondemoat0x7fe3e1fe2048_2 -->\n",
       "<!-- x_functiondemoat0x7fe3e1fe2048_1&#45;&gt;test_functiondemoat0x7fe3e1fe2048_3 -->\n",
       "<g id=\"edge5\" class=\"edge\">\n",
       "<title>x_functiondemoat0x7fe3e1fe2048_1&#45;&gt;test_functiondemoat0x7fe3e1fe2048_3</title>\n",
       "<path fill=\"none\" stroke=\"#000000\" d=\"M46.5557,-227.8749C39.1578,-217.7868 31.3107,-204.9747 27.5,-192 13.127,-143.0627 31.3788,-84.3194 45.639,-49.6911\"/>\n",
       "<polygon fill=\"#000000\" stroke=\"#000000\" points=\"48.9951,-50.7446 49.7101,-40.1739 42.5592,-47.9915 48.9951,-50.7446\"/>\n",
       "</g>\n",
       "</g>\n",
       "</svg>\n"
      ],
      "text/plain": [
       "<__main__.Slicer at 0x7fe3e279bda0>"
      ]
     },
     "execution_count": 215,
     "metadata": {},
     "output_type": "execute_result"
    }
   ],
   "source": [
    "slicer"
   ]
  },
  {
   "cell_type": "markdown",
   "metadata": {
    "slideshow": {
     "slide_type": "fragment"
    }
   },
   "source": [
    "An alternate representation is `slicer.code()`, annotating the instrumented source code with (backward) dependencies. Data dependencies are shown with `<=`, control dependencies with `<-`; locations (lines) are shown in parentheses."
   ]
  },
  {
   "cell_type": "code",
   "execution_count": 216,
   "metadata": {
    "slideshow": {
     "slide_type": "fragment"
    }
   },
   "outputs": [
    {
     "name": "stdout",
     "output_type": "stream",
     "text": [
      "*    1 \u001b[34mdef\u001b[39;49;00m \u001b[32mdemo\u001b[39;49;00m(x):\n",
      "*    2     z = x  \u001b[37m# <= x (1)\u001b[39;49;00m\n",
      "*    3     \u001b[34mwhile\u001b[39;49;00m x <= z <= \u001b[34m64\u001b[39;49;00m:  \u001b[37m# <= x (1), z (4), z (2)\u001b[39;49;00m\n",
      "*    4         z *= \u001b[34m2\u001b[39;49;00m  \u001b[37m# <= z (4), z (2); <- <test> (3)\u001b[39;49;00m\n",
      "*    5     \u001b[34mreturn\u001b[39;49;00m z  \u001b[37m# <= z (4)\u001b[39;49;00m\n"
     ]
    }
   ],
   "source": [
    "slicer.code()"
   ]
  },
  {
   "cell_type": "markdown",
   "metadata": {
    "slideshow": {
     "slide_type": "subslide"
    }
   },
   "source": [
    "Dependencies can also be retrieved programmatically. The `dependencies()` method returns a `Dependencies` object encapsulating the dependency graph."
   ]
  },
  {
   "cell_type": "markdown",
   "metadata": {
    "slideshow": {
     "slide_type": "fragment"
    }
   },
   "source": [
    "The method `all_vars()` returns all variables in the dependency graph. Each variable is encoded as a pair (_name_, _location_) where _location_ is a pair (_codename_, _lineno_)."
   ]
  },
  {
   "cell_type": "code",
   "execution_count": 217,
   "metadata": {
    "slideshow": {
     "slide_type": "fragment"
    }
   },
   "outputs": [
    {
     "data": {
      "text/plain": [
       "{('<demo() return value>', (<function __main__.demo(x)>, 5)),\n",
       " ('<test>', (<function __main__.demo(x)>, 3)),\n",
       " ('x', (<function __main__.demo(x)>, 1)),\n",
       " ('z', (<function __main__.demo(x)>, 2)),\n",
       " ('z', (<function __main__.demo(x)>, 4))}"
      ]
     },
     "execution_count": 217,
     "metadata": {},
     "output_type": "execute_result"
    }
   ],
   "source": [
    "slicer.dependencies().all_vars()"
   ]
  },
  {
   "cell_type": "markdown",
   "metadata": {
    "slideshow": {
     "slide_type": "fragment"
    }
   },
   "source": [
    "`code()` and `graph()` methods can also be applied on dependencies. The method `backward_slice(var)` returns a backward slice for the given variable. To retrieve where `z` in Line 2 came from, use:"
   ]
  },
  {
   "cell_type": "code",
   "execution_count": 218,
   "metadata": {
    "slideshow": {
     "slide_type": "subslide"
    }
   },
   "outputs": [
    {
     "data": {
      "text/plain": [
       "1"
      ]
     },
     "execution_count": 218,
     "metadata": {},
     "output_type": "execute_result"
    }
   ],
   "source": [
    "_, start_demo = inspect.getsourcelines(demo)\n",
    "start_demo"
   ]
  },
  {
   "cell_type": "code",
   "execution_count": 219,
   "metadata": {
    "slideshow": {
     "slide_type": "fragment"
    }
   },
   "outputs": [
    {
     "data": {
      "image/svg+xml": [
       "<?xml version=\"1.0\" encoding=\"UTF-8\" standalone=\"no\"?>\n",
       "<!DOCTYPE svg PUBLIC \"-//W3C//DTD SVG 1.1//EN\"\n",
       " \"http://www.w3.org/Graphics/SVG/1.1/DTD/svg11.dtd\">\n",
       "<!-- Generated by graphviz version 2.40.1 (20161225.0304)\n",
       " -->\n",
       "<!-- Title: dependencies Pages: 1 -->\n",
       "<svg width=\"89pt\" height=\"124pt\"\n",
       " viewBox=\"0.00 0.00 89.00 124.00\" xmlns=\"http://www.w3.org/2000/svg\" xmlns:xlink=\"http://www.w3.org/1999/xlink\">\n",
       "<g id=\"graph0\" class=\"graph\" transform=\"scale(1 1) rotate(0) translate(4 120)\">\n",
       "<title>dependencies</title>\n",
       "<polygon fill=\"#ffffff\" stroke=\"transparent\" points=\"-4,4 -4,-120 85,-120 85,4 -4,4\"/>\n",
       "<!-- x_functiondemoat0x7fe3e1fe2048_1 -->\n",
       "<g id=\"node1\" class=\"node\">\n",
       "<title>x_functiondemoat0x7fe3e1fe2048_1</title>\n",
       "<g id=\"a_node1\"><a xlink:title=\"demo:1\">\n",
       "<polygon fill=\"#ffdab9\" stroke=\"#000000\" points=\"81,-116 0,-116 0,-76 81,-76 81,-116\"/>\n",
       "<text text-anchor=\"start\" x=\"36\" y=\"-101.8\" font-family=\"Fira Mono, Courier, monospace\" font-weight=\"bold\" font-size=\"14.00\" fill=\"#000000\">x</text>\n",
       "<text text-anchor=\"start\" x=\"8\" y=\"-82.8\" font-family=\"Fira Mono, Courier, monospace\" font-size=\"9.00\" fill=\"#000000\">def demo(x):</text>\n",
       "</a>\n",
       "</g>\n",
       "</g>\n",
       "<!-- z_functiondemoat0x7fe3e1fe2048_2 -->\n",
       "<g id=\"node2\" class=\"node\">\n",
       "<title>z_functiondemoat0x7fe3e1fe2048_2</title>\n",
       "<g id=\"a_node2\"><a xlink:title=\"demo:2\">\n",
       "<polygon fill=\"#ffdab9\" stroke=\"#000000\" points=\"67.5,-40 13.5,-40 13.5,0 67.5,0 67.5,-40\"/>\n",
       "<text text-anchor=\"start\" x=\"36\" y=\"-25.8\" font-family=\"Fira Mono, Courier, monospace\" font-weight=\"bold\" font-size=\"14.00\" fill=\"#000000\">z</text>\n",
       "<text text-anchor=\"start\" x=\"26.5\" y=\"-6.8\" font-family=\"Fira Mono, Courier, monospace\" font-size=\"9.00\" fill=\"#000000\">z = x</text>\n",
       "</a>\n",
       "</g>\n",
       "</g>\n",
       "<!-- x_functiondemoat0x7fe3e1fe2048_1&#45;&gt;z_functiondemoat0x7fe3e1fe2048_2 -->\n",
       "<g id=\"edge1\" class=\"edge\">\n",
       "<title>x_functiondemoat0x7fe3e1fe2048_1&#45;&gt;z_functiondemoat0x7fe3e1fe2048_2</title>\n",
       "<path fill=\"none\" stroke=\"#000000\" d=\"M34.4426,-75.6334C33.7819,-67.8186 33.5939,-58.7253 33.8786,-50.183\"/>\n",
       "<polygon fill=\"#000000\" stroke=\"#000000\" points=\"37.375,-50.3453 34.4602,-40.1593 30.3867,-49.9397 37.375,-50.3453\"/>\n",
       "</g>\n",
       "<!-- x_functiondemoat0x7fe3e1fe2048_1&#45;&gt;z_functiondemoat0x7fe3e1fe2048_2 -->\n",
       "</g>\n",
       "</svg>\n"
      ],
      "text/plain": [
       "<graphviz.dot.Digraph at 0x7fe3e27f00b8>"
      ]
     },
     "execution_count": 219,
     "metadata": {},
     "output_type": "execute_result"
    }
   ],
   "source": [
    "slicer.dependencies().backward_slice(('z', (demo, start_demo + 1))).graph()"
   ]
  },
  {
   "cell_type": "markdown",
   "metadata": {
    "slideshow": {
     "slide_type": "fragment"
    }
   },
   "source": [
    "Here are the classes defined in this chapter. A `Slicer` instruments a program, using a `DependencyTracker` at run time to collect `Dependencies`."
   ]
  },
  {
   "cell_type": "code",
   "execution_count": 220,
   "metadata": {
    "slideshow": {
     "slide_type": "fragment"
    }
   },
   "outputs": [],
   "source": [
    "# ignore\n",
    "from ClassDiagram import display_class_hierarchy"
   ]
  },
  {
   "cell_type": "code",
   "execution_count": 221,
   "metadata": {
    "slideshow": {
     "slide_type": "fragment"
    }
   },
   "outputs": [
    {
     "data": {
      "image/svg+xml": [
       "<?xml version=\"1.0\" encoding=\"UTF-8\" standalone=\"no\"?>\n",
       "<!DOCTYPE svg PUBLIC \"-//W3C//DTD SVG 1.1//EN\"\n",
       " \"http://www.w3.org/Graphics/SVG/1.1/DTD/svg11.dtd\">\n",
       "<!-- Generated by graphviz version 2.40.1 (20161225.0304)\n",
       " -->\n",
       "<!-- Title: %3 Pages: 1 -->\n",
       "<svg width=\"476pt\" height=\"660pt\"\n",
       " viewBox=\"0.00 0.00 476.00 660.00\" xmlns=\"http://www.w3.org/2000/svg\" xmlns:xlink=\"http://www.w3.org/1999/xlink\">\n",
       "<g id=\"graph0\" class=\"graph\" transform=\"scale(1 1) rotate(0) translate(4 656)\">\n",
       "<title>%3</title>\n",
       "<g id=\"a_graph0\"><a xlink:title=\"Slicer class hierarchy\">\n",
       "<polygon fill=\"#ffffff\" stroke=\"transparent\" points=\"-4,4 -4,-656 472,-656 472,4 -4,4\"/>\n",
       "</a>\n",
       "</g>\n",
       "<!-- Slicer -->\n",
       "<g id=\"node1\" class=\"node\">\n",
       "<title>Slicer</title>\n",
       "<g id=\"a_node1\"><a xlink:href=\"#\" xlink:title=\"class Slicer\">\n",
       "<polygon fill=\"none\" stroke=\"#000000\" points=\"9,-72 9,-224 110,-224 110,-72 9,-72\"/>\n",
       "<text text-anchor=\"start\" x=\"40\" y=\"-209.8\" font-family=\"Raleway, Helvetica, Arial, sans-serif\" font-weight=\"bold\" font-size=\"14.00\" fill=\"#6a0dad\">Slicer</text>\n",
       "<polyline fill=\"none\" stroke=\"#000000\" points=\"9,-201 110,-201 \"/>\n",
       "<g id=\"a_node1_0\"><a xlink:href=\"#\" xlink:title=\"Slicer\">\n",
       "<g id=\"a_node1_1\"><a xlink:href=\"#\" xlink:title=\"__init__(self, *items_to_instrument, dependency_tracker=None, globals=None, log=False):&#10; &#160;&#160;&#160;Create a slicer.&#10; &#160;&#160;&#160;`items_to_instrument` are Python functions&#10; &#160;&#160;&#160;or modules with source code.&#10; &#160;&#160;&#160;`dependency_tracker` is the tracker to be used&#10; &#160;&#160;&#160;(default: DependencyTracker).&#10; &#160;&#160;&#160;`globals` is the namespace to be used&#10; &#160;&#160;&#160;(default: caller&#39;s `globals()`)&#10; &#160;&#160;&#160;`log`=True or `log` &gt; 0 turns on logging\">\n",
       "<text text-anchor=\"start\" x=\"17.5\" y=\"-189.5\" font-family=\"'Fira Mono', 'Source Code Pro', 'Courier', monospace\" font-weight=\"bold\" font-size=\"10.00\" fill=\"#000000\">__init__()</text>\n",
       "</a>\n",
       "</g>\n",
       "<g id=\"a_node1_2\"><a xlink:href=\"#\" xlink:title=\"code(self, *args, **kwargs):&#10; &#160;&#160;&#160;Show code of instrumented items, annotated with dependencies.\">\n",
       "<text text-anchor=\"start\" x=\"17.5\" y=\"-178.5\" font-family=\"'Fira Mono', 'Source Code Pro', 'Courier', monospace\" font-weight=\"bold\" font-size=\"10.00\" fill=\"#000000\">code()</text>\n",
       "</a>\n",
       "</g>\n",
       "<g id=\"a_node1_3\"><a xlink:href=\"#\" xlink:title=\"dependencies(self):&#10; &#160;&#160;&#160;Return collected dependencies.\">\n",
       "<text text-anchor=\"start\" x=\"17.5\" y=\"-167.5\" font-family=\"'Fira Mono', 'Source Code Pro', 'Courier', monospace\" font-weight=\"bold\" font-size=\"10.00\" fill=\"#000000\">dependencies()</text>\n",
       "</a>\n",
       "</g>\n",
       "<g id=\"a_node1_4\"><a xlink:href=\"#\" xlink:title=\"execute(self, tree, item):&#10; &#160;&#160;&#160;Compile and execute `tree`. May be extended in subclasses.\">\n",
       "<text text-anchor=\"start\" x=\"17.5\" y=\"-156.5\" font-family=\"'Fira Mono', 'Source Code Pro', 'Courier', monospace\" font-weight=\"bold\" font-size=\"10.00\" fill=\"#000000\">execute()</text>\n",
       "</a>\n",
       "</g>\n",
       "<g id=\"a_node1_5\"><a xlink:href=\"#\" xlink:title=\"graph(self, *args, **kwargs):&#10; &#160;&#160;&#160;Show dependency graph.\">\n",
       "<text text-anchor=\"start\" x=\"17.5\" y=\"-145.5\" font-family=\"'Fira Mono', 'Source Code Pro', 'Courier', monospace\" font-weight=\"bold\" font-size=\"10.00\" fill=\"#000000\">graph()</text>\n",
       "</a>\n",
       "</g>\n",
       "<g id=\"a_node1_6\"><a xlink:href=\"#\" xlink:title=\"instrument(self, item):&#10; &#160;&#160;&#160;Instrument `item`, transforming its source code,&#10; &#160;&#160;&#160;and re&#45;defining it.\">\n",
       "<text text-anchor=\"start\" x=\"17.5\" y=\"-134.5\" font-family=\"'Fira Mono', 'Source Code Pro', 'Courier', monospace\" font-weight=\"bold\" font-size=\"10.00\" fill=\"#000000\">instrument()</text>\n",
       "</a>\n",
       "</g>\n",
       "<g id=\"a_node1_7\"><a xlink:href=\"#\" xlink:title=\"parse(self, item):&#10; &#160;&#160;&#160;Parse `item`, returning its AST\">\n",
       "<text text-anchor=\"start\" x=\"17.5\" y=\"-123.5\" font-family=\"'Fira Mono', 'Source Code Pro', 'Courier', monospace\" font-weight=\"bold\" font-size=\"10.00\" fill=\"#000000\">parse()</text>\n",
       "</a>\n",
       "</g>\n",
       "<g id=\"a_node1_8\"><a xlink:href=\"#\" xlink:title=\"restore(self):&#10; &#160;&#160;&#160;Restore original code.\">\n",
       "<text text-anchor=\"start\" x=\"17.5\" y=\"-112.5\" font-family=\"'Fira Mono', 'Source Code Pro', 'Courier', monospace\" font-weight=\"bold\" font-size=\"10.00\" fill=\"#000000\">restore()</text>\n",
       "</a>\n",
       "</g>\n",
       "<g id=\"a_node1_9\"><a xlink:href=\"#\" xlink:title=\"transform(self, tree):&#10; &#160;&#160;&#160;Apply transformers on `tree`. May be extended in subclasses.\">\n",
       "<text text-anchor=\"start\" x=\"17.5\" y=\"-101.5\" font-family=\"'Fira Mono', 'Source Code Pro', 'Courier', monospace\" font-weight=\"bold\" font-size=\"10.00\" fill=\"#000000\">transform()</text>\n",
       "</a>\n",
       "</g>\n",
       "<g id=\"a_node1_10\"><a xlink:href=\"#\" xlink:title=\"transformers(self):&#10; &#160;&#160;&#160;List of transformers to apply. To be extended in subclasses.\">\n",
       "<text text-anchor=\"start\" x=\"17.5\" y=\"-90.5\" font-family=\"'Fira Mono', 'Source Code Pro', 'Courier', monospace\" font-weight=\"bold\" font-size=\"10.00\" fill=\"#000000\">transformers()</text>\n",
       "</a>\n",
       "</g>\n",
       "<g id=\"a_node1_11\"><a xlink:href=\"#\" xlink:title=\"_repr_svg_(self)\">\n",
       "<text text-anchor=\"start\" x=\"17.5\" y=\"-78.5\" font-family=\"'Fira Mono', 'Source Code Pro', 'Courier', monospace\" font-size=\"10.00\" fill=\"#000000\">_repr_svg_()</text>\n",
       "</a>\n",
       "</g>\n",
       "</a>\n",
       "</g>\n",
       "</a>\n",
       "</g>\n",
       "</g>\n",
       "<!-- Instrumenter -->\n",
       "<g id=\"node2\" class=\"node\">\n",
       "<title>Instrumenter</title>\n",
       "<g id=\"a_node2\"><a xlink:href=\"#\" xlink:title=\"class Instrumenter\">\n",
       "<polygon fill=\"none\" stroke=\"#000000\" points=\"7.5,-371 7.5,-457 111.5,-457 111.5,-371 7.5,-371\"/>\n",
       "<text text-anchor=\"start\" x=\"15.5\" y=\"-442.8\" font-family=\"Raleway, Helvetica, Arial, sans-serif\" font-weight=\"bold\" font-size=\"14.00\" fill=\"#6a0dad\">Instrumenter</text>\n",
       "<polyline fill=\"none\" stroke=\"#000000\" points=\"7.5,-434 111.5,-434 \"/>\n",
       "<g id=\"a_node2_12\"><a xlink:href=\"#\" xlink:title=\"Instrumenter\">\n",
       "<g id=\"a_node2_13\"><a xlink:href=\"#\" xlink:title=\"__enter__(self):&#10; &#160;&#160;&#160;Instrument sources\">\n",
       "<text text-anchor=\"start\" x=\"23.5\" y=\"-422.5\" font-family=\"'Fira Mono', 'Source Code Pro', 'Courier', monospace\" font-weight=\"bold\" font-size=\"10.00\" fill=\"#000000\">__enter__()</text>\n",
       "</a>\n",
       "</g>\n",
       "<g id=\"a_node2_14\"><a xlink:href=\"#\" xlink:title=\"__exit__(self, exc_type, exc_value, traceback):&#10; &#160;&#160;&#160;Restore sources\">\n",
       "<text text-anchor=\"start\" x=\"23.5\" y=\"-411.5\" font-family=\"'Fira Mono', 'Source Code Pro', 'Courier', monospace\" font-weight=\"bold\" font-size=\"10.00\" fill=\"#000000\">__exit__()</text>\n",
       "</a>\n",
       "</g>\n",
       "<g id=\"a_node2_15\"><a xlink:href=\"#\" xlink:title=\"__init__(self, *items_to_instrument, globals=None, log=False):&#10; &#160;&#160;&#160;Create an instrumenter.&#10; &#160;&#160;&#160;`items_to_instrument` is a list of items to instrument.&#10; &#160;&#160;&#160;`globals` is a namespace to use (default: caller&#39;s globals())&#10; &#160;&#160;&#160;\">\n",
       "<text text-anchor=\"start\" x=\"23.5\" y=\"-400.5\" font-family=\"'Fira Mono', 'Source Code Pro', 'Courier', monospace\" font-weight=\"bold\" font-size=\"10.00\" fill=\"#000000\">__init__()</text>\n",
       "</a>\n",
       "</g>\n",
       "<g id=\"a_node2_16\"><a xlink:href=\"#\" xlink:title=\"instrument(self, item):&#10; &#160;&#160;&#160;Instrument `item`. To be overloaded in subclasses.\">\n",
       "<text text-anchor=\"start\" x=\"23.5\" y=\"-389.5\" font-family=\"'Fira Mono', 'Source Code Pro', 'Courier', monospace\" font-weight=\"bold\" font-size=\"10.00\" fill=\"#000000\">instrument()</text>\n",
       "</a>\n",
       "</g>\n",
       "<g id=\"a_node2_17\"><a xlink:href=\"#\" xlink:title=\"restore(self)\">\n",
       "<text text-anchor=\"start\" x=\"23.5\" y=\"-377.5\" font-family=\"'Fira Mono', 'Source Code Pro', 'Courier', monospace\" font-size=\"10.00\" fill=\"#000000\">restore()</text>\n",
       "</a>\n",
       "</g>\n",
       "</a>\n",
       "</g>\n",
       "</a>\n",
       "</g>\n",
       "</g>\n",
       "<!-- Slicer&#45;&gt;Instrumenter -->\n",
       "<g id=\"edge1\" class=\"edge\">\n",
       "<title>Slicer&#45;&gt;Instrumenter</title>\n",
       "<path fill=\"none\" stroke=\"#000000\" d=\"M59.5,-224.2249C59.5,-267.9123 59.5,-321.6611 59.5,-360.7913\"/>\n",
       "<polygon fill=\"none\" stroke=\"#000000\" points=\"56.0001,-360.9136 59.5,-370.9137 63.0001,-360.9137 56.0001,-360.9136\"/>\n",
       "</g>\n",
       "<!-- StackInspector -->\n",
       "<g id=\"node3\" class=\"node\">\n",
       "<title>StackInspector</title>\n",
       "<g id=\"a_node3\"><a xlink:href=\"#\" xlink:title=\"class StackInspector\">\n",
       "<polygon fill=\"none\" stroke=\"#000000\" points=\"0,-532.5 0,-651.5 119,-651.5 119,-532.5 0,-532.5\"/>\n",
       "<text text-anchor=\"start\" x=\"8.5\" y=\"-637.3\" font-family=\"Raleway, Helvetica, Arial, sans-serif\" font-weight=\"bold\" font-size=\"14.00\" fill=\"#6a0dad\">StackInspector</text>\n",
       "<polyline fill=\"none\" stroke=\"#000000\" points=\"0,-628.5 119,-628.5 \"/>\n",
       "<g id=\"a_node3_18\"><a xlink:href=\"#\" xlink:title=\"StackInspector\">\n",
       "<g id=\"a_node3_19\"><a xlink:href=\"#\" xlink:title=\"caller_frame(self):&#10; &#160;&#160;&#160;Return the frame of the caller.\">\n",
       "<text text-anchor=\"start\" x=\"8.5\" y=\"-617.5\" font-family=\"'Fira Mono', 'Source Code Pro', 'Courier', monospace\" font-weight=\"bold\" font-size=\"10.00\" fill=\"#000000\">caller_frame()</text>\n",
       "</a>\n",
       "</g>\n",
       "<g id=\"a_node3_20\"><a xlink:href=\"#\" xlink:title=\"caller_function(self):&#10; &#160;&#160;&#160;Return the calling function\">\n",
       "<text text-anchor=\"start\" x=\"8.5\" y=\"-606.5\" font-family=\"'Fira Mono', 'Source Code Pro', 'Courier', monospace\" font-weight=\"bold\" font-size=\"10.00\" fill=\"#000000\">caller_function()</text>\n",
       "</a>\n",
       "</g>\n",
       "<g id=\"a_node3_21\"><a xlink:href=\"#\" xlink:title=\"caller_globals(self):&#10; &#160;&#160;&#160;Return the globals() environment of the caller.\">\n",
       "<text text-anchor=\"start\" x=\"8.5\" y=\"-595.5\" font-family=\"'Fira Mono', 'Source Code Pro', 'Courier', monospace\" font-weight=\"bold\" font-size=\"10.00\" fill=\"#000000\">caller_globals()</text>\n",
       "</a>\n",
       "</g>\n",
       "<g id=\"a_node3_22\"><a xlink:href=\"#\" xlink:title=\"caller_locals(self):&#10; &#160;&#160;&#160;Return the locals() environment of the caller.\">\n",
       "<text text-anchor=\"start\" x=\"8.5\" y=\"-584.5\" font-family=\"'Fira Mono', 'Source Code Pro', 'Courier', monospace\" font-weight=\"bold\" font-size=\"10.00\" fill=\"#000000\">caller_locals()</text>\n",
       "</a>\n",
       "</g>\n",
       "<g id=\"a_node3_23\"><a xlink:href=\"#\" xlink:title=\"caller_location(self):&#10; &#160;&#160;&#160;Return the location (func, lineno) of the caller.\">\n",
       "<text text-anchor=\"start\" x=\"8.5\" y=\"-573.5\" font-family=\"'Fira Mono', 'Source Code Pro', 'Courier', monospace\" font-weight=\"bold\" font-size=\"10.00\" fill=\"#000000\">caller_location()</text>\n",
       "</a>\n",
       "</g>\n",
       "<g id=\"a_node3_24\"><a xlink:href=\"#\" xlink:title=\"search_frame(self, name):&#10; &#160;&#160;&#160;Return a pair (`frame`, `item`)&#10; &#160;&#160;&#160;in which the function `name` is defined as `item`.\">\n",
       "<text text-anchor=\"start\" x=\"8.5\" y=\"-562.5\" font-family=\"'Fira Mono', 'Source Code Pro', 'Courier', monospace\" font-weight=\"bold\" font-size=\"10.00\" fill=\"#000000\">search_frame()</text>\n",
       "</a>\n",
       "</g>\n",
       "<g id=\"a_node3_25\"><a xlink:href=\"#\" xlink:title=\"search_func(self, name):&#10; &#160;&#160;&#160;Search in callers for a definition of the function `name`\">\n",
       "<text text-anchor=\"start\" x=\"8.5\" y=\"-551.5\" font-family=\"'Fira Mono', 'Source Code Pro', 'Courier', monospace\" font-weight=\"bold\" font-size=\"10.00\" fill=\"#000000\">search_func()</text>\n",
       "</a>\n",
       "</g>\n",
       "<g id=\"a_node3_26\"><a xlink:href=\"#\" xlink:title=\"unknown()\">\n",
       "<text text-anchor=\"start\" x=\"8.5\" y=\"-539.5\" font-family=\"'Fira Mono', 'Source Code Pro', 'Courier', monospace\" font-size=\"10.00\" fill=\"#000000\">unknown()</text>\n",
       "</a>\n",
       "</g>\n",
       "</a>\n",
       "</g>\n",
       "</a>\n",
       "</g>\n",
       "</g>\n",
       "<!-- Instrumenter&#45;&gt;StackInspector -->\n",
       "<g id=\"edge2\" class=\"edge\">\n",
       "<title>Instrumenter&#45;&gt;StackInspector</title>\n",
       "<path fill=\"none\" stroke=\"#000000\" d=\"M59.5,-457.0888C59.5,-476.6299 59.5,-500.2372 59.5,-522.2053\"/>\n",
       "<polygon fill=\"none\" stroke=\"#000000\" points=\"56.0001,-522.4965 59.5,-532.4966 63.0001,-522.4966 56.0001,-522.4965\"/>\n",
       "</g>\n",
       "<!-- DependencyTracker -->\n",
       "<g id=\"node4\" class=\"node\">\n",
       "<title>DependencyTracker</title>\n",
       "<g id=\"a_node4\"><a xlink:href=\"#\" xlink:title=\"class DependencyTracker\">\n",
       "<polygon fill=\"none\" stroke=\"#000000\" points=\"128,-33.5 128,-262.5 319,-262.5 319,-33.5 128,-33.5\"/>\n",
       "<text text-anchor=\"start\" x=\"154.5\" y=\"-248.3\" font-family=\"Raleway, Helvetica, Arial, sans-serif\" font-weight=\"bold\" font-size=\"14.00\" fill=\"#6a0dad\">DependencyTracker</text>\n",
       "<polyline fill=\"none\" stroke=\"#000000\" points=\"128,-239.5 319,-239.5 \"/>\n",
       "<g id=\"a_node4_27\"><a xlink:href=\"#\" xlink:title=\"DependencyTracker\">\n",
       "<g id=\"a_node4_28\"><a xlink:href=\"#\" xlink:title=\"__enter__(self):&#10; &#160;&#160;&#160;Track entering an if/while/for block\">\n",
       "<text text-anchor=\"start\" x=\"136.5\" y=\"-228.5\" font-family=\"'Fira Mono', 'Source Code Pro', 'Courier', monospace\" font-weight=\"bold\" font-size=\"10.00\" fill=\"#000000\">__enter__()</text>\n",
       "</a>\n",
       "</g>\n",
       "<g id=\"a_node4_29\"><a xlink:href=\"#\" xlink:title=\"__exit__(self, exc_type, exc_value, traceback):&#10; &#160;&#160;&#160;Track exiting an if/while/for block\">\n",
       "<text text-anchor=\"start\" x=\"136.5\" y=\"-217.5\" font-family=\"'Fira Mono', 'Source Code Pro', 'Courier', monospace\" font-weight=\"bold\" font-size=\"10.00\" fill=\"#000000\">__exit__()</text>\n",
       "</a>\n",
       "</g>\n",
       "<g id=\"a_node4_30\"><a xlink:href=\"#\" xlink:title=\"arg(self, value, pos=None, kw=None):&#10; &#160;&#160;&#160;Track passing an argument `value`&#10; &#160;&#160;&#160;(with given position `pos` 1..n or keyword `kw`)\">\n",
       "<text text-anchor=\"start\" x=\"136.5\" y=\"-206.5\" font-family=\"'Fira Mono', 'Source Code Pro', 'Courier', monospace\" font-weight=\"bold\" font-size=\"10.00\" fill=\"#000000\">arg()</text>\n",
       "</a>\n",
       "</g>\n",
       "<g id=\"a_node4_31\"><a xlink:href=\"#\" xlink:title=\"call(self, func):&#10; &#160;&#160;&#160;Track a call of function `func`\">\n",
       "<text text-anchor=\"start\" x=\"136.5\" y=\"-195.5\" font-family=\"'Fira Mono', 'Source Code Pro', 'Courier', monospace\" font-weight=\"bold\" font-size=\"10.00\" fill=\"#000000\">call()</text>\n",
       "</a>\n",
       "</g>\n",
       "<g id=\"a_node4_32\"><a xlink:href=\"#\" xlink:title=\"call_generator(self, func):&#10; &#160;&#160;&#160;Track a call of a generator function\">\n",
       "<text text-anchor=\"start\" x=\"136.5\" y=\"-184.5\" font-family=\"'Fira Mono', 'Source Code Pro', 'Courier', monospace\" font-weight=\"bold\" font-size=\"10.00\" fill=\"#000000\">call_generator()</text>\n",
       "</a>\n",
       "</g>\n",
       "<g id=\"a_node4_33\"><a xlink:href=\"#\" xlink:title=\"check_location(self):&#10; &#160;&#160;&#160;If we are in a new location, clear set of read variables\">\n",
       "<text text-anchor=\"start\" x=\"136.5\" y=\"-173.5\" font-family=\"'Fira Mono', 'Source Code Pro', 'Courier', monospace\" font-weight=\"bold\" font-size=\"10.00\" fill=\"#000000\">check_location()</text>\n",
       "</a>\n",
       "</g>\n",
       "<g id=\"a_node4_34\"><a xlink:href=\"#\" xlink:title=\"clear_read(self):&#10; &#160;&#160;&#160;Clear set of read variables\">\n",
       "<text text-anchor=\"start\" x=\"136.5\" y=\"-162.5\" font-family=\"'Fira Mono', 'Source Code Pro', 'Courier', monospace\" font-weight=\"bold\" font-size=\"10.00\" fill=\"#000000\">clear_read()</text>\n",
       "</a>\n",
       "</g>\n",
       "<g id=\"a_node4_35\"><a xlink:href=\"#\" xlink:title=\"dependencies(self):&#10; &#160;&#160;&#160;Return dependencies\">\n",
       "<text text-anchor=\"start\" x=\"136.5\" y=\"-151.5\" font-family=\"'Fira Mono', 'Source Code Pro', 'Courier', monospace\" font-weight=\"bold\" font-size=\"10.00\" fill=\"#000000\">dependencies()</text>\n",
       "</a>\n",
       "</g>\n",
       "<g id=\"a_node4_36\"><a xlink:href=\"#\" xlink:title=\"get(self, name, value):&#10; &#160;&#160;&#160;Track a read access for variable `name` with value `value`\">\n",
       "<text text-anchor=\"start\" x=\"136.5\" y=\"-140.5\" font-family=\"'Fira Mono', 'Source Code Pro', 'Courier', monospace\" font-weight=\"bold\" font-size=\"10.00\" fill=\"#000000\">get()</text>\n",
       "</a>\n",
       "</g>\n",
       "<g id=\"a_node4_37\"><a xlink:href=\"#\" xlink:title=\"in_generator(self):&#10; &#160;&#160;&#160;True if we are calling a generator function\">\n",
       "<text text-anchor=\"start\" x=\"136.5\" y=\"-129.5\" font-family=\"'Fira Mono', 'Source Code Pro', 'Courier', monospace\" font-weight=\"bold\" font-size=\"10.00\" fill=\"#000000\">in_generator()</text>\n",
       "</a>\n",
       "</g>\n",
       "<g id=\"a_node4_38\"><a xlink:href=\"#\" xlink:title=\"param(self, name, value, pos=None, vararg=&#39;&#39;, last=False):&#10; &#160;&#160;&#160;Track getting a parameter `name` with value `value`&#10; &#160;&#160;&#160;(with given position `pos`).&#10; &#160;&#160;&#160;vararg parameters are indicated by setting `varargs` to&#10; &#160;&#160;&#160;&#39;*&#39; (*args) or &#39;**&#39; (**kwargs)\">\n",
       "<text text-anchor=\"start\" x=\"136.5\" y=\"-118.5\" font-family=\"'Fira Mono', 'Source Code Pro', 'Courier', monospace\" font-weight=\"bold\" font-size=\"10.00\" fill=\"#000000\">param()</text>\n",
       "</a>\n",
       "</g>\n",
       "<g id=\"a_node4_39\"><a xlink:href=\"#\" xlink:title=\"ret(self, value):&#10; &#160;&#160;&#160;Track a function return\">\n",
       "<text text-anchor=\"start\" x=\"136.5\" y=\"-107.5\" font-family=\"'Fira Mono', 'Source Code Pro', 'Courier', monospace\" font-weight=\"bold\" font-size=\"10.00\" fill=\"#000000\">ret()</text>\n",
       "</a>\n",
       "</g>\n",
       "<g id=\"a_node4_40\"><a xlink:href=\"#\" xlink:title=\"ret_generator(self, generator):&#10; &#160;&#160;&#160;Track the return of a generator function\">\n",
       "<text text-anchor=\"start\" x=\"136.5\" y=\"-96.5\" font-family=\"'Fira Mono', 'Source Code Pro', 'Courier', monospace\" font-weight=\"bold\" font-size=\"10.00\" fill=\"#000000\">ret_generator()</text>\n",
       "</a>\n",
       "</g>\n",
       "<g id=\"a_node4_41\"><a xlink:href=\"#\" xlink:title=\"set(self, name, value, loads=None):&#10; &#160;&#160;&#160;Add a dependency for `name` = `value`\">\n",
       "<text text-anchor=\"start\" x=\"136.5\" y=\"-85.5\" font-family=\"'Fira Mono', 'Source Code Pro', 'Courier', monospace\" font-weight=\"bold\" font-size=\"10.00\" fill=\"#000000\">set()</text>\n",
       "</a>\n",
       "</g>\n",
       "<g id=\"a_node4_42\"><a xlink:href=\"#\" xlink:title=\"test(self, value):&#10; &#160;&#160;&#160;Track a test for condition `value`\">\n",
       "<text text-anchor=\"start\" x=\"136.5\" y=\"-74.5\" font-family=\"'Fira Mono', 'Source Code Pro', 'Courier', monospace\" font-weight=\"bold\" font-size=\"10.00\" fill=\"#000000\">test()</text>\n",
       "</a>\n",
       "</g>\n",
       "<g id=\"a_node4_43\"><a xlink:href=\"#\" xlink:title=\"__init__(self, *args, **kwargs)\">\n",
       "<text text-anchor=\"start\" x=\"136.5\" y=\"-62.5\" font-family=\"'Fira Mono', 'Source Code Pro', 'Courier', monospace\" font-size=\"10.00\" fill=\"#000000\">__init__()</text>\n",
       "</a>\n",
       "</g>\n",
       "<g id=\"a_node4_44\"><a xlink:href=\"#\" xlink:title=\"ignore_location_change(self)\">\n",
       "<text text-anchor=\"start\" x=\"136.5\" y=\"-51.5\" font-family=\"'Fira Mono', 'Source Code Pro', 'Courier', monospace\" font-size=\"10.00\" fill=\"#000000\">ignore_location_change()</text>\n",
       "</a>\n",
       "</g>\n",
       "<g id=\"a_node4_45\"><a xlink:href=\"#\" xlink:title=\"ignore_next_location_change(self)\">\n",
       "<text text-anchor=\"start\" x=\"136.5\" y=\"-40.5\" font-family=\"'Fira Mono', 'Source Code Pro', 'Courier', monospace\" font-size=\"10.00\" fill=\"#000000\">ignore_next_location_change()</text>\n",
       "</a>\n",
       "</g>\n",
       "</a>\n",
       "</g>\n",
       "</a>\n",
       "</g>\n",
       "</g>\n",
       "<!-- DataTracker -->\n",
       "<g id=\"node5\" class=\"node\">\n",
       "<title>DataTracker</title>\n",
       "<g id=\"a_node5\"><a xlink:href=\"#\" xlink:title=\"class DataTracker\">\n",
       "<polygon fill=\"none\" stroke=\"#000000\" points=\"173.5,-332.5 173.5,-495.5 273.5,-495.5 273.5,-332.5 173.5,-332.5\"/>\n",
       "<text text-anchor=\"start\" x=\"181.5\" y=\"-481.3\" font-family=\"Raleway, Helvetica, Arial, sans-serif\" font-weight=\"bold\" font-size=\"14.00\" fill=\"#6a0dad\">DataTracker</text>\n",
       "<polyline fill=\"none\" stroke=\"#000000\" points=\"173.5,-472.5 273.5,-472.5 \"/>\n",
       "<g id=\"a_node5_46\"><a xlink:href=\"#\" xlink:title=\"DataTracker\">\n",
       "<g id=\"a_node5_47\"><a xlink:href=\"#\" xlink:title=\"__init__(self, log=False):&#10; &#160;&#160;&#160;Initialize. If `log` is set, turn on logging.\">\n",
       "<text text-anchor=\"start\" x=\"190.5\" y=\"-461.5\" font-family=\"'Fira Mono', 'Source Code Pro', 'Courier', monospace\" font-weight=\"bold\" font-size=\"10.00\" fill=\"#000000\">__init__()</text>\n",
       "</a>\n",
       "</g>\n",
       "<g id=\"a_node5_48\"><a xlink:href=\"#\" xlink:title=\"augment(self, name, value):&#10; &#160;&#160;&#160;Track augmenting `name` with `value`.\">\n",
       "<text text-anchor=\"start\" x=\"190.5\" y=\"-450.5\" font-family=\"'Fira Mono', 'Source Code Pro', 'Courier', monospace\" font-weight=\"bold\" font-size=\"10.00\" fill=\"#000000\">augment()</text>\n",
       "</a>\n",
       "</g>\n",
       "<g id=\"a_node5_49\"><a xlink:href=\"#\" xlink:title=\"get(self, name, value):&#10; &#160;&#160;&#160;Track getting `value` from `name`.\">\n",
       "<text text-anchor=\"start\" x=\"190.5\" y=\"-439.5\" font-family=\"'Fira Mono', 'Source Code Pro', 'Courier', monospace\" font-weight=\"bold\" font-size=\"10.00\" fill=\"#000000\">get()</text>\n",
       "</a>\n",
       "</g>\n",
       "<g id=\"a_node5_50\"><a xlink:href=\"#\" xlink:title=\"set(self, name, value, loads=None):&#10; &#160;&#160;&#160;Track setting `name` to `value`.\">\n",
       "<text text-anchor=\"start\" x=\"190.5\" y=\"-428.5\" font-family=\"'Fira Mono', 'Source Code Pro', 'Courier', monospace\" font-weight=\"bold\" font-size=\"10.00\" fill=\"#000000\">set()</text>\n",
       "</a>\n",
       "</g>\n",
       "<g id=\"a_node5_51\"><a xlink:href=\"#\" xlink:title=\"__enter__(self)\">\n",
       "<text text-anchor=\"start\" x=\"190.5\" y=\"-416.5\" font-family=\"'Fira Mono', 'Source Code Pro', 'Courier', monospace\" font-size=\"10.00\" fill=\"#000000\">__enter__()</text>\n",
       "</a>\n",
       "</g>\n",
       "<g id=\"a_node5_52\"><a xlink:href=\"#\" xlink:title=\"__exit__(self, exc_type, exc_value, traceback)\">\n",
       "<text text-anchor=\"start\" x=\"190.5\" y=\"-405.5\" font-family=\"'Fira Mono', 'Source Code Pro', 'Courier', monospace\" font-size=\"10.00\" fill=\"#000000\">__exit__()</text>\n",
       "</a>\n",
       "</g>\n",
       "<g id=\"a_node5_53\"><a xlink:href=\"#\" xlink:title=\"__repr__(self)\">\n",
       "<text text-anchor=\"start\" x=\"190.5\" y=\"-394.5\" font-family=\"'Fira Mono', 'Source Code Pro', 'Courier', monospace\" font-size=\"10.00\" fill=\"#000000\">__repr__()</text>\n",
       "</a>\n",
       "</g>\n",
       "<g id=\"a_node5_54\"><a xlink:href=\"#\" xlink:title=\"arg(self, value, pos=None, kw=None)\">\n",
       "<text text-anchor=\"start\" x=\"190.5\" y=\"-383.5\" font-family=\"'Fira Mono', 'Source Code Pro', 'Courier', monospace\" font-size=\"10.00\" fill=\"#000000\">arg()</text>\n",
       "</a>\n",
       "</g>\n",
       "<g id=\"a_node5_55\"><a xlink:href=\"#\" xlink:title=\"call(self, func)\">\n",
       "<text text-anchor=\"start\" x=\"190.5\" y=\"-372.5\" font-family=\"'Fira Mono', 'Source Code Pro', 'Courier', monospace\" font-size=\"10.00\" fill=\"#000000\">call()</text>\n",
       "</a>\n",
       "</g>\n",
       "<g id=\"a_node5_56\"><a xlink:href=\"#\" xlink:title=\"param(self, name, value, pos=None, vararg=&#39;&#39;, last=False)\">\n",
       "<text text-anchor=\"start\" x=\"190.5\" y=\"-361.5\" font-family=\"'Fira Mono', 'Source Code Pro', 'Courier', monospace\" font-size=\"10.00\" fill=\"#000000\">param()</text>\n",
       "</a>\n",
       "</g>\n",
       "<g id=\"a_node5_57\"><a xlink:href=\"#\" xlink:title=\"ret(self, value)\">\n",
       "<text text-anchor=\"start\" x=\"190.5\" y=\"-350.5\" font-family=\"'Fira Mono', 'Source Code Pro', 'Courier', monospace\" font-size=\"10.00\" fill=\"#000000\">ret()</text>\n",
       "</a>\n",
       "</g>\n",
       "<g id=\"a_node5_58\"><a xlink:href=\"#\" xlink:title=\"test(self, cond)\">\n",
       "<text text-anchor=\"start\" x=\"190.5\" y=\"-339.5\" font-family=\"'Fira Mono', 'Source Code Pro', 'Courier', monospace\" font-size=\"10.00\" fill=\"#000000\">test()</text>\n",
       "</a>\n",
       "</g>\n",
       "</a>\n",
       "</g>\n",
       "</a>\n",
       "</g>\n",
       "</g>\n",
       "<!-- DependencyTracker&#45;&gt;DataTracker -->\n",
       "<g id=\"edge3\" class=\"edge\">\n",
       "<title>DependencyTracker&#45;&gt;DataTracker</title>\n",
       "<path fill=\"none\" stroke=\"#000000\" d=\"M223.5,-262.738C223.5,-282.5234 223.5,-302.8585 223.5,-321.9467\"/>\n",
       "<polygon fill=\"none\" stroke=\"#000000\" points=\"220.0001,-322.1072 223.5,-332.1072 227.0001,-322.1073 220.0001,-322.1072\"/>\n",
       "</g>\n",
       "<!-- Dependencies -->\n",
       "<g id=\"node6\" class=\"node\">\n",
       "<title>Dependencies</title>\n",
       "<g id=\"a_node6\"><a xlink:href=\"#\" xlink:title=\"class Dependencies\">\n",
       "<polygon fill=\"none\" stroke=\"#000000\" points=\"337,-.5 337,-295.5 468,-295.5 468,-.5 337,-.5\"/>\n",
       "<text text-anchor=\"start\" x=\"354\" y=\"-281.3\" font-family=\"Raleway, Helvetica, Arial, sans-serif\" font-weight=\"bold\" font-size=\"14.00\" fill=\"#6a0dad\">Dependencies</text>\n",
       "<polyline fill=\"none\" stroke=\"#000000\" points=\"337,-272.5 468,-272.5 \"/>\n",
       "<g id=\"a_node6_59\"><a xlink:href=\"#\" xlink:title=\"Dependencies\">\n",
       "<g id=\"a_node6_60\"><a xlink:href=\"#\" xlink:title=\"__init__(self, data=None, control=None):&#10; &#160;&#160;&#160;&#10; &#160;&#160;&#160;Create a dependency graph from `data` and `control`.&#10; &#160;&#160;&#160;Both `data` and `control` are dictionaries&#10; &#160;&#160;&#160;holding _nodes_ as keys and sets of nodes as values.&#10; &#160;&#160;&#160;Each node comes as a tuple (variable_name, location)&#10; &#160;&#160;&#160;where `variable_name` is a string&#10; &#160;&#160;&#160;and `location` is a pair (function, lineno)&#10; &#160;&#160;&#160;where `function` is a callable and `lineno` is a line number&#10; &#160;&#160;&#160;denoting a unique location in the code.&#10; &#160;&#160;&#160;\">\n",
       "<text text-anchor=\"start\" x=\"345.5\" y=\"-261.5\" font-family=\"'Fira Mono', 'Source Code Pro', 'Courier', monospace\" font-weight=\"bold\" font-size=\"10.00\" fill=\"#000000\">__init__()</text>\n",
       "</a>\n",
       "</g>\n",
       "<g id=\"a_node6_61\"><a xlink:href=\"#\" xlink:title=\"__str__(self):&#10; &#160;&#160;&#160;Return string representation of dependencies\">\n",
       "<text text-anchor=\"start\" x=\"345.5\" y=\"-250.5\" font-family=\"'Fira Mono', 'Source Code Pro', 'Courier', monospace\" font-weight=\"bold\" font-size=\"10.00\" fill=\"#000000\">__str__()</text>\n",
       "</a>\n",
       "</g>\n",
       "<g id=\"a_node6_62\"><a xlink:href=\"#\" xlink:title=\"add_hierarchy(self, g):&#10; &#160;&#160;&#160;Add invisible edges for a proper hierarchy.\">\n",
       "<text text-anchor=\"start\" x=\"345.5\" y=\"-239.5\" font-family=\"'Fira Mono', 'Source Code Pro', 'Courier', monospace\" font-weight=\"bold\" font-size=\"10.00\" fill=\"#000000\">add_hierarchy()</text>\n",
       "</a>\n",
       "</g>\n",
       "<g id=\"a_node6_63\"><a xlink:href=\"#\" xlink:title=\"backward_slice(self, *criteria, mode=&#39;cd&#39;, depth=&#45;1):&#10; &#160;&#160;&#160;Create a backward slice from nodes `criteria`.&#10; &#160;&#160;&#160;`mode` can contain &#39;c&#39; (draw control dependencies)&#10; &#160;&#160;&#160;and &#39;d&#39; (draw data dependencies) (default: &#39;cd&#39;)\">\n",
       "<text text-anchor=\"start\" x=\"345.5\" y=\"-228.5\" font-family=\"'Fira Mono', 'Source Code Pro', 'Courier', monospace\" font-weight=\"bold\" font-size=\"10.00\" fill=\"#000000\">backward_slice()</text>\n",
       "</a>\n",
       "</g>\n",
       "<g id=\"a_node6_64\"><a xlink:href=\"#\" xlink:title=\"code(self, *items, mode=&#39;cd&#39;):&#10; &#160;&#160;&#160;List `items` on standard output,&#10; &#160;&#160;&#160;including dependencies as comments.&#10; &#160;&#160;&#160;If `items` is empty, all included functions are listed.&#10; &#160;&#160;&#160;`mode` can contain &#39;c&#39; (draw control dependencies)&#10; &#160;&#160;&#160;and &#39;d&#39; (draw data dependencies) (default: &#39;cd&#39;).\">\n",
       "<text text-anchor=\"start\" x=\"345.5\" y=\"-217.5\" font-family=\"'Fira Mono', 'Source Code Pro', 'Courier', monospace\" font-weight=\"bold\" font-size=\"10.00\" fill=\"#000000\">code()</text>\n",
       "</a>\n",
       "</g>\n",
       "<g id=\"a_node6_65\"><a xlink:href=\"#\" xlink:title=\"expand_criteria(self, criteria):&#10; &#160;&#160;&#160;Return list of vars matched by `criteria`.\">\n",
       "<text text-anchor=\"start\" x=\"345.5\" y=\"-206.5\" font-family=\"'Fira Mono', 'Source Code Pro', 'Courier', monospace\" font-weight=\"bold\" font-size=\"10.00\" fill=\"#000000\">expand_criteria()</text>\n",
       "</a>\n",
       "</g>\n",
       "<g id=\"a_node6_66\"><a xlink:href=\"#\" xlink:title=\"format_var(self, var, current_func=None):&#10; &#160;&#160;&#160;Return string for `var` in `current_func`.\">\n",
       "<text text-anchor=\"start\" x=\"345.5\" y=\"-195.5\" font-family=\"'Fira Mono', 'Source Code Pro', 'Courier', monospace\" font-weight=\"bold\" font-size=\"10.00\" fill=\"#000000\">format_var()</text>\n",
       "</a>\n",
       "</g>\n",
       "<g id=\"a_node6_67\"><a xlink:href=\"#\" xlink:title=\"graph(self):&#10; &#160;&#160;&#160;Draw dependencies.\">\n",
       "<text text-anchor=\"start\" x=\"345.5\" y=\"-184.5\" font-family=\"'Fira Mono', 'Source Code Pro', 'Courier', monospace\" font-weight=\"bold\" font-size=\"10.00\" fill=\"#000000\">graph()</text>\n",
       "</a>\n",
       "</g>\n",
       "<g id=\"a_node6_68\"><a xlink:href=\"#\" xlink:title=\"id(self, var):&#10; &#160;&#160;&#160;Return a unique ID for `var`.\">\n",
       "<text text-anchor=\"start\" x=\"345.5\" y=\"-173.5\" font-family=\"'Fira Mono', 'Source Code Pro', 'Courier', monospace\" font-weight=\"bold\" font-size=\"10.00\" fill=\"#000000\">id()</text>\n",
       "</a>\n",
       "</g>\n",
       "<g id=\"a_node6_69\"><a xlink:href=\"#\" xlink:title=\"label(self, var):&#10; &#160;&#160;&#160;Render node `var` using HTML style.\">\n",
       "<text text-anchor=\"start\" x=\"345.5\" y=\"-162.5\" font-family=\"'Fira Mono', 'Source Code Pro', 'Courier', monospace\" font-weight=\"bold\" font-size=\"10.00\" fill=\"#000000\">label()</text>\n",
       "</a>\n",
       "</g>\n",
       "<g id=\"a_node6_70\"><a xlink:href=\"#\" xlink:title=\"source(self, node):&#10; &#160;&#160;&#160;Return the source code for a given node.\">\n",
       "<text text-anchor=\"start\" x=\"345.5\" y=\"-151.5\" font-family=\"'Fira Mono', 'Source Code Pro', 'Courier', monospace\" font-weight=\"bold\" font-size=\"10.00\" fill=\"#000000\">source()</text>\n",
       "</a>\n",
       "</g>\n",
       "<g id=\"a_node6_71\"><a xlink:href=\"#\" xlink:title=\"tooltip(self, var):&#10; &#160;&#160;&#160;Return a tooltip for node `var`.\">\n",
       "<text text-anchor=\"start\" x=\"345.5\" y=\"-140.5\" font-family=\"'Fira Mono', 'Source Code Pro', 'Courier', monospace\" font-weight=\"bold\" font-size=\"10.00\" fill=\"#000000\">tooltip()</text>\n",
       "</a>\n",
       "</g>\n",
       "<g id=\"a_node6_72\"><a xlink:href=\"#\" xlink:title=\"validate(self):&#10; &#160;&#160;&#160;Perform a simple syntactic validation of dependencies\">\n",
       "<text text-anchor=\"start\" x=\"345.5\" y=\"-129.5\" font-family=\"'Fira Mono', 'Source Code Pro', 'Courier', monospace\" font-weight=\"bold\" font-size=\"10.00\" fill=\"#000000\">validate()</text>\n",
       "</a>\n",
       "</g>\n",
       "<g id=\"a_node6_73\"><a xlink:href=\"#\" xlink:title=\"__repr__(self)\">\n",
       "<text text-anchor=\"start\" x=\"345.5\" y=\"-117.5\" font-family=\"'Fira Mono', 'Source Code Pro', 'Courier', monospace\" font-size=\"10.00\" fill=\"#000000\">__repr__()</text>\n",
       "</a>\n",
       "</g>\n",
       "<g id=\"a_node6_74\"><a xlink:href=\"#\" xlink:title=\"_code(self, item, mode)\">\n",
       "<text text-anchor=\"start\" x=\"345.5\" y=\"-106.5\" font-family=\"'Fira Mono', 'Source Code Pro', 'Courier', monospace\" font-size=\"10.00\" fill=\"#000000\">_code()</text>\n",
       "</a>\n",
       "</g>\n",
       "<g id=\"a_node6_75\"><a xlink:href=\"#\" xlink:title=\"_repr_svg_(self)\">\n",
       "<text text-anchor=\"start\" x=\"345.5\" y=\"-95.5\" font-family=\"'Fira Mono', 'Source Code Pro', 'Courier', monospace\" font-size=\"10.00\" fill=\"#000000\">_repr_svg_()</text>\n",
       "</a>\n",
       "</g>\n",
       "<g id=\"a_node6_76\"><a xlink:href=\"#\" xlink:title=\"_source(self, node)\">\n",
       "<text text-anchor=\"start\" x=\"345.5\" y=\"-84.5\" font-family=\"'Fira Mono', 'Source Code Pro', 'Courier', monospace\" font-size=\"10.00\" fill=\"#000000\">_source()</text>\n",
       "</a>\n",
       "</g>\n",
       "<g id=\"a_node6_77\"><a xlink:href=\"#\" xlink:title=\"all_functions(self)\">\n",
       "<text text-anchor=\"start\" x=\"345.5\" y=\"-73.5\" font-family=\"'Fira Mono', 'Source Code Pro', 'Courier', monospace\" font-size=\"10.00\" fill=\"#000000\">all_functions()</text>\n",
       "</a>\n",
       "</g>\n",
       "<g id=\"a_node6_78\"><a xlink:href=\"#\" xlink:title=\"all_vars(self)\">\n",
       "<text text-anchor=\"start\" x=\"345.5\" y=\"-62.5\" font-family=\"'Fira Mono', 'Source Code Pro', 'Courier', monospace\" font-size=\"10.00\" fill=\"#000000\">all_vars()</text>\n",
       "</a>\n",
       "</g>\n",
       "<g id=\"a_node6_79\"><a xlink:href=\"#\" xlink:title=\"draw_dependencies(self, g)\">\n",
       "<text text-anchor=\"start\" x=\"345.5\" y=\"-51.5\" font-family=\"'Fira Mono', 'Source Code Pro', 'Courier', monospace\" font-size=\"10.00\" fill=\"#000000\">draw_dependencies()</text>\n",
       "</a>\n",
       "</g>\n",
       "<g id=\"a_node6_80\"><a xlink:href=\"#\" xlink:title=\"make_graph(self, name=&#39;dependencies&#39;, comment=&#39;Dependencies&#39;)\">\n",
       "<text text-anchor=\"start\" x=\"345.5\" y=\"-40.5\" font-family=\"'Fira Mono', 'Source Code Pro', 'Courier', monospace\" font-size=\"10.00\" fill=\"#000000\">make_graph()</text>\n",
       "</a>\n",
       "</g>\n",
       "<g id=\"a_node6_81\"><a xlink:href=\"#\" xlink:title=\"repr_dependencies(self, vars)\">\n",
       "<text text-anchor=\"start\" x=\"345.5\" y=\"-29.5\" font-family=\"'Fira Mono', 'Source Code Pro', 'Courier', monospace\" font-size=\"10.00\" fill=\"#000000\">repr_dependencies()</text>\n",
       "</a>\n",
       "</g>\n",
       "<g id=\"a_node6_82\"><a xlink:href=\"#\" xlink:title=\"repr_deps(self, var_set)\">\n",
       "<text text-anchor=\"start\" x=\"345.5\" y=\"-18.5\" font-family=\"'Fira Mono', 'Source Code Pro', 'Courier', monospace\" font-size=\"10.00\" fill=\"#000000\">repr_deps()</text>\n",
       "</a>\n",
       "</g>\n",
       "<g id=\"a_node6_83\"><a xlink:href=\"#\" xlink:title=\"repr_var(self, var)\">\n",
       "<text text-anchor=\"start\" x=\"345.5\" y=\"-7.5\" font-family=\"'Fira Mono', 'Source Code Pro', 'Courier', monospace\" font-size=\"10.00\" fill=\"#000000\">repr_var()</text>\n",
       "</a>\n",
       "</g>\n",
       "</a>\n",
       "</g>\n",
       "</a>\n",
       "</g>\n",
       "</g>\n",
       "</g>\n",
       "</svg>\n"
      ],
      "text/plain": [
       "<graphviz.dot.Digraph at 0x7fe3e2a3ccc0>"
      ]
     },
     "execution_count": 221,
     "metadata": {},
     "output_type": "execute_result"
    }
   ],
   "source": [
    "# ignore\n",
    "display_class_hierarchy([Slicer, DependencyTracker, Dependencies],\n",
    "                        project='debuggingbook')"
   ]
  },
  {
   "cell_type": "markdown",
   "metadata": {
    "button": false,
    "new_sheet": true,
    "run_control": {
     "read_only": false
    },
    "slideshow": {
     "slide_type": "slide"
    }
   },
   "source": [
    "## Lessons Learned\n",
    "\n",
    "* To track the origin of some incorrect value, follow back its _dependencies_:\n",
    "    * _Data dependencies_ indicate where the value came from.\n",
    "    * _Control dependencies_ show why a statement was executed.\n",
    "* A _slice_ is a subset of the code that could have influenced a specific value. It can be computed by transitively following all dependencies.\n",
    "* _Instrument code_ to automatically determine and visualize dependencies."
   ]
  },
  {
   "cell_type": "markdown",
   "metadata": {
    "button": false,
    "new_sheet": false,
    "run_control": {
     "read_only": false
    },
    "slideshow": {
     "slide_type": "slide"
    }
   },
   "source": [
    "## Next Steps\n",
    "\n",
    "In the [next chapter](StatisticalDebugger.ipynb), we will explore how to make use of _multiple_ passing and failing executions."
   ]
  },
  {
   "cell_type": "markdown",
   "metadata": {
    "slideshow": {
     "slide_type": "slide"
    }
   },
   "source": [
    "## Background\n",
    "\n",
    "Slicing as computing a subset of a program by means of data and control dependencies was invented by Mark Weiser \\cite{Weiser1981}. In his seminal work \"Programmers use Slices when Debugging\", \\cite{Weiser1982}, Weiser demonstrated how such dependencies are crucial for systematic debugging:\n",
    "\n",
    "> When debugging unfamiliar programs programmers use program pieces called _slices_ which are sets of statements related by their flow of data. The statements in a slice are not necessarily textually contiguous, but may be scattered through a program.\n",
    "\n",
    "Weiser's slices (and dependencies) were determined _statically_ from program code. Both Korel and Laski \\cite{Korel1988} as well as Agrawal and Horgan \\cite{Agrawal1990} introduced _dynamic_ program slicing, building on _dynamic_ dependencies, which would be more specific to a given (failing) run. (The `Slicer` we implement in this chapter is a dynamic slicer.) Tip \\cite{tip1995} gives a survey on program slicing techniques. Chen et al. \\cite{Chen2014} describe and evaluate the first dynamic slicer for Python programs (which is independent from our implementation).\n",
    "\n",
    "One examplary application of program slices is [the Whyline](https://github.com/amyjko/whyline) by Ko and Myers \\cite{Ko2004}. The Whyline a debugging interface for asking questions about program behavior. It allows to interactively query where a particular variable came from (a data dependency) and why or why not specific things took place (control dependencies).\n",
    "\n",
    "In \\cite{Soremekun2021}, Soremekun et al. evaluated the performance of slicing as a fault localization mechanism and found that following dependencies was one of the most successful strategies to determine fault locations. Notably, if programmers first examine at most the top five most suspicious locations from [statistical debugging](StatisticalDebugger.ipynb), and then switch to dynamic slices, on average, they will need to examine only 15% (12 lines) of the code. "
   ]
  },
  {
   "cell_type": "markdown",
   "metadata": {
    "button": false,
    "new_sheet": true,
    "run_control": {
     "read_only": false
    },
    "slideshow": {
     "slide_type": "slide"
    }
   },
   "source": [
    "## Exercises\n"
   ]
  },
  {
   "cell_type": "markdown",
   "metadata": {
    "button": false,
    "new_sheet": false,
    "run_control": {
     "read_only": false
    },
    "slideshow": {
     "slide_type": "subslide"
    }
   },
   "source": [
    "### Exercise 1: Forward Slicing\n",
    "\n",
    "Extend `Dependencies` with a variant of `backward_slice()` named `forward_slice()` that, instead of computing the dependencies that go _into_ a a location, computes the dependencies that go _out_ of a location."
   ]
  },
  {
   "cell_type": "markdown",
   "metadata": {
    "button": false,
    "new_sheet": false,
    "run_control": {
     "read_only": false
    },
    "slideshow": {
     "slide_type": "subslide"
    }
   },
   "source": [
    "### Exercise 2: Code with Forward Dependencies\n",
    "\n",
    "Create a variant of `Dependencies.code()` that, for each statement `s`, instead of showing a \"passive\" view (which variables and locations influenced `s`?), shows an \"active\" view (which variables and locations were influenced by `s`?). For `middle()`, for instance, the first line should show which lines are influenced by `x`, `y`, and `z`, respectively. Use `->` for control flows and `=>` for data flows."
   ]
  },
  {
   "cell_type": "markdown",
   "metadata": {
    "button": false,
    "new_sheet": false,
    "run_control": {
     "read_only": false
    },
    "slideshow": {
     "slide_type": "subslide"
    },
    "solution": "hidden",
    "solution2": "hidden",
    "solution2_first": true,
    "solution_first": true
   },
   "source": [
    "### Exercise 3: Determine Instrumented Functions Dynamically\n",
    "\n",
    "When initializing `Slicer()`, one has to provide the set of functions to be instrumented. This is because the instrumentation has to take place _before_ the code in the `with` block is executed.\n",
    "\n",
    "Create a subclass of `Slicer`, called `AutoSlicer` that determines these functions automatically. It would be used as\n",
    "\n",
    "```python\n",
    "with AutoSlicer() as slicer:\n",
    "    func(...)\n",
    "```\n",
    "\n",
    "and proceed in two steps:\n",
    "\n",
    "1. Run the code in the `with` block, using the `Tracer` class from [the chapter on tracing](Tracer.ipynb). Collect the first call to `func()` and its arguments, as well as the names of all subsequent called functions.\n",
    "2. Repeat the first call to `func()`, now with all called functions being instrumented as in `Slicer`."
   ]
  }
 ],
 "metadata": {
  "ipub": {
   "bibliography": "fuzzingbook.bib",
   "toc": true
  },
  "kernelspec": {
   "display_name": "Python 3",
   "language": "python",
   "name": "python3"
  },
  "language_info": {
   "codemirror_mode": {
    "name": "ipython",
    "version": 3
   },
   "file_extension": ".py",
   "mimetype": "text/x-python",
   "name": "python",
   "nbconvert_exporter": "python",
   "pygments_lexer": "ipython3",
   "version": "3.6.10"
  },
  "toc": {
   "base_numbering": 1,
   "nav_menu": {},
   "number_sections": true,
   "sideBar": true,
   "skip_h1_title": true,
   "title_cell": "",
   "title_sidebar": "Contents",
   "toc_cell": false,
   "toc_position": {},
   "toc_section_display": true,
   "toc_window_display": true
  },
  "toc-autonumbering": false
 },
 "nbformat": 4,
 "nbformat_minor": 4
}